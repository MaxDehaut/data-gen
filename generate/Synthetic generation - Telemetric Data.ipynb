{
 "cells": [
  {
   "cell_type": "markdown",
   "metadata": {},
   "source": [
    "# Description"
   ]
  },
  {
   "cell_type": "markdown",
   "metadata": {},
   "source": [
    "This notebook looks at the raspberry pi data generated and experiments with different ways of generating synthetic data. It first notes that the data is in an embedded JSON file and retrieves the **'unmodelled data'** describing the objects viewed by the raspberry and its camera. It uses models in the SDV library to compare their performance on the data. Afterwards adds the timestamp present in the parent layer or the json embedding and looks at how the models generate it. Finally it looks at a way to handle the telemetric data which occurs when 2 objects are viewed by the sensors in one message. "
   ]
  },
  {
   "cell_type": "markdown",
   "metadata": {
    "toc": true
   },
   "source": [
    "<h1>Table of Contents<span class=\"tocSkip\"></span></h1>\n",
    "<div class=\"toc\"><ul class=\"toc-item\"><li><span><a href=\"#Description\" data-toc-modified-id=\"Description-1\"><span class=\"toc-item-num\">1&nbsp;&nbsp;</span>Description</a></span></li><li><span><a href=\"#Summary\" data-toc-modified-id=\"Summary-2\"><span class=\"toc-item-num\">2&nbsp;&nbsp;</span>Summary</a></span></li><li><span><a href=\"#Takeaways\" data-toc-modified-id=\"Takeaways-3\"><span class=\"toc-item-num\">3&nbsp;&nbsp;</span>Takeaways</a></span><ul class=\"toc-item\"><li><span><a href=\"#Important-next-steps\" data-toc-modified-id=\"Important-next-steps-3.1\"><span class=\"toc-item-num\">3.1&nbsp;&nbsp;</span>Important next steps</a></span></li></ul></li><li><span><a href=\"#Telemetric-Data-Generation\" data-toc-modified-id=\"Telemetric-Data-Generation-4\"><span class=\"toc-item-num\">4&nbsp;&nbsp;</span>Telemetric Data Generation<a class=\"anchor\" id=\"telemetric\"></a></a></span><ul class=\"toc-item\"><li><span><a href=\"#Imports-and-dataset-loading-\" data-toc-modified-id=\"Imports-and-dataset-loading--4.1\"><span class=\"toc-item-num\">4.1&nbsp;&nbsp;</span>Imports and dataset loading <a class=\"anchor\" id=\"imports\"></a></a></span></li><li><span><a href=\"#Manual-Generation-\" data-toc-modified-id=\"Manual-Generation--4.2\"><span class=\"toc-item-num\">4.2&nbsp;&nbsp;</span>Manual Generation <a class=\"anchor\" id=\"manual\"></a></a></span><ul class=\"toc-item\"><li><span><a href=\"#Data-Types--\" data-toc-modified-id=\"Data-Types---4.2.1\"><span class=\"toc-item-num\">4.2.1&nbsp;&nbsp;</span>Data Types  <a class=\"anchor\" id=\"types\"></a></a></span><ul class=\"toc-item\"><li><span><a href=\"#Useful-functions\" data-toc-modified-id=\"Useful-functions-4.2.1.1\"><span class=\"toc-item-num\">4.2.1.1&nbsp;&nbsp;</span>Useful functions</a></span></li><li><span><a href=\"#Sensor-generation-\" data-toc-modified-id=\"Sensor-generation--4.2.1.2\"><span class=\"toc-item-num\">4.2.1.2&nbsp;&nbsp;</span>Sensor generation <a class=\"anchor\" id=\"sensor\"></a></a></span></li><li><span><a href=\"#Video-boxes-Generation-\" data-toc-modified-id=\"Video-boxes-Generation--4.2.1.3\"><span class=\"toc-item-num\">4.2.1.3&nbsp;&nbsp;</span>Video boxes Generation <a class=\"anchor\" id=\"boxes\"></a></a></span></li><li><span><a href=\"#Class-Generation-\" data-toc-modified-id=\"Class-Generation--4.2.1.4\"><span class=\"toc-item-num\">4.2.1.4&nbsp;&nbsp;</span>Class Generation <a class=\"anchor\" id=\"class\"></a></a></span></li><li><span><a href=\"#Score-Generation-\" data-toc-modified-id=\"Score-Generation--4.2.1.5\"><span class=\"toc-item-num\">4.2.1.5&nbsp;&nbsp;</span>Score Generation <a class=\"anchor\" id=\"score\"></a></a></span></li><li><span><a href=\"#Combined-generation\" data-toc-modified-id=\"Combined-generation-4.2.1.6\"><span class=\"toc-item-num\">4.2.1.6&nbsp;&nbsp;</span>Combined generation</a></span></li></ul></li><li><span><a href=\"#Evaluation-\" data-toc-modified-id=\"Evaluation--4.2.2\"><span class=\"toc-item-num\">4.2.2&nbsp;&nbsp;</span>Evaluation <a class=\"anchor\" id=\"eval\"></a></a></span></li><li><span><a href=\"#Saving-data\" data-toc-modified-id=\"Saving-data-4.2.3\"><span class=\"toc-item-num\">4.2.3&nbsp;&nbsp;</span>Saving data</a></span></li></ul></li><li><span><a href=\"#SDV-Generation-of-Unmodelled-Data-\" data-toc-modified-id=\"SDV-Generation-of-Unmodelled-Data--4.3\"><span class=\"toc-item-num\">4.3&nbsp;&nbsp;</span>SDV Generation of Unmodelled Data <a class=\"anchor\" id=\"sdv\"></a></a></span><ul class=\"toc-item\"><li><span><a href=\"#Loading-data-set\" data-toc-modified-id=\"Loading-data-set-4.3.1\"><span class=\"toc-item-num\">4.3.1&nbsp;&nbsp;</span>Loading data set<a class=\"anchor\" id=\"load\"></a></a></span></li><li><span><a href=\"#Fitting-\" data-toc-modified-id=\"Fitting--4.3.2\"><span class=\"toc-item-num\">4.3.2&nbsp;&nbsp;</span>Fitting <a class=\"anchor\" id=\"fitting\"></a></a></span><ul class=\"toc-item\"><li><span><a href=\"#GaussianCopula-\" data-toc-modified-id=\"GaussianCopula--4.3.2.1\"><span class=\"toc-item-num\">4.3.2.1&nbsp;&nbsp;</span>GaussianCopula <a class=\"anchor\" id=\"gaussian_fit\"></a></a></span></li><li><span><a href=\"#CTGAN-\" data-toc-modified-id=\"CTGAN--4.3.2.2\"><span class=\"toc-item-num\">4.3.2.2&nbsp;&nbsp;</span>CTGAN <a class=\"anchor\" id=\"ctgan_fit\"></a></a></span></li><li><span><a href=\"#Copula-\" data-toc-modified-id=\"Copula--4.3.2.3\"><span class=\"toc-item-num\">4.3.2.3&nbsp;&nbsp;</span>Copula <a class=\"anchor\" id=\"copula_fit\"></a></a></span></li><li><span><a href=\"#TVAE\" data-toc-modified-id=\"TVAE-4.3.2.4\"><span class=\"toc-item-num\">4.3.2.4&nbsp;&nbsp;</span>TVAE<a class=\"anchor\" id=\"tvae_fit\"></a></a></span></li></ul></li><li><span><a href=\"#Evaluation-\" data-toc-modified-id=\"Evaluation--4.3.3\"><span class=\"toc-item-num\">4.3.3&nbsp;&nbsp;</span>Evaluation <a class=\"anchor\" id=\"eval2\"></a></a></span><ul class=\"toc-item\"><li><span><a href=\"#Gaussian-\" data-toc-modified-id=\"Gaussian--4.3.3.1\"><span class=\"toc-item-num\">4.3.3.1&nbsp;&nbsp;</span>Gaussian <a class=\"anchor\" id=\"guassian_eval\"></a></a></span></li><li><span><a href=\"#CTGAN-\" data-toc-modified-id=\"CTGAN--4.3.3.2\"><span class=\"toc-item-num\">4.3.3.2&nbsp;&nbsp;</span>CTGAN <a class=\"anchor\" id=\"ctgan_eval\"></a></a></span></li><li><span><a href=\"#Copula-\" data-toc-modified-id=\"Copula--4.3.3.3\"><span class=\"toc-item-num\">4.3.3.3&nbsp;&nbsp;</span>Copula <a class=\"anchor\" id=\"copula_eval\"></a></a></span></li><li><span><a href=\"#TVAE-\" data-toc-modified-id=\"TVAE--4.3.3.4\"><span class=\"toc-item-num\">4.3.3.4&nbsp;&nbsp;</span>TVAE <a class=\"anchor\" id=\"tvae_eval\"></a></a></span></li></ul></li><li><span><a href=\"#Formatting-and-saving-\" data-toc-modified-id=\"Formatting-and-saving--4.3.4\"><span class=\"toc-item-num\">4.3.4&nbsp;&nbsp;</span>Formatting and saving <a class=\"anchor\" id=\"format\"></a></a></span><ul class=\"toc-item\"><li><span><a href=\"#Gaussian\" data-toc-modified-id=\"Gaussian-4.3.4.1\"><span class=\"toc-item-num\">4.3.4.1&nbsp;&nbsp;</span>Gaussian</a></span></li><li><span><a href=\"#CTGAN\" data-toc-modified-id=\"CTGAN-4.3.4.2\"><span class=\"toc-item-num\">4.3.4.2&nbsp;&nbsp;</span>CTGAN</a></span></li><li><span><a href=\"#copula\" data-toc-modified-id=\"copula-4.3.4.3\"><span class=\"toc-item-num\">4.3.4.3&nbsp;&nbsp;</span>copula</a></span></li><li><span><a href=\"#TVAE\" data-toc-modified-id=\"TVAE-4.3.4.4\"><span class=\"toc-item-num\">4.3.4.4&nbsp;&nbsp;</span>TVAE</a></span></li></ul></li></ul></li><li><span><a href=\"#SDV-Generation-of-Timestamps\" data-toc-modified-id=\"SDV-Generation-of-Timestamps-4.4\"><span class=\"toc-item-num\">4.4&nbsp;&nbsp;</span>SDV Generation of Timestamps</a></span><ul class=\"toc-item\"><li><span><a href=\"#Loading-Data\" data-toc-modified-id=\"Loading-Data-4.4.1\"><span class=\"toc-item-num\">4.4.1&nbsp;&nbsp;</span>Loading Data</a></span></li><li><span><a href=\"#Fitting-and-Evaluating\" data-toc-modified-id=\"Fitting-and-Evaluating-4.4.2\"><span class=\"toc-item-num\">4.4.2&nbsp;&nbsp;</span>Fitting and Evaluating</a></span><ul class=\"toc-item\"><li><span><a href=\"#Gaussian\" data-toc-modified-id=\"Gaussian-4.4.2.1\"><span class=\"toc-item-num\">4.4.2.1&nbsp;&nbsp;</span>Gaussian</a></span></li><li><span><a href=\"#CTGAN\" data-toc-modified-id=\"CTGAN-4.4.2.2\"><span class=\"toc-item-num\">4.4.2.2&nbsp;&nbsp;</span>CTGAN</a></span></li><li><span><a href=\"#Copula-GAN\" data-toc-modified-id=\"Copula-GAN-4.4.2.3\"><span class=\"toc-item-num\">4.4.2.3&nbsp;&nbsp;</span>Copula GAN</a></span></li><li><span><a href=\"#TVAE\" data-toc-modified-id=\"TVAE-4.4.2.4\"><span class=\"toc-item-num\">4.4.2.4&nbsp;&nbsp;</span>TVAE</a></span></li></ul></li><li><span><a href=\"#Visualizing-data\" data-toc-modified-id=\"Visualizing-data-4.4.3\"><span class=\"toc-item-num\">4.4.3&nbsp;&nbsp;</span>Visualizing data</a></span><ul class=\"toc-item\"><li><span><a href=\"#x-and-y-values\" data-toc-modified-id=\"x-and-y-values-4.4.3.1\"><span class=\"toc-item-num\">4.4.3.1&nbsp;&nbsp;</span>x and y values</a></span></li><li><span><a href=\"#Timestamps\" data-toc-modified-id=\"Timestamps-4.4.3.2\"><span class=\"toc-item-num\">4.4.3.2&nbsp;&nbsp;</span>Timestamps</a></span></li></ul></li><li><span><a href=\"#Timeseries-Par-Model\" data-toc-modified-id=\"Timeseries-Par-Model-4.4.4\"><span class=\"toc-item-num\">4.4.4&nbsp;&nbsp;</span>Timeseries Par Model</a></span></li></ul></li></ul></li><li><span><a href=\"#Generating-the-entire-dataset-at-once\" data-toc-modified-id=\"Generating-the-entire-dataset-at-once-5\"><span class=\"toc-item-num\">5&nbsp;&nbsp;</span>Generating the entire dataset at once</a></span><ul class=\"toc-item\"><li><span><a href=\"#Preprocessing\" data-toc-modified-id=\"Preprocessing-5.1\"><span class=\"toc-item-num\">5.1&nbsp;&nbsp;</span>Preprocessing</a></span><ul class=\"toc-item\"><li><span><a href=\"#Handling-boxes\" data-toc-modified-id=\"Handling-boxes-5.1.1\"><span class=\"toc-item-num\">5.1.1&nbsp;&nbsp;</span>Handling boxes</a></span><ul class=\"toc-item\"><li><span><a href=\"#Seperating-messages\" data-toc-modified-id=\"Seperating-messages-5.1.1.1\"><span class=\"toc-item-num\">5.1.1.1&nbsp;&nbsp;</span>Seperating messages</a></span></li><li><span><a href=\"#Flattening-messages\" data-toc-modified-id=\"Flattening-messages-5.1.1.2\"><span class=\"toc-item-num\">5.1.1.2&nbsp;&nbsp;</span>Flattening messages</a></span></li></ul></li><li><span><a href=\"#Unformatting\" data-toc-modified-id=\"Unformatting-5.1.2\"><span class=\"toc-item-num\">5.1.2&nbsp;&nbsp;</span>Unformatting</a></span></li></ul></li><li><span><a href=\"#Fitting-and-evaluating-for-seperated-messages\" data-toc-modified-id=\"Fitting-and-evaluating-for-seperated-messages-5.2\"><span class=\"toc-item-num\">5.2&nbsp;&nbsp;</span>Fitting and evaluating for seperated messages</a></span><ul class=\"toc-item\"><li><span><a href=\"#Gaussian\" data-toc-modified-id=\"Gaussian-5.2.1\"><span class=\"toc-item-num\">5.2.1&nbsp;&nbsp;</span>Gaussian</a></span></li><li><span><a href=\"#TVAE\" data-toc-modified-id=\"TVAE-5.2.2\"><span class=\"toc-item-num\">5.2.2&nbsp;&nbsp;</span>TVAE</a></span></li></ul></li><li><span><a href=\"#Fitting-and-evaluating-for-flattened-messages\" data-toc-modified-id=\"Fitting-and-evaluating-for-flattened-messages-5.3\"><span class=\"toc-item-num\">5.3&nbsp;&nbsp;</span>Fitting and evaluating for flattened messages</a></span><ul class=\"toc-item\"><li><span><a href=\"#Gaussian\" data-toc-modified-id=\"Gaussian-5.3.1\"><span class=\"toc-item-num\">5.3.1&nbsp;&nbsp;</span>Gaussian</a></span></li><li><span><a href=\"#TVAE\" data-toc-modified-id=\"TVAE-5.3.2\"><span class=\"toc-item-num\">5.3.2&nbsp;&nbsp;</span>TVAE</a></span></li></ul></li><li><span><a href=\"#Visualizing\" data-toc-modified-id=\"Visualizing-5.4\"><span class=\"toc-item-num\">5.4&nbsp;&nbsp;</span>Visualizing</a></span><ul class=\"toc-item\"><li><span><a href=\"#Timestamp-Distribution\" data-toc-modified-id=\"Timestamp-Distribution-5.4.1\"><span class=\"toc-item-num\">5.4.1&nbsp;&nbsp;</span>Timestamp Distribution</a></span></li><li><span><a href=\"#Box-Coords\" data-toc-modified-id=\"Box-Coords-5.4.2\"><span class=\"toc-item-num\">5.4.2&nbsp;&nbsp;</span>Box Coords</a></span></li></ul></li><li><span><a href=\"#Reformatting\" data-toc-modified-id=\"Reformatting-5.5\"><span class=\"toc-item-num\">5.5&nbsp;&nbsp;</span>Reformatting</a></span></li></ul></li></ul></div>"
   ]
  },
  {
   "cell_type": "markdown",
   "metadata": {},
   "source": [
    "# Summary "
   ]
  },
  {
   "cell_type": "markdown",
   "metadata": {},
   "source": [
    "Visualization of data is very much needed throughout for comprehension but also cluters the notebook so is currently only included in section 3.4. \n",
    "\n",
    "**Section 4.2** explores the manual generation of the telemetric data. It creates functions to randomize (extended in _JSON generator_ notebook) and a function to format and unformat boxes as the telemetric data has the boxes in the from of a string (was the first approach but could easily be done putting the input as a list then making columns out of the list). It evaluates the generated data and has an overall score of 0.53. \n",
    "\n",
    "**Section 4.3** explores the use of the SDV library with the unmodelled data in the telemetric dataset. I fit the different models described in te GAN notebook with constraints and transformers and the evaluations of the generated data had overall scores of 0.64, 0.50, 0.60 and 0.54 for the models scoring higher in most metrics than the manual optimization. **Note** Detection metrics score very differently depending on the 'between' constraint being use. The scores afore mentioned are when this constraint is not applied at all. \n",
    "\n",
    "**Section 4.4** implements the same models including the timestamp column. Evaluation results in similar results with the TVAE model identifying the patterns in the data better but the Gaussian Copula identifying the timestamp pattern better. Important to note, the timestamp data generated does not extend the data to future dates, instead it models the data and generates x amount of that data on the same distribution of time as the original dataset time frame. I also briefly implements SDV's PAR model which is used for time series specifically with the ability to choose which model the underlying data is generated with. This needs to be further looked in to as currently evaluation is the same and I was not able to haev the model extend to future timestamps repeating the pattern, it only stretched it. \n",
    "\n",
    "_The next chapter should likely be its own notebook_\n",
    "\n",
    "**Chapter 5** Tries to generate the entire iothub dataset on level one instead of just the embedded unmodelled data level. This dataset has 2 boxes for each message and I look at both flattening the messages keeping both boxes on one row, and exploding the message seperating the boxes in rows with duplicated information. Evaluation for these models clearly shows generation of the currently not active parts of the data (PartitionId and empty IoTHub message) hinders the model a lot. Every box in the message requires its own list of constraints, writting a function to create these might be essential if considering more than 2 boxes."
   ]
  },
  {
   "cell_type": "markdown",
   "metadata": {},
   "source": [
    "# Takeaways"
   ]
  },
  {
   "cell_type": "markdown",
   "metadata": {},
   "source": [
    "TVAE model seems to work the best on the box data, GaussianCopula seems best for timestamp distributions.\n",
    "\n",
    "**_Steps to implement on any data set:_** (same as for all SDV models)\n",
    "* **Import** the models and **load** the dataset\n",
    "* Understand and establish the fields of the dataset and **set field transformer and constraints** if neccessary\n",
    "* **Initialize** model with constraints\n",
    "* **Train/fit** model on real data\n",
    "* **Sample/Generate** new data\n",
    "\n",
    "**Boxes** come as string and values need to be seperated to generate properly then reformated as before afterwards. Because this is the case, there are two ways of generating messages where two boxes are observed: \n",
    "* Using _pd.explode()_ and treating **each box as a different message** just with the same timestamp then **merging the box cell back** together. The generated messages have timestamps based on a distribution so they will not generate any messages with the same timestamp. This means we will have to **choose which ones to merge** in which case we could've just ignored the time stamps in the first place. This also does not carry forward any information on the **link between the two boxes** (maybe the laptop being seen in the same box as the chair should happen more often) this would be randomized or manual.\n",
    "* **Expanding** out the boxes **for each message** then having a set of columns for each box. This would work best if the **number of boxes in each message is fixed**. It ensures the link between there being a laptop and chair together is mapped in some way but also has the adverse affect of the x and y values of box2 affecting the mapping of box1. Furthermore if messages do not have the same amount of boxes, this expansion is more likely to confuse the model than anything else. \n",
    "\n",
    "**Note** A solution to dealing with any number of boxes would be using a relational table model such as the HMA1 model from SDV which would best deal with all these issues if it works. It seems like a new addition to SDV and not fully developped but worth a try with more complete datasets.\n",
    "\n",
    "Models can learn **timestamp** distributions, but the generated data, whether is is 10 or 10 000, will be using that **exact same distribution**. For example, if the data spans over 5 minutes at noon on the 27/07/2021, the generated data will have the same distribution on those 5 minutes at noon on the 27/07/2021. This can be useful though: \n",
    "* If we have 1000 points of **data spanning one day**, and the goal is to have an **entire month** with each day having x amount of data with that same distribution on the day; we can use a for loop to have the data generate x samples **offsetting them by one day** more each time and **concatenating** all the dataframes generated. In this case the data can also be analysed all at once and does not need a raspberry pi to run throughout the day.\n",
    "* If we **do not** have such an initial dataset which spans over any usable length of time, ie. one only spanning over 5 minutes, and the raspberry pi is intending to **analyse the data throughout the day** we can do this differently. We can train the model to **generate just the data** ignoring the timestamps, and throughout the day have the raspberry **call the models** to generate 1 (or however many require) sample of data **at the frequency desired** and have the raspberry generate the timestamps. The raspberry can also simultaneously analyse the data (using a slicing/sliding window if desried).\n",
    "\n",
    "**New addition to SDV 30/07/2021** Between constraint now works on timestamps too so could use the between constraint with the transform startegy in order to have time stamps for desired period with distribution of the data!!!\n",
    "\n",
    "In general; the GANs models are machine learning models like any other, they require some rich data to be able to generate more. When distribtuions are not clear enough, values of the generated data can seem very odd.\n"
   ]
  },
  {
   "cell_type": "markdown",
   "metadata": {},
   "source": [
    "## Important next steps"
   ]
  },
  {
   "cell_type": "markdown",
   "metadata": {},
   "source": [
    "* Understanding of PAR model by SDV for timeseries data to recreated timeseries patterns on multiple occasions\n",
    "* Learn about HMA1 relational table model "
   ]
  },
  {
   "cell_type": "markdown",
   "metadata": {},
   "source": [
    "# Telemetric Data Generation<a class=\"anchor\" id=\"telemetric\"></a>"
   ]
  },
  {
   "cell_type": "markdown",
   "metadata": {},
   "source": [
    "## Imports and dataset loading <a class=\"anchor\" id=\"imports\"></a>"
   ]
  },
  {
   "cell_type": "code",
   "execution_count": 367,
   "metadata": {
    "ExecuteTime": {
     "end_time": "2021-07-30T09:46:19.394603Z",
     "start_time": "2021-07-30T09:46:19.377605Z"
    },
    "init_cell": true,
    "scrolled": true
   },
   "outputs": [],
   "source": [
    "import json\n",
    "import yapf\n",
    "import pandas as pd\n",
    "import numpy as np\n",
    "import random\n",
    "import matplotlib.pyplot as plt\n",
    "from scipy.stats import gamma\n",
    "\n",
    "from sdv.evaluation import evaluate\n",
    "from sdv.tabular import GaussianCopula, CTGAN, CopulaGAN, TVAE\n",
    "from sdv.metrics.tabular import (CSTest, KSTest, BNLikelihood, BNLogLikelihood,\n",
    "                                 GMLogLikelihood, LogisticDetection,\n",
    "                                 SVCDetection,\n",
    "                                 MulticlassDecisionTreeClassifier, NumericalLR)\n",
    "from sdv.constraints import GreaterThan\n",
    "\n",
    "import warnings\n",
    "\n",
    "warnings.filterwarnings('ignore')"
   ]
  },
  {
   "cell_type": "markdown",
   "metadata": {},
   "source": [
    "Reading in json file"
   ]
  },
  {
   "cell_type": "code",
   "execution_count": 368,
   "metadata": {
    "ExecuteTime": {
     "end_time": "2021-07-30T09:46:20.177607Z",
     "start_time": "2021-07-30T09:46:20.147606Z"
    },
    "init_cell": true
   },
   "outputs": [
    {
     "data": {
      "text/html": [
       "<div>\n",
       "<style scoped>\n",
       "    .dataframe tbody tr th:only-of-type {\n",
       "        vertical-align: middle;\n",
       "    }\n",
       "\n",
       "    .dataframe tbody tr th {\n",
       "        vertical-align: top;\n",
       "    }\n",
       "\n",
       "    .dataframe thead th {\n",
       "        text-align: right;\n",
       "    }\n",
       "</style>\n",
       "<table border=\"1\" class=\"dataframe\">\n",
       "  <thead>\n",
       "    <tr style=\"text-align: right;\">\n",
       "      <th></th>\n",
       "      <th>_unmodeleddata</th>\n",
       "      <th>_eventtype</th>\n",
       "      <th>_timestamp</th>\n",
       "      <th>EventProcessedUtcTime</th>\n",
       "      <th>PartitionId</th>\n",
       "      <th>EventEnqueuedUtcTime</th>\n",
       "      <th>IoTHub</th>\n",
       "    </tr>\n",
       "  </thead>\n",
       "  <tbody>\n",
       "    <tr>\n",
       "      <th>0</th>\n",
       "      <td>{'sensors': {'__t': 'c', 'video': {'boxes': '[...</td>\n",
       "      <td>Telemetry</td>\n",
       "      <td>07/13/2021, 12:11:38.276897</td>\n",
       "      <td>2021-07-13T10:29:45.6624141Z</td>\n",
       "      <td>0</td>\n",
       "      <td>2021-07-13T10:07:08.1210000Z</td>\n",
       "      <td>{'MessageId': None, 'CorrelationId': None, 'Co...</td>\n",
       "    </tr>\n",
       "    <tr>\n",
       "      <th>1</th>\n",
       "      <td>{'sensors': {'__t': 'c', 'video': {'boxes': '[...</td>\n",
       "      <td>Telemetry</td>\n",
       "      <td>07/13/2021, 12:11:38.180751</td>\n",
       "      <td>2021-07-13T10:29:45.6624141Z</td>\n",
       "      <td>0</td>\n",
       "      <td>2021-07-13T10:07:08.1210000Z</td>\n",
       "      <td>{'MessageId': None, 'CorrelationId': None, 'Co...</td>\n",
       "    </tr>\n",
       "    <tr>\n",
       "      <th>2</th>\n",
       "      <td>{'sensors': {'__t': 'c', 'video': {'boxes': '[...</td>\n",
       "      <td>Telemetry</td>\n",
       "      <td>07/13/2021, 12:11:38.101000</td>\n",
       "      <td>2021-07-13T10:29:45.6624141Z</td>\n",
       "      <td>0</td>\n",
       "      <td>2021-07-13T10:07:07.8870000Z</td>\n",
       "      <td>{'MessageId': None, 'CorrelationId': None, 'Co...</td>\n",
       "    </tr>\n",
       "    <tr>\n",
       "      <th>3</th>\n",
       "      <td>{'sensors': {'__t': 'c', 'video': {'boxes': '[...</td>\n",
       "      <td>Telemetry</td>\n",
       "      <td>07/13/2021, 12:11:27.711856</td>\n",
       "      <td>2021-07-13T10:29:45.6624141Z</td>\n",
       "      <td>0</td>\n",
       "      <td>2021-07-13T10:06:57.5880000Z</td>\n",
       "      <td>{'MessageId': None, 'CorrelationId': None, 'Co...</td>\n",
       "    </tr>\n",
       "    <tr>\n",
       "      <th>4</th>\n",
       "      <td>{'sensors': {'__t': 'c', 'video': {'boxes': '[...</td>\n",
       "      <td>Telemetry</td>\n",
       "      <td>07/13/2021, 12:11:27.647747</td>\n",
       "      <td>2021-07-13T10:29:44.6613294Z</td>\n",
       "      <td>0</td>\n",
       "      <td>2021-07-13T10:06:57.4780000Z</td>\n",
       "      <td>{'MessageId': None, 'CorrelationId': None, 'Co...</td>\n",
       "    </tr>\n",
       "  </tbody>\n",
       "</table>\n",
       "</div>"
      ],
      "text/plain": [
       "                                      _unmodeleddata _eventtype  \\\n",
       "0  {'sensors': {'__t': 'c', 'video': {'boxes': '[...  Telemetry   \n",
       "1  {'sensors': {'__t': 'c', 'video': {'boxes': '[...  Telemetry   \n",
       "2  {'sensors': {'__t': 'c', 'video': {'boxes': '[...  Telemetry   \n",
       "3  {'sensors': {'__t': 'c', 'video': {'boxes': '[...  Telemetry   \n",
       "4  {'sensors': {'__t': 'c', 'video': {'boxes': '[...  Telemetry   \n",
       "\n",
       "                    _timestamp         EventProcessedUtcTime  PartitionId  \\\n",
       "0  07/13/2021, 12:11:38.276897  2021-07-13T10:29:45.6624141Z            0   \n",
       "1  07/13/2021, 12:11:38.180751  2021-07-13T10:29:45.6624141Z            0   \n",
       "2  07/13/2021, 12:11:38.101000  2021-07-13T10:29:45.6624141Z            0   \n",
       "3  07/13/2021, 12:11:27.711856  2021-07-13T10:29:45.6624141Z            0   \n",
       "4  07/13/2021, 12:11:27.647747  2021-07-13T10:29:44.6613294Z            0   \n",
       "\n",
       "           EventEnqueuedUtcTime  \\\n",
       "0  2021-07-13T10:07:08.1210000Z   \n",
       "1  2021-07-13T10:07:08.1210000Z   \n",
       "2  2021-07-13T10:07:07.8870000Z   \n",
       "3  2021-07-13T10:06:57.5880000Z   \n",
       "4  2021-07-13T10:06:57.4780000Z   \n",
       "\n",
       "                                              IoTHub  \n",
       "0  {'MessageId': None, 'CorrelationId': None, 'Co...  \n",
       "1  {'MessageId': None, 'CorrelationId': None, 'Co...  \n",
       "2  {'MessageId': None, 'CorrelationId': None, 'Co...  \n",
       "3  {'MessageId': None, 'CorrelationId': None, 'Co...  \n",
       "4  {'MessageId': None, 'CorrelationId': None, 'Co...  "
      ]
     },
     "execution_count": 368,
     "metadata": {},
     "output_type": "execute_result"
    }
   ],
   "source": [
    "dftele = pd.read_json('./data/telemetricData.txt')\n",
    "dftele.head()"
   ]
  },
  {
   "cell_type": "markdown",
   "metadata": {},
   "source": [
    "The json objects in this file are nested for the _unmodeleddata_ and _IoTHub_ objects which therefore need to be normalized to be accessed. "
   ]
  },
  {
   "cell_type": "code",
   "execution_count": 369,
   "metadata": {
    "ExecuteTime": {
     "end_time": "2021-07-30T09:46:20.927603Z",
     "start_time": "2021-07-30T09:46:20.910603Z"
    },
    "init_cell": true
   },
   "outputs": [
    {
     "data": {
      "text/html": [
       "<div>\n",
       "<style scoped>\n",
       "    .dataframe tbody tr th:only-of-type {\n",
       "        vertical-align: middle;\n",
       "    }\n",
       "\n",
       "    .dataframe tbody tr th {\n",
       "        vertical-align: top;\n",
       "    }\n",
       "\n",
       "    .dataframe thead th {\n",
       "        text-align: right;\n",
       "    }\n",
       "</style>\n",
       "<table border=\"1\" class=\"dataframe\">\n",
       "  <thead>\n",
       "    <tr style=\"text-align: right;\">\n",
       "      <th></th>\n",
       "      <th>sensors.__t</th>\n",
       "      <th>sensors.video.boxes</th>\n",
       "      <th>sensors.video.classes</th>\n",
       "      <th>sensors.video.scores</th>\n",
       "    </tr>\n",
       "  </thead>\n",
       "  <tbody>\n",
       "    <tr>\n",
       "      <th>0</th>\n",
       "      <td>c</td>\n",
       "      <td>[0.4961545169353485, 0.7034689784049988, 0.985...</td>\n",
       "      <td>tv</td>\n",
       "      <td>0.5625</td>\n",
       "    </tr>\n",
       "    <tr>\n",
       "      <th>1</th>\n",
       "      <td>c</td>\n",
       "      <td>[0.3772980570793152, 0.043439388275146484, 0.6...</td>\n",
       "      <td>person</td>\n",
       "      <td>0.64453125</td>\n",
       "    </tr>\n",
       "    <tr>\n",
       "      <th>2</th>\n",
       "      <td>c</td>\n",
       "      <td>[0.5733964443206787, -0.01097947359085083, 0.9...</td>\n",
       "      <td>couch</td>\n",
       "      <td>0.66796875</td>\n",
       "    </tr>\n",
       "    <tr>\n",
       "      <th>3</th>\n",
       "      <td>c</td>\n",
       "      <td>[0.4685651361942291, 0.46356216073036194, 0.61...</td>\n",
       "      <td>chair</td>\n",
       "      <td>0.51171875</td>\n",
       "    </tr>\n",
       "    <tr>\n",
       "      <th>4</th>\n",
       "      <td>c</td>\n",
       "      <td>[0.4961545169353485, 0.7054068446159363, 0.985...</td>\n",
       "      <td>tv</td>\n",
       "      <td>0.57421875</td>\n",
       "    </tr>\n",
       "  </tbody>\n",
       "</table>\n",
       "</div>"
      ],
      "text/plain": [
       "  sensors.__t                                sensors.video.boxes  \\\n",
       "0           c  [0.4961545169353485, 0.7034689784049988, 0.985...   \n",
       "1           c  [0.3772980570793152, 0.043439388275146484, 0.6...   \n",
       "2           c  [0.5733964443206787, -0.01097947359085083, 0.9...   \n",
       "3           c  [0.4685651361942291, 0.46356216073036194, 0.61...   \n",
       "4           c  [0.4961545169353485, 0.7054068446159363, 0.985...   \n",
       "\n",
       "  sensors.video.classes sensors.video.scores  \n",
       "0                    tv               0.5625  \n",
       "1                person           0.64453125  \n",
       "2                 couch           0.66796875  \n",
       "3                 chair           0.51171875  \n",
       "4                    tv           0.57421875  "
      ]
     },
     "execution_count": 369,
     "metadata": {},
     "output_type": "execute_result"
    }
   ],
   "source": [
    "# accessing embedded data\n",
    "dfunmod = pd.json_normalize(dftele['_unmodeleddata'])\n",
    "dfunmod.head()"
   ]
  },
  {
   "cell_type": "code",
   "execution_count": 370,
   "metadata": {
    "ExecuteTime": {
     "end_time": "2021-07-30T09:46:21.023635Z",
     "start_time": "2021-07-30T09:46:21.001604Z"
    },
    "init_cell": true
   },
   "outputs": [
    {
     "data": {
      "text/html": [
       "<div>\n",
       "<style scoped>\n",
       "    .dataframe tbody tr th:only-of-type {\n",
       "        vertical-align: middle;\n",
       "    }\n",
       "\n",
       "    .dataframe tbody tr th {\n",
       "        vertical-align: top;\n",
       "    }\n",
       "\n",
       "    .dataframe thead th {\n",
       "        text-align: right;\n",
       "    }\n",
       "</style>\n",
       "<table border=\"1\" class=\"dataframe\">\n",
       "  <thead>\n",
       "    <tr style=\"text-align: right;\">\n",
       "      <th></th>\n",
       "      <th>MessageId</th>\n",
       "      <th>CorrelationId</th>\n",
       "      <th>ConnectionDeviceId</th>\n",
       "      <th>ConnectionDeviceGenerationId</th>\n",
       "      <th>EnqueuedTime</th>\n",
       "      <th>StreamId</th>\n",
       "    </tr>\n",
       "  </thead>\n",
       "  <tbody>\n",
       "    <tr>\n",
       "      <th>0</th>\n",
       "      <td>None</td>\n",
       "      <td>None</td>\n",
       "      <td>iotedge-aidemo-dev-westeu-001</td>\n",
       "      <td>637607268247344024</td>\n",
       "      <td>2021-07-13T10:07:08.0430000Z</td>\n",
       "      <td>None</td>\n",
       "    </tr>\n",
       "    <tr>\n",
       "      <th>1</th>\n",
       "      <td>None</td>\n",
       "      <td>None</td>\n",
       "      <td>iotedge-aidemo-dev-westeu-001</td>\n",
       "      <td>637607268247344024</td>\n",
       "      <td>2021-07-13T10:07:07.9650000Z</td>\n",
       "      <td>None</td>\n",
       "    </tr>\n",
       "    <tr>\n",
       "      <th>2</th>\n",
       "      <td>None</td>\n",
       "      <td>None</td>\n",
       "      <td>iotedge-aidemo-dev-westeu-001</td>\n",
       "      <td>637607268247344024</td>\n",
       "      <td>2021-07-13T10:07:07.8710000Z</td>\n",
       "      <td>None</td>\n",
       "    </tr>\n",
       "    <tr>\n",
       "      <th>3</th>\n",
       "      <td>None</td>\n",
       "      <td>None</td>\n",
       "      <td>iotedge-aidemo-dev-westeu-001</td>\n",
       "      <td>637607268247344024</td>\n",
       "      <td>2021-07-13T10:06:57.5100000Z</td>\n",
       "      <td>None</td>\n",
       "    </tr>\n",
       "    <tr>\n",
       "      <th>4</th>\n",
       "      <td>None</td>\n",
       "      <td>None</td>\n",
       "      <td>iotedge-aidemo-dev-westeu-001</td>\n",
       "      <td>637607268247344024</td>\n",
       "      <td>2021-07-13T10:06:57.4160000Z</td>\n",
       "      <td>None</td>\n",
       "    </tr>\n",
       "  </tbody>\n",
       "</table>\n",
       "</div>"
      ],
      "text/plain": [
       "  MessageId CorrelationId             ConnectionDeviceId  \\\n",
       "0      None          None  iotedge-aidemo-dev-westeu-001   \n",
       "1      None          None  iotedge-aidemo-dev-westeu-001   \n",
       "2      None          None  iotedge-aidemo-dev-westeu-001   \n",
       "3      None          None  iotedge-aidemo-dev-westeu-001   \n",
       "4      None          None  iotedge-aidemo-dev-westeu-001   \n",
       "\n",
       "  ConnectionDeviceGenerationId                  EnqueuedTime StreamId  \n",
       "0           637607268247344024  2021-07-13T10:07:08.0430000Z     None  \n",
       "1           637607268247344024  2021-07-13T10:07:07.9650000Z     None  \n",
       "2           637607268247344024  2021-07-13T10:07:07.8710000Z     None  \n",
       "3           637607268247344024  2021-07-13T10:06:57.5100000Z     None  \n",
       "4           637607268247344024  2021-07-13T10:06:57.4160000Z     None  "
      ]
     },
     "execution_count": 370,
     "metadata": {},
     "output_type": "execute_result"
    }
   ],
   "source": [
    "# accessing embedded data\n",
    "dfiot = pd.json_normalize(dftele['IoTHub'])\n",
    "dfiot.head()"
   ]
  },
  {
   "cell_type": "markdown",
   "metadata": {},
   "source": [
    "## Manual Generation <a class=\"anchor\" id=\"manual\"></a>\n",
    "\n",
    "To generate the whole object, it seems easier to start off by generating the _unmodeleddata_ seperately to the other data types."
   ]
  },
  {
   "cell_type": "markdown",
   "metadata": {},
   "source": [
    "### Data Types  <a class=\"anchor\" id=\"types\"></a>\n",
    "\n",
    "This object has 4 values which need ot be generated: \n",
    "\n",
    "* **Sensor type** which indicates the type of sensor used labeled by a one letter abbrevation; currently c for camera. String value.\n",
    "\n",
    "* **Video boxes** which indicates the 4 number coordinates of the object perceived on the camera each one between 0-1. 4 floats between 0-1 parsed into a String. \n",
    "\n",
    "* **Classes** which indicates the physical object the sensor has detected. String value.\n",
    "\n",
    "* **Scores** which indicates the score for the model having identified the physical object. Float between 0 and 1."
   ]
  },
  {
   "cell_type": "markdown",
   "metadata": {},
   "source": [
    "#### Useful functions"
   ]
  },
  {
   "cell_type": "code",
   "execution_count": 371,
   "metadata": {
    "ExecuteTime": {
     "end_time": "2021-07-30T09:46:23.353981Z",
     "start_time": "2021-07-30T09:46:23.334982Z"
    },
    "code_folding": [
     0,
     2,
     9,
     12,
     18
    ]
   },
   "outputs": [],
   "source": [
    "def randomizer(data, distribution, size):\n",
    "    # Quick randomizing function made for customisation purposes; improved version present in JSON generator file\n",
    "    if (distribution == 'Uniform'):\n",
    "        print('Input quartile percentage for a:')\n",
    "        a = input()\n",
    "        print('Input quartile percentage for b:')\n",
    "        b = input()\n",
    "        new_data = np.random.uniform(data.quantile(a), data.quantile(b), size)\n",
    "\n",
    "    elif (distribution == 'Normal'):\n",
    "        new_data = np.random.normal(data.mean(), data.std(), size)\n",
    "\n",
    "    elif (distribution == 'Gamma'):\n",
    "        print('Input shape parameter:')\n",
    "        a = input()\n",
    "        fig, ax = plt.subplots(1, 1)\n",
    "        new_data = gamma.rvs(a, size)\n",
    "\n",
    "    elif (distribution == 'Exponential'):\n",
    "        print('Input rate parameter:')\n",
    "        a = input()\n",
    "        new_data = np.random.exponential(a, size)\n",
    "\n",
    "    return new_data"
   ]
  },
  {
   "cell_type": "code",
   "execution_count": 372,
   "metadata": {
    "ExecuteTime": {
     "end_time": "2021-07-30T09:46:23.433412Z",
     "start_time": "2021-07-30T09:46:23.418428Z"
    },
    "code_folding": [
     0
    ]
   },
   "outputs": [],
   "source": [
    "def FakeBoxes(size):\n",
    "    #Function used to format the boxes feature into similar format to original\n",
    "    temp = []\n",
    "    x1_coords = randomizer(box.x1, 'Normal', size)\n",
    "    y1_coords = randomizer(box.y1, 'Normal', size)\n",
    "    x2_coords = randomizer(box.x2, 'Normal', size)\n",
    "    y2_coords = randomizer(box.y2, 'Normal', size)\n",
    "    for i in range(len(x1_coords)):\n",
    "        temp.append('[' + str(x1_coords[i]) + ', ' + str(y1_coords[i]) + ', ' +\n",
    "                    str(x2_coords[i]) + ', ' + str(y2_coords[i]) + ']')\n",
    "    return temp"
   ]
  },
  {
   "cell_type": "markdown",
   "metadata": {},
   "source": [
    "#### Sensor generation <a class=\"anchor\" id=\"sensor\"></a>\n",
    "\n",
    "There is currently only one value, c, however, it might be useful to have a systematic way of gathering the dictionary with its ditribution to plug into a function in the future"
   ]
  },
  {
   "cell_type": "code",
   "execution_count": 373,
   "metadata": {
    "ExecuteTime": {
     "end_time": "2021-07-30T09:46:24.248993Z",
     "start_time": "2021-07-30T09:46:24.237998Z"
    }
   },
   "outputs": [],
   "source": [
    "types = np.array(dfunmod['sensors.__t'].value_counts(normalize=True).keys())\n",
    "type_dist = np.array(dfunmod['sensors.__t'].value_counts(normalize=True))"
   ]
  },
  {
   "cell_type": "code",
   "execution_count": 374,
   "metadata": {
    "ExecuteTime": {
     "end_time": "2021-07-30T09:46:24.329032Z",
     "start_time": "2021-07-30T09:46:24.317015Z"
    }
   },
   "outputs": [],
   "source": [
    "new_types = np.random.choice(types, size=50, p=type_dist)"
   ]
  },
  {
   "cell_type": "markdown",
   "metadata": {},
   "source": [
    "#### Video boxes Generation <a class=\"anchor\" id=\"boxes\"></a>\n",
    "Change data from string to floats and seperate each coordinate with a column. For each coordinate use randomizer with normal distribution to generate new data. \n",
    "\n",
    "**Potential issue** this randomizes the coordinates independently meaning it may put bottom left corner of the box above the top right corner. Hopefully current normal distribution will keep boxes in logical coordinates without relational randomization"
   ]
  },
  {
   "cell_type": "code",
   "execution_count": 375,
   "metadata": {
    "ExecuteTime": {
     "end_time": "2021-07-30T09:46:25.094994Z",
     "start_time": "2021-07-30T09:46:25.069993Z"
    }
   },
   "outputs": [],
   "source": [
    "box = pd.DataFrame()\n",
    "boxes = dfunmod[['sensors.video.boxes']]\n",
    "box[['x1', 'y1', 'x2',\n",
    "     'y2']] = boxes['sensors.video.boxes'].str.split(',', expand=True)\n",
    "box['x1'] = box['x1'].map(lambda x: x.lstrip('['))\n",
    "box['y2'] = box['y2'].map(lambda x: x.rstrip(']'))\n",
    "box['x1'] = box.x1.astype(float)\n",
    "box['y1'] = box.y1.astype(float)\n",
    "box['x2'] = box.x2.astype(float)\n",
    "box['y2'] = box.y2.astype(float)\n",
    "# Simplified into FakeBoxes function above"
   ]
  },
  {
   "cell_type": "markdown",
   "metadata": {},
   "source": [
    "#### Class Generation <a class=\"anchor\" id=\"class\"></a>\n",
    "Could very simply be made into a function for categorical data if need be."
   ]
  },
  {
   "cell_type": "code",
   "execution_count": 376,
   "metadata": {
    "ExecuteTime": {
     "end_time": "2021-07-30T09:46:25.825138Z",
     "start_time": "2021-07-30T09:46:25.818142Z"
    },
    "scrolled": false
   },
   "outputs": [],
   "source": [
    "classes = np.array(\n",
    "    dfunmod['sensors.video.classes'].value_counts(normalize=True).keys())\n",
    "class_dist = np.array(\n",
    "    dfunmod['sensors.video.classes'].value_counts(normalize=True))"
   ]
  },
  {
   "cell_type": "code",
   "execution_count": 377,
   "metadata": {
    "ExecuteTime": {
     "end_time": "2021-07-30T09:46:25.905141Z",
     "start_time": "2021-07-30T09:46:25.893142Z"
    }
   },
   "outputs": [],
   "source": [
    "new_classes = np.random.choice(classes, size=50, p=class_dist)"
   ]
  },
  {
   "cell_type": "markdown",
   "metadata": {},
   "source": [
    "#### Score Generation <a class=\"anchor\" id=\"score\"></a>\n",
    "There are different distribution which can be chosen: \n",
    "* **Uniform Distribution**: The probability distribution function of the continuous uniform distribution requires a min and max, a and b.\n",
    "* **Normal Distribution**: Normal Distribution, also known as Gaussian distribution, has a bell-shaped density curve described by its mean μ and standard deviation σ. \n",
    "* **Gamma Distribution**: a two-parameter family of continuous probability distributions, parameterized in terms of a shape parameter α=k and an inverse scale parameter β=1/θ, called a rate parameter. Requires a single integer argument but can add rate aswell.\n",
    "* **Exponential Distribution**: The exponential distribution describes the time between events in a Poisson point process. requires scale argument (1/lamda)."
   ]
  },
  {
   "cell_type": "code",
   "execution_count": 378,
   "metadata": {
    "ExecuteTime": {
     "end_time": "2021-07-30T09:46:26.688135Z",
     "start_time": "2021-07-30T09:46:26.661139Z"
    }
   },
   "outputs": [
    {
     "data": {
      "text/html": [
       "<div>\n",
       "<style scoped>\n",
       "    .dataframe tbody tr th:only-of-type {\n",
       "        vertical-align: middle;\n",
       "    }\n",
       "\n",
       "    .dataframe tbody tr th {\n",
       "        vertical-align: top;\n",
       "    }\n",
       "\n",
       "    .dataframe thead th {\n",
       "        text-align: right;\n",
       "    }\n",
       "</style>\n",
       "<table border=\"1\" class=\"dataframe\">\n",
       "  <thead>\n",
       "    <tr style=\"text-align: right;\">\n",
       "      <th></th>\n",
       "      <th>score</th>\n",
       "    </tr>\n",
       "  </thead>\n",
       "  <tbody>\n",
       "    <tr>\n",
       "      <th>0</th>\n",
       "      <td>0.562500</td>\n",
       "    </tr>\n",
       "    <tr>\n",
       "      <th>1</th>\n",
       "      <td>0.644531</td>\n",
       "    </tr>\n",
       "    <tr>\n",
       "      <th>2</th>\n",
       "      <td>0.667969</td>\n",
       "    </tr>\n",
       "    <tr>\n",
       "      <th>3</th>\n",
       "      <td>0.511719</td>\n",
       "    </tr>\n",
       "    <tr>\n",
       "      <th>4</th>\n",
       "      <td>0.574219</td>\n",
       "    </tr>\n",
       "  </tbody>\n",
       "</table>\n",
       "</div>"
      ],
      "text/plain": [
       "      score\n",
       "0  0.562500\n",
       "1  0.644531\n",
       "2  0.667969\n",
       "3  0.511719\n",
       "4  0.574219"
      ]
     },
     "execution_count": 378,
     "metadata": {},
     "output_type": "execute_result"
    }
   ],
   "source": [
    "scores = pd.DataFrame()\n",
    "scores[['score']] = dfunmod[['sensors.video.scores']].astype(float)\n",
    "scores.head()"
   ]
  },
  {
   "cell_type": "markdown",
   "metadata": {},
   "source": [
    "#### Combined generation\n",
    "Putting Everything together we get this new data:"
   ]
  },
  {
   "cell_type": "code",
   "execution_count": 379,
   "metadata": {
    "ExecuteTime": {
     "end_time": "2021-07-30T09:46:27.500892Z",
     "start_time": "2021-07-30T09:46:27.477861Z"
    },
    "scrolled": false
   },
   "outputs": [],
   "source": [
    "fake_types = np.random.choice(types, size=100, p=type_dist)\n",
    "fake_boxes = FakeBoxes(100)\n",
    "fake_classes = np.random.choice(classes, size=100, p=class_dist)\n",
    "fake_scores = randomizer(scores.score, 'Normal', 100)\n",
    "fake_data = {\n",
    "    'sensors.__t': fake_types,\n",
    "    'sensors.video.boxes': fake_boxes,\n",
    "    'sensors.video.classes': fake_classes,\n",
    "    'sensors.video.scores': fake_scores\n",
    "}\n",
    "fake_unmod = pd.DataFrame(fake_data)"
   ]
  },
  {
   "cell_type": "code",
   "execution_count": 380,
   "metadata": {
    "ExecuteTime": {
     "end_time": "2021-07-30T09:46:27.580887Z",
     "start_time": "2021-07-30T09:46:27.558873Z"
    }
   },
   "outputs": [
    {
     "data": {
      "text/html": [
       "<div>\n",
       "<style scoped>\n",
       "    .dataframe tbody tr th:only-of-type {\n",
       "        vertical-align: middle;\n",
       "    }\n",
       "\n",
       "    .dataframe tbody tr th {\n",
       "        vertical-align: top;\n",
       "    }\n",
       "\n",
       "    .dataframe thead th {\n",
       "        text-align: right;\n",
       "    }\n",
       "</style>\n",
       "<table border=\"1\" class=\"dataframe\">\n",
       "  <thead>\n",
       "    <tr style=\"text-align: right;\">\n",
       "      <th></th>\n",
       "      <th>sensors.__t</th>\n",
       "      <th>sensors.video.boxes</th>\n",
       "      <th>sensors.video.classes</th>\n",
       "      <th>sensors.video.scores</th>\n",
       "    </tr>\n",
       "  </thead>\n",
       "  <tbody>\n",
       "    <tr>\n",
       "      <th>0</th>\n",
       "      <td>c</td>\n",
       "      <td>[0.44489075652033905, 0.17513039140779563, 1.0...</td>\n",
       "      <td>couch</td>\n",
       "      <td>0.639630</td>\n",
       "    </tr>\n",
       "    <tr>\n",
       "      <th>1</th>\n",
       "      <td>c</td>\n",
       "      <td>[0.5681330837210461, 0.18068780463610773, 0.83...</td>\n",
       "      <td>chair</td>\n",
       "      <td>0.574751</td>\n",
       "    </tr>\n",
       "    <tr>\n",
       "      <th>2</th>\n",
       "      <td>c</td>\n",
       "      <td>[0.5666229291091176, 0.3321287831866776, 0.944...</td>\n",
       "      <td>person</td>\n",
       "      <td>0.490153</td>\n",
       "    </tr>\n",
       "    <tr>\n",
       "      <th>3</th>\n",
       "      <td>c</td>\n",
       "      <td>[0.5503405580608813, 0.3909240732575636, 0.943...</td>\n",
       "      <td>tv</td>\n",
       "      <td>0.605555</td>\n",
       "    </tr>\n",
       "    <tr>\n",
       "      <th>4</th>\n",
       "      <td>c</td>\n",
       "      <td>[0.4570184306514555, 0.31824026771058234, 0.56...</td>\n",
       "      <td>tv</td>\n",
       "      <td>0.660697</td>\n",
       "    </tr>\n",
       "  </tbody>\n",
       "</table>\n",
       "</div>"
      ],
      "text/plain": [
       "  sensors.__t                                sensors.video.boxes  \\\n",
       "0           c  [0.44489075652033905, 0.17513039140779563, 1.0...   \n",
       "1           c  [0.5681330837210461, 0.18068780463610773, 0.83...   \n",
       "2           c  [0.5666229291091176, 0.3321287831866776, 0.944...   \n",
       "3           c  [0.5503405580608813, 0.3909240732575636, 0.943...   \n",
       "4           c  [0.4570184306514555, 0.31824026771058234, 0.56...   \n",
       "\n",
       "  sensors.video.classes  sensors.video.scores  \n",
       "0                 couch              0.639630  \n",
       "1                 chair              0.574751  \n",
       "2                person              0.490153  \n",
       "3                    tv              0.605555  \n",
       "4                    tv              0.660697  "
      ]
     },
     "execution_count": 380,
     "metadata": {},
     "output_type": "execute_result"
    }
   ],
   "source": [
    "fake_unmod.head()"
   ]
  },
  {
   "cell_type": "code",
   "execution_count": 381,
   "metadata": {
    "ExecuteTime": {
     "end_time": "2021-07-30T09:46:27.660859Z",
     "start_time": "2021-07-30T09:46:27.647860Z"
    }
   },
   "outputs": [],
   "source": [
    "dfunmod['sensors.video.scores'] = dfunmod['sensors.video.scores'].astype(float)"
   ]
  },
  {
   "cell_type": "markdown",
   "metadata": {},
   "source": [
    "### Evaluation <a class=\"anchor\" id=\"eval\"></a>\n",
    "Evaluation of the box feature is not the most accurate as instead of analysing the 4 coordinates, in this format it identifies how similar the strings are. This is fixed during the evaluation of the SDV library by evaluating before reformating."
   ]
  },
  {
   "cell_type": "code",
   "execution_count": 382,
   "metadata": {
    "ExecuteTime": {
     "end_time": "2021-07-30T09:46:29.240427Z",
     "start_time": "2021-07-30T09:46:28.462856Z"
    },
    "scrolled": true
   },
   "outputs": [
    {
     "data": {
      "text/plain": [
       "0.4605591205832278"
      ]
     },
     "execution_count": 382,
     "metadata": {},
     "output_type": "execute_result"
    }
   ],
   "source": [
    "evaluate(dfunmod, fake_unmod)"
   ]
  },
  {
   "cell_type": "code",
   "execution_count": 383,
   "metadata": {
    "ExecuteTime": {
     "end_time": "2021-07-30T09:46:30.055546Z",
     "start_time": "2021-07-30T09:46:29.242429Z"
    },
    "scrolled": true
   },
   "outputs": [
    {
     "data": {
      "text/html": [
       "<div>\n",
       "<style scoped>\n",
       "    .dataframe tbody tr th:only-of-type {\n",
       "        vertical-align: middle;\n",
       "    }\n",
       "\n",
       "    .dataframe tbody tr th {\n",
       "        vertical-align: top;\n",
       "    }\n",
       "\n",
       "    .dataframe thead th {\n",
       "        text-align: right;\n",
       "    }\n",
       "</style>\n",
       "<table border=\"1\" class=\"dataframe\">\n",
       "  <thead>\n",
       "    <tr style=\"text-align: right;\">\n",
       "      <th></th>\n",
       "      <th>metric</th>\n",
       "      <th>name</th>\n",
       "      <th>raw_score</th>\n",
       "      <th>normalized_score</th>\n",
       "      <th>min_value</th>\n",
       "      <th>max_value</th>\n",
       "      <th>goal</th>\n",
       "    </tr>\n",
       "  </thead>\n",
       "  <tbody>\n",
       "    <tr>\n",
       "      <th>0</th>\n",
       "      <td>BNLogLikelihood</td>\n",
       "      <td>BayesianNetwork Log Likelihood</td>\n",
       "      <td>-inf</td>\n",
       "      <td>0.000000</td>\n",
       "      <td>-inf</td>\n",
       "      <td>0.0</td>\n",
       "      <td>MAXIMIZE</td>\n",
       "    </tr>\n",
       "    <tr>\n",
       "      <th>1</th>\n",
       "      <td>LogisticDetection</td>\n",
       "      <td>LogisticRegression Detection</td>\n",
       "      <td>1.000000</td>\n",
       "      <td>1.000000</td>\n",
       "      <td>0.0</td>\n",
       "      <td>1.0</td>\n",
       "      <td>MAXIMIZE</td>\n",
       "    </tr>\n",
       "    <tr>\n",
       "      <th>2</th>\n",
       "      <td>SVCDetection</td>\n",
       "      <td>SVC Detection</td>\n",
       "      <td>0.000000</td>\n",
       "      <td>0.000000</td>\n",
       "      <td>0.0</td>\n",
       "      <td>1.0</td>\n",
       "      <td>MAXIMIZE</td>\n",
       "    </tr>\n",
       "    <tr>\n",
       "      <th>11</th>\n",
       "      <td>GMLogLikelihood</td>\n",
       "      <td>GaussianMixture Log Likelihood</td>\n",
       "      <td>1.365769</td>\n",
       "      <td>0.796696</td>\n",
       "      <td>-inf</td>\n",
       "      <td>inf</td>\n",
       "      <td>MAXIMIZE</td>\n",
       "    </tr>\n",
       "    <tr>\n",
       "      <th>12</th>\n",
       "      <td>CSTest</td>\n",
       "      <td>Chi-Squared</td>\n",
       "      <td>0.333333</td>\n",
       "      <td>0.333333</td>\n",
       "      <td>0.0</td>\n",
       "      <td>1.0</td>\n",
       "      <td>MAXIMIZE</td>\n",
       "    </tr>\n",
       "    <tr>\n",
       "      <th>13</th>\n",
       "      <td>KSTest</td>\n",
       "      <td>Inverted Kolmogorov-Smirnov D statistic</td>\n",
       "      <td>0.790000</td>\n",
       "      <td>0.790000</td>\n",
       "      <td>0.0</td>\n",
       "      <td>1.0</td>\n",
       "      <td>MAXIMIZE</td>\n",
       "    </tr>\n",
       "    <tr>\n",
       "      <th>28</th>\n",
       "      <td>DiscreteKLDivergence</td>\n",
       "      <td>Discrete Kullback–Leibler Divergence</td>\n",
       "      <td>0.303885</td>\n",
       "      <td>0.303885</td>\n",
       "      <td>0.0</td>\n",
       "      <td>1.0</td>\n",
       "      <td>MAXIMIZE</td>\n",
       "    </tr>\n",
       "  </tbody>\n",
       "</table>\n",
       "</div>"
      ],
      "text/plain": [
       "                  metric                                     name  raw_score  \\\n",
       "0        BNLogLikelihood           BayesianNetwork Log Likelihood       -inf   \n",
       "1      LogisticDetection             LogisticRegression Detection   1.000000   \n",
       "2           SVCDetection                            SVC Detection   0.000000   \n",
       "11       GMLogLikelihood           GaussianMixture Log Likelihood   1.365769   \n",
       "12                CSTest                              Chi-Squared   0.333333   \n",
       "13                KSTest  Inverted Kolmogorov-Smirnov D statistic   0.790000   \n",
       "28  DiscreteKLDivergence     Discrete Kullback–Leibler Divergence   0.303885   \n",
       "\n",
       "    normalized_score  min_value  max_value      goal  \n",
       "0           0.000000       -inf        0.0  MAXIMIZE  \n",
       "1           1.000000        0.0        1.0  MAXIMIZE  \n",
       "2           0.000000        0.0        1.0  MAXIMIZE  \n",
       "11          0.796696       -inf        inf  MAXIMIZE  \n",
       "12          0.333333        0.0        1.0  MAXIMIZE  \n",
       "13          0.790000        0.0        1.0  MAXIMIZE  \n",
       "28          0.303885        0.0        1.0  MAXIMIZE  "
      ]
     },
     "execution_count": 383,
     "metadata": {},
     "output_type": "execute_result"
    }
   ],
   "source": [
    "evaluate(dfunmod, fake_unmod, aggregate=False)"
   ]
  },
  {
   "cell_type": "markdown",
   "metadata": {},
   "source": [
    "### Saving data"
   ]
  },
  {
   "cell_type": "code",
   "execution_count": 384,
   "metadata": {
    "ExecuteTime": {
     "end_time": "2021-07-30T09:46:30.071546Z",
     "start_time": "2021-07-30T09:46:30.057549Z"
    }
   },
   "outputs": [],
   "source": [
    "man_unmod_json = fake_unmod.to_json(orient=\"values\")\n",
    "file = open('data/generated/manual_unmodelled.json', 'w')\n",
    "file.write(man_unmod_json)\n",
    "file.close()"
   ]
  },
  {
   "cell_type": "markdown",
   "metadata": {},
   "source": [
    "## SDV Generation of Unmodelled Data <a class=\"anchor\" id=\"sdv\"></a>\n"
   ]
  },
  {
   "cell_type": "markdown",
   "metadata": {},
   "source": [
    "### Loading data set<a class=\"anchor\" id=\"load\"></a>"
   ]
  },
  {
   "cell_type": "code",
   "execution_count": 385,
   "metadata": {
    "ExecuteTime": {
     "end_time": "2021-07-30T09:46:31.219548Z",
     "start_time": "2021-07-30T09:46:31.203548Z"
    },
    "init_cell": true
   },
   "outputs": [
    {
     "data": {
      "text/html": [
       "<div>\n",
       "<style scoped>\n",
       "    .dataframe tbody tr th:only-of-type {\n",
       "        vertical-align: middle;\n",
       "    }\n",
       "\n",
       "    .dataframe tbody tr th {\n",
       "        vertical-align: top;\n",
       "    }\n",
       "\n",
       "    .dataframe thead th {\n",
       "        text-align: right;\n",
       "    }\n",
       "</style>\n",
       "<table border=\"1\" class=\"dataframe\">\n",
       "  <thead>\n",
       "    <tr style=\"text-align: right;\">\n",
       "      <th></th>\n",
       "      <th>sensors.__t</th>\n",
       "      <th>sensors.video.boxes</th>\n",
       "      <th>sensors.video.classes</th>\n",
       "      <th>sensors.video.scores</th>\n",
       "    </tr>\n",
       "  </thead>\n",
       "  <tbody>\n",
       "    <tr>\n",
       "      <th>0</th>\n",
       "      <td>c</td>\n",
       "      <td>[0.4961545169353485, 0.7034689784049988, 0.985...</td>\n",
       "      <td>tv</td>\n",
       "      <td>0.5625</td>\n",
       "    </tr>\n",
       "    <tr>\n",
       "      <th>1</th>\n",
       "      <td>c</td>\n",
       "      <td>[0.3772980570793152, 0.043439388275146484, 0.6...</td>\n",
       "      <td>person</td>\n",
       "      <td>0.64453125</td>\n",
       "    </tr>\n",
       "    <tr>\n",
       "      <th>2</th>\n",
       "      <td>c</td>\n",
       "      <td>[0.5733964443206787, -0.01097947359085083, 0.9...</td>\n",
       "      <td>couch</td>\n",
       "      <td>0.66796875</td>\n",
       "    </tr>\n",
       "    <tr>\n",
       "      <th>3</th>\n",
       "      <td>c</td>\n",
       "      <td>[0.4685651361942291, 0.46356216073036194, 0.61...</td>\n",
       "      <td>chair</td>\n",
       "      <td>0.51171875</td>\n",
       "    </tr>\n",
       "    <tr>\n",
       "      <th>4</th>\n",
       "      <td>c</td>\n",
       "      <td>[0.4961545169353485, 0.7054068446159363, 0.985...</td>\n",
       "      <td>tv</td>\n",
       "      <td>0.57421875</td>\n",
       "    </tr>\n",
       "  </tbody>\n",
       "</table>\n",
       "</div>"
      ],
      "text/plain": [
       "  sensors.__t                                sensors.video.boxes  \\\n",
       "0           c  [0.4961545169353485, 0.7034689784049988, 0.985...   \n",
       "1           c  [0.3772980570793152, 0.043439388275146484, 0.6...   \n",
       "2           c  [0.5733964443206787, -0.01097947359085083, 0.9...   \n",
       "3           c  [0.4685651361942291, 0.46356216073036194, 0.61...   \n",
       "4           c  [0.4961545169353485, 0.7054068446159363, 0.985...   \n",
       "\n",
       "  sensors.video.classes sensors.video.scores  \n",
       "0                    tv               0.5625  \n",
       "1                person           0.64453125  \n",
       "2                 couch           0.66796875  \n",
       "3                 chair           0.51171875  \n",
       "4                    tv           0.57421875  "
      ]
     },
     "execution_count": 385,
     "metadata": {},
     "output_type": "execute_result"
    }
   ],
   "source": [
    "dfunmod2 = pd.json_normalize(dftele['_unmodeleddata'])\n",
    "dfunmod2.head()"
   ]
  },
  {
   "cell_type": "markdown",
   "metadata": {},
   "source": [
    "Ensuring data is easilly parsable with the sdv models."
   ]
  },
  {
   "cell_type": "code",
   "execution_count": 386,
   "metadata": {
    "ExecuteTime": {
     "end_time": "2021-07-30T09:46:32.034652Z",
     "start_time": "2021-07-30T09:46:32.000654Z"
    },
    "init_cell": true,
    "scrolled": true
   },
   "outputs": [
    {
     "data": {
      "text/html": [
       "<div>\n",
       "<style scoped>\n",
       "    .dataframe tbody tr th:only-of-type {\n",
       "        vertical-align: middle;\n",
       "    }\n",
       "\n",
       "    .dataframe tbody tr th {\n",
       "        vertical-align: top;\n",
       "    }\n",
       "\n",
       "    .dataframe thead th {\n",
       "        text-align: right;\n",
       "    }\n",
       "</style>\n",
       "<table border=\"1\" class=\"dataframe\">\n",
       "  <thead>\n",
       "    <tr style=\"text-align: right;\">\n",
       "      <th></th>\n",
       "      <th>sensors.__t</th>\n",
       "      <th>sensors.video.classes</th>\n",
       "      <th>sensors.video.scores</th>\n",
       "      <th>x1</th>\n",
       "      <th>y1</th>\n",
       "      <th>x2</th>\n",
       "      <th>y2</th>\n",
       "    </tr>\n",
       "  </thead>\n",
       "  <tbody>\n",
       "    <tr>\n",
       "      <th>0</th>\n",
       "      <td>c</td>\n",
       "      <td>tv</td>\n",
       "      <td>0.562500</td>\n",
       "      <td>0.496155</td>\n",
       "      <td>0.703469</td>\n",
       "      <td>0.985248</td>\n",
       "      <td>0.926499</td>\n",
       "    </tr>\n",
       "    <tr>\n",
       "      <th>1</th>\n",
       "      <td>c</td>\n",
       "      <td>person</td>\n",
       "      <td>0.644531</td>\n",
       "      <td>0.377298</td>\n",
       "      <td>0.043439</td>\n",
       "      <td>0.670153</td>\n",
       "      <td>0.297463</td>\n",
       "    </tr>\n",
       "    <tr>\n",
       "      <th>2</th>\n",
       "      <td>c</td>\n",
       "      <td>couch</td>\n",
       "      <td>0.667969</td>\n",
       "      <td>0.573396</td>\n",
       "      <td>-0.010979</td>\n",
       "      <td>0.990111</td>\n",
       "      <td>0.700604</td>\n",
       "    </tr>\n",
       "    <tr>\n",
       "      <th>3</th>\n",
       "      <td>c</td>\n",
       "      <td>chair</td>\n",
       "      <td>0.511719</td>\n",
       "      <td>0.468565</td>\n",
       "      <td>0.463562</td>\n",
       "      <td>0.616883</td>\n",
       "      <td>0.569987</td>\n",
       "    </tr>\n",
       "    <tr>\n",
       "      <th>4</th>\n",
       "      <td>c</td>\n",
       "      <td>tv</td>\n",
       "      <td>0.574219</td>\n",
       "      <td>0.496155</td>\n",
       "      <td>0.705407</td>\n",
       "      <td>0.985248</td>\n",
       "      <td>0.928437</td>\n",
       "    </tr>\n",
       "  </tbody>\n",
       "</table>\n",
       "</div>"
      ],
      "text/plain": [
       "  sensors.__t sensors.video.classes  sensors.video.scores        x1        y1  \\\n",
       "0           c                    tv              0.562500  0.496155  0.703469   \n",
       "1           c                person              0.644531  0.377298  0.043439   \n",
       "2           c                 couch              0.667969  0.573396 -0.010979   \n",
       "3           c                 chair              0.511719  0.468565  0.463562   \n",
       "4           c                    tv              0.574219  0.496155  0.705407   \n",
       "\n",
       "         x2        y2  \n",
       "0  0.985248  0.926499  \n",
       "1  0.670153  0.297463  \n",
       "2  0.990111  0.700604  \n",
       "3  0.616883  0.569987  \n",
       "4  0.985248  0.928437  "
      ]
     },
     "execution_count": 386,
     "metadata": {},
     "output_type": "execute_result"
    }
   ],
   "source": [
    "dfunmod2[['x1', 'y1', 'x2',\n",
    "          'y2']] = dfunmod2['sensors.video.boxes'].str.split(',', expand=True)\n",
    "dfunmod2['x1'] = dfunmod2['x1'].map(lambda x: x.lstrip('['))\n",
    "dfunmod2['y2'] = dfunmod2['y2'].map(lambda x: x.rstrip(']'))\n",
    "dfunmod2.drop(columns='sensors.video.boxes', inplace=True)\n",
    "dfunmod2['sensors.video.scores'] = dfunmod2['sensors.video.scores'].astype(\n",
    "    float)\n",
    "dfunmod2['x1'] = dfunmod2['x1'].astype(float)\n",
    "dfunmod2['y1'] = dfunmod2['y1'].astype(float)\n",
    "dfunmod2['x2'] = dfunmod2['x2'].astype(float)\n",
    "dfunmod2['y2'] = dfunmod2['y2'].astype(float)\n",
    "dfunmod2.head()"
   ]
  },
  {
   "cell_type": "markdown",
   "metadata": {},
   "source": [
    "### Fitting <a class=\"anchor\" id=\"fitting\"></a>\n",
    "\n",
    "Video boxes has four values indicating the coordinates of two corners of the location of the object on the screen and thus the coordinates for the bottom left corner have to be lower than the coordinates for the top right"
   ]
  },
  {
   "cell_type": "code",
   "execution_count": 387,
   "metadata": {
    "ExecuteTime": {
     "end_time": "2021-07-30T09:46:32.802684Z",
     "start_time": "2021-07-30T09:46:32.793652Z"
    },
    "init_cell": true
   },
   "outputs": [],
   "source": [
    "from sdv.constraints.base import Constraint\n",
    "import operator\n",
    "import uuid\n",
    "from datetime import datetime"
   ]
  },
  {
   "cell_type": "markdown",
   "metadata": {},
   "source": [
    "'Between' function from SDV for some reason won't import so I have 'imported' it by brute force by pasting it in the next cell. "
   ]
  },
  {
   "cell_type": "code",
   "execution_count": 388,
   "metadata": {
    "ExecuteTime": {
     "end_time": "2021-07-30T09:46:33.647842Z",
     "start_time": "2021-07-30T09:46:33.632839Z"
    },
    "code_folding": [
     0
    ],
    "init_cell": true
   },
   "outputs": [],
   "source": [
    "class Between(Constraint):\n",
    "    \"\"\"Ensure that the ``constraint_column`` is always between ``high`` and ``low``.\n",
    "\n",
    "    The transformation strategy works by replacing the ``constraint_column`` with a\n",
    "    scaled version and then applying a logit function. The reverse transform\n",
    "    applies a sigmoid to the data and then scales it back to the original space.\n",
    "\n",
    "    Args:\n",
    "        constraint_column (str):\n",
    "            Name of the column to which the constraint will be applied.\n",
    "        low (float or str):\n",
    "            If float, lower bound on the values of the ``constraint_column``.\n",
    "            If string, name of the column which will be the lower bound.\n",
    "        high (float or str):\n",
    "            If float, upper bound on the values of the ``constraint_column``.\n",
    "            If string, name of the column which will be the upper bound.\n",
    "        strict (bool):\n",
    "            Whether the comparison of the values should be strict ``>=`` or\n",
    "            not ``>`` when comparing them. Currently, this is only respected\n",
    "            if ``reject_sampling`` or ``all`` handling strategies are used.\n",
    "        handling_strategy (str):\n",
    "            How this Constraint should be handled, which can be ``transform``\n",
    "            or ``reject_sampling``. Defaults to ``transform``.\n",
    "        high_is_scalar(bool or None):\n",
    "            Whether or not the value for high is a scalar or a column name.\n",
    "            If ``None``, this will be determined during the ``fit`` method\n",
    "            by checking if the value provided is a column name.\n",
    "        low_is_scalar(bool or None):\n",
    "            Whether or not the value for low is a scalar or a column name.\n",
    "            If ``None``, this will be determined during the ``fit`` method\n",
    "            by checking if the value provided is a column name.\n",
    "    \"\"\"\n",
    "\n",
    "    _transformed_column = None\n",
    "\n",
    "    def __init__(self,\n",
    "                 column,\n",
    "                 low,\n",
    "                 high,\n",
    "                 strict=False,\n",
    "                 handling_strategy='transform',\n",
    "                 fit_columns_model=True,\n",
    "                 high_is_scalar=None,\n",
    "                 low_is_scalar=None):\n",
    "        self.constraint_column = column\n",
    "        self._low = low\n",
    "        self._high = high\n",
    "        self._strict = strict\n",
    "        self._high_is_scalar = high_is_scalar\n",
    "        self._low_is_scalar = low_is_scalar\n",
    "        self._lt = operator.lt if strict else operator.le\n",
    "        super().__init__(handling_strategy=handling_strategy,\n",
    "                         fit_columns_model=fit_columns_model)\n",
    "\n",
    "    def _get_low_value(self, table_data):\n",
    "        \"\"\"Return the appropriate lower bound.\n",
    "\n",
    "        Returns the lower bound either as a column or a scalar, depending on the\n",
    "        value of ``self._low_is_scalar``. If the lower bound column doesn't exist, returns\n",
    "        ``None`` instead.\n",
    "\n",
    "        Args:\n",
    "            table_data (pandas.DataFrame):\n",
    "                The Table data.\n",
    "\n",
    "        Returns:\n",
    "            pandas.DataFrame, float or None:\n",
    "                Either the lower bound or None if the column doesn't exist.\n",
    "        \"\"\"\n",
    "        if self._low_is_scalar:\n",
    "            return self._low\n",
    "        elif self._low in table_data.columns:\n",
    "            return table_data[self._low]\n",
    "\n",
    "        return None\n",
    "\n",
    "    def _get_high_value(self, table_data):\n",
    "        \"\"\"Return the appropriate upper bound.\n",
    "\n",
    "        Returns the upper bound either as a column or a scalar, depending on the\n",
    "        value of ``self._high_is_scalar``. If the upper bound column doesn't exist, returns\n",
    "        ``None`` instead.\n",
    "\n",
    "        Args:\n",
    "            table_data (pandas.DataFrame):\n",
    "                The Table data.\n",
    "\n",
    "        Returns:\n",
    "            pandas.DataFrame, float or None:\n",
    "                Either the upper bound or None if the column doesn't exist.\n",
    "        \"\"\"\n",
    "        if self._high_is_scalar:\n",
    "            return self._high\n",
    "        elif self._high in table_data.columns:\n",
    "            return table_data[self._high]\n",
    "\n",
    "        return None\n",
    "\n",
    "    def _get_diff_column_name(self, table_data):\n",
    "        token = '#'\n",
    "        components = list(\n",
    "            map(str, [self.constraint_column, self._low, self._high]))\n",
    "        while token.join(components) in table_data.columns:\n",
    "            token += '#'\n",
    "\n",
    "        return token.join(components)\n",
    "\n",
    "    def _fit(self, table_data):\n",
    "        if self._high_is_scalar is None:\n",
    "            self._high_is_scalar = self._high not in table_data.columns\n",
    "        if self._low_is_scalar is None:\n",
    "            self._low_is_scalar = self._low not in table_data.columns\n",
    "\n",
    "        self._transformed_column = self._get_diff_column_name(table_data)\n",
    "\n",
    "    def is_valid(self, table_data):\n",
    "        \"\"\"Say whether the ``constraint_column`` is between the ``low`` and ``high`` values.\n",
    "\n",
    "        Args:\n",
    "            table_data (pandas.DataFrame):\n",
    "                Table data.\n",
    "\n",
    "        Returns:\n",
    "            pandas.Series:\n",
    "                Whether each row is valid.\n",
    "        \"\"\"\n",
    "        satisfy_low_bound = self._lt(self._get_low_value(table_data),\n",
    "                                     table_data[self.constraint_column])\n",
    "        satisfy_high_bound = self._lt(table_data[self.constraint_column],\n",
    "                                      self._get_high_value(table_data))\n",
    "\n",
    "        return satisfy_low_bound & satisfy_high_bound\n",
    "\n",
    "    def transform(self, table_data):\n",
    "        \"\"\"Transform the table data.\n",
    "\n",
    "        The transformation consists of scaling the ``constraint_column``\n",
    "        (``(column-low)/(high-low) * cnt + small_cnt``) and then applying\n",
    "        a logit function to the scaled version of the column.\n",
    "\n",
    "        Args:\n",
    "            table_data (pandas.DataFrame):\n",
    "                Table data.\n",
    "\n",
    "        Returns:\n",
    "            pandas.DataFrame:\n",
    "                Transformed data.\n",
    "        \"\"\"\n",
    "        table_data = table_data.copy()\n",
    "        low = self._get_low_value(table_data)\n",
    "        high = self._get_high_value(table_data)\n",
    "\n",
    "        data = (table_data[self.constraint_column] - low) / (high - low)\n",
    "        data = data * 0.95 + 0.025\n",
    "        data = np.log(data / (1.0 - data))\n",
    "\n",
    "        table_data[self._transformed_column] = data\n",
    "        table_data = table_data.drop(self.constraint_column, axis=1)\n",
    "\n",
    "        return table_data\n",
    "\n",
    "    def reverse_transform(self, table_data):\n",
    "        \"\"\"Reverse transform the table data.\n",
    "\n",
    "        The reverse transform consists of applying a sigmoid to the transformed\n",
    "        ``constraint_column`` and then scaling it back to the original space\n",
    "        ( ``(column - cnt) * (high - low) / cnt + low`` ).\n",
    "\n",
    "        Args:\n",
    "            table_data (pandas.DataFrame):\n",
    "                Table data.\n",
    "\n",
    "        Returns:\n",
    "            pandas.DataFrame:\n",
    "                Transformed data.\n",
    "        \"\"\"\n",
    "        table_data = table_data.copy()\n",
    "        low = self._get_low_value(table_data)\n",
    "        high = self._get_high_value(table_data)\n",
    "        data = table_data[self._transformed_column]\n",
    "\n",
    "        data = 1 / (1 + np.exp(-data))\n",
    "        data = (data - 0.025) / 0.95\n",
    "        data = data * (high - low) + low\n",
    "        data = data.clip(low, high)\n",
    "\n",
    "        table_data[self.constraint_column] = data\n",
    "        table_data = table_data.drop(self._transformed_column, axis=1)\n",
    "\n",
    "        return table_data"
   ]
  },
  {
   "cell_type": "code",
   "execution_count": 389,
   "metadata": {
    "ExecuteTime": {
     "end_time": "2021-07-30T09:46:33.775839Z",
     "start_time": "2021-07-30T09:46:33.765839Z"
    },
    "code_folding": []
   },
   "outputs": [],
   "source": [
    "# Important constraint to ensure boxes are possible shapes\n",
    "\n",
    "x_constraint = GreaterThan(low='x1',\n",
    "                           high='x2',\n",
    "                           handling_strategy='reject_sampling')\n",
    "\n",
    "y_constraint = GreaterThan(low='y1',\n",
    "                           high='y2',\n",
    "                           handling_strategy='reject_sampling')\n",
    "\n",
    "# observation below warranted seperate constraints for models\n",
    "constraints_tvae = [x_constraint, y_constraint]\n",
    "\n",
    "# Ensures valid values for box coordinates with 'transform' handling\n",
    "reasonable_x1 = Between(column='x1',\n",
    "                        low=min(dfunmod2.x1),\n",
    "                        high=max(dfunmod2.x1),\n",
    "                        handling_strategy='transform')\n",
    "\n",
    "reasonable_y1 = Between(column='y1',\n",
    "                        low=min(dfunmod2.y1),\n",
    "                        high=max(dfunmod2.y1),\n",
    "                        handling_strategy='transform')\n",
    "\n",
    "reasonable_x2 = Between(column='x2',\n",
    "                        low=min(dfunmod2.x2),\n",
    "                        high=max(dfunmod2.x2),\n",
    "                        handling_strategy='transform')\n",
    "\n",
    "reasonable_y2 = Between(column='y2',\n",
    "                        low=min(dfunmod2.y2),\n",
    "                        high=max(dfunmod2.y2),\n",
    "                        handling_strategy='transform')\n",
    "\n",
    "constraints_copula = [\n",
    "    x_constraint, y_constraint, reasonable_x1, reasonable_y1, reasonable_x2,\n",
    "    reasonable_y2\n",
    "]\n",
    "\n",
    "# Ensures valid values for box coordinates with 'reject_sampling' handling\n",
    "reasonable_x1t = Between(column='x1',\n",
    "                         low=min(dfunmod2.x1),\n",
    "                         high=max(dfunmod2.x1),\n",
    "                         handling_strategy='reject_sampling')\n",
    "\n",
    "reasonable_y1t = Between(column='y1',\n",
    "                         low=min(dfunmod2.y1),\n",
    "                         high=max(dfunmod2.y1),\n",
    "                         handling_strategy='reject_sampling')\n",
    "\n",
    "reasonable_x2t = Between(column='x2',\n",
    "                         low=min(dfunmod2.x2),\n",
    "                         high=max(dfunmod2.x2),\n",
    "                         handling_strategy='reject_sampling')\n",
    "\n",
    "reasonable_y2t = Between(column='y2',\n",
    "                         low=min(dfunmod2.y2),\n",
    "                         high=max(dfunmod2.y2),\n",
    "                         handling_strategy='reject_sampling')\n",
    "constraints_ctgan = [\n",
    "    x_constraint, y_constraint, reasonable_x1t, reasonable_y1t, reasonable_x2t,\n",
    "    reasonable_y2t\n",
    "]\n",
    "\n",
    "# pre-computes transformations to help model performance and accuracy\n",
    "field_transformer = {\n",
    "    'sensors.__t': 'categorical',\n",
    "    'sensors.video.classes': 'categorical',\n",
    "    'sensors.video.scores': 'float',\n",
    "    'x1': 'float',\n",
    "    'y1': 'float',\n",
    "    'x2': 'float',\n",
    "    'y2': 'float'\n",
    "}"
   ]
  },
  {
   "cell_type": "markdown",
   "metadata": {},
   "source": [
    "**Observation:**\n",
    "\n",
    "According to Detection Metrics,  All models perform best when there are no 'reasonable_' constraints. However, the Gaussian copula and copula GAN have values for the box coordinates that are excessively impossible (x2=24000). This is likely due to the x2 column having values >1 and the models creating gaussian noise. \n",
    "\n",
    "The 'reasonable_' contraints which are used to limit x and y values between 0 and 1 for some reason decrease the detection score tremendously despite the value limits corresponding better. Using the 'transform' strategy performs better than the 'reject_sampling' strategy but both show these models do not model this data as well as first imagined. The CTGAN and TVAE however are unphased by the constraint and retain there performance."
   ]
  },
  {
   "cell_type": "markdown",
   "metadata": {},
   "source": [
    "#### GaussianCopula <a class=\"anchor\" id=\"gaussian_fit\"></a>"
   ]
  },
  {
   "cell_type": "code",
   "execution_count": 390,
   "metadata": {
    "ExecuteTime": {
     "end_time": "2021-07-30T09:46:38.898844Z",
     "start_time": "2021-07-30T09:46:35.292451Z"
    }
   },
   "outputs": [
    {
     "name": "stderr",
     "output_type": "stream",
     "text": [
      "2021-07-30 11:46:35,294 : MainThread : INFO : Fitting table None metadata\n",
      "2021-07-30 11:46:35,297 : MainThread : INFO : Anonymizing table None\n",
      "2021-07-30 11:46:35,298 : MainThread : INFO : Fitting constraints for table None\n",
      "2021-07-30 11:46:35,302 : MainThread : INFO : Fitting GaussianMultivariate()\n",
      "2021-07-30 11:46:35,932 : MainThread : INFO : Fitting GaussianMultivariate()\n",
      "2021-07-30 11:46:36,418 : MainThread : INFO : Fitting HyperTransformer for table None\n",
      "2021-07-30 11:46:36,438 : MainThread : INFO : Fitting GaussianMultivariate(distribution=\"{'sensors.__t': Univariate, 'sensors.video.classes': Univariate, 'sensors.video.scores': Univariate, 'x1#0.3594801127910614#0.5845882296562195': Univariate, 'y1#-0.01097947359085083#0.7112205028533936': Univariate, 'x2#0.6153400540351868#1.0093133449554443': Univariate, 'y2#0.20476023852825165#0.9378321170806885': Univariate}\")\n"
     ]
    }
   ],
   "source": [
    "gaussian1 = GaussianCopula(constraints=constraints_copula,\n",
    "                           field_transformers=field_transformer)\n",
    "gaussian1.fit(dfunmod2)"
   ]
  },
  {
   "cell_type": "code",
   "execution_count": 391,
   "metadata": {
    "ExecuteTime": {
     "end_time": "2021-07-30T09:46:39.026847Z",
     "start_time": "2021-07-30T09:46:38.901851Z"
    },
    "scrolled": true
   },
   "outputs": [
    {
     "name": "stderr",
     "output_type": "stream",
     "text": [
      "2021-07-30 11:46:38,960 : MainThread : INFO : 111 valid rows remaining. Resampling 124 rows\n"
     ]
    },
    {
     "data": {
      "text/html": [
       "<div>\n",
       "<style scoped>\n",
       "    .dataframe tbody tr th:only-of-type {\n",
       "        vertical-align: middle;\n",
       "    }\n",
       "\n",
       "    .dataframe tbody tr th {\n",
       "        vertical-align: top;\n",
       "    }\n",
       "\n",
       "    .dataframe thead th {\n",
       "        text-align: right;\n",
       "    }\n",
       "</style>\n",
       "<table border=\"1\" class=\"dataframe\">\n",
       "  <thead>\n",
       "    <tr style=\"text-align: right;\">\n",
       "      <th></th>\n",
       "      <th>sensors.video.scores</th>\n",
       "      <th>x1</th>\n",
       "      <th>y1</th>\n",
       "      <th>x2</th>\n",
       "      <th>y2</th>\n",
       "    </tr>\n",
       "  </thead>\n",
       "  <tbody>\n",
       "    <tr>\n",
       "      <th>count</th>\n",
       "      <td>1000.000000</td>\n",
       "      <td>1000.000000</td>\n",
       "      <td>1000.000000</td>\n",
       "      <td>1000.000000</td>\n",
       "      <td>1000.000000</td>\n",
       "    </tr>\n",
       "    <tr>\n",
       "      <th>mean</th>\n",
       "      <td>0.598005</td>\n",
       "      <td>0.487433</td>\n",
       "      <td>0.209435</td>\n",
       "      <td>0.749672</td>\n",
       "      <td>0.607617</td>\n",
       "    </tr>\n",
       "    <tr>\n",
       "      <th>std</th>\n",
       "      <td>0.065746</td>\n",
       "      <td>0.070768</td>\n",
       "      <td>0.261736</td>\n",
       "      <td>0.155672</td>\n",
       "      <td>0.243911</td>\n",
       "    </tr>\n",
       "    <tr>\n",
       "      <th>min</th>\n",
       "      <td>0.511719</td>\n",
       "      <td>0.359844</td>\n",
       "      <td>-0.010979</td>\n",
       "      <td>0.615345</td>\n",
       "      <td>0.204760</td>\n",
       "    </tr>\n",
       "    <tr>\n",
       "      <th>25%</th>\n",
       "      <td>0.531892</td>\n",
       "      <td>0.421454</td>\n",
       "      <td>-0.001769</td>\n",
       "      <td>0.625442</td>\n",
       "      <td>0.390292</td>\n",
       "    </tr>\n",
       "    <tr>\n",
       "      <th>50%</th>\n",
       "      <td>0.594742</td>\n",
       "      <td>0.498161</td>\n",
       "      <td>0.063782</td>\n",
       "      <td>0.661615</td>\n",
       "      <td>0.649044</td>\n",
       "    </tr>\n",
       "    <tr>\n",
       "      <th>75%</th>\n",
       "      <td>0.661271</td>\n",
       "      <td>0.554369</td>\n",
       "      <td>0.416413</td>\n",
       "      <td>0.911123</td>\n",
       "      <td>0.831492</td>\n",
       "    </tr>\n",
       "    <tr>\n",
       "      <th>max</th>\n",
       "      <td>0.699217</td>\n",
       "      <td>0.583969</td>\n",
       "      <td>0.711185</td>\n",
       "      <td>1.009313</td>\n",
       "      <td>0.937832</td>\n",
       "    </tr>\n",
       "  </tbody>\n",
       "</table>\n",
       "</div>"
      ],
      "text/plain": [
       "       sensors.video.scores           x1           y1           x2  \\\n",
       "count           1000.000000  1000.000000  1000.000000  1000.000000   \n",
       "mean               0.598005     0.487433     0.209435     0.749672   \n",
       "std                0.065746     0.070768     0.261736     0.155672   \n",
       "min                0.511719     0.359844    -0.010979     0.615345   \n",
       "25%                0.531892     0.421454    -0.001769     0.625442   \n",
       "50%                0.594742     0.498161     0.063782     0.661615   \n",
       "75%                0.661271     0.554369     0.416413     0.911123   \n",
       "max                0.699217     0.583969     0.711185     1.009313   \n",
       "\n",
       "                y2  \n",
       "count  1000.000000  \n",
       "mean      0.607617  \n",
       "std       0.243911  \n",
       "min       0.204760  \n",
       "25%       0.390292  \n",
       "50%       0.649044  \n",
       "75%       0.831492  \n",
       "max       0.937832  "
      ]
     },
     "execution_count": 391,
     "metadata": {},
     "output_type": "execute_result"
    }
   ],
   "source": [
    "GaussData = gaussian1.sample(1000)\n",
    "GaussData.describe()"
   ]
  },
  {
   "cell_type": "markdown",
   "metadata": {},
   "source": [
    "#### CTGAN <a class=\"anchor\" id=\"ctgan_fit\"></a>"
   ]
  },
  {
   "cell_type": "code",
   "execution_count": 392,
   "metadata": {
    "ExecuteTime": {
     "end_time": "2021-07-30T09:47:05.182926Z",
     "start_time": "2021-07-30T09:46:39.028849Z"
    }
   },
   "outputs": [
    {
     "name": "stderr",
     "output_type": "stream",
     "text": [
      "2021-07-30 11:46:39,030 : MainThread : INFO : Fitting table None metadata\n",
      "2021-07-30 11:46:39,033 : MainThread : INFO : Anonymizing table None\n",
      "2021-07-30 11:46:39,034 : MainThread : INFO : Fitting constraints for table None\n",
      "2021-07-30 11:46:39,038 : MainThread : INFO : Fitting GaussianMultivariate()\n",
      "2021-07-30 11:46:39,689 : MainThread : INFO : Fitting GaussianMultivariate()\n",
      "2021-07-30 11:46:40,238 : MainThread : INFO : Fitting HyperTransformer for table None\n"
     ]
    }
   ],
   "source": [
    "ctgan1 = CTGAN(constraints=constraints_ctgan,\n",
    "               field_transformers=field_transformer)\n",
    "ctgan1.fit(dfunmod2)"
   ]
  },
  {
   "cell_type": "code",
   "execution_count": 393,
   "metadata": {
    "ExecuteTime": {
     "end_time": "2021-07-30T09:47:05.501923Z",
     "start_time": "2021-07-30T09:47:05.185929Z"
    }
   },
   "outputs": [
    {
     "name": "stderr",
     "output_type": "stream",
     "text": [
      "2021-07-30 11:47:05,261 : MainThread : INFO : 802 valid rows remaining. Resampling 4034 rows\n",
      "2021-07-30 11:47:05,425 : MainThread : INFO : 65 valid rows remaining. Resampling 349 rows\n"
     ]
    },
    {
     "data": {
      "text/html": [
       "<div>\n",
       "<style scoped>\n",
       "    .dataframe tbody tr th:only-of-type {\n",
       "        vertical-align: middle;\n",
       "    }\n",
       "\n",
       "    .dataframe tbody tr th {\n",
       "        vertical-align: top;\n",
       "    }\n",
       "\n",
       "    .dataframe thead th {\n",
       "        text-align: right;\n",
       "    }\n",
       "</style>\n",
       "<table border=\"1\" class=\"dataframe\">\n",
       "  <thead>\n",
       "    <tr style=\"text-align: right;\">\n",
       "      <th></th>\n",
       "      <th>sensors.video.scores</th>\n",
       "      <th>x1</th>\n",
       "      <th>y1</th>\n",
       "      <th>x2</th>\n",
       "      <th>y2</th>\n",
       "    </tr>\n",
       "  </thead>\n",
       "  <tbody>\n",
       "    <tr>\n",
       "      <th>count</th>\n",
       "      <td>1000.000000</td>\n",
       "      <td>1000.000000</td>\n",
       "      <td>1000.000000</td>\n",
       "      <td>1000.000000</td>\n",
       "      <td>1000.000000</td>\n",
       "    </tr>\n",
       "    <tr>\n",
       "      <th>mean</th>\n",
       "      <td>0.616366</td>\n",
       "      <td>0.499219</td>\n",
       "      <td>0.236487</td>\n",
       "      <td>0.743995</td>\n",
       "      <td>0.602024</td>\n",
       "    </tr>\n",
       "    <tr>\n",
       "      <th>std</th>\n",
       "      <td>0.066483</td>\n",
       "      <td>0.057033</td>\n",
       "      <td>0.185573</td>\n",
       "      <td>0.092247</td>\n",
       "      <td>0.187850</td>\n",
       "    </tr>\n",
       "    <tr>\n",
       "      <th>min</th>\n",
       "      <td>0.463508</td>\n",
       "      <td>0.359947</td>\n",
       "      <td>-0.010307</td>\n",
       "      <td>0.617034</td>\n",
       "      <td>0.205268</td>\n",
       "    </tr>\n",
       "    <tr>\n",
       "      <th>25%</th>\n",
       "      <td>0.563205</td>\n",
       "      <td>0.458329</td>\n",
       "      <td>0.086616</td>\n",
       "      <td>0.678681</td>\n",
       "      <td>0.460336</td>\n",
       "    </tr>\n",
       "    <tr>\n",
       "      <th>50%</th>\n",
       "      <td>0.610630</td>\n",
       "      <td>0.505768</td>\n",
       "      <td>0.187865</td>\n",
       "      <td>0.725397</td>\n",
       "      <td>0.603013</td>\n",
       "    </tr>\n",
       "    <tr>\n",
       "      <th>75%</th>\n",
       "      <td>0.672305</td>\n",
       "      <td>0.548716</td>\n",
       "      <td>0.373819</td>\n",
       "      <td>0.777574</td>\n",
       "      <td>0.740017</td>\n",
       "    </tr>\n",
       "    <tr>\n",
       "      <th>max</th>\n",
       "      <td>0.759443</td>\n",
       "      <td>0.584345</td>\n",
       "      <td>0.707206</td>\n",
       "      <td>1.008064</td>\n",
       "      <td>0.936958</td>\n",
       "    </tr>\n",
       "  </tbody>\n",
       "</table>\n",
       "</div>"
      ],
      "text/plain": [
       "       sensors.video.scores           x1           y1           x2  \\\n",
       "count           1000.000000  1000.000000  1000.000000  1000.000000   \n",
       "mean               0.616366     0.499219     0.236487     0.743995   \n",
       "std                0.066483     0.057033     0.185573     0.092247   \n",
       "min                0.463508     0.359947    -0.010307     0.617034   \n",
       "25%                0.563205     0.458329     0.086616     0.678681   \n",
       "50%                0.610630     0.505768     0.187865     0.725397   \n",
       "75%                0.672305     0.548716     0.373819     0.777574   \n",
       "max                0.759443     0.584345     0.707206     1.008064   \n",
       "\n",
       "                y2  \n",
       "count  1000.000000  \n",
       "mean      0.602024  \n",
       "std       0.187850  \n",
       "min       0.205268  \n",
       "25%       0.460336  \n",
       "50%       0.603013  \n",
       "75%       0.740017  \n",
       "max       0.936958  "
      ]
     },
     "execution_count": 393,
     "metadata": {},
     "output_type": "execute_result"
    }
   ],
   "source": [
    "ctData = ctgan1.sample(1000)\n",
    "ctData.describe()"
   ]
  },
  {
   "cell_type": "markdown",
   "metadata": {},
   "source": [
    "#### Copula <a class=\"anchor\" id=\"copula_fit\"></a>"
   ]
  },
  {
   "cell_type": "code",
   "execution_count": 394,
   "metadata": {
    "ExecuteTime": {
     "end_time": "2021-07-30T09:47:33.726102Z",
     "start_time": "2021-07-30T09:47:05.503925Z"
    }
   },
   "outputs": [
    {
     "name": "stderr",
     "output_type": "stream",
     "text": [
      "2021-07-30 11:47:05,505 : MainThread : INFO : Fitting table None metadata\n",
      "2021-07-30 11:47:05,508 : MainThread : INFO : Anonymizing table None\n",
      "2021-07-30 11:47:05,509 : MainThread : INFO : Fitting constraints for table None\n",
      "2021-07-30 11:47:05,514 : MainThread : INFO : Fitting GaussianMultivariate()\n",
      "2021-07-30 11:47:06,162 : MainThread : INFO : Fitting GaussianMultivariate()\n",
      "2021-07-30 11:47:06,660 : MainThread : INFO : Fitting HyperTransformer for table None\n"
     ]
    }
   ],
   "source": [
    "copula1 = CopulaGAN(constraints=constraints_copula,\n",
    "                    field_transformers=field_transformer)\n",
    "copula1.fit(dfunmod2)"
   ]
  },
  {
   "cell_type": "code",
   "execution_count": 395,
   "metadata": {
    "ExecuteTime": {
     "end_time": "2021-07-30T09:47:33.933729Z",
     "start_time": "2021-07-30T09:47:33.728104Z"
    }
   },
   "outputs": [
    {
     "name": "stderr",
     "output_type": "stream",
     "text": [
      "2021-07-30 11:47:33,821 : MainThread : INFO : 361 valid rows remaining. Resampling 564 rows\n"
     ]
    },
    {
     "data": {
      "text/html": [
       "<div>\n",
       "<style scoped>\n",
       "    .dataframe tbody tr th:only-of-type {\n",
       "        vertical-align: middle;\n",
       "    }\n",
       "\n",
       "    .dataframe tbody tr th {\n",
       "        vertical-align: top;\n",
       "    }\n",
       "\n",
       "    .dataframe thead th {\n",
       "        text-align: right;\n",
       "    }\n",
       "</style>\n",
       "<table border=\"1\" class=\"dataframe\">\n",
       "  <thead>\n",
       "    <tr style=\"text-align: right;\">\n",
       "      <th></th>\n",
       "      <th>sensors.video.scores</th>\n",
       "      <th>x1</th>\n",
       "      <th>y1</th>\n",
       "      <th>x2</th>\n",
       "      <th>y2</th>\n",
       "    </tr>\n",
       "  </thead>\n",
       "  <tbody>\n",
       "    <tr>\n",
       "      <th>count</th>\n",
       "      <td>1000.000000</td>\n",
       "      <td>1000.000000</td>\n",
       "      <td>1000.000000</td>\n",
       "      <td>1000.000000</td>\n",
       "      <td>1000.000000</td>\n",
       "    </tr>\n",
       "    <tr>\n",
       "      <th>mean</th>\n",
       "      <td>0.560314</td>\n",
       "      <td>0.533234</td>\n",
       "      <td>0.270570</td>\n",
       "      <td>0.861153</td>\n",
       "      <td>0.642655</td>\n",
       "    </tr>\n",
       "    <tr>\n",
       "      <th>std</th>\n",
       "      <td>0.058003</td>\n",
       "      <td>0.066652</td>\n",
       "      <td>0.288610</td>\n",
       "      <td>0.157434</td>\n",
       "      <td>0.252210</td>\n",
       "    </tr>\n",
       "    <tr>\n",
       "      <th>min</th>\n",
       "      <td>0.511719</td>\n",
       "      <td>0.359517</td>\n",
       "      <td>-0.010979</td>\n",
       "      <td>0.615340</td>\n",
       "      <td>0.204760</td>\n",
       "    </tr>\n",
       "    <tr>\n",
       "      <th>25%</th>\n",
       "      <td>0.514147</td>\n",
       "      <td>0.504320</td>\n",
       "      <td>0.001883</td>\n",
       "      <td>0.683799</td>\n",
       "      <td>0.427665</td>\n",
       "    </tr>\n",
       "    <tr>\n",
       "      <th>50%</th>\n",
       "      <td>0.531182</td>\n",
       "      <td>0.569232</td>\n",
       "      <td>0.137502</td>\n",
       "      <td>0.942094</td>\n",
       "      <td>0.702770</td>\n",
       "    </tr>\n",
       "    <tr>\n",
       "      <th>75%</th>\n",
       "      <td>0.594432</td>\n",
       "      <td>0.581034</td>\n",
       "      <td>0.611895</td>\n",
       "      <td>1.009313</td>\n",
       "      <td>0.879038</td>\n",
       "    </tr>\n",
       "    <tr>\n",
       "      <th>max</th>\n",
       "      <td>0.699219</td>\n",
       "      <td>0.584588</td>\n",
       "      <td>0.711221</td>\n",
       "      <td>1.009313</td>\n",
       "      <td>0.937832</td>\n",
       "    </tr>\n",
       "  </tbody>\n",
       "</table>\n",
       "</div>"
      ],
      "text/plain": [
       "       sensors.video.scores           x1           y1           x2  \\\n",
       "count           1000.000000  1000.000000  1000.000000  1000.000000   \n",
       "mean               0.560314     0.533234     0.270570     0.861153   \n",
       "std                0.058003     0.066652     0.288610     0.157434   \n",
       "min                0.511719     0.359517    -0.010979     0.615340   \n",
       "25%                0.514147     0.504320     0.001883     0.683799   \n",
       "50%                0.531182     0.569232     0.137502     0.942094   \n",
       "75%                0.594432     0.581034     0.611895     1.009313   \n",
       "max                0.699219     0.584588     0.711221     1.009313   \n",
       "\n",
       "                y2  \n",
       "count  1000.000000  \n",
       "mean      0.642655  \n",
       "std       0.252210  \n",
       "min       0.204760  \n",
       "25%       0.427665  \n",
       "50%       0.702770  \n",
       "75%       0.879038  \n",
       "max       0.937832  "
      ]
     },
     "execution_count": 395,
     "metadata": {},
     "output_type": "execute_result"
    }
   ],
   "source": [
    "cData = copula1.sample(1000)\n",
    "cData.describe()"
   ]
  },
  {
   "cell_type": "markdown",
   "metadata": {},
   "source": [
    "#### TVAE<a class=\"anchor\" id=\"tvae_fit\"></a>"
   ]
  },
  {
   "cell_type": "code",
   "execution_count": 396,
   "metadata": {
    "ExecuteTime": {
     "end_time": "2021-07-30T09:47:37.535448Z",
     "start_time": "2021-07-30T09:47:33.935731Z"
    }
   },
   "outputs": [
    {
     "name": "stderr",
     "output_type": "stream",
     "text": [
      "2021-07-30 11:47:33,937 : MainThread : INFO : Fitting table None metadata\n",
      "2021-07-30 11:47:33,940 : MainThread : INFO : Anonymizing table None\n",
      "2021-07-30 11:47:33,941 : MainThread : INFO : Fitting constraints for table None\n",
      "2021-07-30 11:47:33,946 : MainThread : INFO : Fitting GaussianMultivariate()\n",
      "2021-07-30 11:47:34,526 : MainThread : INFO : Fitting GaussianMultivariate()\n",
      "2021-07-30 11:47:35,058 : MainThread : INFO : Fitting HyperTransformer for table None\n"
     ]
    }
   ],
   "source": [
    "tvae1 = TVAE(constraints=constraints_tvae,\n",
    "             field_transformers=field_transformer)\n",
    "tvae1.fit(dfunmod2)"
   ]
  },
  {
   "cell_type": "code",
   "execution_count": 397,
   "metadata": {
    "ExecuteTime": {
     "end_time": "2021-07-30T09:47:37.679449Z",
     "start_time": "2021-07-30T09:47:37.537452Z"
    }
   },
   "outputs": [
    {
     "name": "stderr",
     "output_type": "stream",
     "text": [
      "2021-07-30 11:47:37,578 : MainThread : INFO : 74 valid rows remaining. Resampling 79 rows\n",
      "2021-07-30 11:47:37,619 : MainThread : INFO : 1 valid rows remaining. Resampling 1 rows\n"
     ]
    },
    {
     "data": {
      "text/html": [
       "<div>\n",
       "<style scoped>\n",
       "    .dataframe tbody tr th:only-of-type {\n",
       "        vertical-align: middle;\n",
       "    }\n",
       "\n",
       "    .dataframe tbody tr th {\n",
       "        vertical-align: top;\n",
       "    }\n",
       "\n",
       "    .dataframe thead th {\n",
       "        text-align: right;\n",
       "    }\n",
       "</style>\n",
       "<table border=\"1\" class=\"dataframe\">\n",
       "  <thead>\n",
       "    <tr style=\"text-align: right;\">\n",
       "      <th></th>\n",
       "      <th>sensors.video.scores</th>\n",
       "      <th>x1</th>\n",
       "      <th>y1</th>\n",
       "      <th>x2</th>\n",
       "      <th>y2</th>\n",
       "    </tr>\n",
       "  </thead>\n",
       "  <tbody>\n",
       "    <tr>\n",
       "      <th>count</th>\n",
       "      <td>1000.000000</td>\n",
       "      <td>1000.000000</td>\n",
       "      <td>1000.000000</td>\n",
       "      <td>1000.000000</td>\n",
       "      <td>1000.000000</td>\n",
       "    </tr>\n",
       "    <tr>\n",
       "      <th>mean</th>\n",
       "      <td>0.595910</td>\n",
       "      <td>0.476956</td>\n",
       "      <td>0.220424</td>\n",
       "      <td>0.778181</td>\n",
       "      <td>0.578875</td>\n",
       "    </tr>\n",
       "    <tr>\n",
       "      <th>std</th>\n",
       "      <td>0.059749</td>\n",
       "      <td>0.073576</td>\n",
       "      <td>0.260459</td>\n",
       "      <td>0.163991</td>\n",
       "      <td>0.234011</td>\n",
       "    </tr>\n",
       "    <tr>\n",
       "      <th>min</th>\n",
       "      <td>0.484208</td>\n",
       "      <td>0.310769</td>\n",
       "      <td>-0.139647</td>\n",
       "      <td>0.603591</td>\n",
       "      <td>0.135025</td>\n",
       "    </tr>\n",
       "    <tr>\n",
       "      <th>25%</th>\n",
       "      <td>0.540437</td>\n",
       "      <td>0.401942</td>\n",
       "      <td>0.022838</td>\n",
       "      <td>0.648984</td>\n",
       "      <td>0.321999</td>\n",
       "    </tr>\n",
       "    <tr>\n",
       "      <th>50%</th>\n",
       "      <td>0.585267</td>\n",
       "      <td>0.483192</td>\n",
       "      <td>0.083010</td>\n",
       "      <td>0.665552</td>\n",
       "      <td>0.667200</td>\n",
       "    </tr>\n",
       "    <tr>\n",
       "      <th>75%</th>\n",
       "      <td>0.651968</td>\n",
       "      <td>0.546282</td>\n",
       "      <td>0.498807</td>\n",
       "      <td>0.984672</td>\n",
       "      <td>0.766612</td>\n",
       "    </tr>\n",
       "    <tr>\n",
       "      <th>max</th>\n",
       "      <td>0.715394</td>\n",
       "      <td>0.622758</td>\n",
       "      <td>0.835218</td>\n",
       "      <td>1.026390</td>\n",
       "      <td>1.077041</td>\n",
       "    </tr>\n",
       "  </tbody>\n",
       "</table>\n",
       "</div>"
      ],
      "text/plain": [
       "       sensors.video.scores           x1           y1           x2  \\\n",
       "count           1000.000000  1000.000000  1000.000000  1000.000000   \n",
       "mean               0.595910     0.476956     0.220424     0.778181   \n",
       "std                0.059749     0.073576     0.260459     0.163991   \n",
       "min                0.484208     0.310769    -0.139647     0.603591   \n",
       "25%                0.540437     0.401942     0.022838     0.648984   \n",
       "50%                0.585267     0.483192     0.083010     0.665552   \n",
       "75%                0.651968     0.546282     0.498807     0.984672   \n",
       "max                0.715394     0.622758     0.835218     1.026390   \n",
       "\n",
       "                y2  \n",
       "count  1000.000000  \n",
       "mean      0.578875  \n",
       "std       0.234011  \n",
       "min       0.135025  \n",
       "25%       0.321999  \n",
       "50%       0.667200  \n",
       "75%       0.766612  \n",
       "max       1.077041  "
      ]
     },
     "execution_count": 397,
     "metadata": {},
     "output_type": "execute_result"
    }
   ],
   "source": [
    "tData = tvae1.sample(1000)\n",
    "tData.describe()"
   ]
  },
  {
   "cell_type": "markdown",
   "metadata": {},
   "source": [
    "### Evaluation <a class=\"anchor\" id=\"eval2\"></a>"
   ]
  },
  {
   "cell_type": "markdown",
   "metadata": {},
   "source": [
    "#### Gaussian <a class=\"anchor\" id=\"guassian_eval\"></a>"
   ]
  },
  {
   "cell_type": "code",
   "execution_count": 398,
   "metadata": {
    "ExecuteTime": {
     "end_time": "2021-07-30T09:47:38.492583Z",
     "start_time": "2021-07-30T09:47:37.681452Z"
    },
    "scrolled": true
   },
   "outputs": [
    {
     "data": {
      "text/plain": [
       "0.5334846458525276"
      ]
     },
     "execution_count": 398,
     "metadata": {},
     "output_type": "execute_result"
    }
   ],
   "source": [
    "evaluate(GaussData, dfunmod2)"
   ]
  },
  {
   "cell_type": "code",
   "execution_count": 399,
   "metadata": {
    "ExecuteTime": {
     "end_time": "2021-07-30T09:47:39.512235Z",
     "start_time": "2021-07-30T09:47:38.495587Z"
    },
    "scrolled": false
   },
   "outputs": [
    {
     "data": {
      "text/html": [
       "<div>\n",
       "<style scoped>\n",
       "    .dataframe tbody tr th:only-of-type {\n",
       "        vertical-align: middle;\n",
       "    }\n",
       "\n",
       "    .dataframe tbody tr th {\n",
       "        vertical-align: top;\n",
       "    }\n",
       "\n",
       "    .dataframe thead th {\n",
       "        text-align: right;\n",
       "    }\n",
       "</style>\n",
       "<table border=\"1\" class=\"dataframe\">\n",
       "  <thead>\n",
       "    <tr style=\"text-align: right;\">\n",
       "      <th></th>\n",
       "      <th>metric</th>\n",
       "      <th>name</th>\n",
       "      <th>raw_score</th>\n",
       "      <th>normalized_score</th>\n",
       "      <th>min_value</th>\n",
       "      <th>max_value</th>\n",
       "      <th>goal</th>\n",
       "    </tr>\n",
       "  </thead>\n",
       "  <tbody>\n",
       "    <tr>\n",
       "      <th>0</th>\n",
       "      <td>BNLogLikelihood</td>\n",
       "      <td>BayesianNetwork Log Likelihood</td>\n",
       "      <td>-1.491015</td>\n",
       "      <td>2.251441e-01</td>\n",
       "      <td>-inf</td>\n",
       "      <td>0.0</td>\n",
       "      <td>MAXIMIZE</td>\n",
       "    </tr>\n",
       "    <tr>\n",
       "      <th>1</th>\n",
       "      <td>LogisticDetection</td>\n",
       "      <td>LogisticRegression Detection</td>\n",
       "      <td>0.828104</td>\n",
       "      <td>8.281044e-01</td>\n",
       "      <td>0.0</td>\n",
       "      <td>1.0</td>\n",
       "      <td>MAXIMIZE</td>\n",
       "    </tr>\n",
       "    <tr>\n",
       "      <th>2</th>\n",
       "      <td>SVCDetection</td>\n",
       "      <td>SVC Detection</td>\n",
       "      <td>0.109635</td>\n",
       "      <td>1.096350e-01</td>\n",
       "      <td>0.0</td>\n",
       "      <td>1.0</td>\n",
       "      <td>MAXIMIZE</td>\n",
       "    </tr>\n",
       "    <tr>\n",
       "      <th>11</th>\n",
       "      <td>GMLogLikelihood</td>\n",
       "      <td>GaussianMixture Log Likelihood</td>\n",
       "      <td>-662.334367</td>\n",
       "      <td>2.248221e-288</td>\n",
       "      <td>-inf</td>\n",
       "      <td>inf</td>\n",
       "      <td>MAXIMIZE</td>\n",
       "    </tr>\n",
       "    <tr>\n",
       "      <th>12</th>\n",
       "      <td>CSTest</td>\n",
       "      <td>Chi-Squared</td>\n",
       "      <td>0.999961</td>\n",
       "      <td>9.999613e-01</td>\n",
       "      <td>0.0</td>\n",
       "      <td>1.0</td>\n",
       "      <td>MAXIMIZE</td>\n",
       "    </tr>\n",
       "    <tr>\n",
       "      <th>13</th>\n",
       "      <td>KSTest</td>\n",
       "      <td>Inverted Kolmogorov-Smirnov D statistic</td>\n",
       "      <td>0.807200</td>\n",
       "      <td>8.072000e-01</td>\n",
       "      <td>0.0</td>\n",
       "      <td>1.0</td>\n",
       "      <td>MAXIMIZE</td>\n",
       "    </tr>\n",
       "    <tr>\n",
       "      <th>14</th>\n",
       "      <td>KSTestExtended</td>\n",
       "      <td>Inverted Kolmogorov-Smirnov D statistic</td>\n",
       "      <td>0.852429</td>\n",
       "      <td>8.524286e-01</td>\n",
       "      <td>0.0</td>\n",
       "      <td>1.0</td>\n",
       "      <td>MAXIMIZE</td>\n",
       "    </tr>\n",
       "    <tr>\n",
       "      <th>27</th>\n",
       "      <td>ContinuousKLDivergence</td>\n",
       "      <td>Continuous Kullback–Leibler Divergence</td>\n",
       "      <td>0.129989</td>\n",
       "      <td>1.299885e-01</td>\n",
       "      <td>0.0</td>\n",
       "      <td>1.0</td>\n",
       "      <td>MAXIMIZE</td>\n",
       "    </tr>\n",
       "    <tr>\n",
       "      <th>28</th>\n",
       "      <td>DiscreteKLDivergence</td>\n",
       "      <td>Discrete Kullback–Leibler Divergence</td>\n",
       "      <td>0.963726</td>\n",
       "      <td>9.637265e-01</td>\n",
       "      <td>0.0</td>\n",
       "      <td>1.0</td>\n",
       "      <td>MAXIMIZE</td>\n",
       "    </tr>\n",
       "  </tbody>\n",
       "</table>\n",
       "</div>"
      ],
      "text/plain": [
       "                    metric                                     name  \\\n",
       "0          BNLogLikelihood           BayesianNetwork Log Likelihood   \n",
       "1        LogisticDetection             LogisticRegression Detection   \n",
       "2             SVCDetection                            SVC Detection   \n",
       "11         GMLogLikelihood           GaussianMixture Log Likelihood   \n",
       "12                  CSTest                              Chi-Squared   \n",
       "13                  KSTest  Inverted Kolmogorov-Smirnov D statistic   \n",
       "14          KSTestExtended  Inverted Kolmogorov-Smirnov D statistic   \n",
       "27  ContinuousKLDivergence   Continuous Kullback–Leibler Divergence   \n",
       "28    DiscreteKLDivergence     Discrete Kullback–Leibler Divergence   \n",
       "\n",
       "     raw_score  normalized_score  min_value  max_value      goal  \n",
       "0    -1.491015      2.251441e-01       -inf        0.0  MAXIMIZE  \n",
       "1     0.828104      8.281044e-01        0.0        1.0  MAXIMIZE  \n",
       "2     0.109635      1.096350e-01        0.0        1.0  MAXIMIZE  \n",
       "11 -662.334367     2.248221e-288       -inf        inf  MAXIMIZE  \n",
       "12    0.999961      9.999613e-01        0.0        1.0  MAXIMIZE  \n",
       "13    0.807200      8.072000e-01        0.0        1.0  MAXIMIZE  \n",
       "14    0.852429      8.524286e-01        0.0        1.0  MAXIMIZE  \n",
       "27    0.129989      1.299885e-01        0.0        1.0  MAXIMIZE  \n",
       "28    0.963726      9.637265e-01        0.0        1.0  MAXIMIZE  "
      ]
     },
     "execution_count": 399,
     "metadata": {},
     "output_type": "execute_result"
    }
   ],
   "source": [
    "evaluate(GaussData, dfunmod2, aggregate=False)"
   ]
  },
  {
   "cell_type": "markdown",
   "metadata": {},
   "source": [
    "#### CTGAN <a class=\"anchor\" id=\"ctgan_eval\"></a>"
   ]
  },
  {
   "cell_type": "code",
   "execution_count": 400,
   "metadata": {
    "ExecuteTime": {
     "end_time": "2021-07-30T09:47:40.373377Z",
     "start_time": "2021-07-30T09:47:39.516238Z"
    },
    "scrolled": true
   },
   "outputs": [
    {
     "data": {
      "text/plain": [
       "0.4951839151477276"
      ]
     },
     "execution_count": 400,
     "metadata": {},
     "output_type": "execute_result"
    }
   ],
   "source": [
    "evaluate(ctData, dfunmod2)"
   ]
  },
  {
   "cell_type": "code",
   "execution_count": 401,
   "metadata": {
    "ExecuteTime": {
     "end_time": "2021-07-30T09:47:41.137377Z",
     "start_time": "2021-07-30T09:47:40.376378Z"
    },
    "scrolled": true
   },
   "outputs": [
    {
     "data": {
      "text/html": [
       "<div>\n",
       "<style scoped>\n",
       "    .dataframe tbody tr th:only-of-type {\n",
       "        vertical-align: middle;\n",
       "    }\n",
       "\n",
       "    .dataframe tbody tr th {\n",
       "        vertical-align: top;\n",
       "    }\n",
       "\n",
       "    .dataframe thead th {\n",
       "        text-align: right;\n",
       "    }\n",
       "</style>\n",
       "<table border=\"1\" class=\"dataframe\">\n",
       "  <thead>\n",
       "    <tr style=\"text-align: right;\">\n",
       "      <th></th>\n",
       "      <th>metric</th>\n",
       "      <th>name</th>\n",
       "      <th>raw_score</th>\n",
       "      <th>normalized_score</th>\n",
       "      <th>min_value</th>\n",
       "      <th>max_value</th>\n",
       "      <th>goal</th>\n",
       "    </tr>\n",
       "  </thead>\n",
       "  <tbody>\n",
       "    <tr>\n",
       "      <th>0</th>\n",
       "      <td>BNLogLikelihood</td>\n",
       "      <td>BayesianNetwork Log Likelihood</td>\n",
       "      <td>-1.559791</td>\n",
       "      <td>2.101800e-01</td>\n",
       "      <td>-inf</td>\n",
       "      <td>0.0</td>\n",
       "      <td>MAXIMIZE</td>\n",
       "    </tr>\n",
       "    <tr>\n",
       "      <th>1</th>\n",
       "      <td>LogisticDetection</td>\n",
       "      <td>LogisticRegression Detection</td>\n",
       "      <td>0.792263</td>\n",
       "      <td>7.922629e-01</td>\n",
       "      <td>0.0</td>\n",
       "      <td>1.0</td>\n",
       "      <td>MAXIMIZE</td>\n",
       "    </tr>\n",
       "    <tr>\n",
       "      <th>2</th>\n",
       "      <td>SVCDetection</td>\n",
       "      <td>SVC Detection</td>\n",
       "      <td>0.006264</td>\n",
       "      <td>6.264476e-03</td>\n",
       "      <td>0.0</td>\n",
       "      <td>1.0</td>\n",
       "      <td>MAXIMIZE</td>\n",
       "    </tr>\n",
       "    <tr>\n",
       "      <th>11</th>\n",
       "      <td>GMLogLikelihood</td>\n",
       "      <td>GaussianMixture Log Likelihood</td>\n",
       "      <td>-390.216147</td>\n",
       "      <td>3.398447e-170</td>\n",
       "      <td>-inf</td>\n",
       "      <td>inf</td>\n",
       "      <td>MAXIMIZE</td>\n",
       "    </tr>\n",
       "    <tr>\n",
       "      <th>12</th>\n",
       "      <td>CSTest</td>\n",
       "      <td>Chi-Squared</td>\n",
       "      <td>0.999952</td>\n",
       "      <td>9.999521e-01</td>\n",
       "      <td>0.0</td>\n",
       "      <td>1.0</td>\n",
       "      <td>MAXIMIZE</td>\n",
       "    </tr>\n",
       "    <tr>\n",
       "      <th>13</th>\n",
       "      <td>KSTest</td>\n",
       "      <td>Inverted Kolmogorov-Smirnov D statistic</td>\n",
       "      <td>0.719000</td>\n",
       "      <td>7.190000e-01</td>\n",
       "      <td>0.0</td>\n",
       "      <td>1.0</td>\n",
       "      <td>MAXIMIZE</td>\n",
       "    </tr>\n",
       "    <tr>\n",
       "      <th>14</th>\n",
       "      <td>KSTestExtended</td>\n",
       "      <td>Inverted Kolmogorov-Smirnov D statistic</td>\n",
       "      <td>0.785000</td>\n",
       "      <td>7.850000e-01</td>\n",
       "      <td>0.0</td>\n",
       "      <td>1.0</td>\n",
       "      <td>MAXIMIZE</td>\n",
       "    </tr>\n",
       "    <tr>\n",
       "      <th>27</th>\n",
       "      <td>ContinuousKLDivergence</td>\n",
       "      <td>Continuous Kullback–Leibler Divergence</td>\n",
       "      <td>0.097926</td>\n",
       "      <td>9.792568e-02</td>\n",
       "      <td>0.0</td>\n",
       "      <td>1.0</td>\n",
       "      <td>MAXIMIZE</td>\n",
       "    </tr>\n",
       "    <tr>\n",
       "      <th>28</th>\n",
       "      <td>DiscreteKLDivergence</td>\n",
       "      <td>Discrete Kullback–Leibler Divergence</td>\n",
       "      <td>0.962917</td>\n",
       "      <td>9.629174e-01</td>\n",
       "      <td>0.0</td>\n",
       "      <td>1.0</td>\n",
       "      <td>MAXIMIZE</td>\n",
       "    </tr>\n",
       "  </tbody>\n",
       "</table>\n",
       "</div>"
      ],
      "text/plain": [
       "                    metric                                     name  \\\n",
       "0          BNLogLikelihood           BayesianNetwork Log Likelihood   \n",
       "1        LogisticDetection             LogisticRegression Detection   \n",
       "2             SVCDetection                            SVC Detection   \n",
       "11         GMLogLikelihood           GaussianMixture Log Likelihood   \n",
       "12                  CSTest                              Chi-Squared   \n",
       "13                  KSTest  Inverted Kolmogorov-Smirnov D statistic   \n",
       "14          KSTestExtended  Inverted Kolmogorov-Smirnov D statistic   \n",
       "27  ContinuousKLDivergence   Continuous Kullback–Leibler Divergence   \n",
       "28    DiscreteKLDivergence     Discrete Kullback–Leibler Divergence   \n",
       "\n",
       "     raw_score  normalized_score  min_value  max_value      goal  \n",
       "0    -1.559791      2.101800e-01       -inf        0.0  MAXIMIZE  \n",
       "1     0.792263      7.922629e-01        0.0        1.0  MAXIMIZE  \n",
       "2     0.006264      6.264476e-03        0.0        1.0  MAXIMIZE  \n",
       "11 -390.216147     3.398447e-170       -inf        inf  MAXIMIZE  \n",
       "12    0.999952      9.999521e-01        0.0        1.0  MAXIMIZE  \n",
       "13    0.719000      7.190000e-01        0.0        1.0  MAXIMIZE  \n",
       "14    0.785000      7.850000e-01        0.0        1.0  MAXIMIZE  \n",
       "27    0.097926      9.792568e-02        0.0        1.0  MAXIMIZE  \n",
       "28    0.962917      9.629174e-01        0.0        1.0  MAXIMIZE  "
      ]
     },
     "execution_count": 401,
     "metadata": {},
     "output_type": "execute_result"
    }
   ],
   "source": [
    "evaluate(ctData, dfunmod2, aggregate=False)"
   ]
  },
  {
   "cell_type": "markdown",
   "metadata": {},
   "source": [
    "#### Copula <a class=\"anchor\" id=\"copula_eval\"></a>"
   ]
  },
  {
   "cell_type": "code",
   "execution_count": 402,
   "metadata": {
    "ExecuteTime": {
     "end_time": "2021-07-30T09:47:41.918981Z",
     "start_time": "2021-07-30T09:47:41.139376Z"
    },
    "scrolled": true
   },
   "outputs": [
    {
     "data": {
      "text/plain": [
       "0.4799934349624513"
      ]
     },
     "execution_count": 402,
     "metadata": {},
     "output_type": "execute_result"
    }
   ],
   "source": [
    "evaluate(cData, dfunmod2)"
   ]
  },
  {
   "cell_type": "code",
   "execution_count": 403,
   "metadata": {
    "ExecuteTime": {
     "end_time": "2021-07-30T09:47:42.700983Z",
     "start_time": "2021-07-30T09:47:41.920985Z"
    },
    "scrolled": true
   },
   "outputs": [
    {
     "data": {
      "text/html": [
       "<div>\n",
       "<style scoped>\n",
       "    .dataframe tbody tr th:only-of-type {\n",
       "        vertical-align: middle;\n",
       "    }\n",
       "\n",
       "    .dataframe tbody tr th {\n",
       "        vertical-align: top;\n",
       "    }\n",
       "\n",
       "    .dataframe thead th {\n",
       "        text-align: right;\n",
       "    }\n",
       "</style>\n",
       "<table border=\"1\" class=\"dataframe\">\n",
       "  <thead>\n",
       "    <tr style=\"text-align: right;\">\n",
       "      <th></th>\n",
       "      <th>metric</th>\n",
       "      <th>name</th>\n",
       "      <th>raw_score</th>\n",
       "      <th>normalized_score</th>\n",
       "      <th>min_value</th>\n",
       "      <th>max_value</th>\n",
       "      <th>goal</th>\n",
       "    </tr>\n",
       "  </thead>\n",
       "  <tbody>\n",
       "    <tr>\n",
       "      <th>0</th>\n",
       "      <td>BNLogLikelihood</td>\n",
       "      <td>BayesianNetwork Log Likelihood</td>\n",
       "      <td>-1.617326</td>\n",
       "      <td>1.984286e-01</td>\n",
       "      <td>-inf</td>\n",
       "      <td>0.0</td>\n",
       "      <td>MAXIMIZE</td>\n",
       "    </tr>\n",
       "    <tr>\n",
       "      <th>1</th>\n",
       "      <td>LogisticDetection</td>\n",
       "      <td>LogisticRegression Detection</td>\n",
       "      <td>0.556791</td>\n",
       "      <td>5.567907e-01</td>\n",
       "      <td>0.0</td>\n",
       "      <td>1.0</td>\n",
       "      <td>MAXIMIZE</td>\n",
       "    </tr>\n",
       "    <tr>\n",
       "      <th>2</th>\n",
       "      <td>SVCDetection</td>\n",
       "      <td>SVC Detection</td>\n",
       "      <td>0.041572</td>\n",
       "      <td>4.157197e-02</td>\n",
       "      <td>0.0</td>\n",
       "      <td>1.0</td>\n",
       "      <td>MAXIMIZE</td>\n",
       "    </tr>\n",
       "    <tr>\n",
       "      <th>11</th>\n",
       "      <td>GMLogLikelihood</td>\n",
       "      <td>GaussianMixture Log Likelihood</td>\n",
       "      <td>-407.867756</td>\n",
       "      <td>7.333045e-178</td>\n",
       "      <td>-inf</td>\n",
       "      <td>inf</td>\n",
       "      <td>MAXIMIZE</td>\n",
       "    </tr>\n",
       "    <tr>\n",
       "      <th>12</th>\n",
       "      <td>CSTest</td>\n",
       "      <td>Chi-Squared</td>\n",
       "      <td>0.999976</td>\n",
       "      <td>9.999757e-01</td>\n",
       "      <td>0.0</td>\n",
       "      <td>1.0</td>\n",
       "      <td>MAXIMIZE</td>\n",
       "    </tr>\n",
       "    <tr>\n",
       "      <th>13</th>\n",
       "      <td>KSTest</td>\n",
       "      <td>Inverted Kolmogorov-Smirnov D statistic</td>\n",
       "      <td>0.679800</td>\n",
       "      <td>6.798000e-01</td>\n",
       "      <td>0.0</td>\n",
       "      <td>1.0</td>\n",
       "      <td>MAXIMIZE</td>\n",
       "    </tr>\n",
       "    <tr>\n",
       "      <th>14</th>\n",
       "      <td>KSTestExtended</td>\n",
       "      <td>Inverted Kolmogorov-Smirnov D statistic</td>\n",
       "      <td>0.764286</td>\n",
       "      <td>7.642857e-01</td>\n",
       "      <td>0.0</td>\n",
       "      <td>1.0</td>\n",
       "      <td>MAXIMIZE</td>\n",
       "    </tr>\n",
       "    <tr>\n",
       "      <th>27</th>\n",
       "      <td>ContinuousKLDivergence</td>\n",
       "      <td>Continuous Kullback–Leibler Divergence</td>\n",
       "      <td>0.129322</td>\n",
       "      <td>1.293223e-01</td>\n",
       "      <td>0.0</td>\n",
       "      <td>1.0</td>\n",
       "      <td>MAXIMIZE</td>\n",
       "    </tr>\n",
       "    <tr>\n",
       "      <th>28</th>\n",
       "      <td>DiscreteKLDivergence</td>\n",
       "      <td>Discrete Kullback–Leibler Divergence</td>\n",
       "      <td>0.973301</td>\n",
       "      <td>9.733014e-01</td>\n",
       "      <td>0.0</td>\n",
       "      <td>1.0</td>\n",
       "      <td>MAXIMIZE</td>\n",
       "    </tr>\n",
       "  </tbody>\n",
       "</table>\n",
       "</div>"
      ],
      "text/plain": [
       "                    metric                                     name  \\\n",
       "0          BNLogLikelihood           BayesianNetwork Log Likelihood   \n",
       "1        LogisticDetection             LogisticRegression Detection   \n",
       "2             SVCDetection                            SVC Detection   \n",
       "11         GMLogLikelihood           GaussianMixture Log Likelihood   \n",
       "12                  CSTest                              Chi-Squared   \n",
       "13                  KSTest  Inverted Kolmogorov-Smirnov D statistic   \n",
       "14          KSTestExtended  Inverted Kolmogorov-Smirnov D statistic   \n",
       "27  ContinuousKLDivergence   Continuous Kullback–Leibler Divergence   \n",
       "28    DiscreteKLDivergence     Discrete Kullback–Leibler Divergence   \n",
       "\n",
       "     raw_score  normalized_score  min_value  max_value      goal  \n",
       "0    -1.617326      1.984286e-01       -inf        0.0  MAXIMIZE  \n",
       "1     0.556791      5.567907e-01        0.0        1.0  MAXIMIZE  \n",
       "2     0.041572      4.157197e-02        0.0        1.0  MAXIMIZE  \n",
       "11 -407.867756     7.333045e-178       -inf        inf  MAXIMIZE  \n",
       "12    0.999976      9.999757e-01        0.0        1.0  MAXIMIZE  \n",
       "13    0.679800      6.798000e-01        0.0        1.0  MAXIMIZE  \n",
       "14    0.764286      7.642857e-01        0.0        1.0  MAXIMIZE  \n",
       "27    0.129322      1.293223e-01        0.0        1.0  MAXIMIZE  \n",
       "28    0.973301      9.733014e-01        0.0        1.0  MAXIMIZE  "
      ]
     },
     "execution_count": 403,
     "metadata": {},
     "output_type": "execute_result"
    }
   ],
   "source": [
    "evaluate(cData, dfunmod2, aggregate=False)"
   ]
  },
  {
   "cell_type": "markdown",
   "metadata": {},
   "source": [
    "#### TVAE <a class=\"anchor\" id=\"tvae_eval\"></a>"
   ]
  },
  {
   "cell_type": "code",
   "execution_count": 404,
   "metadata": {
    "ExecuteTime": {
     "end_time": "2021-07-30T09:47:43.563982Z",
     "start_time": "2021-07-30T09:47:42.702983Z"
    },
    "scrolled": false
   },
   "outputs": [
    {
     "data": {
      "text/plain": [
       "0.591665669095224"
      ]
     },
     "execution_count": 404,
     "metadata": {},
     "output_type": "execute_result"
    }
   ],
   "source": [
    "evaluate(tData, dfunmod2)"
   ]
  },
  {
   "cell_type": "code",
   "execution_count": 405,
   "metadata": {
    "ExecuteTime": {
     "end_time": "2021-07-30T09:47:44.408796Z",
     "start_time": "2021-07-30T09:47:43.565983Z"
    },
    "scrolled": false
   },
   "outputs": [
    {
     "data": {
      "text/html": [
       "<div>\n",
       "<style scoped>\n",
       "    .dataframe tbody tr th:only-of-type {\n",
       "        vertical-align: middle;\n",
       "    }\n",
       "\n",
       "    .dataframe tbody tr th {\n",
       "        vertical-align: top;\n",
       "    }\n",
       "\n",
       "    .dataframe thead th {\n",
       "        text-align: right;\n",
       "    }\n",
       "</style>\n",
       "<table border=\"1\" class=\"dataframe\">\n",
       "  <thead>\n",
       "    <tr style=\"text-align: right;\">\n",
       "      <th></th>\n",
       "      <th>metric</th>\n",
       "      <th>name</th>\n",
       "      <th>raw_score</th>\n",
       "      <th>normalized_score</th>\n",
       "      <th>min_value</th>\n",
       "      <th>max_value</th>\n",
       "      <th>goal</th>\n",
       "    </tr>\n",
       "  </thead>\n",
       "  <tbody>\n",
       "    <tr>\n",
       "      <th>0</th>\n",
       "      <td>BNLogLikelihood</td>\n",
       "      <td>BayesianNetwork Log Likelihood</td>\n",
       "      <td>-1.379603</td>\n",
       "      <td>2.516785e-01</td>\n",
       "      <td>-inf</td>\n",
       "      <td>0.0</td>\n",
       "      <td>MAXIMIZE</td>\n",
       "    </tr>\n",
       "    <tr>\n",
       "      <th>1</th>\n",
       "      <td>LogisticDetection</td>\n",
       "      <td>LogisticRegression Detection</td>\n",
       "      <td>0.817974</td>\n",
       "      <td>8.179739e-01</td>\n",
       "      <td>0.0</td>\n",
       "      <td>1.0</td>\n",
       "      <td>MAXIMIZE</td>\n",
       "    </tr>\n",
       "    <tr>\n",
       "      <th>2</th>\n",
       "      <td>SVCDetection</td>\n",
       "      <td>SVC Detection</td>\n",
       "      <td>0.306750</td>\n",
       "      <td>3.067502e-01</td>\n",
       "      <td>0.0</td>\n",
       "      <td>1.0</td>\n",
       "      <td>MAXIMIZE</td>\n",
       "    </tr>\n",
       "    <tr>\n",
       "      <th>11</th>\n",
       "      <td>GMLogLikelihood</td>\n",
       "      <td>GaussianMixture Log Likelihood</td>\n",
       "      <td>-430.136597</td>\n",
       "      <td>1.563326e-187</td>\n",
       "      <td>-inf</td>\n",
       "      <td>inf</td>\n",
       "      <td>MAXIMIZE</td>\n",
       "    </tr>\n",
       "    <tr>\n",
       "      <th>12</th>\n",
       "      <td>CSTest</td>\n",
       "      <td>Chi-Squared</td>\n",
       "      <td>0.999849</td>\n",
       "      <td>9.998491e-01</td>\n",
       "      <td>0.0</td>\n",
       "      <td>1.0</td>\n",
       "      <td>MAXIMIZE</td>\n",
       "    </tr>\n",
       "    <tr>\n",
       "      <th>13</th>\n",
       "      <td>KSTest</td>\n",
       "      <td>Inverted Kolmogorov-Smirnov D statistic</td>\n",
       "      <td>0.829800</td>\n",
       "      <td>8.298000e-01</td>\n",
       "      <td>0.0</td>\n",
       "      <td>1.0</td>\n",
       "      <td>MAXIMIZE</td>\n",
       "    </tr>\n",
       "    <tr>\n",
       "      <th>14</th>\n",
       "      <td>KSTestExtended</td>\n",
       "      <td>Inverted Kolmogorov-Smirnov D statistic</td>\n",
       "      <td>0.857714</td>\n",
       "      <td>8.577143e-01</td>\n",
       "      <td>0.0</td>\n",
       "      <td>1.0</td>\n",
       "      <td>MAXIMIZE</td>\n",
       "    </tr>\n",
       "    <tr>\n",
       "      <th>27</th>\n",
       "      <td>ContinuousKLDivergence</td>\n",
       "      <td>Continuous Kullback–Leibler Divergence</td>\n",
       "      <td>0.154580</td>\n",
       "      <td>1.545796e-01</td>\n",
       "      <td>0.0</td>\n",
       "      <td>1.0</td>\n",
       "      <td>MAXIMIZE</td>\n",
       "    </tr>\n",
       "    <tr>\n",
       "      <th>28</th>\n",
       "      <td>DiscreteKLDivergence</td>\n",
       "      <td>Discrete Kullback–Leibler Divergence</td>\n",
       "      <td>0.929285</td>\n",
       "      <td>9.292853e-01</td>\n",
       "      <td>0.0</td>\n",
       "      <td>1.0</td>\n",
       "      <td>MAXIMIZE</td>\n",
       "    </tr>\n",
       "  </tbody>\n",
       "</table>\n",
       "</div>"
      ],
      "text/plain": [
       "                    metric                                     name  \\\n",
       "0          BNLogLikelihood           BayesianNetwork Log Likelihood   \n",
       "1        LogisticDetection             LogisticRegression Detection   \n",
       "2             SVCDetection                            SVC Detection   \n",
       "11         GMLogLikelihood           GaussianMixture Log Likelihood   \n",
       "12                  CSTest                              Chi-Squared   \n",
       "13                  KSTest  Inverted Kolmogorov-Smirnov D statistic   \n",
       "14          KSTestExtended  Inverted Kolmogorov-Smirnov D statistic   \n",
       "27  ContinuousKLDivergence   Continuous Kullback–Leibler Divergence   \n",
       "28    DiscreteKLDivergence     Discrete Kullback–Leibler Divergence   \n",
       "\n",
       "     raw_score  normalized_score  min_value  max_value      goal  \n",
       "0    -1.379603      2.516785e-01       -inf        0.0  MAXIMIZE  \n",
       "1     0.817974      8.179739e-01        0.0        1.0  MAXIMIZE  \n",
       "2     0.306750      3.067502e-01        0.0        1.0  MAXIMIZE  \n",
       "11 -430.136597     1.563326e-187       -inf        inf  MAXIMIZE  \n",
       "12    0.999849      9.998491e-01        0.0        1.0  MAXIMIZE  \n",
       "13    0.829800      8.298000e-01        0.0        1.0  MAXIMIZE  \n",
       "14    0.857714      8.577143e-01        0.0        1.0  MAXIMIZE  \n",
       "27    0.154580      1.545796e-01        0.0        1.0  MAXIMIZE  \n",
       "28    0.929285      9.292853e-01        0.0        1.0  MAXIMIZE  "
      ]
     },
     "execution_count": 405,
     "metadata": {},
     "output_type": "execute_result"
    }
   ],
   "source": [
    "evaluate(tData, dfunmod2, aggregate=False)"
   ]
  },
  {
   "cell_type": "markdown",
   "metadata": {},
   "source": [
    "### Formatting and saving <a class=\"anchor\" id=\"format\"></a>"
   ]
  },
  {
   "cell_type": "code",
   "execution_count": 406,
   "metadata": {
    "ExecuteTime": {
     "end_time": "2021-07-30T09:47:44.424795Z",
     "start_time": "2021-07-30T09:47:44.411795Z"
    }
   },
   "outputs": [],
   "source": [
    "def box_format(df):\n",
    "    temp = []\n",
    "    new = pd.DataFrame()\n",
    "    new = df.copy()\n",
    "    for i in range(len(df.x1.tolist())):\n",
    "        temp.append('[' + str(df.x1.tolist()[i]) + ', ' +\n",
    "                    str(df.y1.tolist()[i]) + ', ' + str(df.x2.tolist()[i]) +\n",
    "                    ', ' + str(df.y2.tolist()[i]) + ']')\n",
    "    new.insert(1, 'sensors.video.boxes', temp)\n",
    "    new.drop(columns=['x1', 'y1', 'x2', 'y2'], inplace=True)\n",
    "    return new"
   ]
  },
  {
   "cell_type": "markdown",
   "metadata": {},
   "source": [
    "#### Gaussian"
   ]
  },
  {
   "cell_type": "code",
   "execution_count": 407,
   "metadata": {
    "ExecuteTime": {
     "end_time": "2021-07-30T09:47:44.566793Z",
     "start_time": "2021-07-30T09:47:44.426796Z"
    }
   },
   "outputs": [],
   "source": [
    "Gauss_gen = box_format(GaussData)\n",
    "Gauss_json = Gauss_gen.to_json(orient=\"values\")"
   ]
  },
  {
   "cell_type": "code",
   "execution_count": 408,
   "metadata": {
    "ExecuteTime": {
     "end_time": "2021-07-30T09:47:44.582796Z",
     "start_time": "2021-07-30T09:47:44.568794Z"
    }
   },
   "outputs": [],
   "source": [
    "Gauss_json = GaussData.to_json(orient=\"values\")\n",
    "file = open('data/generated/telemetric_for_image.json', 'w')\n",
    "file.write(Gauss_json)\n",
    "file.close()"
   ]
  },
  {
   "cell_type": "markdown",
   "metadata": {},
   "source": [
    "#### CTGAN"
   ]
  },
  {
   "cell_type": "code",
   "execution_count": 409,
   "metadata": {
    "ExecuteTime": {
     "end_time": "2021-07-30T09:47:44.725794Z",
     "start_time": "2021-07-30T09:47:44.584795Z"
    }
   },
   "outputs": [],
   "source": [
    "ctgan_gen = box_format(ctData)\n",
    "ctgan_json = ctgan_gen.to_json(orient=\"values\")"
   ]
  },
  {
   "cell_type": "code",
   "execution_count": 410,
   "metadata": {
    "ExecuteTime": {
     "end_time": "2021-07-30T09:47:44.741800Z",
     "start_time": "2021-07-30T09:47:44.728800Z"
    }
   },
   "outputs": [],
   "source": [
    "file = open('data/generated/ctgan_unmoddelled.json', 'w')\n",
    "file.write(ctgan_json)\n",
    "file.close()"
   ]
  },
  {
   "cell_type": "markdown",
   "metadata": {},
   "source": [
    "#### copula"
   ]
  },
  {
   "cell_type": "code",
   "execution_count": 411,
   "metadata": {
    "ExecuteTime": {
     "end_time": "2021-07-30T09:47:44.881792Z",
     "start_time": "2021-07-30T09:47:44.743794Z"
    }
   },
   "outputs": [],
   "source": [
    "Copula_gen = box_format(cData)\n",
    "Copula_json = Copula_gen.to_json(orient=\"values\")"
   ]
  },
  {
   "cell_type": "code",
   "execution_count": 412,
   "metadata": {
    "ExecuteTime": {
     "end_time": "2021-07-30T09:47:44.897793Z",
     "start_time": "2021-07-30T09:47:44.883804Z"
    }
   },
   "outputs": [],
   "source": [
    "file = open('data/generated/Copula_unmoddelled.json', 'w')\n",
    "file.write(Copula_json)\n",
    "file.close()"
   ]
  },
  {
   "cell_type": "markdown",
   "metadata": {},
   "source": [
    "#### TVAE "
   ]
  },
  {
   "cell_type": "code",
   "execution_count": 413,
   "metadata": {
    "ExecuteTime": {
     "end_time": "2021-07-30T09:47:45.040791Z",
     "start_time": "2021-07-30T09:47:44.899794Z"
    }
   },
   "outputs": [],
   "source": [
    "tgan_gen = box_format(tData)\n",
    "tgan_json = tgan_gen.to_json(orient=\"values\")"
   ]
  },
  {
   "cell_type": "code",
   "execution_count": 414,
   "metadata": {
    "ExecuteTime": {
     "end_time": "2021-07-30T09:47:45.056795Z",
     "start_time": "2021-07-30T09:47:45.042795Z"
    }
   },
   "outputs": [],
   "source": [
    "file = open('data/generated/tgan_unmoddelled.json', 'w')\n",
    "file.write(tgan_json)\n",
    "file.close()"
   ]
  },
  {
   "cell_type": "markdown",
   "metadata": {},
   "source": [
    "## SDV Generation of Timestamps"
   ]
  },
  {
   "cell_type": "markdown",
   "metadata": {},
   "source": [
    "The database given included the timestamps in a parent level to the data we were attempting to model and for this  type of database a relational model would enable modelling of the entire dataset. However, when we are working with messages from the iot device on one level with the timestamp, all that is needed is to include the _Datetime_ Transformer for the timestamp column"
   ]
  },
  {
   "cell_type": "markdown",
   "metadata": {},
   "source": [
    "### Loading Data "
   ]
  },
  {
   "cell_type": "code",
   "execution_count": 415,
   "metadata": {
    "ExecuteTime": {
     "end_time": "2021-07-30T09:47:45.087795Z",
     "start_time": "2021-07-30T09:47:45.058796Z"
    },
    "init_cell": true
   },
   "outputs": [
    {
     "data": {
      "text/html": [
       "<div>\n",
       "<style scoped>\n",
       "    .dataframe tbody tr th:only-of-type {\n",
       "        vertical-align: middle;\n",
       "    }\n",
       "\n",
       "    .dataframe tbody tr th {\n",
       "        vertical-align: top;\n",
       "    }\n",
       "\n",
       "    .dataframe thead th {\n",
       "        text-align: right;\n",
       "    }\n",
       "</style>\n",
       "<table border=\"1\" class=\"dataframe\">\n",
       "  <thead>\n",
       "    <tr style=\"text-align: right;\">\n",
       "      <th></th>\n",
       "      <th>sensors.__t</th>\n",
       "      <th>sensors.video.classes</th>\n",
       "      <th>sensors.video.scores</th>\n",
       "      <th>x1</th>\n",
       "      <th>y1</th>\n",
       "      <th>x2</th>\n",
       "      <th>y2</th>\n",
       "      <th>timestamp</th>\n",
       "    </tr>\n",
       "  </thead>\n",
       "  <tbody>\n",
       "    <tr>\n",
       "      <th>0</th>\n",
       "      <td>c</td>\n",
       "      <td>tv</td>\n",
       "      <td>0.562500</td>\n",
       "      <td>0.496155</td>\n",
       "      <td>0.703469</td>\n",
       "      <td>0.985248</td>\n",
       "      <td>0.926499</td>\n",
       "      <td>2021-07-13 12:11:38.276897</td>\n",
       "    </tr>\n",
       "    <tr>\n",
       "      <th>1</th>\n",
       "      <td>c</td>\n",
       "      <td>person</td>\n",
       "      <td>0.644531</td>\n",
       "      <td>0.377298</td>\n",
       "      <td>0.043439</td>\n",
       "      <td>0.670153</td>\n",
       "      <td>0.297463</td>\n",
       "      <td>2021-07-13 12:11:38.180751</td>\n",
       "    </tr>\n",
       "    <tr>\n",
       "      <th>2</th>\n",
       "      <td>c</td>\n",
       "      <td>couch</td>\n",
       "      <td>0.667969</td>\n",
       "      <td>0.573396</td>\n",
       "      <td>-0.010979</td>\n",
       "      <td>0.990111</td>\n",
       "      <td>0.700604</td>\n",
       "      <td>2021-07-13 12:11:38.101000</td>\n",
       "    </tr>\n",
       "    <tr>\n",
       "      <th>3</th>\n",
       "      <td>c</td>\n",
       "      <td>chair</td>\n",
       "      <td>0.511719</td>\n",
       "      <td>0.468565</td>\n",
       "      <td>0.463562</td>\n",
       "      <td>0.616883</td>\n",
       "      <td>0.569987</td>\n",
       "      <td>2021-07-13 12:11:27.711856</td>\n",
       "    </tr>\n",
       "    <tr>\n",
       "      <th>4</th>\n",
       "      <td>c</td>\n",
       "      <td>tv</td>\n",
       "      <td>0.574219</td>\n",
       "      <td>0.496155</td>\n",
       "      <td>0.705407</td>\n",
       "      <td>0.985248</td>\n",
       "      <td>0.928437</td>\n",
       "      <td>2021-07-13 12:11:27.647747</td>\n",
       "    </tr>\n",
       "  </tbody>\n",
       "</table>\n",
       "</div>"
      ],
      "text/plain": [
       "  sensors.__t sensors.video.classes  sensors.video.scores        x1        y1  \\\n",
       "0           c                    tv              0.562500  0.496155  0.703469   \n",
       "1           c                person              0.644531  0.377298  0.043439   \n",
       "2           c                 couch              0.667969  0.573396 -0.010979   \n",
       "3           c                 chair              0.511719  0.468565  0.463562   \n",
       "4           c                    tv              0.574219  0.496155  0.705407   \n",
       "\n",
       "         x2        y2                  timestamp  \n",
       "0  0.985248  0.926499 2021-07-13 12:11:38.276897  \n",
       "1  0.670153  0.297463 2021-07-13 12:11:38.180751  \n",
       "2  0.990111  0.700604 2021-07-13 12:11:38.101000  \n",
       "3  0.616883  0.569987 2021-07-13 12:11:27.711856  \n",
       "4  0.985248  0.928437 2021-07-13 12:11:27.647747  "
      ]
     },
     "execution_count": 415,
     "metadata": {},
     "output_type": "execute_result"
    }
   ],
   "source": [
    "dfunmod_time = dfunmod2.copy()\n",
    "dfunmod_time['timestamp'] = pd.to_datetime(dftele['_timestamp'], dayfirst=True)\n",
    "dfunmod_time.head()"
   ]
  },
  {
   "cell_type": "markdown",
   "metadata": {},
   "source": [
    "### Fitting and Evaluating"
   ]
  },
  {
   "cell_type": "code",
   "execution_count": 416,
   "metadata": {
    "ExecuteTime": {
     "end_time": "2021-07-30T09:47:45.119799Z",
     "start_time": "2021-07-30T09:47:45.089793Z"
    },
    "code_folding": [
     0,
     4,
     10,
     15,
     20,
     25,
     30,
     35,
     40,
     45,
     50,
     54,
     59,
     69
    ]
   },
   "outputs": [],
   "source": [
    "x_constraint = GreaterThan(low='x1',\n",
    "                           high='x2',\n",
    "                           handling_strategy='reject_sampling')\n",
    "\n",
    "y_constraint = GreaterThan(low='y1',\n",
    "                           high='y2',\n",
    "                           handling_strategy='reject_sampling')\n",
    "\n",
    "constraints_tvae_time = [x_constraint, y_constraint]\n",
    "\n",
    "reasonable_x1 = Between(column='x1',\n",
    "                        low=min(dfunmod_time.x1),\n",
    "                        high=max(dfunmod_time.x1),\n",
    "                        handling_strategy='transform')\n",
    "\n",
    "reasonable_y1 = Between(column='y1',\n",
    "                        low=min(dfunmod_time.y1),\n",
    "                        high=max(dfunmod_time.y1),\n",
    "                        handling_strategy='transform')\n",
    "\n",
    "reasonable_x2 = Between(column='x2',\n",
    "                        low=min(dfunmod_time.x2),\n",
    "                        high=max(dfunmod_time.x2),\n",
    "                        handling_strategy='transform')\n",
    "\n",
    "reasonable_y2 = Between(column='y2',\n",
    "                        low=min(dfunmod_time.y2),\n",
    "                        high=max(dfunmod_time.y2),\n",
    "                        handling_strategy='transform')\n",
    "\n",
    "constraints_copula_time = [\n",
    "    x_constraint, y_constraint, reasonable_x1, reasonable_y1, reasonable_x2,\n",
    "    reasonable_y2\n",
    "]\n",
    "\n",
    "reasonable_x1 = Between(column='x1',\n",
    "                        low=min(dfunmod_time.x1),\n",
    "                        high=max(dfunmod_time.x1),\n",
    "                        handling_strategy='reject_sampling')\n",
    "\n",
    "reasonable_y1 = Between(column='y1',\n",
    "                        low=min(dfunmod_time.y1),\n",
    "                        high=max(dfunmod_time.y1),\n",
    "                        handling_strategy='reject_sampling')\n",
    "\n",
    "reasonable_x2 = Between(column='x2',\n",
    "                        low=min(dfunmod_time.x2),\n",
    "                        high=max(dfunmod_time.x2),\n",
    "                        handling_strategy='reject_sampling')\n",
    "\n",
    "reasonable_y2 = Between(column='y2',\n",
    "                        low=min(dfunmod_time.y2),\n",
    "                        high=max(dfunmod_time.y2),\n",
    "                        handling_strategy='reject_sampling')\n",
    "\n",
    "constraints_ctgan_time = [\n",
    "    x_constraint, y_constraint, reasonable_x1, reasonable_y1, reasonable_x2,\n",
    "    reasonable_y2\n",
    "]\n",
    "\n",
    "field_transformer_time = {\n",
    "    'sensors.__t': 'categorical',\n",
    "    'sensors.video.classes': 'categorical',\n",
    "    'sensors.video.scores': 'float',\n",
    "    'x1': 'float',\n",
    "    'y1': 'float',\n",
    "    'x2': 'float',\n",
    "    'y2': 'float',\n",
    "    'timestamp': 'datetime'\n",
    "}\n",
    "\n",
    "field_distribution = {\n",
    "    'sensors.video.scores': 'student_t',\n",
    "    'x1': 'student_t',\n",
    "    'y1': 'student_t',\n",
    "    'x2': 'student_t',\n",
    "    'y2': 'student_t'\n",
    "}"
   ]
  },
  {
   "cell_type": "markdown",
   "metadata": {},
   "source": [
    "#### Gaussian\n"
   ]
  },
  {
   "cell_type": "code",
   "execution_count": 417,
   "metadata": {
    "ExecuteTime": {
     "end_time": "2021-07-30T09:47:48.561356Z",
     "start_time": "2021-07-30T09:47:45.129798Z"
    }
   },
   "outputs": [
    {
     "name": "stderr",
     "output_type": "stream",
     "text": [
      "2021-07-30 11:47:45,131 : MainThread : INFO : Fitting table None metadata\n",
      "2021-07-30 11:47:45,136 : MainThread : INFO : Anonymizing table None\n",
      "2021-07-30 11:47:45,137 : MainThread : INFO : Fitting constraints for table None\n",
      "2021-07-30 11:47:45,143 : MainThread : INFO : Fitting GaussianMultivariate()\n",
      "2021-07-30 11:47:45,763 : MainThread : INFO : Fitting GaussianMultivariate()\n",
      "2021-07-30 11:47:46,258 : MainThread : INFO : Fitting HyperTransformer for table None\n",
      "2021-07-30 11:47:46,282 : MainThread : INFO : Fitting GaussianMultivariate(distribution=\"{'sensors.video.scores': <class 'copulas.univariate.student_t.StudentTUnivariate'>, 'x1': <class 'copulas.univariate.student_t.StudentTUnivariate'>, 'y1': <class 'copulas.univariate.student_t.StudentTUnivariate'>, 'x2': <class 'copulas.univariate.student_t.StudentTUnivariate'>, 'y2': <class 'copulas.univariate.student_t.StudentTUnivariate'>, 'sensors.__t': Univariate, 'sensors.video.classes': Univariate, 'timestamp': Univariate, 'x1#0.3594801127910614#0.5845882296562195': Univariate, 'y1#-0.01097947359085083#0.7112205028533936': Univariate, 'x2#0.6153400540351868#1.0093133449554443': Univariate, 'y2#0.20476023852825165#0.9378321170806885': Univariate}\")\n"
     ]
    }
   ],
   "source": [
    "gaussian_t = GaussianCopula(constraints=constraints_copula_time,\n",
    "                            field_transformers=field_transformer_time,\n",
    "                            field_distributions=field_distribution)\n",
    "gaussian_t.fit(dfunmod_time)"
   ]
  },
  {
   "cell_type": "code",
   "execution_count": 418,
   "metadata": {
    "ExecuteTime": {
     "end_time": "2021-07-30T09:47:48.784243Z",
     "start_time": "2021-07-30T09:47:48.563264Z"
    }
   },
   "outputs": [
    {
     "name": "stderr",
     "output_type": "stream",
     "text": [
      "2021-07-30 11:47:48,637 : MainThread : INFO : 108 valid rows remaining. Resampling 121 rows\n",
      "2021-07-30 11:47:48,680 : MainThread : INFO : 3 valid rows remaining. Resampling 3 rows\n",
      "2021-07-30 11:47:48,725 : MainThread : INFO : 2 valid rows remaining. Resampling 2 rows\n"
     ]
    },
    {
     "data": {
      "text/html": [
       "<div>\n",
       "<style scoped>\n",
       "    .dataframe tbody tr th:only-of-type {\n",
       "        vertical-align: middle;\n",
       "    }\n",
       "\n",
       "    .dataframe tbody tr th {\n",
       "        vertical-align: top;\n",
       "    }\n",
       "\n",
       "    .dataframe thead th {\n",
       "        text-align: right;\n",
       "    }\n",
       "</style>\n",
       "<table border=\"1\" class=\"dataframe\">\n",
       "  <thead>\n",
       "    <tr style=\"text-align: right;\">\n",
       "      <th></th>\n",
       "      <th>sensors.__t</th>\n",
       "      <th>sensors.video.classes</th>\n",
       "      <th>sensors.video.scores</th>\n",
       "      <th>x1</th>\n",
       "      <th>y1</th>\n",
       "      <th>x2</th>\n",
       "      <th>y2</th>\n",
       "      <th>timestamp</th>\n",
       "    </tr>\n",
       "  </thead>\n",
       "  <tbody>\n",
       "    <tr>\n",
       "      <th>0</th>\n",
       "      <td>c</td>\n",
       "      <td>tv</td>\n",
       "      <td>0.609617</td>\n",
       "      <td>0.408149</td>\n",
       "      <td>0.699664</td>\n",
       "      <td>0.636728</td>\n",
       "      <td>0.897339</td>\n",
       "      <td>2021-07-13 12:11:20.518462976</td>\n",
       "    </tr>\n",
       "    <tr>\n",
       "      <th>1</th>\n",
       "      <td>c</td>\n",
       "      <td>person</td>\n",
       "      <td>0.511633</td>\n",
       "      <td>0.565493</td>\n",
       "      <td>0.709220</td>\n",
       "      <td>1.009313</td>\n",
       "      <td>0.937832</td>\n",
       "      <td>2021-07-13 12:11:27.639182592</td>\n",
       "    </tr>\n",
       "    <tr>\n",
       "      <th>2</th>\n",
       "      <td>c</td>\n",
       "      <td>person</td>\n",
       "      <td>0.693430</td>\n",
       "      <td>0.387073</td>\n",
       "      <td>0.008303</td>\n",
       "      <td>1.009313</td>\n",
       "      <td>0.346475</td>\n",
       "      <td>2021-07-13 12:10:23.042840320</td>\n",
       "    </tr>\n",
       "    <tr>\n",
       "      <th>3</th>\n",
       "      <td>c</td>\n",
       "      <td>tv</td>\n",
       "      <td>0.530722</td>\n",
       "      <td>0.489994</td>\n",
       "      <td>0.688103</td>\n",
       "      <td>0.646141</td>\n",
       "      <td>0.888626</td>\n",
       "      <td>2021-07-13 12:11:09.461232128</td>\n",
       "    </tr>\n",
       "    <tr>\n",
       "      <th>4</th>\n",
       "      <td>c</td>\n",
       "      <td>chair</td>\n",
       "      <td>0.567348</td>\n",
       "      <td>0.531806</td>\n",
       "      <td>0.236469</td>\n",
       "      <td>1.009313</td>\n",
       "      <td>0.847535</td>\n",
       "      <td>2021-07-13 12:11:29.310976512</td>\n",
       "    </tr>\n",
       "  </tbody>\n",
       "</table>\n",
       "</div>"
      ],
      "text/plain": [
       "  sensors.__t sensors.video.classes  sensors.video.scores        x1        y1  \\\n",
       "0           c                    tv              0.609617  0.408149  0.699664   \n",
       "1           c                person              0.511633  0.565493  0.709220   \n",
       "2           c                person              0.693430  0.387073  0.008303   \n",
       "3           c                    tv              0.530722  0.489994  0.688103   \n",
       "4           c                 chair              0.567348  0.531806  0.236469   \n",
       "\n",
       "         x2        y2                     timestamp  \n",
       "0  0.636728  0.897339 2021-07-13 12:11:20.518462976  \n",
       "1  1.009313  0.937832 2021-07-13 12:11:27.639182592  \n",
       "2  1.009313  0.346475 2021-07-13 12:10:23.042840320  \n",
       "3  0.646141  0.888626 2021-07-13 12:11:09.461232128  \n",
       "4  1.009313  0.847535 2021-07-13 12:11:29.310976512  "
      ]
     },
     "execution_count": 418,
     "metadata": {},
     "output_type": "execute_result"
    }
   ],
   "source": [
    "GaussData_t = gaussian_t.sample(1000)\n",
    "GaussData_t.head()"
   ]
  },
  {
   "cell_type": "code",
   "execution_count": 419,
   "metadata": {
    "ExecuteTime": {
     "end_time": "2021-07-30T09:47:49.581907Z",
     "start_time": "2021-07-30T09:47:48.786241Z"
    }
   },
   "outputs": [
    {
     "data": {
      "text/plain": [
       "0.5618599650507252"
      ]
     },
     "execution_count": 419,
     "metadata": {},
     "output_type": "execute_result"
    }
   ],
   "source": [
    "evaluate(GaussData_t, dfunmod_time)"
   ]
  },
  {
   "cell_type": "code",
   "execution_count": 420,
   "metadata": {
    "ExecuteTime": {
     "end_time": "2021-07-30T09:47:50.329012Z",
     "start_time": "2021-07-30T09:47:49.583907Z"
    },
    "scrolled": true
   },
   "outputs": [
    {
     "data": {
      "text/html": [
       "<div>\n",
       "<style scoped>\n",
       "    .dataframe tbody tr th:only-of-type {\n",
       "        vertical-align: middle;\n",
       "    }\n",
       "\n",
       "    .dataframe tbody tr th {\n",
       "        vertical-align: top;\n",
       "    }\n",
       "\n",
       "    .dataframe thead th {\n",
       "        text-align: right;\n",
       "    }\n",
       "</style>\n",
       "<table border=\"1\" class=\"dataframe\">\n",
       "  <thead>\n",
       "    <tr style=\"text-align: right;\">\n",
       "      <th></th>\n",
       "      <th>metric</th>\n",
       "      <th>name</th>\n",
       "      <th>raw_score</th>\n",
       "      <th>normalized_score</th>\n",
       "      <th>min_value</th>\n",
       "      <th>max_value</th>\n",
       "      <th>goal</th>\n",
       "    </tr>\n",
       "  </thead>\n",
       "  <tbody>\n",
       "    <tr>\n",
       "      <th>0</th>\n",
       "      <td>BNLogLikelihood</td>\n",
       "      <td>BayesianNetwork Log Likelihood</td>\n",
       "      <td>-1.513817</td>\n",
       "      <td>2.200685e-01</td>\n",
       "      <td>-inf</td>\n",
       "      <td>0.0</td>\n",
       "      <td>MAXIMIZE</td>\n",
       "    </tr>\n",
       "    <tr>\n",
       "      <th>1</th>\n",
       "      <td>LogisticDetection</td>\n",
       "      <td>LogisticRegression Detection</td>\n",
       "      <td>0.906621</td>\n",
       "      <td>9.066206e-01</td>\n",
       "      <td>0.0</td>\n",
       "      <td>1.0</td>\n",
       "      <td>MAXIMIZE</td>\n",
       "    </tr>\n",
       "    <tr>\n",
       "      <th>2</th>\n",
       "      <td>SVCDetection</td>\n",
       "      <td>SVC Detection</td>\n",
       "      <td>0.095874</td>\n",
       "      <td>9.587445e-02</td>\n",
       "      <td>0.0</td>\n",
       "      <td>1.0</td>\n",
       "      <td>MAXIMIZE</td>\n",
       "    </tr>\n",
       "    <tr>\n",
       "      <th>11</th>\n",
       "      <td>GMLogLikelihood</td>\n",
       "      <td>GaussianMixture Log Likelihood</td>\n",
       "      <td>-336.909686</td>\n",
       "      <td>4.808201e-147</td>\n",
       "      <td>-inf</td>\n",
       "      <td>inf</td>\n",
       "      <td>MAXIMIZE</td>\n",
       "    </tr>\n",
       "    <tr>\n",
       "      <th>12</th>\n",
       "      <td>CSTest</td>\n",
       "      <td>Chi-Squared</td>\n",
       "      <td>0.999994</td>\n",
       "      <td>9.999936e-01</td>\n",
       "      <td>0.0</td>\n",
       "      <td>1.0</td>\n",
       "      <td>MAXIMIZE</td>\n",
       "    </tr>\n",
       "    <tr>\n",
       "      <th>13</th>\n",
       "      <td>KSTest</td>\n",
       "      <td>Inverted Kolmogorov-Smirnov D statistic</td>\n",
       "      <td>0.801400</td>\n",
       "      <td>8.014000e-01</td>\n",
       "      <td>0.0</td>\n",
       "      <td>1.0</td>\n",
       "      <td>MAXIMIZE</td>\n",
       "    </tr>\n",
       "    <tr>\n",
       "      <th>14</th>\n",
       "      <td>KSTestExtended</td>\n",
       "      <td>Inverted Kolmogorov-Smirnov D statistic</td>\n",
       "      <td>0.857000</td>\n",
       "      <td>8.570000e-01</td>\n",
       "      <td>0.0</td>\n",
       "      <td>1.0</td>\n",
       "      <td>MAXIMIZE</td>\n",
       "    </tr>\n",
       "    <tr>\n",
       "      <th>27</th>\n",
       "      <td>ContinuousKLDivergence</td>\n",
       "      <td>Continuous Kullback–Leibler Divergence</td>\n",
       "      <td>0.123077</td>\n",
       "      <td>1.230765e-01</td>\n",
       "      <td>0.0</td>\n",
       "      <td>1.0</td>\n",
       "      <td>MAXIMIZE</td>\n",
       "    </tr>\n",
       "    <tr>\n",
       "      <th>28</th>\n",
       "      <td>DiscreteKLDivergence</td>\n",
       "      <td>Discrete Kullback–Leibler Divergence</td>\n",
       "      <td>0.982336</td>\n",
       "      <td>9.823355e-01</td>\n",
       "      <td>0.0</td>\n",
       "      <td>1.0</td>\n",
       "      <td>MAXIMIZE</td>\n",
       "    </tr>\n",
       "  </tbody>\n",
       "</table>\n",
       "</div>"
      ],
      "text/plain": [
       "                    metric                                     name  \\\n",
       "0          BNLogLikelihood           BayesianNetwork Log Likelihood   \n",
       "1        LogisticDetection             LogisticRegression Detection   \n",
       "2             SVCDetection                            SVC Detection   \n",
       "11         GMLogLikelihood           GaussianMixture Log Likelihood   \n",
       "12                  CSTest                              Chi-Squared   \n",
       "13                  KSTest  Inverted Kolmogorov-Smirnov D statistic   \n",
       "14          KSTestExtended  Inverted Kolmogorov-Smirnov D statistic   \n",
       "27  ContinuousKLDivergence   Continuous Kullback–Leibler Divergence   \n",
       "28    DiscreteKLDivergence     Discrete Kullback–Leibler Divergence   \n",
       "\n",
       "     raw_score  normalized_score  min_value  max_value      goal  \n",
       "0    -1.513817      2.200685e-01       -inf        0.0  MAXIMIZE  \n",
       "1     0.906621      9.066206e-01        0.0        1.0  MAXIMIZE  \n",
       "2     0.095874      9.587445e-02        0.0        1.0  MAXIMIZE  \n",
       "11 -336.909686     4.808201e-147       -inf        inf  MAXIMIZE  \n",
       "12    0.999994      9.999936e-01        0.0        1.0  MAXIMIZE  \n",
       "13    0.801400      8.014000e-01        0.0        1.0  MAXIMIZE  \n",
       "14    0.857000      8.570000e-01        0.0        1.0  MAXIMIZE  \n",
       "27    0.123077      1.230765e-01        0.0        1.0  MAXIMIZE  \n",
       "28    0.982336      9.823355e-01        0.0        1.0  MAXIMIZE  "
      ]
     },
     "execution_count": 420,
     "metadata": {},
     "output_type": "execute_result"
    }
   ],
   "source": [
    "evaluate(GaussData_t, dfunmod_time, aggregate=False)"
   ]
  },
  {
   "cell_type": "markdown",
   "metadata": {},
   "source": [
    "#### CTGAN\n"
   ]
  },
  {
   "cell_type": "code",
   "execution_count": 421,
   "metadata": {
    "ExecuteTime": {
     "end_time": "2021-07-30T09:48:13.804829Z",
     "start_time": "2021-07-30T09:47:50.331012Z"
    }
   },
   "outputs": [
    {
     "name": "stderr",
     "output_type": "stream",
     "text": [
      "2021-07-30 11:47:50,333 : MainThread : INFO : Fitting table None metadata\n",
      "2021-07-30 11:47:50,336 : MainThread : INFO : Anonymizing table None\n",
      "2021-07-30 11:47:50,337 : MainThread : INFO : Fitting constraints for table None\n",
      "2021-07-30 11:47:50,341 : MainThread : INFO : Fitting GaussianMultivariate()\n",
      "2021-07-30 11:47:50,890 : MainThread : INFO : Fitting GaussianMultivariate()\n",
      "2021-07-30 11:47:51,317 : MainThread : INFO : Fitting HyperTransformer for table None\n"
     ]
    }
   ],
   "source": [
    "ctgan_t = CTGAN(constraints=constraints_ctgan_time,\n",
    "                field_transformers=field_transformer_time)\n",
    "ctgan_t.fit(dfunmod_time)"
   ]
  },
  {
   "cell_type": "code",
   "execution_count": 422,
   "metadata": {
    "ExecuteTime": {
     "end_time": "2021-07-30T09:48:13.932810Z",
     "start_time": "2021-07-30T09:48:13.805806Z"
    }
   },
   "outputs": [
    {
     "name": "stderr",
     "output_type": "stream",
     "text": [
      "2021-07-30 11:48:13,878 : MainThread : INFO : 116 valid rows remaining. Resampling 131 rows\n"
     ]
    },
    {
     "data": {
      "text/html": [
       "<div>\n",
       "<style scoped>\n",
       "    .dataframe tbody tr th:only-of-type {\n",
       "        vertical-align: middle;\n",
       "    }\n",
       "\n",
       "    .dataframe tbody tr th {\n",
       "        vertical-align: top;\n",
       "    }\n",
       "\n",
       "    .dataframe thead th {\n",
       "        text-align: right;\n",
       "    }\n",
       "</style>\n",
       "<table border=\"1\" class=\"dataframe\">\n",
       "  <thead>\n",
       "    <tr style=\"text-align: right;\">\n",
       "      <th></th>\n",
       "      <th>sensors.__t</th>\n",
       "      <th>sensors.video.classes</th>\n",
       "      <th>sensors.video.scores</th>\n",
       "      <th>x1</th>\n",
       "      <th>y1</th>\n",
       "      <th>x2</th>\n",
       "      <th>y2</th>\n",
       "      <th>timestamp</th>\n",
       "    </tr>\n",
       "  </thead>\n",
       "  <tbody>\n",
       "    <tr>\n",
       "      <th>0</th>\n",
       "      <td>c</td>\n",
       "      <td>couch</td>\n",
       "      <td>0.581336</td>\n",
       "      <td>0.518441</td>\n",
       "      <td>0.097459</td>\n",
       "      <td>0.998127</td>\n",
       "      <td>0.559193</td>\n",
       "      <td>2021-07-13 12:10:49.760793600</td>\n",
       "    </tr>\n",
       "    <tr>\n",
       "      <th>1</th>\n",
       "      <td>c</td>\n",
       "      <td>chair</td>\n",
       "      <td>0.765732</td>\n",
       "      <td>0.461475</td>\n",
       "      <td>-0.003190</td>\n",
       "      <td>1.009313</td>\n",
       "      <td>0.222175</td>\n",
       "      <td>2021-07-13 12:09:37.034314496</td>\n",
       "    </tr>\n",
       "    <tr>\n",
       "      <th>2</th>\n",
       "      <td>c</td>\n",
       "      <td>couch</td>\n",
       "      <td>0.568460</td>\n",
       "      <td>0.524857</td>\n",
       "      <td>0.120847</td>\n",
       "      <td>0.644499</td>\n",
       "      <td>0.790587</td>\n",
       "      <td>2021-07-13 12:10:16.767402496</td>\n",
       "    </tr>\n",
       "    <tr>\n",
       "      <th>3</th>\n",
       "      <td>c</td>\n",
       "      <td>tv</td>\n",
       "      <td>0.574725</td>\n",
       "      <td>0.576039</td>\n",
       "      <td>0.156382</td>\n",
       "      <td>0.630265</td>\n",
       "      <td>0.908890</td>\n",
       "      <td>2021-07-13 12:10:39.998462464</td>\n",
       "    </tr>\n",
       "    <tr>\n",
       "      <th>4</th>\n",
       "      <td>c</td>\n",
       "      <td>couch</td>\n",
       "      <td>0.633601</td>\n",
       "      <td>0.405380</td>\n",
       "      <td>0.003844</td>\n",
       "      <td>0.744876</td>\n",
       "      <td>0.691511</td>\n",
       "      <td>2021-07-13 12:09:47.079137792</td>\n",
       "    </tr>\n",
       "  </tbody>\n",
       "</table>\n",
       "</div>"
      ],
      "text/plain": [
       "  sensors.__t sensors.video.classes  sensors.video.scores        x1        y1  \\\n",
       "0           c                 couch              0.581336  0.518441  0.097459   \n",
       "1           c                 chair              0.765732  0.461475 -0.003190   \n",
       "2           c                 couch              0.568460  0.524857  0.120847   \n",
       "3           c                    tv              0.574725  0.576039  0.156382   \n",
       "4           c                 couch              0.633601  0.405380  0.003844   \n",
       "\n",
       "         x2        y2                     timestamp  \n",
       "0  0.998127  0.559193 2021-07-13 12:10:49.760793600  \n",
       "1  1.009313  0.222175 2021-07-13 12:09:37.034314496  \n",
       "2  0.644499  0.790587 2021-07-13 12:10:16.767402496  \n",
       "3  0.630265  0.908890 2021-07-13 12:10:39.998462464  \n",
       "4  0.744876  0.691511 2021-07-13 12:09:47.079137792  "
      ]
     },
     "execution_count": 422,
     "metadata": {},
     "output_type": "execute_result"
    }
   ],
   "source": [
    "ctganData_t = gaussian_t.sample(1000)\n",
    "ctganData_t.head()"
   ]
  },
  {
   "cell_type": "code",
   "execution_count": 423,
   "metadata": {
    "ExecuteTime": {
     "end_time": "2021-07-30T09:48:14.713561Z",
     "start_time": "2021-07-30T09:48:13.938849Z"
    }
   },
   "outputs": [
    {
     "data": {
      "text/plain": [
       "0.5567587769841021"
      ]
     },
     "execution_count": 423,
     "metadata": {},
     "output_type": "execute_result"
    }
   ],
   "source": [
    "evaluate(ctganData_t, dfunmod_time)"
   ]
  },
  {
   "cell_type": "code",
   "execution_count": 424,
   "metadata": {
    "ExecuteTime": {
     "end_time": "2021-07-30T09:48:15.621527Z",
     "start_time": "2021-07-30T09:48:14.715530Z"
    },
    "scrolled": true
   },
   "outputs": [
    {
     "data": {
      "text/html": [
       "<div>\n",
       "<style scoped>\n",
       "    .dataframe tbody tr th:only-of-type {\n",
       "        vertical-align: middle;\n",
       "    }\n",
       "\n",
       "    .dataframe tbody tr th {\n",
       "        vertical-align: top;\n",
       "    }\n",
       "\n",
       "    .dataframe thead th {\n",
       "        text-align: right;\n",
       "    }\n",
       "</style>\n",
       "<table border=\"1\" class=\"dataframe\">\n",
       "  <thead>\n",
       "    <tr style=\"text-align: right;\">\n",
       "      <th></th>\n",
       "      <th>metric</th>\n",
       "      <th>name</th>\n",
       "      <th>raw_score</th>\n",
       "      <th>normalized_score</th>\n",
       "      <th>min_value</th>\n",
       "      <th>max_value</th>\n",
       "      <th>goal</th>\n",
       "    </tr>\n",
       "  </thead>\n",
       "  <tbody>\n",
       "    <tr>\n",
       "      <th>0</th>\n",
       "      <td>BNLogLikelihood</td>\n",
       "      <td>BayesianNetwork Log Likelihood</td>\n",
       "      <td>-1.495911</td>\n",
       "      <td>2.240444e-01</td>\n",
       "      <td>-inf</td>\n",
       "      <td>0.0</td>\n",
       "      <td>MAXIMIZE</td>\n",
       "    </tr>\n",
       "    <tr>\n",
       "      <th>1</th>\n",
       "      <td>LogisticDetection</td>\n",
       "      <td>LogisticRegression Detection</td>\n",
       "      <td>0.912390</td>\n",
       "      <td>9.123901e-01</td>\n",
       "      <td>0.0</td>\n",
       "      <td>1.0</td>\n",
       "      <td>MAXIMIZE</td>\n",
       "    </tr>\n",
       "    <tr>\n",
       "      <th>2</th>\n",
       "      <td>SVCDetection</td>\n",
       "      <td>SVC Detection</td>\n",
       "      <td>0.127867</td>\n",
       "      <td>1.278666e-01</td>\n",
       "      <td>0.0</td>\n",
       "      <td>1.0</td>\n",
       "      <td>MAXIMIZE</td>\n",
       "    </tr>\n",
       "    <tr>\n",
       "      <th>11</th>\n",
       "      <td>GMLogLikelihood</td>\n",
       "      <td>GaussianMixture Log Likelihood</td>\n",
       "      <td>-470.357567</td>\n",
       "      <td>5.324808e-205</td>\n",
       "      <td>-inf</td>\n",
       "      <td>inf</td>\n",
       "      <td>MAXIMIZE</td>\n",
       "    </tr>\n",
       "    <tr>\n",
       "      <th>12</th>\n",
       "      <td>CSTest</td>\n",
       "      <td>Chi-Squared</td>\n",
       "      <td>0.999977</td>\n",
       "      <td>9.999772e-01</td>\n",
       "      <td>0.0</td>\n",
       "      <td>1.0</td>\n",
       "      <td>MAXIMIZE</td>\n",
       "    </tr>\n",
       "    <tr>\n",
       "      <th>13</th>\n",
       "      <td>KSTest</td>\n",
       "      <td>Inverted Kolmogorov-Smirnov D statistic</td>\n",
       "      <td>0.789600</td>\n",
       "      <td>7.896000e-01</td>\n",
       "      <td>0.0</td>\n",
       "      <td>1.0</td>\n",
       "      <td>MAXIMIZE</td>\n",
       "    </tr>\n",
       "    <tr>\n",
       "      <th>14</th>\n",
       "      <td>KSTestExtended</td>\n",
       "      <td>Inverted Kolmogorov-Smirnov D statistic</td>\n",
       "      <td>0.849125</td>\n",
       "      <td>8.491250e-01</td>\n",
       "      <td>0.0</td>\n",
       "      <td>1.0</td>\n",
       "      <td>MAXIMIZE</td>\n",
       "    </tr>\n",
       "    <tr>\n",
       "      <th>27</th>\n",
       "      <td>ContinuousKLDivergence</td>\n",
       "      <td>Continuous Kullback–Leibler Divergence</td>\n",
       "      <td>0.121919</td>\n",
       "      <td>1.219187e-01</td>\n",
       "      <td>0.0</td>\n",
       "      <td>1.0</td>\n",
       "      <td>MAXIMIZE</td>\n",
       "    </tr>\n",
       "    <tr>\n",
       "      <th>28</th>\n",
       "      <td>DiscreteKLDivergence</td>\n",
       "      <td>Discrete Kullback–Leibler Divergence</td>\n",
       "      <td>0.970176</td>\n",
       "      <td>9.701755e-01</td>\n",
       "      <td>0.0</td>\n",
       "      <td>1.0</td>\n",
       "      <td>MAXIMIZE</td>\n",
       "    </tr>\n",
       "  </tbody>\n",
       "</table>\n",
       "</div>"
      ],
      "text/plain": [
       "                    metric                                     name  \\\n",
       "0          BNLogLikelihood           BayesianNetwork Log Likelihood   \n",
       "1        LogisticDetection             LogisticRegression Detection   \n",
       "2             SVCDetection                            SVC Detection   \n",
       "11         GMLogLikelihood           GaussianMixture Log Likelihood   \n",
       "12                  CSTest                              Chi-Squared   \n",
       "13                  KSTest  Inverted Kolmogorov-Smirnov D statistic   \n",
       "14          KSTestExtended  Inverted Kolmogorov-Smirnov D statistic   \n",
       "27  ContinuousKLDivergence   Continuous Kullback–Leibler Divergence   \n",
       "28    DiscreteKLDivergence     Discrete Kullback–Leibler Divergence   \n",
       "\n",
       "     raw_score  normalized_score  min_value  max_value      goal  \n",
       "0    -1.495911      2.240444e-01       -inf        0.0  MAXIMIZE  \n",
       "1     0.912390      9.123901e-01        0.0        1.0  MAXIMIZE  \n",
       "2     0.127867      1.278666e-01        0.0        1.0  MAXIMIZE  \n",
       "11 -470.357567     5.324808e-205       -inf        inf  MAXIMIZE  \n",
       "12    0.999977      9.999772e-01        0.0        1.0  MAXIMIZE  \n",
       "13    0.789600      7.896000e-01        0.0        1.0  MAXIMIZE  \n",
       "14    0.849125      8.491250e-01        0.0        1.0  MAXIMIZE  \n",
       "27    0.121919      1.219187e-01        0.0        1.0  MAXIMIZE  \n",
       "28    0.970176      9.701755e-01        0.0        1.0  MAXIMIZE  "
      ]
     },
     "execution_count": 424,
     "metadata": {},
     "output_type": "execute_result"
    }
   ],
   "source": [
    "evaluate(ctganData_t, dfunmod_time, aggregate=False)"
   ]
  },
  {
   "cell_type": "markdown",
   "metadata": {},
   "source": [
    "#### Copula GAN\n"
   ]
  },
  {
   "cell_type": "code",
   "execution_count": 425,
   "metadata": {
    "ExecuteTime": {
     "end_time": "2021-07-30T09:49:00.526255Z",
     "start_time": "2021-07-30T09:48:15.623530Z"
    }
   },
   "outputs": [
    {
     "name": "stderr",
     "output_type": "stream",
     "text": [
      "2021-07-30 11:48:15,626 : MainThread : INFO : Fitting table None metadata\n",
      "2021-07-30 11:48:15,629 : MainThread : INFO : Anonymizing table None\n",
      "2021-07-30 11:48:15,630 : MainThread : INFO : Fitting constraints for table None\n",
      "2021-07-30 11:48:15,635 : MainThread : INFO : Fitting GaussianMultivariate()\n",
      "2021-07-30 11:48:16,277 : MainThread : INFO : Fitting GaussianMultivariate()\n",
      "2021-07-30 11:48:16,744 : MainThread : INFO : Fitting HyperTransformer for table None\n"
     ]
    }
   ],
   "source": [
    "copula_t = CopulaGAN(constraints=constraints_copula_time,\n",
    "                     field_transformers=field_transformer_time,\n",
    "                     epochs=500,\n",
    "                     field_distributions=field_distribution)\n",
    "copula_t.fit(dfunmod_time)"
   ]
  },
  {
   "cell_type": "code",
   "execution_count": 426,
   "metadata": {
    "ExecuteTime": {
     "end_time": "2021-07-30T09:49:00.718247Z",
     "start_time": "2021-07-30T09:49:00.531252Z"
    }
   },
   "outputs": [
    {
     "name": "stderr",
     "output_type": "stream",
     "text": [
      "2021-07-30 11:49:00,594 : MainThread : INFO : 100 valid rows remaining. Resampling 111 rows\n",
      "2021-07-30 11:49:00,649 : MainThread : INFO : 2 valid rows remaining. Resampling 2 rows\n"
     ]
    },
    {
     "data": {
      "text/html": [
       "<div>\n",
       "<style scoped>\n",
       "    .dataframe tbody tr th:only-of-type {\n",
       "        vertical-align: middle;\n",
       "    }\n",
       "\n",
       "    .dataframe tbody tr th {\n",
       "        vertical-align: top;\n",
       "    }\n",
       "\n",
       "    .dataframe thead th {\n",
       "        text-align: right;\n",
       "    }\n",
       "</style>\n",
       "<table border=\"1\" class=\"dataframe\">\n",
       "  <thead>\n",
       "    <tr style=\"text-align: right;\">\n",
       "      <th></th>\n",
       "      <th>sensors.__t</th>\n",
       "      <th>sensors.video.classes</th>\n",
       "      <th>sensors.video.scores</th>\n",
       "      <th>x1</th>\n",
       "      <th>y1</th>\n",
       "      <th>x2</th>\n",
       "      <th>y2</th>\n",
       "      <th>timestamp</th>\n",
       "    </tr>\n",
       "  </thead>\n",
       "  <tbody>\n",
       "    <tr>\n",
       "      <th>0</th>\n",
       "      <td>c</td>\n",
       "      <td>couch</td>\n",
       "      <td>0.549953</td>\n",
       "      <td>0.388976</td>\n",
       "      <td>0.095848</td>\n",
       "      <td>0.624400</td>\n",
       "      <td>0.390779</td>\n",
       "      <td>2021-07-13 12:10:07.950645504</td>\n",
       "    </tr>\n",
       "    <tr>\n",
       "      <th>1</th>\n",
       "      <td>c</td>\n",
       "      <td>chair</td>\n",
       "      <td>0.652957</td>\n",
       "      <td>0.401461</td>\n",
       "      <td>0.056306</td>\n",
       "      <td>1.009313</td>\n",
       "      <td>0.741127</td>\n",
       "      <td>2021-07-13 12:10:05.693196544</td>\n",
       "    </tr>\n",
       "    <tr>\n",
       "      <th>2</th>\n",
       "      <td>c</td>\n",
       "      <td>chair</td>\n",
       "      <td>0.603774</td>\n",
       "      <td>0.514121</td>\n",
       "      <td>0.405936</td>\n",
       "      <td>0.617910</td>\n",
       "      <td>0.695372</td>\n",
       "      <td>2021-07-13 12:11:33.453347584</td>\n",
       "    </tr>\n",
       "    <tr>\n",
       "      <th>3</th>\n",
       "      <td>c</td>\n",
       "      <td>person</td>\n",
       "      <td>0.669977</td>\n",
       "      <td>0.422151</td>\n",
       "      <td>0.583970</td>\n",
       "      <td>1.009313</td>\n",
       "      <td>0.856921</td>\n",
       "      <td>2021-07-13 12:09:51.378735616</td>\n",
       "    </tr>\n",
       "    <tr>\n",
       "      <th>4</th>\n",
       "      <td>c</td>\n",
       "      <td>person</td>\n",
       "      <td>0.483625</td>\n",
       "      <td>0.578644</td>\n",
       "      <td>0.547689</td>\n",
       "      <td>0.648411</td>\n",
       "      <td>0.937832</td>\n",
       "      <td>2021-07-13 12:11:10.867446784</td>\n",
       "    </tr>\n",
       "  </tbody>\n",
       "</table>\n",
       "</div>"
      ],
      "text/plain": [
       "  sensors.__t sensors.video.classes  sensors.video.scores        x1        y1  \\\n",
       "0           c                 couch              0.549953  0.388976  0.095848   \n",
       "1           c                 chair              0.652957  0.401461  0.056306   \n",
       "2           c                 chair              0.603774  0.514121  0.405936   \n",
       "3           c                person              0.669977  0.422151  0.583970   \n",
       "4           c                person              0.483625  0.578644  0.547689   \n",
       "\n",
       "         x2        y2                     timestamp  \n",
       "0  0.624400  0.390779 2021-07-13 12:10:07.950645504  \n",
       "1  1.009313  0.741127 2021-07-13 12:10:05.693196544  \n",
       "2  0.617910  0.695372 2021-07-13 12:11:33.453347584  \n",
       "3  1.009313  0.856921 2021-07-13 12:09:51.378735616  \n",
       "4  0.648411  0.937832 2021-07-13 12:11:10.867446784  "
      ]
     },
     "execution_count": 426,
     "metadata": {},
     "output_type": "execute_result"
    }
   ],
   "source": [
    "copulaData_t = gaussian_t.sample(1000)\n",
    "copulaData_t.head()"
   ]
  },
  {
   "cell_type": "code",
   "execution_count": 427,
   "metadata": {
    "ExecuteTime": {
     "end_time": "2021-07-30T09:49:01.594247Z",
     "start_time": "2021-07-30T09:49:00.720250Z"
    }
   },
   "outputs": [
    {
     "data": {
      "text/plain": [
       "0.5526973449487828"
      ]
     },
     "execution_count": 427,
     "metadata": {},
     "output_type": "execute_result"
    }
   ],
   "source": [
    "evaluate(copulaData_t, dfunmod_time)"
   ]
  },
  {
   "cell_type": "code",
   "execution_count": 428,
   "metadata": {
    "ExecuteTime": {
     "end_time": "2021-07-30T09:49:02.422507Z",
     "start_time": "2021-07-30T09:49:01.596249Z"
    },
    "scrolled": true
   },
   "outputs": [
    {
     "data": {
      "text/html": [
       "<div>\n",
       "<style scoped>\n",
       "    .dataframe tbody tr th:only-of-type {\n",
       "        vertical-align: middle;\n",
       "    }\n",
       "\n",
       "    .dataframe tbody tr th {\n",
       "        vertical-align: top;\n",
       "    }\n",
       "\n",
       "    .dataframe thead th {\n",
       "        text-align: right;\n",
       "    }\n",
       "</style>\n",
       "<table border=\"1\" class=\"dataframe\">\n",
       "  <thead>\n",
       "    <tr style=\"text-align: right;\">\n",
       "      <th></th>\n",
       "      <th>metric</th>\n",
       "      <th>name</th>\n",
       "      <th>raw_score</th>\n",
       "      <th>normalized_score</th>\n",
       "      <th>min_value</th>\n",
       "      <th>max_value</th>\n",
       "      <th>goal</th>\n",
       "    </tr>\n",
       "  </thead>\n",
       "  <tbody>\n",
       "    <tr>\n",
       "      <th>0</th>\n",
       "      <td>BNLogLikelihood</td>\n",
       "      <td>BayesianNetwork Log Likelihood</td>\n",
       "      <td>-1.505075</td>\n",
       "      <td>2.220006e-01</td>\n",
       "      <td>-inf</td>\n",
       "      <td>0.0</td>\n",
       "      <td>MAXIMIZE</td>\n",
       "    </tr>\n",
       "    <tr>\n",
       "      <th>1</th>\n",
       "      <td>LogisticDetection</td>\n",
       "      <td>LogisticRegression Detection</td>\n",
       "      <td>0.890360</td>\n",
       "      <td>8.903601e-01</td>\n",
       "      <td>0.0</td>\n",
       "      <td>1.0</td>\n",
       "      <td>MAXIMIZE</td>\n",
       "    </tr>\n",
       "    <tr>\n",
       "      <th>2</th>\n",
       "      <td>SVCDetection</td>\n",
       "      <td>SVC Detection</td>\n",
       "      <td>0.133596</td>\n",
       "      <td>1.335960e-01</td>\n",
       "      <td>0.0</td>\n",
       "      <td>1.0</td>\n",
       "      <td>MAXIMIZE</td>\n",
       "    </tr>\n",
       "    <tr>\n",
       "      <th>11</th>\n",
       "      <td>GMLogLikelihood</td>\n",
       "      <td>GaussianMixture Log Likelihood</td>\n",
       "      <td>-484.846222</td>\n",
       "      <td>2.716196e-211</td>\n",
       "      <td>-inf</td>\n",
       "      <td>inf</td>\n",
       "      <td>MAXIMIZE</td>\n",
       "    </tr>\n",
       "    <tr>\n",
       "      <th>12</th>\n",
       "      <td>CSTest</td>\n",
       "      <td>Chi-Squared</td>\n",
       "      <td>0.999988</td>\n",
       "      <td>9.999876e-01</td>\n",
       "      <td>0.0</td>\n",
       "      <td>1.0</td>\n",
       "      <td>MAXIMIZE</td>\n",
       "    </tr>\n",
       "    <tr>\n",
       "      <th>13</th>\n",
       "      <td>KSTest</td>\n",
       "      <td>Inverted Kolmogorov-Smirnov D statistic</td>\n",
       "      <td>0.802400</td>\n",
       "      <td>8.024000e-01</td>\n",
       "      <td>0.0</td>\n",
       "      <td>1.0</td>\n",
       "      <td>MAXIMIZE</td>\n",
       "    </tr>\n",
       "    <tr>\n",
       "      <th>14</th>\n",
       "      <td>KSTestExtended</td>\n",
       "      <td>Inverted Kolmogorov-Smirnov D statistic</td>\n",
       "      <td>0.856125</td>\n",
       "      <td>8.561250e-01</td>\n",
       "      <td>0.0</td>\n",
       "      <td>1.0</td>\n",
       "      <td>MAXIMIZE</td>\n",
       "    </tr>\n",
       "    <tr>\n",
       "      <th>27</th>\n",
       "      <td>ContinuousKLDivergence</td>\n",
       "      <td>Continuous Kullback–Leibler Divergence</td>\n",
       "      <td>0.125170</td>\n",
       "      <td>1.251697e-01</td>\n",
       "      <td>0.0</td>\n",
       "      <td>1.0</td>\n",
       "      <td>MAXIMIZE</td>\n",
       "    </tr>\n",
       "    <tr>\n",
       "      <th>28</th>\n",
       "      <td>DiscreteKLDivergence</td>\n",
       "      <td>Discrete Kullback–Leibler Divergence</td>\n",
       "      <td>0.977235</td>\n",
       "      <td>9.772349e-01</td>\n",
       "      <td>0.0</td>\n",
       "      <td>1.0</td>\n",
       "      <td>MAXIMIZE</td>\n",
       "    </tr>\n",
       "  </tbody>\n",
       "</table>\n",
       "</div>"
      ],
      "text/plain": [
       "                    metric                                     name  \\\n",
       "0          BNLogLikelihood           BayesianNetwork Log Likelihood   \n",
       "1        LogisticDetection             LogisticRegression Detection   \n",
       "2             SVCDetection                            SVC Detection   \n",
       "11         GMLogLikelihood           GaussianMixture Log Likelihood   \n",
       "12                  CSTest                              Chi-Squared   \n",
       "13                  KSTest  Inverted Kolmogorov-Smirnov D statistic   \n",
       "14          KSTestExtended  Inverted Kolmogorov-Smirnov D statistic   \n",
       "27  ContinuousKLDivergence   Continuous Kullback–Leibler Divergence   \n",
       "28    DiscreteKLDivergence     Discrete Kullback–Leibler Divergence   \n",
       "\n",
       "     raw_score  normalized_score  min_value  max_value      goal  \n",
       "0    -1.505075      2.220006e-01       -inf        0.0  MAXIMIZE  \n",
       "1     0.890360      8.903601e-01        0.0        1.0  MAXIMIZE  \n",
       "2     0.133596      1.335960e-01        0.0        1.0  MAXIMIZE  \n",
       "11 -484.846222     2.716196e-211       -inf        inf  MAXIMIZE  \n",
       "12    0.999988      9.999876e-01        0.0        1.0  MAXIMIZE  \n",
       "13    0.802400      8.024000e-01        0.0        1.0  MAXIMIZE  \n",
       "14    0.856125      8.561250e-01        0.0        1.0  MAXIMIZE  \n",
       "27    0.125170      1.251697e-01        0.0        1.0  MAXIMIZE  \n",
       "28    0.977235      9.772349e-01        0.0        1.0  MAXIMIZE  "
      ]
     },
     "execution_count": 428,
     "metadata": {},
     "output_type": "execute_result"
    }
   ],
   "source": [
    "evaluate(copulaData_t, dfunmod_time, aggregate=False)"
   ]
  },
  {
   "cell_type": "markdown",
   "metadata": {},
   "source": [
    "#### TVAE"
   ]
  },
  {
   "cell_type": "code",
   "execution_count": 429,
   "metadata": {
    "ExecuteTime": {
     "end_time": "2021-07-30T09:49:11.211887Z",
     "start_time": "2021-07-30T09:49:02.424476Z"
    }
   },
   "outputs": [
    {
     "name": "stderr",
     "output_type": "stream",
     "text": [
      "2021-07-30 11:49:02,426 : MainThread : INFO : Fitting table None metadata\n",
      "2021-07-30 11:49:02,429 : MainThread : INFO : Anonymizing table None\n",
      "2021-07-30 11:49:02,431 : MainThread : INFO : Fitting constraints for table None\n",
      "2021-07-30 11:49:02,435 : MainThread : INFO : Fitting GaussianMultivariate()\n",
      "2021-07-30 11:49:03,034 : MainThread : INFO : Fitting GaussianMultivariate()\n",
      "2021-07-30 11:49:03,591 : MainThread : INFO : Fitting HyperTransformer for table None\n"
     ]
    }
   ],
   "source": [
    "tvae_t = TVAE(constraints=constraints_tvae_time,\n",
    "              field_transformers=field_transformer_time,\n",
    "              epochs=1000)\n",
    "tvae_t.fit(dfunmod_time)"
   ]
  },
  {
   "cell_type": "code",
   "execution_count": 430,
   "metadata": {
    "ExecuteTime": {
     "end_time": "2021-07-30T09:49:11.323856Z",
     "start_time": "2021-07-30T09:49:11.213858Z"
    }
   },
   "outputs": [
    {
     "name": "stderr",
     "output_type": "stream",
     "text": [
      "2021-07-30 11:49:11,258 : MainThread : INFO : 2 valid rows remaining. Resampling 2 rows\n"
     ]
    },
    {
     "data": {
      "text/html": [
       "<div>\n",
       "<style scoped>\n",
       "    .dataframe tbody tr th:only-of-type {\n",
       "        vertical-align: middle;\n",
       "    }\n",
       "\n",
       "    .dataframe tbody tr th {\n",
       "        vertical-align: top;\n",
       "    }\n",
       "\n",
       "    .dataframe thead th {\n",
       "        text-align: right;\n",
       "    }\n",
       "</style>\n",
       "<table border=\"1\" class=\"dataframe\">\n",
       "  <thead>\n",
       "    <tr style=\"text-align: right;\">\n",
       "      <th></th>\n",
       "      <th>sensors.__t</th>\n",
       "      <th>sensors.video.classes</th>\n",
       "      <th>sensors.video.scores</th>\n",
       "      <th>x1</th>\n",
       "      <th>y1</th>\n",
       "      <th>x2</th>\n",
       "      <th>y2</th>\n",
       "      <th>timestamp</th>\n",
       "    </tr>\n",
       "  </thead>\n",
       "  <tbody>\n",
       "    <tr>\n",
       "      <th>0</th>\n",
       "      <td>c</td>\n",
       "      <td>chair</td>\n",
       "      <td>0.510740</td>\n",
       "      <td>0.473976</td>\n",
       "      <td>0.463139</td>\n",
       "      <td>0.624100</td>\n",
       "      <td>0.529434</td>\n",
       "      <td>2021-07-13 12:11:16.995308032</td>\n",
       "    </tr>\n",
       "    <tr>\n",
       "      <th>1</th>\n",
       "      <td>c</td>\n",
       "      <td>couch</td>\n",
       "      <td>0.655277</td>\n",
       "      <td>0.562139</td>\n",
       "      <td>0.008166</td>\n",
       "      <td>1.005261</td>\n",
       "      <td>0.763769</td>\n",
       "      <td>2021-07-13 12:11:30.746741248</td>\n",
       "    </tr>\n",
       "    <tr>\n",
       "      <th>2</th>\n",
       "      <td>c</td>\n",
       "      <td>tv</td>\n",
       "      <td>0.552661</td>\n",
       "      <td>0.531660</td>\n",
       "      <td>0.048352</td>\n",
       "      <td>0.981088</td>\n",
       "      <td>0.774548</td>\n",
       "      <td>2021-07-13 12:10:50.060996864</td>\n",
       "    </tr>\n",
       "    <tr>\n",
       "      <th>3</th>\n",
       "      <td>c</td>\n",
       "      <td>chair</td>\n",
       "      <td>0.524068</td>\n",
       "      <td>0.472248</td>\n",
       "      <td>0.492668</td>\n",
       "      <td>0.642890</td>\n",
       "      <td>0.565581</td>\n",
       "      <td>2021-07-13 12:09:53.673585920</td>\n",
       "    </tr>\n",
       "    <tr>\n",
       "      <th>4</th>\n",
       "      <td>c</td>\n",
       "      <td>chair</td>\n",
       "      <td>0.544177</td>\n",
       "      <td>0.468868</td>\n",
       "      <td>0.437606</td>\n",
       "      <td>0.624016</td>\n",
       "      <td>0.624462</td>\n",
       "      <td>2021-07-13 12:10:02.089868288</td>\n",
       "    </tr>\n",
       "  </tbody>\n",
       "</table>\n",
       "</div>"
      ],
      "text/plain": [
       "  sensors.__t sensors.video.classes  sensors.video.scores        x1        y1  \\\n",
       "0           c                 chair              0.510740  0.473976  0.463139   \n",
       "1           c                 couch              0.655277  0.562139  0.008166   \n",
       "2           c                    tv              0.552661  0.531660  0.048352   \n",
       "3           c                 chair              0.524068  0.472248  0.492668   \n",
       "4           c                 chair              0.544177  0.468868  0.437606   \n",
       "\n",
       "         x2        y2                     timestamp  \n",
       "0  0.624100  0.529434 2021-07-13 12:11:16.995308032  \n",
       "1  1.005261  0.763769 2021-07-13 12:11:30.746741248  \n",
       "2  0.981088  0.774548 2021-07-13 12:10:50.060996864  \n",
       "3  0.642890  0.565581 2021-07-13 12:09:53.673585920  \n",
       "4  0.624016  0.624462 2021-07-13 12:10:02.089868288  "
      ]
     },
     "execution_count": 430,
     "metadata": {},
     "output_type": "execute_result"
    }
   ],
   "source": [
    "tvaeData_t = tvae_t.sample(1000)\n",
    "tvaeData_t.head()"
   ]
  },
  {
   "cell_type": "code",
   "execution_count": 431,
   "metadata": {
    "ExecuteTime": {
     "end_time": "2021-07-30T09:49:12.154884Z",
     "start_time": "2021-07-30T09:49:11.327864Z"
    }
   },
   "outputs": [
    {
     "data": {
      "text/plain": [
       "0.6172510367960314"
      ]
     },
     "execution_count": 431,
     "metadata": {},
     "output_type": "execute_result"
    }
   ],
   "source": [
    "evaluate(tvaeData_t, dfunmod_time)"
   ]
  },
  {
   "cell_type": "code",
   "execution_count": 432,
   "metadata": {
    "ExecuteTime": {
     "end_time": "2021-07-30T09:49:13.050073Z",
     "start_time": "2021-07-30T09:49:12.156855Z"
    }
   },
   "outputs": [
    {
     "data": {
      "text/html": [
       "<div>\n",
       "<style scoped>\n",
       "    .dataframe tbody tr th:only-of-type {\n",
       "        vertical-align: middle;\n",
       "    }\n",
       "\n",
       "    .dataframe tbody tr th {\n",
       "        vertical-align: top;\n",
       "    }\n",
       "\n",
       "    .dataframe thead th {\n",
       "        text-align: right;\n",
       "    }\n",
       "</style>\n",
       "<table border=\"1\" class=\"dataframe\">\n",
       "  <thead>\n",
       "    <tr style=\"text-align: right;\">\n",
       "      <th></th>\n",
       "      <th>metric</th>\n",
       "      <th>name</th>\n",
       "      <th>raw_score</th>\n",
       "      <th>normalized_score</th>\n",
       "      <th>min_value</th>\n",
       "      <th>max_value</th>\n",
       "      <th>goal</th>\n",
       "    </tr>\n",
       "  </thead>\n",
       "  <tbody>\n",
       "    <tr>\n",
       "      <th>0</th>\n",
       "      <td>BNLogLikelihood</td>\n",
       "      <td>BayesianNetwork Log Likelihood</td>\n",
       "      <td>-1.430450</td>\n",
       "      <td>2.392013e-01</td>\n",
       "      <td>-inf</td>\n",
       "      <td>0.0</td>\n",
       "      <td>MAXIMIZE</td>\n",
       "    </tr>\n",
       "    <tr>\n",
       "      <th>1</th>\n",
       "      <td>LogisticDetection</td>\n",
       "      <td>LogisticRegression Detection</td>\n",
       "      <td>0.941478</td>\n",
       "      <td>9.414779e-01</td>\n",
       "      <td>0.0</td>\n",
       "      <td>1.0</td>\n",
       "      <td>MAXIMIZE</td>\n",
       "    </tr>\n",
       "    <tr>\n",
       "      <th>2</th>\n",
       "      <td>SVCDetection</td>\n",
       "      <td>SVC Detection</td>\n",
       "      <td>0.552210</td>\n",
       "      <td>5.522099e-01</td>\n",
       "      <td>0.0</td>\n",
       "      <td>1.0</td>\n",
       "      <td>MAXIMIZE</td>\n",
       "    </tr>\n",
       "    <tr>\n",
       "      <th>11</th>\n",
       "      <td>GMLogLikelihood</td>\n",
       "      <td>GaussianMixture Log Likelihood</td>\n",
       "      <td>-190.938980</td>\n",
       "      <td>1.191940e-83</td>\n",
       "      <td>-inf</td>\n",
       "      <td>inf</td>\n",
       "      <td>MAXIMIZE</td>\n",
       "    </tr>\n",
       "    <tr>\n",
       "      <th>12</th>\n",
       "      <td>CSTest</td>\n",
       "      <td>Chi-Squared</td>\n",
       "      <td>0.999973</td>\n",
       "      <td>9.999731e-01</td>\n",
       "      <td>0.0</td>\n",
       "      <td>1.0</td>\n",
       "      <td>MAXIMIZE</td>\n",
       "    </tr>\n",
       "    <tr>\n",
       "      <th>13</th>\n",
       "      <td>KSTest</td>\n",
       "      <td>Inverted Kolmogorov-Smirnov D statistic</td>\n",
       "      <td>0.826200</td>\n",
       "      <td>8.262000e-01</td>\n",
       "      <td>0.0</td>\n",
       "      <td>1.0</td>\n",
       "      <td>MAXIMIZE</td>\n",
       "    </tr>\n",
       "    <tr>\n",
       "      <th>14</th>\n",
       "      <td>KSTestExtended</td>\n",
       "      <td>Inverted Kolmogorov-Smirnov D statistic</td>\n",
       "      <td>0.865125</td>\n",
       "      <td>8.651250e-01</td>\n",
       "      <td>0.0</td>\n",
       "      <td>1.0</td>\n",
       "      <td>MAXIMIZE</td>\n",
       "    </tr>\n",
       "    <tr>\n",
       "      <th>27</th>\n",
       "      <td>ContinuousKLDivergence</td>\n",
       "      <td>Continuous Kullback–Leibler Divergence</td>\n",
       "      <td>0.189689</td>\n",
       "      <td>1.896889e-01</td>\n",
       "      <td>0.0</td>\n",
       "      <td>1.0</td>\n",
       "      <td>MAXIMIZE</td>\n",
       "    </tr>\n",
       "    <tr>\n",
       "      <th>28</th>\n",
       "      <td>DiscreteKLDivergence</td>\n",
       "      <td>Discrete Kullback–Leibler Divergence</td>\n",
       "      <td>0.961676</td>\n",
       "      <td>9.616759e-01</td>\n",
       "      <td>0.0</td>\n",
       "      <td>1.0</td>\n",
       "      <td>MAXIMIZE</td>\n",
       "    </tr>\n",
       "  </tbody>\n",
       "</table>\n",
       "</div>"
      ],
      "text/plain": [
       "                    metric                                     name  \\\n",
       "0          BNLogLikelihood           BayesianNetwork Log Likelihood   \n",
       "1        LogisticDetection             LogisticRegression Detection   \n",
       "2             SVCDetection                            SVC Detection   \n",
       "11         GMLogLikelihood           GaussianMixture Log Likelihood   \n",
       "12                  CSTest                              Chi-Squared   \n",
       "13                  KSTest  Inverted Kolmogorov-Smirnov D statistic   \n",
       "14          KSTestExtended  Inverted Kolmogorov-Smirnov D statistic   \n",
       "27  ContinuousKLDivergence   Continuous Kullback–Leibler Divergence   \n",
       "28    DiscreteKLDivergence     Discrete Kullback–Leibler Divergence   \n",
       "\n",
       "     raw_score  normalized_score  min_value  max_value      goal  \n",
       "0    -1.430450      2.392013e-01       -inf        0.0  MAXIMIZE  \n",
       "1     0.941478      9.414779e-01        0.0        1.0  MAXIMIZE  \n",
       "2     0.552210      5.522099e-01        0.0        1.0  MAXIMIZE  \n",
       "11 -190.938980      1.191940e-83       -inf        inf  MAXIMIZE  \n",
       "12    0.999973      9.999731e-01        0.0        1.0  MAXIMIZE  \n",
       "13    0.826200      8.262000e-01        0.0        1.0  MAXIMIZE  \n",
       "14    0.865125      8.651250e-01        0.0        1.0  MAXIMIZE  \n",
       "27    0.189689      1.896889e-01        0.0        1.0  MAXIMIZE  \n",
       "28    0.961676      9.616759e-01        0.0        1.0  MAXIMIZE  "
      ]
     },
     "execution_count": 432,
     "metadata": {},
     "output_type": "execute_result"
    }
   ],
   "source": [
    "evaluate(tvaeData_t, dfunmod_time, aggregate=False)"
   ]
  },
  {
   "cell_type": "markdown",
   "metadata": {},
   "source": [
    "### Visualizing data"
   ]
  },
  {
   "cell_type": "markdown",
   "metadata": {},
   "source": [
    "#### x and y values"
   ]
  },
  {
   "cell_type": "markdown",
   "metadata": {},
   "source": [
    "It is important to use the model which best matches the data and with the SDV library all 4 models available for the single table series use the same constraints an is thus easy to use as stated previously. The evaluation and the following visualisation show that we cannot just rely on the _GaussianCopula_ model to always perform best despite it having had success in the GAN experimentation noteook. In this case it, and the CTGAN and CopulaGAN model, fail to observe the clear segmentation that occured in the x2 variable which could be of importance in some data, whereas the TVAE model did not."
   ]
  },
  {
   "cell_type": "code",
   "execution_count": 433,
   "metadata": {
    "ExecuteTime": {
     "end_time": "2021-07-30T09:49:13.418070Z",
     "start_time": "2021-07-30T09:49:13.052069Z"
    }
   },
   "outputs": [
    {
     "data": {
      "text/plain": [
       "<AxesSubplot:xlabel='timestamp', ylabel='y2'>"
      ]
     },
     "execution_count": 433,
     "metadata": {},
     "output_type": "execute_result"
    },
    {
     "data": {
      "image/png": "[encoded data removed]",
      "text/plain": [
       "<Figure size 432x288 with 1 Axes>"
      ]
     },
     "metadata": {
      "needs_background": "light"
     },
     "output_type": "display_data"
    },
    {
     "data": {
      "image/png": "[encoded data removed]",
      "text/plain": [
       "<Figure size 432x288 with 1 Axes>"
      ]
     },
     "metadata": {
      "needs_background": "light"
     },
     "output_type": "display_data"
    }
   ],
   "source": [
    "ax = dfunmod_time.plot.scatter(x='timestamp', y='x1')\n",
    "dfunmod_time.plot.scatter(x='timestamp', y='x2', color='red', ax=ax)\n",
    "ax2 = dfunmod_time.plot.scatter(x='timestamp', y='y1')\n",
    "dfunmod_time.plot.scatter(x='timestamp', y='y2', color='red', ax=ax2)"
   ]
  },
  {
   "cell_type": "markdown",
   "metadata": {},
   "source": [
    "Gaussian Model with 'transform'"
   ]
  },
  {
   "cell_type": "code",
   "execution_count": 434,
   "metadata": {
    "ExecuteTime": {
     "end_time": "2021-07-30T09:49:13.769070Z",
     "start_time": "2021-07-30T09:49:13.420081Z"
    }
   },
   "outputs": [
    {
     "data": {
      "text/plain": [
       "<AxesSubplot:xlabel='timestamp', ylabel='y2'>"
      ]
     },
     "execution_count": 434,
     "metadata": {},
     "output_type": "execute_result"
    },
    {
     "data": {
      "image/png": "[encoded data removed]",
      "text/plain": [
       "<Figure size 432x288 with 1 Axes>"
      ]
     },
     "metadata": {
      "needs_background": "light"
     },
     "output_type": "display_data"
    },
    {
     "data": {
      "image/png": "[encoded data removed]",
      "text/plain": [
       "<Figure size 432x288 with 1 Axes>"
      ]
     },
     "metadata": {
      "needs_background": "light"
     },
     "output_type": "display_data"
    }
   ],
   "source": [
    "ax = GaussData_t.plot.scatter(x='timestamp', y='x1')\n",
    "GaussData_t.plot.scatter(x='timestamp', y='x2', color='red', ax=ax)\n",
    "ax2 = GaussData_t.plot.scatter(x='timestamp', y='y1')\n",
    "GaussData_t.plot.scatter(x='timestamp', y='y2', color='red', ax=ax2)"
   ]
  },
  {
   "cell_type": "markdown",
   "metadata": {},
   "source": [
    "TVAE model without 'reasonable' constraint"
   ]
  },
  {
   "cell_type": "code",
   "execution_count": 435,
   "metadata": {
    "ExecuteTime": {
     "end_time": "2021-07-30T09:49:14.136620Z",
     "start_time": "2021-07-30T09:49:13.772068Z"
    },
    "scrolled": false
   },
   "outputs": [
    {
     "data": {
      "text/plain": [
       "<AxesSubplot:xlabel='timestamp', ylabel='y2'>"
      ]
     },
     "execution_count": 435,
     "metadata": {},
     "output_type": "execute_result"
    },
    {
     "data": {
      "image/png": "[encoded data removed]",
      "text/plain": [
       "<Figure size 432x288 with 1 Axes>"
      ]
     },
     "metadata": {
      "needs_background": "light"
     },
     "output_type": "display_data"
    },
    {
     "data": {
      "image/png": "[encoded data removed]",
      "text/plain": [
       "<Figure size 432x288 with 1 Axes>"
      ]
     },
     "metadata": {
      "needs_background": "light"
     },
     "output_type": "display_data"
    }
   ],
   "source": [
    "ax = tvaeData_t.plot.scatter(x='timestamp', y='x1')\n",
    "tvaeData_t.plot.scatter(x='timestamp', y='x2', color='red', ax=ax)\n",
    "ax2 = tvaeData_t.plot.scatter(x='timestamp', y='y1')\n",
    "tvaeData_t.plot.scatter(x='timestamp', y='y2', color='red', ax=ax2)"
   ]
  },
  {
   "cell_type": "markdown",
   "metadata": {},
   "source": [
    "#### Timestamps\n",
    "The time range of the available data is too short to make any conclusion on the accuracy of the SDV models on timestamp distribution. However, it is clear timestamps are generated with each message in a similar date range. More data is required to evaluate how good these models are as a whole but it seems promising.\n",
    "\n",
    "**NOTE** this model amplifies data, not extends time stamps to new dates"
   ]
  },
  {
   "cell_type": "code",
   "execution_count": 436,
   "metadata": {
    "ExecuteTime": {
     "end_time": "2021-07-30T09:49:14.309823Z",
     "start_time": "2021-07-30T09:49:14.138624Z"
    }
   },
   "outputs": [
    {
     "data": {
      "text/plain": [
       "<AxesSubplot:xlabel='timestamp'>"
      ]
     },
     "execution_count": 436,
     "metadata": {},
     "output_type": "execute_result"
    },
    {
     "data": {
      "image/png": "[encoded data removed]",
      "text/plain": [
       "<Figure size 720x360 with 1 Axes>"
      ]
     },
     "metadata": {
      "needs_background": "light"
     },
     "output_type": "display_data"
    }
   ],
   "source": [
    "real_per_minute = dfunmod_time.groupby(\n",
    "    [dfunmod_time['timestamp'].astype('datetime64[m]')]).count()\n",
    "real_per_minute.plot(kind='bar', figsize=(10, 5), legend=None)"
   ]
  },
  {
   "cell_type": "code",
   "execution_count": 437,
   "metadata": {
    "ExecuteTime": {
     "end_time": "2021-07-30T09:49:14.501823Z",
     "start_time": "2021-07-30T09:49:14.312823Z"
    }
   },
   "outputs": [
    {
     "data": {
      "text/plain": [
       "<AxesSubplot:xlabel='timestamp'>"
      ]
     },
     "execution_count": 437,
     "metadata": {},
     "output_type": "execute_result"
    },
    {
     "data": {
      "image/png": "[encoded data removed]",
      "text/plain": [
       "<Figure size 720x360 with 1 Axes>"
      ]
     },
     "metadata": {
      "needs_background": "light"
     },
     "output_type": "display_data"
    }
   ],
   "source": [
    "Gauss_per_minute = GaussData_t.groupby(\n",
    "    [GaussData_t['timestamp'].astype('datetime64[m]')]).count()\n",
    "Gauss_per_minute.plot(kind='bar', figsize=(10, 5), legend=None)"
   ]
  },
  {
   "cell_type": "code",
   "execution_count": 438,
   "metadata": {
    "ExecuteTime": {
     "end_time": "2021-07-30T09:49:14.739822Z",
     "start_time": "2021-07-30T09:49:14.503825Z"
    }
   },
   "outputs": [
    {
     "data": {
      "text/plain": [
       "<AxesSubplot:xlabel='timestamp'>"
      ]
     },
     "execution_count": 438,
     "metadata": {},
     "output_type": "execute_result"
    },
    {
     "data": {
      "image/png": "[encoded data removed]",
      "text/plain": [
       "<Figure size 720x360 with 1 Axes>"
      ]
     },
     "metadata": {
      "needs_background": "light"
     },
     "output_type": "display_data"
    }
   ],
   "source": [
    "tvae_per_minute = tvaeData_t.groupby(\n",
    "    [tvaeData_t['timestamp'].astype('datetime64[m]')]).count()\n",
    "tvae_per_minute.plot(kind='bar', figsize=(10, 5), legend=None)"
   ]
  },
  {
   "cell_type": "markdown",
   "metadata": {},
   "source": [
    "### Timeseries Par Model\n",
    "Using SDV par model made specifically to generate timeseries data (PAR) powering it with the model which worked best to fit the model in general. Need far more data to understand what is going on and how to make it work the way we want it to/if it is currently doing what we'd want it to do."
   ]
  },
  {
   "cell_type": "code",
   "execution_count": 439,
   "metadata": {
    "ExecuteTime": {
     "end_time": "2021-07-30T09:49:14.755823Z",
     "start_time": "2021-07-30T09:49:14.742825Z"
    },
    "init_cell": true
   },
   "outputs": [],
   "source": [
    "from sdv.timeseries import PAR"
   ]
  },
  {
   "cell_type": "code",
   "execution_count": 498,
   "metadata": {
    "ExecuteTime": {
     "end_time": "2021-07-30T09:53:58.852484Z",
     "start_time": "2021-07-30T09:53:47.315678Z"
    }
   },
   "outputs": [
    {
     "name": "stderr",
     "output_type": "stream",
     "text": [
      "2021-07-30 11:53:47,316 : MainThread : INFO : Fitting table None metadata\n",
      "2021-07-30 11:53:47,320 : MainThread : INFO : Anonymizing table None\n",
      "2021-07-30 11:53:47,320 : MainThread : INFO : Fitting constraints for table None\n",
      "2021-07-30 11:53:47,321 : MainThread : INFO : Fitting HyperTransformer for table None\n",
      "2021-07-30 11:53:47,328 : MainThread : INFO : PARModel(epochs=500, sample_size=1, cuda='cpu', verbose=True) instance created\n"
     ]
    },
    {
     "name": "stdout",
     "output_type": "stream",
     "text": [
      "PARModel(epochs=500, sample_size=1, cuda='cpu', verbose=True) instance created\n"
     ]
    },
    {
     "name": "stderr",
     "output_type": "stream",
     "text": [
      "Epoch 500 | Loss 5.90355920791626: 100%|█████████████████████████████████████████████| 500/500 [00:11<00:00, 43.52it/s]\n"
     ]
    }
   ],
   "source": [
    "model = PAR(sequence_index='timestamp', context_model=tvae_t, verbose = True, epochs = 500)\n",
    "model.fit(dfunmod_time)"
   ]
  },
  {
   "cell_type": "code",
   "execution_count": 499,
   "metadata": {
    "ExecuteTime": {
     "end_time": "2021-07-30T09:54:21.556635Z",
     "start_time": "2021-07-30T09:53:58.854494Z"
    }
   },
   "outputs": [
    {
     "name": "stderr",
     "output_type": "stream",
     "text": [
      "100%|████████████████████████████████████████████████████████████████████████████████| 100/100 [00:22<00:00,  4.42it/s]\n"
     ]
    },
    {
     "data": {
      "text/html": [
       "<div>\n",
       "<style scoped>\n",
       "    .dataframe tbody tr th:only-of-type {\n",
       "        vertical-align: middle;\n",
       "    }\n",
       "\n",
       "    .dataframe tbody tr th {\n",
       "        vertical-align: top;\n",
       "    }\n",
       "\n",
       "    .dataframe thead th {\n",
       "        text-align: right;\n",
       "    }\n",
       "</style>\n",
       "<table border=\"1\" class=\"dataframe\">\n",
       "  <thead>\n",
       "    <tr style=\"text-align: right;\">\n",
       "      <th></th>\n",
       "      <th>sensors.__t</th>\n",
       "      <th>sensors.video.classes</th>\n",
       "      <th>sensors.video.scores</th>\n",
       "      <th>x1</th>\n",
       "      <th>y1</th>\n",
       "      <th>x2</th>\n",
       "      <th>y2</th>\n",
       "      <th>timestamp</th>\n",
       "    </tr>\n",
       "  </thead>\n",
       "  <tbody>\n",
       "    <tr>\n",
       "      <th>0</th>\n",
       "      <td>c</td>\n",
       "      <td>person</td>\n",
       "      <td>0.655647</td>\n",
       "      <td>0.423299</td>\n",
       "      <td>0.197858</td>\n",
       "      <td>0.664446</td>\n",
       "      <td>0.275379</td>\n",
       "      <td>2021-07-13 12:09:36.857984000</td>\n",
       "    </tr>\n",
       "    <tr>\n",
       "      <th>1</th>\n",
       "      <td>c</td>\n",
       "      <td>couch</td>\n",
       "      <td>0.615333</td>\n",
       "      <td>0.568905</td>\n",
       "      <td>-0.061102</td>\n",
       "      <td>0.747960</td>\n",
       "      <td>0.463727</td>\n",
       "      <td>2021-07-13 12:09:37.296886016</td>\n",
       "    </tr>\n",
       "    <tr>\n",
       "      <th>2</th>\n",
       "      <td>c</td>\n",
       "      <td>tv</td>\n",
       "      <td>0.553128</td>\n",
       "      <td>0.500394</td>\n",
       "      <td>0.463920</td>\n",
       "      <td>0.838002</td>\n",
       "      <td>0.670293</td>\n",
       "      <td>2021-07-13 12:09:36.160031488</td>\n",
       "    </tr>\n",
       "    <tr>\n",
       "      <th>3</th>\n",
       "      <td>c</td>\n",
       "      <td>laptop</td>\n",
       "      <td>0.519562</td>\n",
       "      <td>0.500329</td>\n",
       "      <td>0.314929</td>\n",
       "      <td>0.703930</td>\n",
       "      <td>0.568349</td>\n",
       "      <td>2021-07-13 12:09:36.948231936</td>\n",
       "    </tr>\n",
       "    <tr>\n",
       "      <th>4</th>\n",
       "      <td>c</td>\n",
       "      <td>person</td>\n",
       "      <td>0.661660</td>\n",
       "      <td>0.483441</td>\n",
       "      <td>-0.182213</td>\n",
       "      <td>0.895938</td>\n",
       "      <td>0.570021</td>\n",
       "      <td>2021-07-13 12:09:39.006925056</td>\n",
       "    </tr>\n",
       "  </tbody>\n",
       "</table>\n",
       "</div>"
      ],
      "text/plain": [
       "  sensors.__t sensors.video.classes  sensors.video.scores        x1        y1  \\\n",
       "0           c                person              0.655647  0.423299  0.197858   \n",
       "1           c                 couch              0.615333  0.568905 -0.061102   \n",
       "2           c                    tv              0.553128  0.500394  0.463920   \n",
       "3           c                laptop              0.519562  0.500329  0.314929   \n",
       "4           c                person              0.661660  0.483441 -0.182213   \n",
       "\n",
       "         x2        y2                     timestamp  \n",
       "0  0.664446  0.275379 2021-07-13 12:09:36.857984000  \n",
       "1  0.747960  0.463727 2021-07-13 12:09:37.296886016  \n",
       "2  0.838002  0.670293 2021-07-13 12:09:36.160031488  \n",
       "3  0.703930  0.568349 2021-07-13 12:09:36.948231936  \n",
       "4  0.895938  0.570021 2021-07-13 12:09:39.006925056  "
      ]
     },
     "execution_count": 499,
     "metadata": {},
     "output_type": "execute_result"
    }
   ],
   "source": [
    "times = model.sample(num_sequences=100)\n",
    "times.head()"
   ]
  },
  {
   "cell_type": "code",
   "execution_count": 500,
   "metadata": {
    "ExecuteTime": {
     "end_time": "2021-07-30T09:54:21.811036Z",
     "start_time": "2021-07-30T09:54:21.558634Z"
    }
   },
   "outputs": [
    {
     "data": {
      "text/plain": [
       "<AxesSubplot:xlabel='timestamp'>"
      ]
     },
     "execution_count": 500,
     "metadata": {},
     "output_type": "execute_result"
    },
    {
     "data": {
      "image/png": "[encoded data removed]",
      "text/plain": [
       "<Figure size 720x360 with 1 Axes>"
      ]
     },
     "metadata": {
      "needs_background": "light"
     },
     "output_type": "display_data"
    }
   ],
   "source": [
    "parmodel_per_minute = times.groupby(\n",
    "    [times['timestamp'].astype('datetime64[m]')]).count()\n",
    "parmodel_per_minute.plot(kind='bar', figsize=(10, 5), legend=None)"
   ]
  },
  {
   "cell_type": "code",
   "execution_count": 501,
   "metadata": {
    "ExecuteTime": {
     "end_time": "2021-07-30T09:54:23.803217Z",
     "start_time": "2021-07-30T09:54:21.814037Z"
    }
   },
   "outputs": [
    {
     "data": {
      "text/plain": [
       "0.5232330146141102"
      ]
     },
     "execution_count": 501,
     "metadata": {},
     "output_type": "execute_result"
    }
   ],
   "source": [
    "evaluate(\n",
    "    times, dfunmod_time\n",
    ")  # gets worse as timestamps get further away from initial 3 minutes which makes sense"
   ]
  },
  {
   "cell_type": "markdown",
   "metadata": {},
   "source": [
    "A possible reason for the behavior we are noticing is there is only one bell shaped pattern in this data. In general, timeseries machine learning models estimate the next step in the model. In this case, though we would like the shape to repeat as a sinusoidal shape, the logical next steps after 12:10 timestamp follow a curve converging to zero, so no matter how many sequences we request from the model, it will refuse to add data with timestamps exceeding 12:13. Changing the sequence length with elgonate the shape but not replicate it."
   ]
  },
  {
   "cell_type": "markdown",
   "metadata": {},
   "source": [
    "# Generating the entire dataset at once"
   ]
  },
  {
   "cell_type": "markdown",
   "metadata": {},
   "source": [
    "## Preprocessing"
   ]
  },
  {
   "cell_type": "markdown",
   "metadata": {},
   "source": [
    "### Handling boxes"
   ]
  },
  {
   "cell_type": "markdown",
   "metadata": {},
   "source": [
    "#### Seperating messages"
   ]
  },
  {
   "cell_type": "code",
   "execution_count": 582,
   "metadata": {
    "ExecuteTime": {
     "end_time": "2021-07-30T11:23:55.634596Z",
     "start_time": "2021-07-30T11:23:55.610595Z"
    },
    "init_cell": true
   },
   "outputs": [],
   "source": [
    "iothub = pd.read_json('./data/iotHubInput.json')"
   ]
  },
  {
   "cell_type": "code",
   "execution_count": 583,
   "metadata": {
    "ExecuteTime": {
     "end_time": "2021-07-30T11:23:55.729793Z",
     "start_time": "2021-07-30T11:23:55.691598Z"
    },
    "init_cell": true
   },
   "outputs": [
    {
     "data": {
      "text/html": [
       "<div>\n",
       "<style scoped>\n",
       "    .dataframe tbody tr th:only-of-type {\n",
       "        vertical-align: middle;\n",
       "    }\n",
       "\n",
       "    .dataframe tbody tr th {\n",
       "        vertical-align: top;\n",
       "    }\n",
       "\n",
       "    .dataframe thead th {\n",
       "        text-align: right;\n",
       "    }\n",
       "</style>\n",
       "<table border=\"1\" class=\"dataframe\">\n",
       "  <thead>\n",
       "    <tr style=\"text-align: right;\">\n",
       "      <th></th>\n",
       "      <th>_eventtype</th>\n",
       "      <th>_timestamp</th>\n",
       "      <th>EventProcessedUtcTime</th>\n",
       "      <th>EventEnqueuedUtcTime</th>\n",
       "      <th>type</th>\n",
       "      <th>boxes</th>\n",
       "      <th>classes</th>\n",
       "      <th>scores</th>\n",
       "    </tr>\n",
       "  </thead>\n",
       "  <tbody>\n",
       "    <tr>\n",
       "      <th>0</th>\n",
       "      <td>Telemetry</td>\n",
       "      <td>07/26/2021, 16:00:47.627042</td>\n",
       "      <td>2021-07-26T14:25:45.6042582Z</td>\n",
       "      <td>2021-07-26T14:00:47.7180000Z</td>\n",
       "      <td>c</td>\n",
       "      <td>[-0.0010495036840438843, 0.004458427429199219,...</td>\n",
       "      <td>couch</td>\n",
       "      <td>0.6328125</td>\n",
       "    </tr>\n",
       "    <tr>\n",
       "      <th>0</th>\n",
       "      <td>Telemetry</td>\n",
       "      <td>07/26/2021, 16:00:47.627042</td>\n",
       "      <td>2021-07-26T14:25:45.6042582Z</td>\n",
       "      <td>2021-07-26T14:00:47.7180000Z</td>\n",
       "      <td>c</td>\n",
       "      <td>[-0.0010495036840438843, 0.004458427429199219,...</td>\n",
       "      <td>couch</td>\n",
       "      <td>0.6328125</td>\n",
       "    </tr>\n",
       "    <tr>\n",
       "      <th>1</th>\n",
       "      <td>Telemetry</td>\n",
       "      <td>07/26/2021, 16:00:37.352411</td>\n",
       "      <td>2021-07-26T14:25:45.6042582Z</td>\n",
       "      <td>2021-07-26T14:00:37.4730000Z</td>\n",
       "      <td>c</td>\n",
       "      <td>[0.14544853568077087, -0.01586538553237915, 0....</td>\n",
       "      <td>bed</td>\n",
       "      <td>0.609375</td>\n",
       "    </tr>\n",
       "    <tr>\n",
       "      <th>1</th>\n",
       "      <td>Telemetry</td>\n",
       "      <td>07/26/2021, 16:00:37.352411</td>\n",
       "      <td>2021-07-26T14:25:45.6042582Z</td>\n",
       "      <td>2021-07-26T14:00:37.4730000Z</td>\n",
       "      <td>c</td>\n",
       "      <td>[0.14544853568077087, -0.01586538553237915, 0....</td>\n",
       "      <td>bed</td>\n",
       "      <td>0.609375</td>\n",
       "    </tr>\n",
       "    <tr>\n",
       "      <th>2</th>\n",
       "      <td>Telemetry</td>\n",
       "      <td>07/26/2021, 16:00:27.090376</td>\n",
       "      <td>2021-07-26T14:25:45.6042582Z</td>\n",
       "      <td>2021-07-26T14:00:27.2340000Z</td>\n",
       "      <td>c</td>\n",
       "      <td>[0.0025053471326828003, 0.0014475733041763306,...</td>\n",
       "      <td>couch</td>\n",
       "      <td>0.64453125</td>\n",
       "    </tr>\n",
       "  </tbody>\n",
       "</table>\n",
       "</div>"
      ],
      "text/plain": [
       "  _eventtype                   _timestamp         EventProcessedUtcTime  \\\n",
       "0  Telemetry  07/26/2021, 16:00:47.627042  2021-07-26T14:25:45.6042582Z   \n",
       "0  Telemetry  07/26/2021, 16:00:47.627042  2021-07-26T14:25:45.6042582Z   \n",
       "1  Telemetry  07/26/2021, 16:00:37.352411  2021-07-26T14:25:45.6042582Z   \n",
       "1  Telemetry  07/26/2021, 16:00:37.352411  2021-07-26T14:25:45.6042582Z   \n",
       "2  Telemetry  07/26/2021, 16:00:27.090376  2021-07-26T14:25:45.6042582Z   \n",
       "\n",
       "           EventEnqueuedUtcTime type  \\\n",
       "0  2021-07-26T14:00:47.7180000Z    c   \n",
       "0  2021-07-26T14:00:47.7180000Z    c   \n",
       "1  2021-07-26T14:00:37.4730000Z    c   \n",
       "1  2021-07-26T14:00:37.4730000Z    c   \n",
       "2  2021-07-26T14:00:27.2340000Z    c   \n",
       "\n",
       "                                               boxes classes      scores  \n",
       "0  [-0.0010495036840438843, 0.004458427429199219,...   couch   0.6328125  \n",
       "0  [-0.0010495036840438843, 0.004458427429199219,...   couch   0.6328125  \n",
       "1  [0.14544853568077087, -0.01586538553237915, 0....     bed    0.609375  \n",
       "1  [0.14544853568077087, -0.01586538553237915, 0....     bed    0.609375  \n",
       "2  [0.0025053471326828003, 0.0014475733041763306,...   couch  0.64453125  "
      ]
     },
     "execution_count": 583,
     "metadata": {},
     "output_type": "execute_result"
    }
   ],
   "source": [
    "iothub.drop(columns='IoTHub', inplace=True)  # removing superfluous information\n",
    "iothub[['type', 'video']] = pd.json_normalize(\n",
    "    iothub['_unmodeleddata'])  # expanding to get unmodeleddata\n",
    "iothub = iothub.explode(\n",
    "    'video'\n",
    ")  # exploding data on video duplicating each message to display info of each box\n",
    "iothub[['boxes', 'classes',\n",
    "        'scores']] = pd.json_normalize(iothub['video'])  # display boxes\n",
    "iothub.drop(columns=['_unmodeleddata', 'video', 'PartitionId'],\n",
    "            inplace=True)  # remove left over duplicates\n",
    "\n",
    "iothub.head()"
   ]
  },
  {
   "cell_type": "code",
   "execution_count": 584,
   "metadata": {
    "ExecuteTime": {
     "end_time": "2021-07-30T11:23:55.825739Z",
     "start_time": "2021-07-30T11:23:55.790743Z"
    },
    "init_cell": true
   },
   "outputs": [
    {
     "name": "stdout",
     "output_type": "stream",
     "text": [
      "<class 'pandas.core.frame.DataFrame'>\n",
      "Int64Index: 100 entries, 0 to 49\n",
      "Data columns (total 8 columns):\n",
      " #   Column                 Non-Null Count  Dtype              \n",
      "---  ------                 --------------  -----              \n",
      " 0   _eventtype             100 non-null    object             \n",
      " 1   _timestamp             100 non-null    datetime64[ns]     \n",
      " 2   EventProcessedUtcTime  100 non-null    datetime64[ns, UTC]\n",
      " 3   EventEnqueuedUtcTime   100 non-null    datetime64[ns, UTC]\n",
      " 4   type                   100 non-null    object             \n",
      " 5   boxes                  100 non-null    object             \n",
      " 6   classes                100 non-null    object             \n",
      " 7   scores                 100 non-null    float64            \n",
      "dtypes: datetime64[ns, UTC](2), datetime64[ns](1), float64(1), object(4)\n",
      "memory usage: 7.0+ KB\n"
     ]
    }
   ],
   "source": [
    "# Type casting\n",
    "iothub['_timestamp'] = pd.to_datetime(iothub['_timestamp'], unit='ns')\n",
    "iothub['EventProcessedUtcTime'] = pd.to_datetime(\n",
    "    iothub['EventProcessedUtcTime'], unit='ns')\n",
    "iothub['EventEnqueuedUtcTime'] = pd.to_datetime(iothub['EventEnqueuedUtcTime'],\n",
    "                                                unit='ns')\n",
    "iothub.scores = iothub.scores.astype('float')\n",
    "iothub.info()"
   ]
  },
  {
   "cell_type": "markdown",
   "metadata": {},
   "source": [
    "#### Flattening messages"
   ]
  },
  {
   "cell_type": "code",
   "execution_count": 585,
   "metadata": {
    "ExecuteTime": {
     "end_time": "2021-07-30T11:23:58.968745Z",
     "start_time": "2021-07-30T11:23:56.634139Z"
    }
   },
   "outputs": [
    {
     "name": "stdout",
     "output_type": "stream",
     "text": [
      "Requirement already satisfied: flatten_json in c:\\users\\ybonnair\\appdata\\local\\programs\\python\\python38\\lib\\site-packages (0.1.13)\n",
      "Requirement already satisfied: six in c:\\users\\ybonnair\\appdata\\local\\programs\\python\\python38\\lib\\site-packages (from flatten_json) (1.15.0)\n",
      "Note: you may need to restart the kernel to use updated packages.\n"
     ]
    }
   ],
   "source": [
    "pip install flatten_json"
   ]
  },
  {
   "cell_type": "code",
   "execution_count": 586,
   "metadata": {
    "ExecuteTime": {
     "end_time": "2021-07-30T11:23:58.984741Z",
     "start_time": "2021-07-30T11:23:58.972754Z"
    }
   },
   "outputs": [],
   "source": [
    "from flatten_json import flatten, unflatten"
   ]
  },
  {
   "cell_type": "code",
   "execution_count": 587,
   "metadata": {
    "ExecuteTime": {
     "end_time": "2021-07-30T11:23:59.032743Z",
     "start_time": "2021-07-30T11:23:58.987745Z"
    }
   },
   "outputs": [],
   "source": [
    "# Opening JSON file\n",
    "f = open('./data/iotHubInput.json', )\n",
    "\n",
    "# returns JSON object as\n",
    "# a dictionary\n",
    "data = json.load(f)\n",
    "\n",
    "# Flatten objects\n",
    "x = [flatten(d) for d in data]\n",
    "\n",
    "# create flat df\n",
    "dfnorm = pd.DataFrame(x)"
   ]
  },
  {
   "cell_type": "markdown",
   "metadata": {},
   "source": [
    "### Unformatting"
   ]
  },
  {
   "cell_type": "code",
   "execution_count": 588,
   "metadata": {
    "ExecuteTime": {
     "end_time": "2021-07-30T11:23:59.048743Z",
     "start_time": "2021-07-30T11:23:59.034744Z"
    },
    "init_cell": true
   },
   "outputs": [],
   "source": [
    "def box_unformat(df, column, new_names):\n",
    "    df[new_names] = df[column].str.split(',', expand=True) # split string in 4 columns\n",
    "    df[new_names[0]] = df[new_names[0]].map(lambda x: x.lstrip('[')) # clean string to just have values\n",
    "    df[new_names[3]] = df[new_names[3]].map(lambda x: x.rstrip(']'))\n",
    "    df.drop(columns=column, inplace=True)# drop leftover column\n",
    "    df[new_names[0]] = df[new_names[0]].astype(float)# Type casting\n",
    "    df[new_names[1]] = df[new_names[1]].astype(float)\n",
    "    df[new_names[2]] = df[new_names[2]].astype(float)\n",
    "    df[new_names[3]] = df[new_names[3]].astype(float)\n",
    "    return df"
   ]
  },
  {
   "cell_type": "code",
   "execution_count": 589,
   "metadata": {
    "ExecuteTime": {
     "end_time": "2021-07-30T11:23:59.064743Z",
     "start_time": "2021-07-30T11:23:59.050750Z"
    },
    "init_cell": true
   },
   "outputs": [],
   "source": [
    "iothub = box_unformat(iothub, 'boxes',['x1', 'y1', 'x2',\n",
    "        'y2'])"
   ]
  },
  {
   "cell_type": "markdown",
   "metadata": {},
   "source": [
    "Could be put in for loop for multiple boxes"
   ]
  },
  {
   "cell_type": "code",
   "execution_count": 590,
   "metadata": {
    "ExecuteTime": {
     "end_time": "2021-07-30T11:23:59.128749Z",
     "start_time": "2021-07-30T11:23:59.101744Z"
    }
   },
   "outputs": [],
   "source": [
    "dfnorm = box_unformat(dfnorm, '_unmodeleddata_sensors_video_0_boxes',\n",
    "                      ['x1.1', 'y1.1', 'x2.1', 'y2.1'])\n",
    "dfnorm = box_unformat(dfnorm, '_unmodeleddata_sensors_video_1_boxes',\n",
    "                      ['x1.2', 'y1.2', 'x2.2', 'y2.2'])"
   ]
  },
  {
   "cell_type": "code",
   "execution_count": 591,
   "metadata": {
    "ExecuteTime": {
     "end_time": "2021-07-30T11:23:59.208446Z",
     "start_time": "2021-07-30T11:23:59.189449Z"
    }
   },
   "outputs": [],
   "source": [
    "# names of the columns are changed here for reading pleasure, however,\n",
    "# they must be retained and not changed in order to unflatten!\n",
    "dfnorm.rename(\n",
    "    columns={\n",
    "        '_unmodeleddata_sensors___t': 'sensor_type',\n",
    "        '_unmodeleddata_sensors_video_0_classes': 'classes.1',\n",
    "        '_unmodeleddata_sensors_video_0_scores': 'scores.1',\n",
    "        '_unmodeleddata_sensors_video_1_classes': 'classes.2',\n",
    "        '_unmodeleddata_sensors_video_1_scores': 'scores.2'\n",
    "    },inplace=True)\n",
    "# Removing superfluous columns\n",
    "dfnorm.drop(columns=[\n",
    "    '_eventtype', 'PartitionId', 'IoTHub_MessageId', 'IoTHub_CorrelationId',\n",
    "    'IoTHub_ConnectionDeviceId', 'IoTHub_ConnectionDeviceGenerationId',\n",
    "    'IoTHub_EnqueuedTime', 'IoTHub_StreamId'\n",
    "],\n",
    "            inplace=True)"
   ]
  },
  {
   "cell_type": "code",
   "execution_count": 592,
   "metadata": {
    "ExecuteTime": {
     "end_time": "2021-07-30T11:23:59.287447Z",
     "start_time": "2021-07-30T11:23:59.272449Z"
    }
   },
   "outputs": [],
   "source": [
    "# Type casting\n",
    "dfnorm['_timestamp'] = pd.to_datetime(dfnorm['_timestamp'], unit='ns')\n",
    "dfnorm['EventProcessedUtcTime'] = pd.to_datetime(\n",
    "    dfnorm['EventProcessedUtcTime'], unit='ns')\n",
    "dfnorm['EventEnqueuedUtcTime'] = pd.to_datetime(dfnorm['EventEnqueuedUtcTime'],\n",
    "                                                unit='ns')\n",
    "dfnorm['scores.1'] = dfnorm['scores.1'].astype('float')\n",
    "dfnorm['scores.2'] = dfnorm['scores.2'].astype('float')"
   ]
  },
  {
   "cell_type": "markdown",
   "metadata": {},
   "source": [
    "## Fitting and evaluating for seperated messages"
   ]
  },
  {
   "cell_type": "code",
   "execution_count": 593,
   "metadata": {
    "ExecuteTime": {
     "end_time": "2021-07-30T11:24:00.101760Z",
     "start_time": "2021-07-30T11:24:00.087730Z"
    },
    "code_folding": [
     0,
     4,
     10,
     15,
     20,
     25,
     30,
     35,
     40,
     45,
     50,
     55,
     60
    ]
   },
   "outputs": [],
   "source": [
    "x_constraint = GreaterThan(low='x1',\n",
    "                           high='x2',\n",
    "                           handling_strategy='reject_sampling')\n",
    "\n",
    "y_constraint = GreaterThan(low='y1',\n",
    "                           high='y2',\n",
    "                           handling_strategy='reject_sampling')\n",
    "\n",
    "constraints_tvae_iot = [x_constraint, y_constraint]\n",
    "\n",
    "reasonable_x1 = Between(column='x1',\n",
    "                        low=min(iothub.x1),\n",
    "                        high=max(iothub.x1),\n",
    "                        handling_strategy='transform')\n",
    "\n",
    "reasonable_y1 = Between(column='y1',\n",
    "                        low=min(iothub.y1),\n",
    "                        high=max(iothub.y1),\n",
    "                        handling_strategy='transform')\n",
    "\n",
    "reasonable_x2 = Between(column='x2',\n",
    "                        low=min(iothub.x2),\n",
    "                        high=max(iothub.x2),\n",
    "                        handling_strategy='transform')\n",
    "\n",
    "reasonable_y2 = Between(column='y2',\n",
    "                        low=min(iothub.y2),\n",
    "                        high=max(iothub.y2),\n",
    "                        handling_strategy='transform')\n",
    "\n",
    "constraints_copula_iot = [\n",
    "    x_constraint, y_constraint, reasonable_x1, reasonable_y1, reasonable_x2,\n",
    "    reasonable_y2\n",
    "]\n",
    "\n",
    "reasonable_x1 = Between(column='x1',\n",
    "                        low=min(iothub.x1),\n",
    "                        high=max(iothub.x1),\n",
    "                        handling_strategy='reject_sampling')\n",
    "\n",
    "reasonable_y1 = Between(column='y1',\n",
    "                        low=min(iothub.y1),\n",
    "                        high=max(iothub.y1),\n",
    "                        handling_strategy='reject_sampling')\n",
    "\n",
    "reasonable_x2 = Between(column='x2',\n",
    "                        low=min(iothub.x2),\n",
    "                        high=max(iothub.x2),\n",
    "                        handling_strategy='reject_sampling')\n",
    "\n",
    "reasonable_y2 = Between(column='y2',\n",
    "                        low=min(iothub.y2),\n",
    "                        high=max(iothub.y2),\n",
    "                        handling_strategy='reject_sampling')\n",
    "\n",
    "constraints_ctgan_iot = [\n",
    "    x_constraint, y_constraint, reasonable_x1, reasonable_y1, reasonable_x2,\n",
    "    reasonable_y2\n",
    "]\n",
    "\n",
    "field_transformer_n = {\n",
    "    '_timestamp': 'datetime',\n",
    "    'EventProcessedUtcTime': 'datetime',\n",
    "    'EventEnqueuedUtcTime': 'datetime',\n",
    "    'type': 'categorical',\n",
    "    'classes': 'categorical',\n",
    "    'scores': 'float',\n",
    "    'x1': 'float',\n",
    "    'y1': 'float',\n",
    "    'x2': 'float',\n",
    "    'y2': 'float'\n",
    "}"
   ]
  },
  {
   "cell_type": "markdown",
   "metadata": {},
   "source": [
    "Could add a UniqueCombination constraint for EventProcessed time and EventEnqueued time if appropriate"
   ]
  },
  {
   "cell_type": "markdown",
   "metadata": {},
   "source": [
    "### Gaussian"
   ]
  },
  {
   "cell_type": "code",
   "execution_count": 594,
   "metadata": {
    "ExecuteTime": {
     "end_time": "2021-07-30T11:24:07.233743Z",
     "start_time": "2021-07-30T11:24:01.687938Z"
    }
   },
   "outputs": [
    {
     "name": "stderr",
     "output_type": "stream",
     "text": [
      "2021-07-30 13:24:01,688 : MainThread : INFO : Fitting table None metadata\n",
      "2021-07-30 13:24:01,692 : MainThread : INFO : Anonymizing table None\n",
      "2021-07-30 13:24:01,694 : MainThread : INFO : Fitting constraints for table None\n",
      "2021-07-30 13:24:01,699 : MainThread : INFO : Fitting GaussianMultivariate()\n",
      "2021-07-30 13:24:02,292 : MainThread : INFO : Fitting GaussianMultivariate()\n",
      "2021-07-30 13:24:02,860 : MainThread : INFO : Fitting HyperTransformer for table None\n",
      "2021-07-30 13:24:02,894 : MainThread : INFO : Fitting GaussianMultivariate(distribution=\"{'_timestamp': Univariate, 'EventProcessedUtcTime': Univariate, 'EventEnqueuedUtcTime': Univariate, 'type': Univariate, 'classes': Univariate, 'scores': Univariate, 'x1#-0.0010495036840438843#0.14544853568077087': Univariate, 'y1#-0.023361951112747192#0.004458427429199219': Univariate, 'x2#0.35019147396087646#0.9748222827911377': Univariate, 'y2#0.3392622470855713#0.99464350938797': Univariate, '_eventtype#0': Univariate}\")\n"
     ]
    }
   ],
   "source": [
    "gaussian_new = GaussianCopula(constraints=constraints_copula_iot,\n",
    "                              field_transformers=field_transformer_n)\n",
    "gaussian_new.fit(iothub)"
   ]
  },
  {
   "cell_type": "code",
   "execution_count": 595,
   "metadata": {
    "ExecuteTime": {
     "end_time": "2021-07-30T11:24:07.328749Z",
     "start_time": "2021-07-30T11:24:07.236743Z"
    },
    "scrolled": true
   },
   "outputs": [
    {
     "data": {
      "text/html": [
       "<div>\n",
       "<style scoped>\n",
       "    .dataframe tbody tr th:only-of-type {\n",
       "        vertical-align: middle;\n",
       "    }\n",
       "\n",
       "    .dataframe tbody tr th {\n",
       "        vertical-align: top;\n",
       "    }\n",
       "\n",
       "    .dataframe thead th {\n",
       "        text-align: right;\n",
       "    }\n",
       "</style>\n",
       "<table border=\"1\" class=\"dataframe\">\n",
       "  <thead>\n",
       "    <tr style=\"text-align: right;\">\n",
       "      <th></th>\n",
       "      <th>_eventtype</th>\n",
       "      <th>_timestamp</th>\n",
       "      <th>EventProcessedUtcTime</th>\n",
       "      <th>EventEnqueuedUtcTime</th>\n",
       "      <th>type</th>\n",
       "      <th>classes</th>\n",
       "      <th>scores</th>\n",
       "      <th>x1</th>\n",
       "      <th>y1</th>\n",
       "      <th>x2</th>\n",
       "      <th>y2</th>\n",
       "    </tr>\n",
       "  </thead>\n",
       "  <tbody>\n",
       "    <tr>\n",
       "      <th>0</th>\n",
       "      <td>Telemetry</td>\n",
       "      <td>2021-07-26 15:57:08.847493632</td>\n",
       "      <td>2021-07-26 14:25:43.133964288+00:00</td>\n",
       "      <td>2021-07-26 13:57:09.089084928+00:00</td>\n",
       "      <td>c</td>\n",
       "      <td>couch</td>\n",
       "      <td>0.626033</td>\n",
       "      <td>-0.000157</td>\n",
       "      <td>0.004325</td>\n",
       "      <td>0.350493</td>\n",
       "      <td>0.339270</td>\n",
       "    </tr>\n",
       "    <tr>\n",
       "      <th>1</th>\n",
       "      <td>Telemetry</td>\n",
       "      <td>2021-07-26 15:54:12.842832128</td>\n",
       "      <td>2021-07-26 14:25:43.283615232+00:00</td>\n",
       "      <td>2021-07-26 13:54:12.768658176+00:00</td>\n",
       "      <td>c</td>\n",
       "      <td>bed</td>\n",
       "      <td>0.617158</td>\n",
       "      <td>0.145449</td>\n",
       "      <td>-0.022942</td>\n",
       "      <td>0.974822</td>\n",
       "      <td>0.994644</td>\n",
       "    </tr>\n",
       "    <tr>\n",
       "      <th>2</th>\n",
       "      <td>Telemetry</td>\n",
       "      <td>2021-07-26 15:57:44.596356864</td>\n",
       "      <td>2021-07-26 14:25:44.214538496+00:00</td>\n",
       "      <td>2021-07-26 13:57:44.769528064+00:00</td>\n",
       "      <td>c</td>\n",
       "      <td>couch</td>\n",
       "      <td>0.595566</td>\n",
       "      <td>0.144922</td>\n",
       "      <td>-0.004335</td>\n",
       "      <td>0.358117</td>\n",
       "      <td>0.339487</td>\n",
       "    </tr>\n",
       "    <tr>\n",
       "      <th>3</th>\n",
       "      <td>Telemetry</td>\n",
       "      <td>2021-07-26 15:53:26.510683648</td>\n",
       "      <td>2021-07-26 14:25:41.788369920+00:00</td>\n",
       "      <td>2021-07-26 13:53:26.766356480+00:00</td>\n",
       "      <td>c</td>\n",
       "      <td>bed</td>\n",
       "      <td>0.609123</td>\n",
       "      <td>0.145448</td>\n",
       "      <td>-0.013132</td>\n",
       "      <td>0.606957</td>\n",
       "      <td>0.455826</td>\n",
       "    </tr>\n",
       "    <tr>\n",
       "      <th>4</th>\n",
       "      <td>Telemetry</td>\n",
       "      <td>2021-07-26 15:52:56.175624960</td>\n",
       "      <td>2021-07-26 14:25:42.386213632+00:00</td>\n",
       "      <td>2021-07-26 13:52:56.473943552+00:00</td>\n",
       "      <td>c</td>\n",
       "      <td>couch</td>\n",
       "      <td>0.618308</td>\n",
       "      <td>0.128299</td>\n",
       "      <td>-0.013391</td>\n",
       "      <td>0.359225</td>\n",
       "      <td>0.351074</td>\n",
       "    </tr>\n",
       "  </tbody>\n",
       "</table>\n",
       "</div>"
      ],
      "text/plain": [
       "  _eventtype                    _timestamp  \\\n",
       "0  Telemetry 2021-07-26 15:57:08.847493632   \n",
       "1  Telemetry 2021-07-26 15:54:12.842832128   \n",
       "2  Telemetry 2021-07-26 15:57:44.596356864   \n",
       "3  Telemetry 2021-07-26 15:53:26.510683648   \n",
       "4  Telemetry 2021-07-26 15:52:56.175624960   \n",
       "\n",
       "                EventProcessedUtcTime                EventEnqueuedUtcTime  \\\n",
       "0 2021-07-26 14:25:43.133964288+00:00 2021-07-26 13:57:09.089084928+00:00   \n",
       "1 2021-07-26 14:25:43.283615232+00:00 2021-07-26 13:54:12.768658176+00:00   \n",
       "2 2021-07-26 14:25:44.214538496+00:00 2021-07-26 13:57:44.769528064+00:00   \n",
       "3 2021-07-26 14:25:41.788369920+00:00 2021-07-26 13:53:26.766356480+00:00   \n",
       "4 2021-07-26 14:25:42.386213632+00:00 2021-07-26 13:52:56.473943552+00:00   \n",
       "\n",
       "  type classes    scores        x1        y1        x2        y2  \n",
       "0    c   couch  0.626033 -0.000157  0.004325  0.350493  0.339270  \n",
       "1    c     bed  0.617158  0.145449 -0.022942  0.974822  0.994644  \n",
       "2    c   couch  0.595566  0.144922 -0.004335  0.358117  0.339487  \n",
       "3    c     bed  0.609123  0.145448 -0.013132  0.606957  0.455826  \n",
       "4    c   couch  0.618308  0.128299 -0.013391  0.359225  0.351074  "
      ]
     },
     "execution_count": 595,
     "metadata": {},
     "output_type": "execute_result"
    }
   ],
   "source": [
    "New_Gauss = gaussian_new.sample(100)\n",
    "New_Gauss.head()"
   ]
  },
  {
   "cell_type": "code",
   "execution_count": 596,
   "metadata": {
    "ExecuteTime": {
     "end_time": "2021-07-30T11:24:08.302340Z",
     "start_time": "2021-07-30T11:24:07.330745Z"
    }
   },
   "outputs": [
    {
     "data": {
      "text/plain": [
       "0.42109971876798"
      ]
     },
     "execution_count": 596,
     "metadata": {},
     "output_type": "execute_result"
    }
   ],
   "source": [
    "evaluate(New_Gauss, iothub)"
   ]
  },
  {
   "cell_type": "code",
   "execution_count": 597,
   "metadata": {
    "ExecuteTime": {
     "end_time": "2021-07-30T11:24:09.336908Z",
     "start_time": "2021-07-30T11:24:08.306342Z"
    }
   },
   "outputs": [
    {
     "data": {
      "text/plain": [
       "0.5923589902130613"
      ]
     },
     "execution_count": 597,
     "metadata": {},
     "output_type": "execute_result"
    }
   ],
   "source": [
    "evaluate(New_Gauss[['type', 'classes', 'scores', 'x1', 'y1', 'x2', 'y2']],\n",
    "         iothub[['type', 'classes', 'scores', 'x1', 'y1', 'x2', 'y2']])"
   ]
  },
  {
   "cell_type": "markdown",
   "metadata": {},
   "source": [
    "### TVAE"
   ]
  },
  {
   "cell_type": "code",
   "execution_count": 624,
   "metadata": {
    "ExecuteTime": {
     "end_time": "2021-07-30T11:31:22.685242Z",
     "start_time": "2021-07-30T11:31:18.520164Z"
    }
   },
   "outputs": [
    {
     "name": "stderr",
     "output_type": "stream",
     "text": [
      "2021-07-30 13:31:18,521 : MainThread : INFO : Fitting table None metadata\n",
      "2021-07-30 13:31:18,525 : MainThread : INFO : Anonymizing table None\n",
      "2021-07-30 13:31:18,525 : MainThread : INFO : Fitting constraints for table None\n",
      "2021-07-30 13:31:18,529 : MainThread : INFO : Fitting GaussianMultivariate()\n",
      "2021-07-30 13:31:19,106 : MainThread : INFO : Fitting GaussianMultivariate()\n",
      "2021-07-30 13:31:19,552 : MainThread : INFO : Fitting HyperTransformer for table None\n"
     ]
    }
   ],
   "source": [
    "tvae_n = TVAE(constraints=constraints_tvae_iot,\n",
    "              field_transformers=field_transformer_n)\n",
    "tvae_n.fit(iothub)"
   ]
  },
  {
   "cell_type": "code",
   "execution_count": 625,
   "metadata": {
    "ExecuteTime": {
     "end_time": "2021-07-30T11:31:22.749133Z",
     "start_time": "2021-07-30T11:31:22.687130Z"
    }
   },
   "outputs": [
    {
     "data": {
      "text/html": [
       "<div>\n",
       "<style scoped>\n",
       "    .dataframe tbody tr th:only-of-type {\n",
       "        vertical-align: middle;\n",
       "    }\n",
       "\n",
       "    .dataframe tbody tr th {\n",
       "        vertical-align: top;\n",
       "    }\n",
       "\n",
       "    .dataframe thead th {\n",
       "        text-align: right;\n",
       "    }\n",
       "</style>\n",
       "<table border=\"1\" class=\"dataframe\">\n",
       "  <thead>\n",
       "    <tr style=\"text-align: right;\">\n",
       "      <th></th>\n",
       "      <th>_eventtype</th>\n",
       "      <th>_timestamp</th>\n",
       "      <th>EventProcessedUtcTime</th>\n",
       "      <th>EventEnqueuedUtcTime</th>\n",
       "      <th>type</th>\n",
       "      <th>classes</th>\n",
       "      <th>scores</th>\n",
       "      <th>x1</th>\n",
       "      <th>y1</th>\n",
       "      <th>x2</th>\n",
       "      <th>y2</th>\n",
       "    </tr>\n",
       "  </thead>\n",
       "  <tbody>\n",
       "    <tr>\n",
       "      <th>0</th>\n",
       "      <td>Telemetry</td>\n",
       "      <td>2021-07-26 16:00:41.580692736</td>\n",
       "      <td>2021-07-26 14:25:42.167000576+00:00</td>\n",
       "      <td>2021-07-26 13:59:34.849066496+00:00</td>\n",
       "      <td>c</td>\n",
       "      <td>bed</td>\n",
       "      <td>0.601618</td>\n",
       "      <td>0.140233</td>\n",
       "      <td>-0.016011</td>\n",
       "      <td>0.956609</td>\n",
       "      <td>0.989162</td>\n",
       "    </tr>\n",
       "    <tr>\n",
       "      <th>1</th>\n",
       "      <td>Telemetry</td>\n",
       "      <td>2021-07-26 15:58:31.200839680</td>\n",
       "      <td>2021-07-26 14:25:45.104192768+00:00</td>\n",
       "      <td>2021-07-26 13:58:08.804318464+00:00</td>\n",
       "      <td>c</td>\n",
       "      <td>couch</td>\n",
       "      <td>0.641306</td>\n",
       "      <td>0.007367</td>\n",
       "      <td>0.002507</td>\n",
       "      <td>0.356874</td>\n",
       "      <td>0.341680</td>\n",
       "    </tr>\n",
       "    <tr>\n",
       "      <th>2</th>\n",
       "      <td>Telemetry</td>\n",
       "      <td>2021-07-26 16:00:25.968082176</td>\n",
       "      <td>2021-07-26 14:25:42.144242944+00:00</td>\n",
       "      <td>2021-07-26 13:58:10.421652480+00:00</td>\n",
       "      <td>c</td>\n",
       "      <td>couch</td>\n",
       "      <td>0.581699</td>\n",
       "      <td>0.001157</td>\n",
       "      <td>0.000171</td>\n",
       "      <td>0.358162</td>\n",
       "      <td>0.347976</td>\n",
       "    </tr>\n",
       "    <tr>\n",
       "      <th>3</th>\n",
       "      <td>Telemetry</td>\n",
       "      <td>2021-07-26 15:53:23.523060224</td>\n",
       "      <td>2021-07-26 14:25:41.909849856+00:00</td>\n",
       "      <td>2021-07-26 13:58:05.991798016+00:00</td>\n",
       "      <td>c</td>\n",
       "      <td>couch</td>\n",
       "      <td>0.628409</td>\n",
       "      <td>0.010561</td>\n",
       "      <td>0.002600</td>\n",
       "      <td>0.347590</td>\n",
       "      <td>0.340163</td>\n",
       "    </tr>\n",
       "    <tr>\n",
       "      <th>4</th>\n",
       "      <td>Telemetry</td>\n",
       "      <td>2021-07-26 15:52:59.950399744</td>\n",
       "      <td>2021-07-26 14:25:42.340688384+00:00</td>\n",
       "      <td>2021-07-26 13:53:14.386142208+00:00</td>\n",
       "      <td>c</td>\n",
       "      <td>bed</td>\n",
       "      <td>0.607467</td>\n",
       "      <td>0.139373</td>\n",
       "      <td>-0.012208</td>\n",
       "      <td>0.955375</td>\n",
       "      <td>0.993902</td>\n",
       "    </tr>\n",
       "  </tbody>\n",
       "</table>\n",
       "</div>"
      ],
      "text/plain": [
       "  _eventtype                    _timestamp  \\\n",
       "0  Telemetry 2021-07-26 16:00:41.580692736   \n",
       "1  Telemetry 2021-07-26 15:58:31.200839680   \n",
       "2  Telemetry 2021-07-26 16:00:25.968082176   \n",
       "3  Telemetry 2021-07-26 15:53:23.523060224   \n",
       "4  Telemetry 2021-07-26 15:52:59.950399744   \n",
       "\n",
       "                EventProcessedUtcTime                EventEnqueuedUtcTime  \\\n",
       "0 2021-07-26 14:25:42.167000576+00:00 2021-07-26 13:59:34.849066496+00:00   \n",
       "1 2021-07-26 14:25:45.104192768+00:00 2021-07-26 13:58:08.804318464+00:00   \n",
       "2 2021-07-26 14:25:42.144242944+00:00 2021-07-26 13:58:10.421652480+00:00   \n",
       "3 2021-07-26 14:25:41.909849856+00:00 2021-07-26 13:58:05.991798016+00:00   \n",
       "4 2021-07-26 14:25:42.340688384+00:00 2021-07-26 13:53:14.386142208+00:00   \n",
       "\n",
       "  type classes    scores        x1        y1        x2        y2  \n",
       "0    c     bed  0.601618  0.140233 -0.016011  0.956609  0.989162  \n",
       "1    c   couch  0.641306  0.007367  0.002507  0.356874  0.341680  \n",
       "2    c   couch  0.581699  0.001157  0.000171  0.358162  0.347976  \n",
       "3    c   couch  0.628409  0.010561  0.002600  0.347590  0.340163  \n",
       "4    c     bed  0.607467  0.139373 -0.012208  0.955375  0.993902  "
      ]
     },
     "execution_count": 625,
     "metadata": {},
     "output_type": "execute_result"
    }
   ],
   "source": [
    "New_tvae = tvae_n.sample(100)\n",
    "New_tvae.head()"
   ]
  },
  {
   "cell_type": "code",
   "execution_count": 626,
   "metadata": {
    "ExecuteTime": {
     "end_time": "2021-07-30T11:31:23.526132Z",
     "start_time": "2021-07-30T11:31:22.752131Z"
    }
   },
   "outputs": [
    {
     "data": {
      "text/plain": [
       "0.45088453180383403"
      ]
     },
     "execution_count": 626,
     "metadata": {},
     "output_type": "execute_result"
    }
   ],
   "source": [
    "evaluate(New_tvae, iothub)"
   ]
  },
  {
   "cell_type": "code",
   "execution_count": 627,
   "metadata": {
    "ExecuteTime": {
     "end_time": "2021-07-30T11:31:24.065228Z",
     "start_time": "2021-07-30T11:31:23.529132Z"
    }
   },
   "outputs": [
    {
     "data": {
      "text/plain": [
       "0.7046580010042708"
      ]
     },
     "execution_count": 627,
     "metadata": {},
     "output_type": "execute_result"
    }
   ],
   "source": [
    "evaluate(New_tvae[['type', 'classes', 'scores', 'x1', 'y1', 'x2', 'y2']],\n",
    "         iothub[['type', 'classes', 'scores', 'x1', 'y1', 'x2', 'y2']])"
   ]
  },
  {
   "cell_type": "code",
   "execution_count": 602,
   "metadata": {
    "ExecuteTime": {
     "end_time": "2021-07-30T11:24:17.011725Z",
     "start_time": "2021-07-30T11:24:16.677725Z"
    }
   },
   "outputs": [
    {
     "data": {
      "text/plain": [
       "<AxesSubplot:xlabel='_timestamp'>"
      ]
     },
     "execution_count": 602,
     "metadata": {},
     "output_type": "execute_result"
    },
    {
     "data": {
      "image/png": "[encoded data removed]",
      "text/plain": [
       "<Figure size 720x360 with 1 Axes>"
      ]
     },
     "metadata": {
      "needs_background": "light"
     },
     "output_type": "display_data"
    }
   ],
   "source": [
    "iothub_per_minute = iothub.groupby(\n",
    "    [iothub['_timestamp'].astype('datetime64[m]')]).count()\n",
    "iothub_per_minute.plot(kind='bar', figsize=(10, 5), legend=None)"
   ]
  },
  {
   "cell_type": "code",
   "execution_count": 603,
   "metadata": {
    "ExecuteTime": {
     "end_time": "2021-07-30T11:24:17.392732Z",
     "start_time": "2021-07-30T11:24:17.015728Z"
    }
   },
   "outputs": [
    {
     "data": {
      "text/plain": [
       "<AxesSubplot:xlabel='_timestamp'>"
      ]
     },
     "execution_count": 603,
     "metadata": {},
     "output_type": "execute_result"
    },
    {
     "data": {
      "image/png": "[encoded data removed]",
      "text/plain": [
       "<Figure size 720x360 with 1 Axes>"
      ]
     },
     "metadata": {
      "needs_background": "light"
     },
     "output_type": "display_data"
    }
   ],
   "source": [
    "newgauss_per_minute = New_Gauss.groupby(\n",
    "    [New_Gauss['_timestamp'].astype('datetime64[m]')]).count()\n",
    "newgauss_per_minute.plot(kind='bar', figsize=(10, 5), legend=None)"
   ]
  },
  {
   "cell_type": "code",
   "execution_count": 604,
   "metadata": {
    "ExecuteTime": {
     "end_time": "2021-07-30T11:24:17.869820Z",
     "start_time": "2021-07-30T11:24:17.395732Z"
    }
   },
   "outputs": [
    {
     "data": {
      "text/plain": [
       "<AxesSubplot:xlabel='_timestamp'>"
      ]
     },
     "execution_count": 604,
     "metadata": {},
     "output_type": "execute_result"
    },
    {
     "data": {
      "image/png": "[encoded data removed]",
      "text/plain": [
       "<Figure size 720x360 with 1 Axes>"
      ]
     },
     "metadata": {
      "needs_background": "light"
     },
     "output_type": "display_data"
    }
   ],
   "source": [
    "newtvae_per_minute = New_tvae.groupby(\n",
    "    [New_tvae['_timestamp'].astype('datetime64[m]')]).count()\n",
    "newtvae_per_minute.plot(kind='bar', figsize=(10, 5), legend=None)"
   ]
  },
  {
   "cell_type": "markdown",
   "metadata": {},
   "source": [
    "## Fitting and evaluating for flattened messages"
   ]
  },
  {
   "cell_type": "code",
   "execution_count": 605,
   "metadata": {
    "ExecuteTime": {
     "end_time": "2021-07-30T11:24:17.901816Z",
     "start_time": "2021-07-30T11:24:17.872820Z"
    },
    "code_folding": [
     0,
     4,
     8,
     12,
     16,
     20,
     25,
     30,
     35,
     40,
     45,
     50,
     55,
     60,
     66,
     71,
     76,
     81,
     86,
     91,
     96,
     101,
     105,
     111
    ]
   },
   "outputs": [],
   "source": [
    "x_constraint1 = GreaterThan(low='x1.1',\n",
    "                            high='x2.1',\n",
    "                            handling_strategy='reject_sampling')\n",
    "\n",
    "y_constraint1 = GreaterThan(low='y1.1',\n",
    "                            high='y2.1',\n",
    "                            handling_strategy='reject_sampling')\n",
    "\n",
    "x_constraint2 = GreaterThan(low='x1.2',\n",
    "                            high='x2.2',\n",
    "                            handling_strategy='reject_sampling')\n",
    "\n",
    "y_constraint2 = GreaterThan(low='y1.2',\n",
    "                            high='y2.2',\n",
    "                            handling_strategy='reject_sampling')\n",
    "\n",
    "constraints_tvae_flat = [\n",
    "    x_constraint1, y_constraint1, x_constraint2, y_constraint2\n",
    "]\n",
    "\n",
    "reasonable1_x1 = Between(column='x1.1',\n",
    "                         low=min(dfnorm['x1.1']),\n",
    "                         high=max(dfnorm['x1.1']),\n",
    "                         handling_strategy='transform')\n",
    "\n",
    "reasonable1_y1 = Between(column='y1.1',\n",
    "                         low=min(dfnorm['y1.1']),\n",
    "                         high=max(dfnorm['y1.1']),\n",
    "                         handling_strategy='transform')\n",
    "\n",
    "reasonable1_x2 = Between(column='x2.1',\n",
    "                         low=min(dfnorm['x2.1']),\n",
    "                         high=max(dfnorm['x2.1']),\n",
    "                         handling_strategy='transform')\n",
    "\n",
    "reasonable1_y2 = Between(column='y2.1',\n",
    "                         low=min(dfnorm['y2.1']),\n",
    "                         high=max(dfnorm['y2.1']),\n",
    "                         handling_strategy='transform')\n",
    "\n",
    "reasonable2_x1 = Between(column='x1.2',\n",
    "                         low=min(dfnorm['x1.2']),\n",
    "                         high=max(dfnorm['x1.2']),\n",
    "                         handling_strategy='transform')\n",
    "\n",
    "reasonable2_y1 = Between(column='y1.2',\n",
    "                         low=min(dfnorm['y1.2']),\n",
    "                         high=max(dfnorm['y1.2']),\n",
    "                         handling_strategy='transform')\n",
    "\n",
    "reasonable2_x2 = Between(column='x2.2',\n",
    "                         low=min(dfnorm['x2.2']),\n",
    "                         high=max(dfnorm['x2.2']),\n",
    "                         handling_strategy='transform')\n",
    "\n",
    "reasonable2_y2 = Between(column='y2.2',\n",
    "                         low=min(dfnorm['y2.2']),\n",
    "                         high=max(dfnorm['y2.2']),\n",
    "                         handling_strategy='transform')\n",
    "\n",
    "constraints_copula_flat = [\n",
    "    x_constraint1, y_constraint1, reasonable1_x1, reasonable1_y1,\n",
    "    reasonable1_x2, reasonable1_y2, reasonable2_x1, reasonable2_y1,\n",
    "    reasonable2_x2, reasonable2_y2\n",
    "]\n",
    "\n",
    "reasonable1_x1 = Between(column='x1.1',\n",
    "                         low=min(dfnorm['x1.1']),\n",
    "                         high=max(dfnorm['x1.1']),\n",
    "                         handling_strategy='reject_sampling')\n",
    "\n",
    "reasonable1_y1 = Between(column='y1.1',\n",
    "                         low=min(dfnorm['y1.1']),\n",
    "                         high=max(dfnorm['y1.1']),\n",
    "                         handling_strategy='reject_sampling')\n",
    "\n",
    "reasonable1_x2 = Between(column='x2.1',\n",
    "                         low=min(dfnorm['x2.1']),\n",
    "                         high=max(dfnorm['x2.1']),\n",
    "                         handling_strategy='reject_sampling')\n",
    "\n",
    "reasonable1_y2 = Between(column='y2.1',\n",
    "                         low=min(dfnorm['y2.1']),\n",
    "                         high=max(dfnorm['y2.1']),\n",
    "                         handling_strategy='reject_sampling')\n",
    "\n",
    "reasonable2_x1 = Between(column='x1.2',\n",
    "                         low=min(dfnorm['x1.2']),\n",
    "                         high=max(dfnorm['x1.2']),\n",
    "                         handling_strategy='reject_sampling')\n",
    "\n",
    "reasonable2_y1 = Between(column='y1.2',\n",
    "                         low=min(dfnorm['y1.2']),\n",
    "                         high=max(dfnorm['y1.2']),\n",
    "                         handling_strategy='reject_sampling')\n",
    "\n",
    "reasonable2_x2 = Between(column='x2.2',\n",
    "                         low=min(dfnorm['x2.2']),\n",
    "                         high=max(dfnorm['x2.2']),\n",
    "                         handling_strategy='reject_sampling')\n",
    "\n",
    "reasonable2_y2 = Between(column='y2.2',\n",
    "                         low=min(dfnorm['y2.2']),\n",
    "                         high=max(dfnorm['y2.2']),\n",
    "                         handling_strategy='reject_sampling')\n",
    "\n",
    "constraints_ctgan_flat = [\n",
    "    x_constraint, y_constraint, reasonable1_x1, reasonable1_y1, reasonable1_x2,\n",
    "    reasonable1_y2, reasonable2_x1, reasonable2_y1, reasonable2_x2,\n",
    "    reasonable2_y2\n",
    "]\n",
    "\n",
    "field_transformer_flat = {\n",
    "    '_timestamp': 'datetime',\n",
    "    'EventProcessedUtcTime': 'datetime',\n",
    "    'EventEnqueuedUtcTime': 'datetime',\n",
    "    'sensor_type': 'categorical',\n",
    "    'classes.1': 'categorical',\n",
    "    'scores.1': 'float',\n",
    "    'classes.2': 'categorical',\n",
    "    'scores.2': 'float',\n",
    "    'x1.1': 'float',\n",
    "    'y1.1': 'float',\n",
    "    'x2.1': 'float',\n",
    "    'y2.1': 'float',\n",
    "    'x1.2': 'float',\n",
    "    'y1.2': 'float',\n",
    "    'x2.2': 'float',\n",
    "    'y2.2': 'float'\n",
    "}\n",
    "\n",
    "field_distribution_b = {\n",
    "    'scores.1': 'student_t',\n",
    "    'scores.2': 'student_t',\n",
    "    'x1.1': 'student_t',\n",
    "    'y1.1': 'student_t',\n",
    "    'x2.1': 'student_t',\n",
    "    'y2.1': 'student_t',\n",
    "    'x1.2': 'student_t',\n",
    "    'y1.2': 'student_t',\n",
    "    'x2.2': 'student_t',\n",
    "    'y2.2': 'student_t'\n",
    "}"
   ]
  },
  {
   "cell_type": "markdown",
   "metadata": {},
   "source": [
    "### Gaussian"
   ]
  },
  {
   "cell_type": "code",
   "execution_count": 606,
   "metadata": {
    "ExecuteTime": {
     "end_time": "2021-07-30T11:24:24.409905Z",
     "start_time": "2021-07-30T11:24:17.903820Z"
    }
   },
   "outputs": [
    {
     "name": "stderr",
     "output_type": "stream",
     "text": [
      "2021-07-30 13:24:17,932 : MainThread : INFO : Fitting table None metadata\n",
      "2021-07-30 13:24:17,936 : MainThread : INFO : Anonymizing table None\n",
      "2021-07-30 13:24:17,938 : MainThread : INFO : Fitting constraints for table None\n",
      "2021-07-30 13:24:17,943 : MainThread : INFO : Fitting GaussianMultivariate()\n",
      "2021-07-30 13:24:18,633 : MainThread : INFO : Fitting GaussianMultivariate()\n",
      "2021-07-30 13:24:19,283 : MainThread : INFO : Fitting HyperTransformer for table None\n",
      "2021-07-30 13:24:19,339 : MainThread : INFO : Fitting GaussianMultivariate(distribution=\"{'scores.1': <class 'copulas.univariate.student_t.StudentTUnivariate'>, 'scores.2': <class 'copulas.univariate.student_t.StudentTUnivariate'>, 'x1.1': <class 'copulas.univariate.student_t.StudentTUnivariate'>, 'y1.1': <class 'copulas.univariate.student_t.StudentTUnivariate'>, 'x2.1': <class 'copulas.univariate.student_t.StudentTUnivariate'>, 'y2.1': <class 'copulas.univariate.student_t.StudentTUnivariate'>, 'x1.2': <class 'copulas.univariate.student_t.StudentTUnivariate'>, 'y1.2': <class 'copulas.univariate.student_t.StudentTUnivariate'>, 'x2.2': <class 'copulas.univariate.student_t.StudentTUnivariate'>, 'y2.2': <class 'copulas.univariate.student_t.StudentTUnivariate'>, 'sensor_type': Univariate, 'classes.1': Univariate, 'classes.2': Univariate, '_timestamp': Univariate, 'EventProcessedUtcTime': Univariate, 'EventEnqueuedUtcTime': Univariate, 'x1.1#-0.0010495036840438843#0.13889431953430176': Univariate, 'y1.1#-0.01586538553237915#0.00714777410030365': Univariate, 'x2.1#0.35019147396087646#0.9748222827911377': Univariate, 'y2.1#0.33125555515289307#0.99464350938797': Univariate, 'x1.2#-0.0010495036840438843#0.14544853568077087': Univariate, 'y1.2#-0.023361951112747192#0.004393935203552246': Univariate, 'x2.2#0.35296720266342163#0.9814809560775757': Univariate, 'y2.2#0.32850170135498047#0.99464350938797': Univariate}\")\n"
     ]
    }
   ],
   "source": [
    "gaussian_flat = GaussianCopula(constraints=constraints_copula_flat,\n",
    "                               field_transformers=field_transformer_flat,\n",
    "                               field_distributions=field_distribution_b)\n",
    "gaussian_flat.fit(dfnorm)"
   ]
  },
  {
   "cell_type": "code",
   "execution_count": 607,
   "metadata": {
    "ExecuteTime": {
     "end_time": "2021-07-30T11:24:24.537821Z",
     "start_time": "2021-07-30T11:24:24.412790Z"
    },
    "scrolled": true
   },
   "outputs": [
    {
     "data": {
      "text/html": [
       "<div>\n",
       "<style scoped>\n",
       "    .dataframe tbody tr th:only-of-type {\n",
       "        vertical-align: middle;\n",
       "    }\n",
       "\n",
       "    .dataframe tbody tr th {\n",
       "        vertical-align: top;\n",
       "    }\n",
       "\n",
       "    .dataframe thead th {\n",
       "        text-align: right;\n",
       "    }\n",
       "</style>\n",
       "<table border=\"1\" class=\"dataframe\">\n",
       "  <thead>\n",
       "    <tr style=\"text-align: right;\">\n",
       "      <th></th>\n",
       "      <th>sensor_type</th>\n",
       "      <th>classes.1</th>\n",
       "      <th>scores.1</th>\n",
       "      <th>classes.2</th>\n",
       "      <th>scores.2</th>\n",
       "      <th>_timestamp</th>\n",
       "      <th>EventProcessedUtcTime</th>\n",
       "      <th>EventEnqueuedUtcTime</th>\n",
       "      <th>x1.1</th>\n",
       "      <th>y1.1</th>\n",
       "      <th>x2.1</th>\n",
       "      <th>y2.1</th>\n",
       "      <th>x1.2</th>\n",
       "      <th>y1.2</th>\n",
       "      <th>x2.2</th>\n",
       "      <th>y2.2</th>\n",
       "    </tr>\n",
       "  </thead>\n",
       "  <tbody>\n",
       "    <tr>\n",
       "      <th>0</th>\n",
       "      <td>c</td>\n",
       "      <td>couch</td>\n",
       "      <td>0.620609</td>\n",
       "      <td>bed</td>\n",
       "      <td>0.589180</td>\n",
       "      <td>2021-07-26 15:52:34.380059392</td>\n",
       "      <td>2021-07-26 14:25:41.555853824+00:00</td>\n",
       "      <td>2021-07-26 13:52:34.658715648+00:00</td>\n",
       "      <td>0.001898</td>\n",
       "      <td>0.004184</td>\n",
       "      <td>0.350797</td>\n",
       "      <td>0.342362</td>\n",
       "      <td>0.117696</td>\n",
       "      <td>-0.020693</td>\n",
       "      <td>0.971431</td>\n",
       "      <td>0.977668</td>\n",
       "    </tr>\n",
       "    <tr>\n",
       "      <th>1</th>\n",
       "      <td>c</td>\n",
       "      <td>couch</td>\n",
       "      <td>0.640861</td>\n",
       "      <td>bed</td>\n",
       "      <td>0.576292</td>\n",
       "      <td>2021-07-26 15:57:34.165053696</td>\n",
       "      <td>2021-07-26 14:25:44.106543872+00:00</td>\n",
       "      <td>2021-07-26 13:57:34.481298944+00:00</td>\n",
       "      <td>0.000676</td>\n",
       "      <td>0.003140</td>\n",
       "      <td>0.353497</td>\n",
       "      <td>0.343954</td>\n",
       "      <td>0.112959</td>\n",
       "      <td>-0.018638</td>\n",
       "      <td>0.971901</td>\n",
       "      <td>0.988880</td>\n",
       "    </tr>\n",
       "    <tr>\n",
       "      <th>2</th>\n",
       "      <td>c</td>\n",
       "      <td>couch</td>\n",
       "      <td>0.639630</td>\n",
       "      <td>bed</td>\n",
       "      <td>0.596940</td>\n",
       "      <td>2021-07-26 15:56:54.446614272</td>\n",
       "      <td>2021-07-26 14:25:42.608930048+00:00</td>\n",
       "      <td>2021-07-26 13:56:54.554129152+00:00</td>\n",
       "      <td>0.000889</td>\n",
       "      <td>0.005631</td>\n",
       "      <td>0.350191</td>\n",
       "      <td>0.342709</td>\n",
       "      <td>0.129117</td>\n",
       "      <td>-0.005102</td>\n",
       "      <td>0.963427</td>\n",
       "      <td>0.945516</td>\n",
       "    </tr>\n",
       "    <tr>\n",
       "      <th>3</th>\n",
       "      <td>c</td>\n",
       "      <td>couch</td>\n",
       "      <td>0.623207</td>\n",
       "      <td>bed</td>\n",
       "      <td>0.587850</td>\n",
       "      <td>2021-07-26 15:56:55.153115904</td>\n",
       "      <td>2021-07-26 14:25:43.745181696+00:00</td>\n",
       "      <td>2021-07-26 13:56:55.565349120+00:00</td>\n",
       "      <td>0.002081</td>\n",
       "      <td>0.002923</td>\n",
       "      <td>0.352494</td>\n",
       "      <td>0.345076</td>\n",
       "      <td>0.129886</td>\n",
       "      <td>-0.005647</td>\n",
       "      <td>0.971313</td>\n",
       "      <td>0.927423</td>\n",
       "    </tr>\n",
       "    <tr>\n",
       "      <th>4</th>\n",
       "      <td>c</td>\n",
       "      <td>couch</td>\n",
       "      <td>0.635144</td>\n",
       "      <td>bed</td>\n",
       "      <td>0.602090</td>\n",
       "      <td>2021-07-26 15:55:21.054443008</td>\n",
       "      <td>2021-07-26 14:25:45.041535488+00:00</td>\n",
       "      <td>2021-07-26 13:55:21.570001408+00:00</td>\n",
       "      <td>0.001739</td>\n",
       "      <td>0.001508</td>\n",
       "      <td>0.354220</td>\n",
       "      <td>0.348779</td>\n",
       "      <td>0.140735</td>\n",
       "      <td>-0.008463</td>\n",
       "      <td>0.973189</td>\n",
       "      <td>0.985021</td>\n",
       "    </tr>\n",
       "  </tbody>\n",
       "</table>\n",
       "</div>"
      ],
      "text/plain": [
       "  sensor_type classes.1  scores.1 classes.2  scores.2  \\\n",
       "0           c     couch  0.620609       bed  0.589180   \n",
       "1           c     couch  0.640861       bed  0.576292   \n",
       "2           c     couch  0.639630       bed  0.596940   \n",
       "3           c     couch  0.623207       bed  0.587850   \n",
       "4           c     couch  0.635144       bed  0.602090   \n",
       "\n",
       "                     _timestamp               EventProcessedUtcTime  \\\n",
       "0 2021-07-26 15:52:34.380059392 2021-07-26 14:25:41.555853824+00:00   \n",
       "1 2021-07-26 15:57:34.165053696 2021-07-26 14:25:44.106543872+00:00   \n",
       "2 2021-07-26 15:56:54.446614272 2021-07-26 14:25:42.608930048+00:00   \n",
       "3 2021-07-26 15:56:55.153115904 2021-07-26 14:25:43.745181696+00:00   \n",
       "4 2021-07-26 15:55:21.054443008 2021-07-26 14:25:45.041535488+00:00   \n",
       "\n",
       "                 EventEnqueuedUtcTime      x1.1      y1.1      x2.1      y2.1  \\\n",
       "0 2021-07-26 13:52:34.658715648+00:00  0.001898  0.004184  0.350797  0.342362   \n",
       "1 2021-07-26 13:57:34.481298944+00:00  0.000676  0.003140  0.353497  0.343954   \n",
       "2 2021-07-26 13:56:54.554129152+00:00  0.000889  0.005631  0.350191  0.342709   \n",
       "3 2021-07-26 13:56:55.565349120+00:00  0.002081  0.002923  0.352494  0.345076   \n",
       "4 2021-07-26 13:55:21.570001408+00:00  0.001739  0.001508  0.354220  0.348779   \n",
       "\n",
       "       x1.2      y1.2      x2.2      y2.2  \n",
       "0  0.117696 -0.020693  0.971431  0.977668  \n",
       "1  0.112959 -0.018638  0.971901  0.988880  \n",
       "2  0.129117 -0.005102  0.963427  0.945516  \n",
       "3  0.129886 -0.005647  0.971313  0.927423  \n",
       "4  0.140735 -0.008463  0.973189  0.985021  "
      ]
     },
     "execution_count": 607,
     "metadata": {},
     "output_type": "execute_result"
    }
   ],
   "source": [
    "flat_gauss = gaussian_flat.sample(1000)\n",
    "flat_gauss.head()"
   ]
  },
  {
   "cell_type": "code",
   "execution_count": 608,
   "metadata": {
    "ExecuteTime": {
     "end_time": "2021-07-30T11:24:25.765740Z",
     "start_time": "2021-07-30T11:24:24.539792Z"
    }
   },
   "outputs": [
    {
     "data": {
      "text/plain": [
       "0.4890378467856606"
      ]
     },
     "execution_count": 608,
     "metadata": {},
     "output_type": "execute_result"
    }
   ],
   "source": [
    "evaluate(flat_gauss, dfnorm)"
   ]
  },
  {
   "cell_type": "code",
   "execution_count": 609,
   "metadata": {
    "ExecuteTime": {
     "end_time": "2021-07-30T11:24:26.847487Z",
     "start_time": "2021-07-30T11:24:25.767705Z"
    }
   },
   "outputs": [
    {
     "data": {
      "text/plain": [
       "0.6295263965523387"
      ]
     },
     "execution_count": 609,
     "metadata": {},
     "output_type": "execute_result"
    }
   ],
   "source": [
    "evaluate(\n",
    "    flat_gauss[[\n",
    "        'sensor_type', 'classes.1', 'scores.1', 'x1.1', 'y1.1', 'x2.1', 'y2.1',\n",
    "        'classes.2', 'scores.2', 'x1.2', 'y1.2', 'x2.2', 'y2.2'\n",
    "    ]], dfnorm[[\n",
    "        'sensor_type', 'classes.1', 'scores.1', 'x1.1', 'y1.1', 'x2.1', 'y2.1',\n",
    "        'classes.2', 'scores.2', 'x1.2', 'y1.2', 'x2.2', 'y2.2'\n",
    "    ]])"
   ]
  },
  {
   "cell_type": "markdown",
   "metadata": {},
   "source": [
    "### TVAE"
   ]
  },
  {
   "cell_type": "code",
   "execution_count": 628,
   "metadata": {
    "ExecuteTime": {
     "end_time": "2021-07-30T11:31:46.512172Z",
     "start_time": "2021-07-30T11:31:41.310462Z"
    }
   },
   "outputs": [
    {
     "name": "stderr",
     "output_type": "stream",
     "text": [
      "2021-07-30 13:31:41,311 : MainThread : INFO : Fitting table None metadata\n",
      "2021-07-30 13:31:41,315 : MainThread : INFO : Anonymizing table None\n",
      "2021-07-30 13:31:41,316 : MainThread : INFO : Fitting constraints for table None\n",
      "2021-07-30 13:31:41,321 : MainThread : INFO : Fitting GaussianMultivariate()\n",
      "2021-07-30 13:31:42,010 : MainThread : INFO : Fitting GaussianMultivariate()\n",
      "2021-07-30 13:31:42,472 : MainThread : INFO : Fitting GaussianMultivariate()\n",
      "2021-07-30 13:31:43,061 : MainThread : INFO : Fitting GaussianMultivariate()\n",
      "2021-07-30 13:31:43,527 : MainThread : INFO : Fitting HyperTransformer for table None\n"
     ]
    }
   ],
   "source": [
    "tvae_flat = TVAE(constraints=constraints_tvae_flat,\n",
    "                 field_transformers=field_transformer_flat)\n",
    "tvae_flat.fit(dfnorm)"
   ]
  },
  {
   "cell_type": "code",
   "execution_count": 629,
   "metadata": {
    "ExecuteTime": {
     "end_time": "2021-07-30T11:31:46.623596Z",
     "start_time": "2021-07-30T11:31:46.515074Z"
    }
   },
   "outputs": [
    {
     "data": {
      "text/html": [
       "<div>\n",
       "<style scoped>\n",
       "    .dataframe tbody tr th:only-of-type {\n",
       "        vertical-align: middle;\n",
       "    }\n",
       "\n",
       "    .dataframe tbody tr th {\n",
       "        vertical-align: top;\n",
       "    }\n",
       "\n",
       "    .dataframe thead th {\n",
       "        text-align: right;\n",
       "    }\n",
       "</style>\n",
       "<table border=\"1\" class=\"dataframe\">\n",
       "  <thead>\n",
       "    <tr style=\"text-align: right;\">\n",
       "      <th></th>\n",
       "      <th>sensor_type</th>\n",
       "      <th>classes.1</th>\n",
       "      <th>scores.1</th>\n",
       "      <th>classes.2</th>\n",
       "      <th>scores.2</th>\n",
       "      <th>_timestamp</th>\n",
       "      <th>EventProcessedUtcTime</th>\n",
       "      <th>EventEnqueuedUtcTime</th>\n",
       "      <th>x1.1</th>\n",
       "      <th>y1.1</th>\n",
       "      <th>x2.1</th>\n",
       "      <th>y2.1</th>\n",
       "      <th>x1.2</th>\n",
       "      <th>y1.2</th>\n",
       "      <th>x2.2</th>\n",
       "      <th>y2.2</th>\n",
       "    </tr>\n",
       "  </thead>\n",
       "  <tbody>\n",
       "    <tr>\n",
       "      <th>0</th>\n",
       "      <td>c</td>\n",
       "      <td>couch</td>\n",
       "      <td>0.646113</td>\n",
       "      <td>bed</td>\n",
       "      <td>0.597658</td>\n",
       "      <td>2021-07-26 15:58:49.338031872</td>\n",
       "      <td>2021-07-26 14:25:44.273220352+00:00</td>\n",
       "      <td>2021-07-26 13:58:56.457265920+00:00</td>\n",
       "      <td>-0.001006</td>\n",
       "      <td>0.005059</td>\n",
       "      <td>0.352888</td>\n",
       "      <td>0.339633</td>\n",
       "      <td>0.127167</td>\n",
       "      <td>-0.016045</td>\n",
       "      <td>0.971706</td>\n",
       "      <td>0.991878</td>\n",
       "    </tr>\n",
       "    <tr>\n",
       "      <th>1</th>\n",
       "      <td>c</td>\n",
       "      <td>couch</td>\n",
       "      <td>0.641969</td>\n",
       "      <td>bed</td>\n",
       "      <td>0.598135</td>\n",
       "      <td>2021-07-26 15:55:42.517068288</td>\n",
       "      <td>2021-07-26 14:25:43.905486592+00:00</td>\n",
       "      <td>2021-07-26 13:53:16.884683264+00:00</td>\n",
       "      <td>-0.000169</td>\n",
       "      <td>0.002615</td>\n",
       "      <td>0.353784</td>\n",
       "      <td>0.348689</td>\n",
       "      <td>0.136303</td>\n",
       "      <td>-0.015706</td>\n",
       "      <td>0.970270</td>\n",
       "      <td>0.996083</td>\n",
       "    </tr>\n",
       "    <tr>\n",
       "      <th>2</th>\n",
       "      <td>c</td>\n",
       "      <td>couch</td>\n",
       "      <td>0.650690</td>\n",
       "      <td>bed</td>\n",
       "      <td>0.597533</td>\n",
       "      <td>2021-07-26 15:59:09.008641024</td>\n",
       "      <td>2021-07-26 14:25:45.371668992+00:00</td>\n",
       "      <td>2021-07-26 14:01:03.595997696+00:00</td>\n",
       "      <td>-0.000647</td>\n",
       "      <td>0.003110</td>\n",
       "      <td>0.358499</td>\n",
       "      <td>0.345358</td>\n",
       "      <td>0.131563</td>\n",
       "      <td>-0.015831</td>\n",
       "      <td>0.970339</td>\n",
       "      <td>0.995627</td>\n",
       "    </tr>\n",
       "    <tr>\n",
       "      <th>3</th>\n",
       "      <td>c</td>\n",
       "      <td>couch</td>\n",
       "      <td>0.623613</td>\n",
       "      <td>bed</td>\n",
       "      <td>0.597870</td>\n",
       "      <td>2021-07-26 15:57:46.407924480</td>\n",
       "      <td>2021-07-26 14:25:45.194522624+00:00</td>\n",
       "      <td>2021-07-26 13:57:03.534027264+00:00</td>\n",
       "      <td>-0.005003</td>\n",
       "      <td>0.002232</td>\n",
       "      <td>0.357283</td>\n",
       "      <td>0.332722</td>\n",
       "      <td>0.131285</td>\n",
       "      <td>-0.015732</td>\n",
       "      <td>0.973851</td>\n",
       "      <td>0.993085</td>\n",
       "    </tr>\n",
       "    <tr>\n",
       "      <th>4</th>\n",
       "      <td>c</td>\n",
       "      <td>couch</td>\n",
       "      <td>0.641039</td>\n",
       "      <td>bed</td>\n",
       "      <td>0.597149</td>\n",
       "      <td>2021-07-26 15:58:49.361882112</td>\n",
       "      <td>2021-07-26 14:25:45.256910592+00:00</td>\n",
       "      <td>2021-07-26 13:58:37.934870272+00:00</td>\n",
       "      <td>-0.003606</td>\n",
       "      <td>0.003984</td>\n",
       "      <td>0.354789</td>\n",
       "      <td>0.347581</td>\n",
       "      <td>0.137156</td>\n",
       "      <td>-0.016018</td>\n",
       "      <td>0.966769</td>\n",
       "      <td>0.995648</td>\n",
       "    </tr>\n",
       "  </tbody>\n",
       "</table>\n",
       "</div>"
      ],
      "text/plain": [
       "  sensor_type classes.1  scores.1 classes.2  scores.2  \\\n",
       "0           c     couch  0.646113       bed  0.597658   \n",
       "1           c     couch  0.641969       bed  0.598135   \n",
       "2           c     couch  0.650690       bed  0.597533   \n",
       "3           c     couch  0.623613       bed  0.597870   \n",
       "4           c     couch  0.641039       bed  0.597149   \n",
       "\n",
       "                     _timestamp               EventProcessedUtcTime  \\\n",
       "0 2021-07-26 15:58:49.338031872 2021-07-26 14:25:44.273220352+00:00   \n",
       "1 2021-07-26 15:55:42.517068288 2021-07-26 14:25:43.905486592+00:00   \n",
       "2 2021-07-26 15:59:09.008641024 2021-07-26 14:25:45.371668992+00:00   \n",
       "3 2021-07-26 15:57:46.407924480 2021-07-26 14:25:45.194522624+00:00   \n",
       "4 2021-07-26 15:58:49.361882112 2021-07-26 14:25:45.256910592+00:00   \n",
       "\n",
       "                 EventEnqueuedUtcTime      x1.1      y1.1      x2.1      y2.1  \\\n",
       "0 2021-07-26 13:58:56.457265920+00:00 -0.001006  0.005059  0.352888  0.339633   \n",
       "1 2021-07-26 13:53:16.884683264+00:00 -0.000169  0.002615  0.353784  0.348689   \n",
       "2 2021-07-26 14:01:03.595997696+00:00 -0.000647  0.003110  0.358499  0.345358   \n",
       "3 2021-07-26 13:57:03.534027264+00:00 -0.005003  0.002232  0.357283  0.332722   \n",
       "4 2021-07-26 13:58:37.934870272+00:00 -0.003606  0.003984  0.354789  0.347581   \n",
       "\n",
       "       x1.2      y1.2      x2.2      y2.2  \n",
       "0  0.127167 -0.016045  0.971706  0.991878  \n",
       "1  0.136303 -0.015706  0.970270  0.996083  \n",
       "2  0.131563 -0.015831  0.970339  0.995627  \n",
       "3  0.131285 -0.015732  0.973851  0.993085  \n",
       "4  0.137156 -0.016018  0.966769  0.995648  "
      ]
     },
     "execution_count": 629,
     "metadata": {},
     "output_type": "execute_result"
    }
   ],
   "source": [
    "flat_tvae = tvae_flat.sample(1000)\n",
    "flat_tvae.head()"
   ]
  },
  {
   "cell_type": "code",
   "execution_count": 630,
   "metadata": {
    "ExecuteTime": {
     "end_time": "2021-07-30T11:31:47.913564Z",
     "start_time": "2021-07-30T11:31:46.625598Z"
    }
   },
   "outputs": [
    {
     "data": {
      "text/plain": [
       "0.6566262677125312"
      ]
     },
     "execution_count": 630,
     "metadata": {},
     "output_type": "execute_result"
    }
   ],
   "source": [
    "evaluate(flat_tvae, dfnorm)"
   ]
  },
  {
   "cell_type": "code",
   "execution_count": 631,
   "metadata": {
    "ExecuteTime": {
     "end_time": "2021-07-30T11:31:49.108134Z",
     "start_time": "2021-07-30T11:31:47.916529Z"
    }
   },
   "outputs": [
    {
     "data": {
      "text/plain": [
       "0.8241236037337645"
      ]
     },
     "execution_count": 631,
     "metadata": {},
     "output_type": "execute_result"
    }
   ],
   "source": [
    "evaluate(\n",
    "    flat_tvae[[\n",
    "        'sensor_type', 'classes.1', 'scores.1', 'x1.1', 'y1.1', 'x2.1', 'y2.1',\n",
    "        'classes.2', 'scores.2', 'x1.2', 'y1.2', 'x2.2', 'y2.2'\n",
    "    ]], dfnorm[[\n",
    "        'sensor_type', 'classes.1', 'scores.1', 'x1.1', 'y1.1', 'x2.1', 'y2.1',\n",
    "        'classes.2', 'scores.2', 'x1.2', 'y1.2', 'x2.2', 'y2.2'\n",
    "    ]])"
   ]
  },
  {
   "cell_type": "markdown",
   "metadata": {},
   "source": [
    "## Visualizing"
   ]
  },
  {
   "cell_type": "markdown",
   "metadata": {},
   "source": [
    "### Timestamp Distribution"
   ]
  },
  {
   "cell_type": "code",
   "execution_count": 614,
   "metadata": {
    "ExecuteTime": {
     "end_time": "2021-07-30T11:24:34.814897Z",
     "start_time": "2021-07-30T11:24:34.418862Z"
    },
    "scrolled": true
   },
   "outputs": [
    {
     "data": {
      "text/plain": [
       "<AxesSubplot:xlabel='_timestamp'>"
      ]
     },
     "execution_count": 614,
     "metadata": {},
     "output_type": "execute_result"
    },
    {
     "data": {
      "image/png": "[encoded data removed]",
      "text/plain": [
       "<Figure size 720x360 with 1 Axes>"
      ]
     },
     "metadata": {
      "needs_background": "light"
     },
     "output_type": "display_data"
    }
   ],
   "source": [
    "dfnorm_per_minute = dfnorm.groupby(\n",
    "    [dfnorm['_timestamp'].astype('datetime64[m]')]).count()\n",
    "dfnorm_per_minute.plot(kind='bar', figsize=(10, 5), legend=None)"
   ]
  },
  {
   "cell_type": "code",
   "execution_count": 615,
   "metadata": {
    "ExecuteTime": {
     "end_time": "2021-07-30T11:24:35.195867Z",
     "start_time": "2021-07-30T11:24:34.816865Z"
    },
    "scrolled": false
   },
   "outputs": [
    {
     "data": {
      "text/plain": [
       "<AxesSubplot:xlabel='_timestamp'>"
      ]
     },
     "execution_count": 615,
     "metadata": {},
     "output_type": "execute_result"
    },
    {
     "data": {
      "image/png": "[encoded data removed]",
      "text/plain": [
       "<Figure size 720x360 with 1 Axes>"
      ]
     },
     "metadata": {
      "needs_background": "light"
     },
     "output_type": "display_data"
    }
   ],
   "source": [
    "flat_gauss_per_minute = flat_gauss.groupby(\n",
    "    [flat_gauss['_timestamp'].astype('datetime64[m]')]).count()\n",
    "flat_gauss_per_minute.plot(kind='bar', figsize=(10, 5), legend=None)"
   ]
  },
  {
   "cell_type": "code",
   "execution_count": 616,
   "metadata": {
    "ExecuteTime": {
     "end_time": "2021-07-30T11:24:35.688921Z",
     "start_time": "2021-07-30T11:24:35.197870Z"
    }
   },
   "outputs": [
    {
     "data": {
      "text/plain": [
       "<AxesSubplot:xlabel='_timestamp'>"
      ]
     },
     "execution_count": 616,
     "metadata": {},
     "output_type": "execute_result"
    },
    {
     "data": {
      "image/png": "[encoded data removed]",
      "text/plain": [
       "<Figure size 720x360 with 1 Axes>"
      ]
     },
     "metadata": {
      "needs_background": "light"
     },
     "output_type": "display_data"
    }
   ],
   "source": [
    "flat_tvae_per_minute = flat_tvae.groupby(\n",
    "    [flat_tvae['_timestamp'].astype('datetime64[m]')]).count()\n",
    "flat_tvae_per_minute.plot(kind='bar', figsize=(10, 5), legend=None)"
   ]
  },
  {
   "cell_type": "markdown",
   "metadata": {
    "deletable": false,
    "editable": false,
    "run_control": {
     "frozen": true
    }
   },
   "source": [
    "### Box Coords"
   ]
  },
  {
   "cell_type": "code",
   "execution_count": 617,
   "metadata": {
    "ExecuteTime": {
     "end_time": "2021-07-30T11:24:36.421100Z",
     "start_time": "2021-07-30T11:24:35.690873Z"
    },
    "scrolled": true
   },
   "outputs": [
    {
     "data": {
      "text/plain": [
       "<AxesSubplot:xlabel='_timestamp', ylabel='y2.2'>"
      ]
     },
     "execution_count": 617,
     "metadata": {},
     "output_type": "execute_result"
    },
    {
     "data": {
      "image/png": "[encoded data removed]",
      "text/plain": [
       "<Figure size 432x288 with 1 Axes>"
      ]
     },
     "metadata": {
      "needs_background": "light"
     },
     "output_type": "display_data"
    },
    {
     "data": {
      "image/png": "[encoded data removed]",
      "text/plain": [
       "<Figure size 432x288 with 1 Axes>"
      ]
     },
     "metadata": {
      "needs_background": "light"
     },
     "output_type": "display_data"
    },
    {
     "data": {
      "image/png": "[encoded data removed]",
      "text/plain": [
       "<Figure size 432x288 with 1 Axes>"
      ]
     },
     "metadata": {
      "needs_background": "light"
     },
     "output_type": "display_data"
    },
    {
     "data": {
      "image/png": "[encoded data removed]",
      "text/plain": [
       "<Figure size 432x288 with 1 Axes>"
      ]
     },
     "metadata": {
      "needs_background": "light"
     },
     "output_type": "display_data"
    }
   ],
   "source": [
    "ax = dfnorm.plot.scatter(x='_timestamp', y='x1.1')\n",
    "dfnorm.plot.scatter(x='_timestamp', y='x2.1', color='red', ax=ax)\n",
    "ax2 = dfnorm.plot.scatter(x='_timestamp', y='y1.1')\n",
    "dfnorm.plot.scatter(x='_timestamp', y='y2.1', color='red', ax=ax2)\n",
    "ax = dfnorm.plot.scatter(x='_timestamp', y='x1.2')\n",
    "dfnorm.plot.scatter(x='_timestamp', y='x2.2', color='red', ax=ax)\n",
    "ax2 = dfnorm.plot.scatter(x='_timestamp', y='y1.2')\n",
    "dfnorm.plot.scatter(x='_timestamp', y='y2.2', color='red', ax=ax2)"
   ]
  },
  {
   "cell_type": "code",
   "execution_count": 618,
   "metadata": {
    "ExecuteTime": {
     "end_time": "2021-07-30T11:24:37.170105Z",
     "start_time": "2021-07-30T11:24:36.423073Z"
    },
    "scrolled": true
   },
   "outputs": [
    {
     "data": {
      "text/plain": [
       "<AxesSubplot:xlabel='_timestamp', ylabel='y2.2'>"
      ]
     },
     "execution_count": 618,
     "metadata": {},
     "output_type": "execute_result"
    },
    {
     "data": {
      "image/png": "[encoded data removed]",
      "text/plain": [
       "<Figure size 432x288 with 1 Axes>"
      ]
     },
     "metadata": {
      "needs_background": "light"
     },
     "output_type": "display_data"
    },
    {
     "data": {
      "image/png": "[encoded data removed]",
      "text/plain": [
       "<Figure size 432x288 with 1 Axes>"
      ]
     },
     "metadata": {
      "needs_background": "light"
     },
     "output_type": "display_data"
    },
    {
     "data": {
      "image/png": "[encoded data removed]",
      "text/plain": [
       "<Figure size 432x288 with 1 Axes>"
      ]
     },
     "metadata": {
      "needs_background": "light"
     },
     "output_type": "display_data"
    },
    {
     "data": {
      "image/png": "[encoded data removed]",
      "text/plain": [
       "<Figure size 432x288 with 1 Axes>"
      ]
     },
     "metadata": {
      "needs_background": "light"
     },
     "output_type": "display_data"
    }
   ],
   "source": [
    "ax = flat_gauss.plot.scatter(x='_timestamp', y='x1.1')\n",
    "flat_gauss.plot.scatter(x='_timestamp', y='x2.1', color='red', ax=ax)\n",
    "ax2 = flat_gauss.plot.scatter(x='_timestamp', y='y1.1')\n",
    "flat_gauss.plot.scatter(x='_timestamp', y='y2.1', color='red', ax=ax2)\n",
    "ax3 = flat_gauss.plot.scatter(x='_timestamp', y='x1.2')\n",
    "flat_gauss.plot.scatter(x='_timestamp', y='x2.2', color='red', ax=ax3)\n",
    "ax4 = flat_gauss.plot.scatter(x='_timestamp', y='y1.2')\n",
    "flat_gauss.plot.scatter(x='_timestamp', y='y2.2', color='red', ax=ax4)"
   ]
  },
  {
   "cell_type": "code",
   "execution_count": 632,
   "metadata": {
    "ExecuteTime": {
     "end_time": "2021-07-30T11:32:12.680839Z",
     "start_time": "2021-07-30T11:32:12.044339Z"
    },
    "scrolled": true
   },
   "outputs": [
    {
     "data": {
      "text/plain": [
       "<AxesSubplot:xlabel='_timestamp', ylabel='y2.2'>"
      ]
     },
     "execution_count": 632,
     "metadata": {},
     "output_type": "execute_result"
    },
    {
     "data": {
      "image/png": "[encoded data removed]",
      "text/plain": [
       "<Figure size 432x288 with 1 Axes>"
      ]
     },
     "metadata": {
      "needs_background": "light"
     },
     "output_type": "display_data"
    },
    {
     "data": {
      "image/png": "[encoded data removed]",
      "text/plain": [
       "<Figure size 432x288 with 1 Axes>"
      ]
     },
     "metadata": {
      "needs_background": "light"
     },
     "output_type": "display_data"
    },
    {
     "data": {
      "image/png": "[encoded data removed]",
      "text/plain": [
       "<Figure size 432x288 with 1 Axes>"
      ]
     },
     "metadata": {
      "needs_background": "light"
     },
     "output_type": "display_data"
    },
    {
     "data": {
      "image/png": "[encoded data removed]",
      "text/plain": [
       "<Figure size 432x288 with 1 Axes>"
      ]
     },
     "metadata": {
      "needs_background": "light"
     },
     "output_type": "display_data"
    }
   ],
   "source": [
    "ax = flat_tvae.plot.scatter(x='_timestamp', y='x1.1')\n",
    "flat_tvae.plot.scatter(x='_timestamp', y='x2.1', color='red', ax=ax)\n",
    "ax2 = flat_tvae.plot.scatter(x='_timestamp', y='y1.1')\n",
    "flat_tvae.plot.scatter(x='_timestamp', y='y2.1', color='red', ax=ax2)\n",
    "ax3 = flat_tvae.plot.scatter(x='_timestamp', y='x1.2')\n",
    "flat_tvae.plot.scatter(x='_timestamp', y='x2.2', color='red', ax=ax3)\n",
    "ax4 = flat_tvae.plot.scatter(x='_timestamp', y='y1.2')\n",
    "flat_tvae.plot.scatter(x='_timestamp', y='y2.2', color='red', ax=ax4)"
   ]
  },
  {
   "cell_type": "markdown",
   "metadata": {},
   "source": [
    "## Reformatting"
   ]
  },
  {
   "cell_type": "code",
   "execution_count": 620,
   "metadata": {
    "ExecuteTime": {
     "end_time": "2021-07-30T11:24:37.774508Z",
     "start_time": "2021-07-30T11:24:37.761469Z"
    }
   },
   "outputs": [],
   "source": [
    "flat_tvae.rename(\n",
    "    columns={\n",
    "        'sensor_type' :'unmodeleddata_sensors___t' ,\n",
    "        'classes.1':'unmodeleddata_sensors_video_0_classes',\n",
    "        'scores.1': 'unmodeleddata_sensors_video_0_scores' ,\n",
    "        'classes.2': 'unmodeleddata_sensors_video_1_classes' ,\n",
    "        'scores.2': 'unmodeleddata_sensors_video_1_scores',\n",
    "        '_timestamp':'timestamp'\n",
    "    },inplace=True)"
   ]
  },
  {
   "cell_type": "code",
   "execution_count": 621,
   "metadata": {
    "ExecuteTime": {
     "end_time": "2021-07-30T11:24:37.917000Z",
     "start_time": "2021-07-30T11:24:37.779499Z"
    }
   },
   "outputs": [],
   "source": [
    "temp = []\n",
    "fromat_tvae = flat_tvae.copy()\n",
    "for i in range(len(flat_tvae['x1.1'].tolist())):\n",
    "        temp.append('[' + str(flat_tvae['x1.1'].tolist()[i]) + ', ' +\n",
    "                    str(flat_tvae['y1.1'].tolist()[i]) + ', ' + str(flat_tvae['x2.1'].tolist()[i]) +\n",
    "                    ', ' + str(flat_tvae['y2.1'].tolist()[i]) + ']')\n",
    "fromat_tvae.drop(columns=['x1.1', 'y1.1', 'x2.1', 'y2.1'], inplace=True)\n",
    "fromat_tvae.insert(2, 'unmodeleddata_sensors_video_0_boxes', temp)\n"
   ]
  },
  {
   "cell_type": "code",
   "execution_count": 622,
   "metadata": {
    "ExecuteTime": {
     "end_time": "2021-07-30T11:24:38.044106Z",
     "start_time": "2021-07-30T11:24:37.919000Z"
    }
   },
   "outputs": [],
   "source": [
    "temp = []\n",
    "for i in range(len(flat_tvae['x1.2'].tolist())):\n",
    "        temp.append('[' + str(flat_tvae['x1.2'].tolist()[i]) + ', ' +\n",
    "                    str(flat_tvae['y1.2'].tolist()[i]) + ', ' + str(flat_tvae['x2.2'].tolist()[i]) +\n",
    "                    ', ' + str(flat_tvae['y2.2'].tolist()[i]) + ']')\n",
    "fromat_tvae.drop(columns=['x1.2', 'y1.2', 'x2.2', 'y2.2'], inplace=True)\n",
    "fromat_tvae.insert(5, 'unmodeleddata_sensors_video_1_boxes', temp)"
   ]
  },
  {
   "cell_type": "code",
   "execution_count": 623,
   "metadata": {
    "ExecuteTime": {
     "end_time": "2021-07-30T11:24:38.076032Z",
     "start_time": "2021-07-30T11:24:38.046002Z"
    }
   },
   "outputs": [
    {
     "data": {
      "text/html": [
       "<div>\n",
       "<style scoped>\n",
       "    .dataframe tbody tr th:only-of-type {\n",
       "        vertical-align: middle;\n",
       "    }\n",
       "\n",
       "    .dataframe tbody tr th {\n",
       "        vertical-align: top;\n",
       "    }\n",
       "\n",
       "    .dataframe thead th {\n",
       "        text-align: right;\n",
       "    }\n",
       "</style>\n",
       "<table border=\"1\" class=\"dataframe\">\n",
       "  <thead>\n",
       "    <tr style=\"text-align: right;\">\n",
       "      <th></th>\n",
       "      <th>unmodeleddata_sensors___t</th>\n",
       "      <th>unmodeleddata_sensors_video_0_classes</th>\n",
       "      <th>unmodeleddata_sensors_video_0_boxes</th>\n",
       "      <th>unmodeleddata_sensors_video_0_scores</th>\n",
       "      <th>unmodeleddata_sensors_video_1_classes</th>\n",
       "      <th>unmodeleddata_sensors_video_1_boxes</th>\n",
       "      <th>unmodeleddata_sensors_video_1_scores</th>\n",
       "      <th>timestamp</th>\n",
       "      <th>EventProcessedUtcTime</th>\n",
       "      <th>EventEnqueuedUtcTime</th>\n",
       "    </tr>\n",
       "  </thead>\n",
       "  <tbody>\n",
       "    <tr>\n",
       "      <th>0</th>\n",
       "      <td>c</td>\n",
       "      <td>couch</td>\n",
       "      <td>[-1.839478905271935e-05, -0.000182507112502373...</td>\n",
       "      <td>0.638004</td>\n",
       "      <td>bed</td>\n",
       "      <td>[0.12371916899101872, -0.01625735550464828, 0....</td>\n",
       "      <td>0.584492</td>\n",
       "      <td>2021-07-26 15:57:33.086019328</td>\n",
       "      <td>2021-07-26 14:25:43.090420224+00:00</td>\n",
       "      <td>2021-07-26 13:53:55.974961152+00:00</td>\n",
       "    </tr>\n",
       "    <tr>\n",
       "      <th>1</th>\n",
       "      <td>c</td>\n",
       "      <td>couch</td>\n",
       "      <td>[0.00034271171163531187, 0.002936470398407392,...</td>\n",
       "      <td>0.619582</td>\n",
       "      <td>bed</td>\n",
       "      <td>[0.13580249495439978, -0.016122086643799983, 0...</td>\n",
       "      <td>0.597373</td>\n",
       "      <td>2021-07-26 15:54:02.759121408</td>\n",
       "      <td>2021-07-26 14:25:41.879738880+00:00</td>\n",
       "      <td>2021-07-26 13:52:57.259563008+00:00</td>\n",
       "    </tr>\n",
       "    <tr>\n",
       "      <th>2</th>\n",
       "      <td>c</td>\n",
       "      <td>couch</td>\n",
       "      <td>[0.00017669096650499742, 0.0022713111262510173...</td>\n",
       "      <td>0.638033</td>\n",
       "      <td>bed</td>\n",
       "      <td>[0.12053934294468518, -0.02218225115854493, 0....</td>\n",
       "      <td>0.597456</td>\n",
       "      <td>2021-07-26 15:53:48.756245248</td>\n",
       "      <td>2021-07-26 14:25:42.837284608+00:00</td>\n",
       "      <td>2021-07-26 13:52:45.252415744+00:00</td>\n",
       "    </tr>\n",
       "    <tr>\n",
       "      <th>3</th>\n",
       "      <td>c</td>\n",
       "      <td>couch</td>\n",
       "      <td>[0.0010364368529711798, 0.0032372070348017476,...</td>\n",
       "      <td>0.630229</td>\n",
       "      <td>bed</td>\n",
       "      <td>[0.12918293854551907, -0.015684933910622215, 0...</td>\n",
       "      <td>0.597179</td>\n",
       "      <td>2021-07-26 15:58:34.011042560</td>\n",
       "      <td>2021-07-26 14:25:44.728321792+00:00</td>\n",
       "      <td>2021-07-26 13:58:57.069963008+00:00</td>\n",
       "    </tr>\n",
       "    <tr>\n",
       "      <th>4</th>\n",
       "      <td>c</td>\n",
       "      <td>couch</td>\n",
       "      <td>[-0.0023364385665699313, 0.0014842892490229843...</td>\n",
       "      <td>0.636010</td>\n",
       "      <td>bed</td>\n",
       "      <td>[0.13789985516647696, -0.015825587263260412, 0...</td>\n",
       "      <td>0.596960</td>\n",
       "      <td>2021-07-26 15:57:15.385118720</td>\n",
       "      <td>2021-07-26 14:25:44.934795520+00:00</td>\n",
       "      <td>2021-07-26 13:58:25.445385984+00:00</td>\n",
       "    </tr>\n",
       "  </tbody>\n",
       "</table>\n",
       "</div>"
      ],
      "text/plain": [
       "  unmodeleddata_sensors___t unmodeleddata_sensors_video_0_classes  \\\n",
       "0                         c                                 couch   \n",
       "1                         c                                 couch   \n",
       "2                         c                                 couch   \n",
       "3                         c                                 couch   \n",
       "4                         c                                 couch   \n",
       "\n",
       "                 unmodeleddata_sensors_video_0_boxes  \\\n",
       "0  [-1.839478905271935e-05, -0.000182507112502373...   \n",
       "1  [0.00034271171163531187, 0.002936470398407392,...   \n",
       "2  [0.00017669096650499742, 0.0022713111262510173...   \n",
       "3  [0.0010364368529711798, 0.0032372070348017476,...   \n",
       "4  [-0.0023364385665699313, 0.0014842892490229843...   \n",
       "\n",
       "   unmodeleddata_sensors_video_0_scores unmodeleddata_sensors_video_1_classes  \\\n",
       "0                              0.638004                                   bed   \n",
       "1                              0.619582                                   bed   \n",
       "2                              0.638033                                   bed   \n",
       "3                              0.630229                                   bed   \n",
       "4                              0.636010                                   bed   \n",
       "\n",
       "                 unmodeleddata_sensors_video_1_boxes  \\\n",
       "0  [0.12371916899101872, -0.01625735550464828, 0....   \n",
       "1  [0.13580249495439978, -0.016122086643799983, 0...   \n",
       "2  [0.12053934294468518, -0.02218225115854493, 0....   \n",
       "3  [0.12918293854551907, -0.015684933910622215, 0...   \n",
       "4  [0.13789985516647696, -0.015825587263260412, 0...   \n",
       "\n",
       "   unmodeleddata_sensors_video_1_scores                     timestamp  \\\n",
       "0                              0.584492 2021-07-26 15:57:33.086019328   \n",
       "1                              0.597373 2021-07-26 15:54:02.759121408   \n",
       "2                              0.597456 2021-07-26 15:53:48.756245248   \n",
       "3                              0.597179 2021-07-26 15:58:34.011042560   \n",
       "4                              0.596960 2021-07-26 15:57:15.385118720   \n",
       "\n",
       "                EventProcessedUtcTime                EventEnqueuedUtcTime  \n",
       "0 2021-07-26 14:25:43.090420224+00:00 2021-07-26 13:53:55.974961152+00:00  \n",
       "1 2021-07-26 14:25:41.879738880+00:00 2021-07-26 13:52:57.259563008+00:00  \n",
       "2 2021-07-26 14:25:42.837284608+00:00 2021-07-26 13:52:45.252415744+00:00  \n",
       "3 2021-07-26 14:25:44.728321792+00:00 2021-07-26 13:58:57.069963008+00:00  \n",
       "4 2021-07-26 14:25:44.934795520+00:00 2021-07-26 13:58:25.445385984+00:00  "
      ]
     },
     "execution_count": 623,
     "metadata": {},
     "output_type": "execute_result"
    }
   ],
   "source": [
    "fromat_tvae.head()"
   ]
  },
  {
   "cell_type": "code",
   "execution_count": null,
   "metadata": {},
   "outputs": [],
   "source": []
  }
 ],
 "metadata": {
  "celltoolbar": "Raw Cell Format",
  "kernelspec": {
   "display_name": "Python 3 (ipykernel)",
   "language": "python",
   "name": "python3"
  },
  "language_info": {
   "codemirror_mode": {
    "name": "ipython",
    "version": 3
   },
   "file_extension": ".py",
   "mimetype": "text/x-python",
   "name": "python",
   "nbconvert_exporter": "python",
   "pygments_lexer": "ipython3",
   "version": "3.8.3"
  },
  "nbTranslate": {
   "displayLangs": [
    "*"
   ],
   "hotkey": "alt-t",
   "langInMainMenu": true,
   "sourceLang": "en",
   "targetLang": "fr",
   "useGoogleTranslate": true
  },
  "toc": {
   "base_numbering": 1,
   "nav_menu": {},
   "number_sections": true,
   "sideBar": true,
   "skip_h1_title": false,
   "title_cell": "Table of Contents",
   "title_sidebar": "Contents",
   "toc_cell": true,
   "toc_position": {
    "height": "789px",
    "left": "27px",
    "top": "131px",
    "width": "321px"
   },
   "toc_section_display": true,
   "toc_window_display": true
  }
 },
 "nbformat": 4,
 "nbformat_minor": 1
}
