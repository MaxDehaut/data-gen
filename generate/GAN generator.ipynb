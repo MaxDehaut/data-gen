{
 "cells": [
  {
   "cell_type": "markdown",
   "metadata": {},
   "source": [
    "# Description\n",
    "This notebook briefly describes Generative Addative Network and explores the use of the SDV library to generate synthetic data for the enriched telco dataset and the Enriched data set. It evaluates the models used using SDV model metrics which evaluate how similar the evaluated data is. \n",
    "\n",
    "These model take quite long to fit, specifically, the CTGAN model took 10-15 min to fit the 10000 entries of the telco dataset. All the models originally took longer, however, tuning hyper parameters has increased speed and accuracy with the Gaussian Copula model having the best results throughout experimentation after field transformers were applied."
   ]
  },
  {
   "cell_type": "markdown",
   "metadata": {},
   "source": [
    "# Takeaways Summary\n",
    "These models work very well when it comes to data generation. Though some can be slow, using field transformers can speed them up and once the model is trained, generation is almost instant. \n",
    "\n",
    "Field transformers seem to be the most important feature of these models, however, as will be observed in the synthetic generation notebook, other constraints also exist which make customisation for specific datasets simple and easy to use. \n",
    "\n",
    "**_Steps to implement on any data set:_** \n",
    "* **Import** the models and **load** the dataset\n",
    "* Understand and establish the fields of the dataset and **set field transformer and constraints** if neccessary\n",
    "* **Initialize** model with constraints\n",
    "* **Train/fit** model on real data\n",
    "* **Sample/Generate** new data"
   ]
  },
  {
   "cell_type": "markdown",
   "metadata": {
    "toc": true
   },
   "source": [
    "<h1>Table of Contents<span class=\"tocSkip\"></span></h1>\n",
    "<div class=\"toc\"><ul class=\"toc-item\"><li><span><a href=\"#Description\" data-toc-modified-id=\"Description-1\"><span class=\"toc-item-num\">1&nbsp;&nbsp;</span>Description</a></span></li><li><span><a href=\"#Takeaways-Summary\" data-toc-modified-id=\"Takeaways-Summary-2\"><span class=\"toc-item-num\">2&nbsp;&nbsp;</span>Takeaways Summary</a></span></li><li><span><a href=\"#GAN-Defenitions--\" data-toc-modified-id=\"GAN-Defenitions---3\"><span class=\"toc-item-num\">3&nbsp;&nbsp;</span>GAN Defenitions  <a class=\"anchor\" id=\"GANexp\"></a></a></span><ul class=\"toc-item\"><li><span><a href=\"#Generative-Adversarial-Networks-\" data-toc-modified-id=\"Generative-Adversarial-Networks--3.1\"><span class=\"toc-item-num\">3.1&nbsp;&nbsp;</span>Generative Adversarial Networks <a class=\"anchor\" id=\"GANdef\"></a></a></span></li><li><span><a href=\"#Models-in-Synthetic-Data-Vault-(SDV)-library-\" data-toc-modified-id=\"Models-in-Synthetic-Data-Vault-(SDV)-library--3.2\"><span class=\"toc-item-num\">3.2&nbsp;&nbsp;</span>Models in Synthetic Data Vault (SDV) library <a class=\"anchor\" id=\"sdv\"></a></a></span><ul class=\"toc-item\"><li><span><a href=\"#Gaussian-Copula-Model:-\" data-toc-modified-id=\"Gaussian-Copula-Model:--3.2.1\"><span class=\"toc-item-num\">3.2.1&nbsp;&nbsp;</span>Gaussian Copula Model: <a class=\"anchor\" id=\"Gaussian_def\"></a></a></span></li><li><span><a href=\"#Condition-Tabular-GAN-(CTGAN)-Model:-\" data-toc-modified-id=\"Condition-Tabular-GAN-(CTGAN)-Model:--3.2.2\"><span class=\"toc-item-num\">3.2.2&nbsp;&nbsp;</span>Condition Tabular GAN (CTGAN) Model: <a class=\"anchor\" id=\"CTGAN_def\"></a></a></span></li><li><span><a href=\"#CopulaGAN-Model:-\" data-toc-modified-id=\"CopulaGAN-Model:--3.2.3\"><span class=\"toc-item-num\">3.2.3&nbsp;&nbsp;</span>CopulaGAN Model: <a class=\"anchor\" id=\"Copula_Def\"></a></a></span></li><li><span><a href=\"#Tabular-Variational-AutoEncoder-(TVAE)-Model-:\" data-toc-modified-id=\"Tabular-Variational-AutoEncoder-(TVAE)-Model-:-3.2.4\"><span class=\"toc-item-num\">3.2.4&nbsp;&nbsp;</span>Tabular Variational AutoEncoder (TVAE) Model <a class=\"anchor\" id=\"TVAE_def\"></a>:</a></span></li></ul></li><li><span><a href=\"#Prerequisites-\" data-toc-modified-id=\"Prerequisites--3.3\"><span class=\"toc-item-num\">3.3&nbsp;&nbsp;</span>Prerequisites <a class=\"anchor\" id=\"Prerequisites\"></a></a></span></li></ul></li><li><span><a href=\"#Experimentation-on-enriched-Telco-\" data-toc-modified-id=\"Experimentation-on-enriched-Telco--4\"><span class=\"toc-item-num\">4&nbsp;&nbsp;</span>Experimentation on enriched Telco <a class=\"anchor\" id=\"Experimentation_telco\"></a></a></span><ul class=\"toc-item\"><li><span><a href=\"#Loading-and-enriching-data-set-\" data-toc-modified-id=\"Loading-and-enriching-data-set--4.1\"><span class=\"toc-item-num\">4.1&nbsp;&nbsp;</span>Loading and enriching data set <a class=\"anchor\" id=\"loading\"></a></a></span></li><li><span><a href=\"#Fitting-the-models-\" data-toc-modified-id=\"Fitting-the-models--4.2\"><span class=\"toc-item-num\">4.2&nbsp;&nbsp;</span>Fitting the models <a class=\"anchor\" id=\"fitting\"></a></a></span><ul class=\"toc-item\"><li><span><a href=\"#GaussianCopula-\" data-toc-modified-id=\"GaussianCopula--4.2.1\"><span class=\"toc-item-num\">4.2.1&nbsp;&nbsp;</span>GaussianCopula <a class=\"anchor\" id=\"gaussian_fit\"></a></a></span></li><li><span><a href=\"#CTGAN-\" data-toc-modified-id=\"CTGAN--4.2.2\"><span class=\"toc-item-num\">4.2.2&nbsp;&nbsp;</span>CTGAN <a class=\"anchor\" id=\"CTGAN_fit\"></a></a></span></li><li><span><a href=\"#CopulaGAN-\" data-toc-modified-id=\"CopulaGAN--4.2.3\"><span class=\"toc-item-num\">4.2.3&nbsp;&nbsp;</span>CopulaGAN <a class=\"anchor\" id=\"copula_fit\"></a></a></span></li><li><span><a href=\"#TVAE--\" data-toc-modified-id=\"TVAE---4.2.4\"><span class=\"toc-item-num\">4.2.4&nbsp;&nbsp;</span>TVAE  <a class=\"anchor\" id=\"TVAE_fit\"></a></a></span></li></ul></li><li><span><a href=\"#Evaluation-of-synthetic-data-\" data-toc-modified-id=\"Evaluation-of-synthetic-data--4.3\"><span class=\"toc-item-num\">4.3&nbsp;&nbsp;</span>Evaluation of synthetic data <a class=\"anchor\" id=\"eval\"></a></a></span><ul class=\"toc-item\"><li><span><a href=\"#Metric-types-\" data-toc-modified-id=\"Metric-types--4.3.1\"><span class=\"toc-item-num\">4.3.1&nbsp;&nbsp;</span>Metric types <a class=\"anchor\" id=\"metrics\"></a></a></span><ul class=\"toc-item\"><li><span><a href=\"#Statistical-metrics-\" data-toc-modified-id=\"Statistical-metrics--4.3.1.1\"><span class=\"toc-item-num\">4.3.1.1&nbsp;&nbsp;</span>Statistical metrics <a class=\"anchor\" id=\"stat\"></a></a></span></li><li><span><a href=\"#Likelihood-Metrics-\" data-toc-modified-id=\"Likelihood-Metrics--4.3.1.2\"><span class=\"toc-item-num\">4.3.1.2&nbsp;&nbsp;</span>Likelihood Metrics <a class=\"anchor\" id=\"likelihood\"></a></a></span></li><li><span><a href=\"#Detection-Metrics-\" data-toc-modified-id=\"Detection-Metrics--4.3.1.3\"><span class=\"toc-item-num\">4.3.1.3&nbsp;&nbsp;</span>Detection Metrics <a class=\"anchor\" id=\"detection\"></a></a></span></li></ul></li><li><span><a href=\"#Gaussian-Copula--\" data-toc-modified-id=\"Gaussian-Copula---4.3.2\"><span class=\"toc-item-num\">4.3.2&nbsp;&nbsp;</span>Gaussian Copula  <a class=\"anchor\" id=\"gaussian_eval\"></a></a></span></li><li><span><a href=\"#CTGAN-\" data-toc-modified-id=\"CTGAN--4.3.3\"><span class=\"toc-item-num\">4.3.3&nbsp;&nbsp;</span>CTGAN <a class=\"anchor\" id=\"CTGAN_eval\"></a></a></span></li><li><span><a href=\"#CopulaGAN\" data-toc-modified-id=\"CopulaGAN-4.3.4\"><span class=\"toc-item-num\">4.3.4&nbsp;&nbsp;</span>CopulaGAN<a class=\"anchor\" id=\"copula_eval\"></a></a></span></li><li><span><a href=\"#TVAE-\" data-toc-modified-id=\"TVAE--4.3.5\"><span class=\"toc-item-num\">4.3.5&nbsp;&nbsp;</span>TVAE <a class=\"anchor\" id=\"TVAE_eval\"></a></a></span></li></ul></li><li><span><a href=\"#Saving-data\" data-toc-modified-id=\"Saving-data-4.4\"><span class=\"toc-item-num\">4.4&nbsp;&nbsp;</span>Saving data</a></span></li></ul></li><li><span><a href=\"#Experimentation-on-enriched-dataset-\" data-toc-modified-id=\"Experimentation-on-enriched-dataset--5\"><span class=\"toc-item-num\">5&nbsp;&nbsp;</span>Experimentation on enriched dataset <a class=\"anchor\" id=\"Experimentation\"></a></a></span><ul class=\"toc-item\"><li><span><a href=\"#Loading-enriched-dataset-\" data-toc-modified-id=\"Loading-enriched-dataset--5.1\"><span class=\"toc-item-num\">5.1&nbsp;&nbsp;</span>Loading enriched dataset <a class=\"anchor\" id=\"loading2\"></a></a></span></li><li><span><a href=\"#Fitting-the-models-\" data-toc-modified-id=\"Fitting-the-models--5.2\"><span class=\"toc-item-num\">5.2&nbsp;&nbsp;</span>Fitting the models <a class=\"anchor\" id=\"fitting2\"></a></a></span><ul class=\"toc-item\"><li><span><a href=\"#GaussianCopula-\" data-toc-modified-id=\"GaussianCopula--5.2.1\"><span class=\"toc-item-num\">5.2.1&nbsp;&nbsp;</span>GaussianCopula <a class=\"anchor\" id=\"gaussian_fit2\"></a></a></span></li><li><span><a href=\"#CTGAN-\" data-toc-modified-id=\"CTGAN--5.2.2\"><span class=\"toc-item-num\">5.2.2&nbsp;&nbsp;</span>CTGAN <a class=\"anchor\" id=\"CTGAN_fit2\"></a></a></span></li><li><span><a href=\"#CopulaGAN-\" data-toc-modified-id=\"CopulaGAN--5.2.3\"><span class=\"toc-item-num\">5.2.3&nbsp;&nbsp;</span>CopulaGAN <a class=\"anchor\" id=\"copula_fit2\"></a></a></span></li><li><span><a href=\"#TVAE--\" data-toc-modified-id=\"TVAE---5.2.4\"><span class=\"toc-item-num\">5.2.4&nbsp;&nbsp;</span>TVAE  <a class=\"anchor\" id=\"TVAE_fit2\"></a></a></span></li></ul></li><li><span><a href=\"#Evaluation-of-synthetic-data-\" data-toc-modified-id=\"Evaluation-of-synthetic-data--5.3\"><span class=\"toc-item-num\">5.3&nbsp;&nbsp;</span>Evaluation of synthetic data <a class=\"anchor\" id=\"eval2\"></a></a></span><ul class=\"toc-item\"><li><span><a href=\"#Gaussian-Copula--\" data-toc-modified-id=\"Gaussian-Copula---5.3.1\"><span class=\"toc-item-num\">5.3.1&nbsp;&nbsp;</span>Gaussian Copula  <a class=\"anchor\" id=\"gaussian_eval2\"></a></a></span></li><li><span><a href=\"#CTGAN-\" data-toc-modified-id=\"CTGAN--5.3.2\"><span class=\"toc-item-num\">5.3.2&nbsp;&nbsp;</span>CTGAN <a class=\"anchor\" id=\"CTGAN_eval2\"></a></a></span></li><li><span><a href=\"#CopulaGAN-\" data-toc-modified-id=\"CopulaGAN--5.3.3\"><span class=\"toc-item-num\">5.3.3&nbsp;&nbsp;</span>CopulaGAN <a class=\"anchor\" id=\"copula_eval2\"></a></a></span></li><li><span><a href=\"#TVAE-\" data-toc-modified-id=\"TVAE--5.3.4\"><span class=\"toc-item-num\">5.3.4&nbsp;&nbsp;</span>TVAE <a class=\"anchor\" id=\"TVAE_eval2\"></a></a></span></li></ul></li><li><span><a href=\"#Saving-data\" data-toc-modified-id=\"Saving-data-5.4\"><span class=\"toc-item-num\">5.4&nbsp;&nbsp;</span>Saving data</a></span></li></ul></li></ul></div>"
   ]
  },
  {
   "cell_type": "markdown",
   "metadata": {},
   "source": [
    "# GAN Definitions  <a class=\"anchor\" id=\"GANexp\"></a>\n",
    "\n",
    "## Generative Adversarial Networks <a class=\"anchor\" id=\"GANdef\"></a>\n",
    "\n",
    "A generative adversarial network (GAN) is a class of machine learning frameworks where two neural networks contest with each other in a game (in the form of a zero-sum game, where one agent's gain is another agent's loss). This can be applied and extended to generate data in many different fields from fashion to video games. The two neural networks, the generator and discriminator, both get better with each epoch. \n",
    "\n",
    "The way it works is the Generator learns to map latent space to a distribution, ie. the real data. Then the Discriminator takes this new mapped data and real data and attemps to distinguish between the two. Both models' goals are increasing the other model's error rate while decreasing their own creating a synergetic development of both networks until the Generator's synthetic data is relatively indistinguishable from the real data."
   ]
  },
  {
   "cell_type": "markdown",
   "metadata": {},
   "source": [
    "## Models in Synthetic Data Vault (SDV) library <a class=\"anchor\" id=\"sdv\"></a>\n",
    "\n",
    "\n",
    "\n"
   ]
  },
  {
   "cell_type": "markdown",
   "metadata": {},
   "source": [
    "### Gaussian Copula Model: <a class=\"anchor\" id=\"Gaussian_def\"></a>\n",
    "\n"
   ]
  },
  {
   "cell_type": "markdown",
   "metadata": {},
   "source": [
    "Intuitively, the Guassian copula takes d marginal distributions and turns them into a single multivariate distribution $[0,1]^{d}$ using correlation coefficients. It uses this multivariate distribution to generate all values at once.\n",
    "\n",
    "Mathematically, It is constructed from a multivariate normal distribution over $\\mathbb {R} ^{d}$ by using the probability integral transform. For a given correlation matrix ${\\displaystyle R\\in [-1,1]^{d\\times d}}$, the Gaussian copula with parameter matrix ${\\displaystyle R}$ can be written as\n",
    "> $C_{R}^{\\text{Gauss}}(u)=\\Phi _{R}\\left(\\Phi ^{-1}(u_{1}),\\dots ,\\Phi ^{-1}(u_{d})\\right)$ \n",
    "\n",
    "where $ \\Phi ^{-1}$ is the inverse cumulative distribution function of a standard normal and $\\Phi _{R}$ is the joint cumulative distribution function of a multivariate normal distribution with mean vector zero and covariance matrix equal to the correlation matrix $R$. \n",
    "\n",
    "${\\displaystyle C_{R}^{\\text{Gauss}}(u)}$ is approximated using numerical integration and the density can be written as:\n",
    "\n",
    ">${\\displaystyle C_{R}^{\\text{Gauss}}(u)={\\frac {1}{\\sqrt {\\det {R}}}}\\exp \\left(-{\\frac {1}{2}}{\\begin{pmatrix}\\Phi ^{-1}(u_{1})\\\\\\vdots \\\\\\Phi ^{-1}(u_{d})\\end{pmatrix}}^{T}\\cdot \\left(R^{-1}-I\\right)\\cdot {\\begin{pmatrix}\\Phi ^{-1}(u_{1})\\\\\\vdots \\\\\\Phi ^{-1}(u_{d})\\end{pmatrix}}\\right),}$\n",
    "where $\\mathbf {I}$  is the identity matrix."
   ]
  },
  {
   "cell_type": "markdown",
   "metadata": {},
   "source": [
    "\n",
    "### Condition Tabular GAN (CTGAN) Model: <a class=\"anchor\" id=\"CTGAN_def\"></a>\n"
   ]
  },
  {
   "cell_type": "markdown",
   "metadata": {},
   "source": [
    "{Lei Xu et.al,2019}{http://arxiv.org/abs/1907.00503}\n",
    "\n",
    "CTGAN is a GAN-based method to model tabular data distribution and sample rows from the distribution. It addresses data imbalance in other GAN models caused by the need to simultaneously model discrete and continuous columns, the multi-modal non-Gaussian values within each continuous column, and the severe imbalance of categorical columns by employing a conditional generator and training-by-sampling.\n",
    "\n",
    "Let $k$  be the value from the $i^{th}$ discrete column $D_{i}$ that has to be matched by the generated samples $r$, then the generator can be interpreted as the conditional distribution of rows given that particular value at that particular column, i.e. $r ∼ PG(row|D_i = k)$.\n",
    "\n",
    "> $P(row) = \\sum_{k \\in D_{i}}PG(row|D_{i} = k)P(D_{i} = k)$\n",
    "\n",
    "The output produced by the conditional generator must be assessed by the\n",
    "critic, which estimates the distance between the learned conditional distribution $PG(row|cond)$ and\n",
    "the conditional distribution on real data $P(row|cond)$. The sampling of real training data and the\n",
    "construction of cond vector comply to help critic estimate the distance. Properly sampled\n",
    "the cond vector and training data helps the model evenly explore all possible values in discrete\n",
    "columns. \n",
    " "
   ]
  },
  {
   "cell_type": "markdown",
   "metadata": {},
   "source": [
    "\n",
    "### CopulaGAN Model: <a class=\"anchor\" id=\"Copula_Def\"></a>\n"
   ]
  },
  {
   "cell_type": "markdown",
   "metadata": {},
   "source": [
    "\n",
    "Uses the cummulative distribution function based approach of the Gaussian Capula model with the conditional GAN model to make the underlying CTGAN model task of learning the data easier."
   ]
  },
  {
   "cell_type": "markdown",
   "metadata": {},
   "source": [
    "\n",
    "\n",
    "### Tabular Variational AutoEncoder (TVAE) Model <a class=\"anchor\" id=\"TVAE_def\"></a>:\n"
   ]
  },
  {
   "cell_type": "markdown",
   "metadata": {},
   "source": [
    "{Lei Xu et.al,2019} {http://arxiv.org/abs/1907.00503 }\n",
    "\n",
    "It is another neural network generative model and uses two neural networks to model $p_θ(r_j |z_j )$ and $q_φ(z_j |r_j )$, and train them using evidence lower-bound (ELBO) loss. Sdv uses the design present in the paper above."
   ]
  },
  {
   "cell_type": "markdown",
   "metadata": {},
   "source": [
    "## Prerequisites <a class=\"anchor\" id=\"Prerequisites\"></a>"
   ]
  },
  {
   "cell_type": "code",
   "execution_count": 21,
   "metadata": {
    "ExecuteTime": {
     "end_time": "2021-07-27T15:43:36.876329Z",
     "start_time": "2021-07-27T15:43:33.211596Z"
    }
   },
   "outputs": [],
   "source": [
    "# General imports\n",
    "# Make sure to be in version 3.6-3.8 of python to import sdv, does not work on python 3.9.\n",
    "import numpy as np\n",
    "import pandas as pd\n",
    "import copy\n",
    "from sdv.tabular import GaussianCopula, CTGAN, CopulaGAN, TVAE\n",
    "from sdv.metrics.tabular import (CSTest, KSTest, BNLikelihood, BNLogLikelihood,\n",
    "                                 GMLogLikelihood, LogisticDetection,\n",
    "                                 SVCDetection,\n",
    "                                 MulticlassDecisionTreeClassifier, NumericalLR)\n",
    "from sdv.evaluation import evaluate\n",
    "from sdv.constraints import UniqueCombinations\n",
    "\n",
    "from cadai.Binning import *\n",
    "from sklearn.pipeline import Pipeline\n",
    "from sklearn.svm import LinearSVC\n",
    "from sklearn.linear_model import LogisticRegression\n",
    "from sklearn.exceptions import ConvergenceWarning\n",
    "\n",
    "#Included to increase evaluation accuracy\n",
    "logistic = LogisticRegression(max_iter=1000)\n",
    "pipe = Pipeline([('reduce_dim', 'passthrough'),\n",
    "                 ('classify', LinearSVC(dual=False, max_iter=1000), logistic)])\n",
    "\n",
    "import warnings\n",
    "\n",
    "warnings.filterwarnings('ignore')\n",
    "import yapf"
   ]
  },
  {
   "cell_type": "markdown",
   "metadata": {},
   "source": [
    "# Experimentation on enriched Telco <a class=\"anchor\" id=\"Experimentation_telco\"></a>"
   ]
  },
  {
   "cell_type": "markdown",
   "metadata": {},
   "source": [
    "## Loading and enriching data set <a class=\"anchor\" id=\"loading\"></a>\n",
    "\n",
    "Use of raw code from _Scoring - 1 - LogReg and GAM experimenting_ file to ensure understanding of data being generated."
   ]
  },
  {
   "cell_type": "code",
   "execution_count": 22,
   "metadata": {
    "ExecuteTime": {
     "end_time": "2021-07-27T15:43:37.018330Z",
     "start_time": "2021-07-27T15:43:36.879330Z"
    },
    "code_folding": [
     0,
     11,
     23,
     33,
     56,
     67
    ]
   },
   "outputs": [
    {
     "name": "stdout",
     "output_type": "stream",
     "text": [
      "Series([], dtype: float64)\n"
     ]
    },
    {
     "data": {
      "text/html": [
       "<div>\n",
       "<style scoped>\n",
       "    .dataframe tbody tr th:only-of-type {\n",
       "        vertical-align: middle;\n",
       "    }\n",
       "\n",
       "    .dataframe tbody tr th {\n",
       "        vertical-align: top;\n",
       "    }\n",
       "\n",
       "    .dataframe thead th {\n",
       "        text-align: right;\n",
       "    }\n",
       "</style>\n",
       "<table border=\"1\" class=\"dataframe\">\n",
       "  <thead>\n",
       "    <tr style=\"text-align: right;\">\n",
       "      <th></th>\n",
       "      <th>ipRange</th>\n",
       "      <th>ipHop</th>\n",
       "      <th>timeSubmitSec</th>\n",
       "      <th>inList</th>\n",
       "      <th>appHour</th>\n",
       "      <th>label</th>\n",
       "      <th>browserType</th>\n",
       "      <th>inCustType</th>\n",
       "      <th>packageType</th>\n",
       "      <th>weekDayType</th>\n",
       "    </tr>\n",
       "  </thead>\n",
       "  <tbody>\n",
       "    <tr>\n",
       "      <th>0</th>\n",
       "      <td>12307.0</td>\n",
       "      <td>0.0</td>\n",
       "      <td>20.0</td>\n",
       "      <td>0.0</td>\n",
       "      <td>11.0</td>\n",
       "      <td>0</td>\n",
       "      <td>firefox</td>\n",
       "      <td>Y</td>\n",
       "      <td>A</td>\n",
       "      <td>Sun</td>\n",
       "    </tr>\n",
       "    <tr>\n",
       "      <th>1</th>\n",
       "      <td>15384.0</td>\n",
       "      <td>0.0</td>\n",
       "      <td>18.0</td>\n",
       "      <td>0.0</td>\n",
       "      <td>11.0</td>\n",
       "      <td>0</td>\n",
       "      <td>safari</td>\n",
       "      <td>Y</td>\n",
       "      <td>G</td>\n",
       "      <td>Sun</td>\n",
       "    </tr>\n",
       "    <tr>\n",
       "      <th>2</th>\n",
       "      <td>9230.0</td>\n",
       "      <td>0.0</td>\n",
       "      <td>18.0</td>\n",
       "      <td>0.0</td>\n",
       "      <td>10.0</td>\n",
       "      <td>0</td>\n",
       "      <td>edge</td>\n",
       "      <td>N</td>\n",
       "      <td>D</td>\n",
       "      <td>Sun</td>\n",
       "    </tr>\n",
       "    <tr>\n",
       "      <th>3</th>\n",
       "      <td>6153.0</td>\n",
       "      <td>1.0</td>\n",
       "      <td>20.0</td>\n",
       "      <td>0.0</td>\n",
       "      <td>10.0</td>\n",
       "      <td>0</td>\n",
       "      <td>edge</td>\n",
       "      <td>Y</td>\n",
       "      <td>A</td>\n",
       "      <td>Sun</td>\n",
       "    </tr>\n",
       "    <tr>\n",
       "      <th>4</th>\n",
       "      <td>21538.0</td>\n",
       "      <td>1.0</td>\n",
       "      <td>21.0</td>\n",
       "      <td>0.0</td>\n",
       "      <td>11.0</td>\n",
       "      <td>0</td>\n",
       "      <td>chrome</td>\n",
       "      <td>N</td>\n",
       "      <td>J</td>\n",
       "      <td>Thu</td>\n",
       "    </tr>\n",
       "  </tbody>\n",
       "</table>\n",
       "</div>"
      ],
      "text/plain": [
       "   ipRange  ipHop  timeSubmitSec  inList  appHour  label browserType  \\\n",
       "0  12307.0    0.0           20.0     0.0     11.0      0     firefox   \n",
       "1  15384.0    0.0           18.0     0.0     11.0      0      safari   \n",
       "2   9230.0    0.0           18.0     0.0     10.0      0        edge   \n",
       "3   6153.0    1.0           20.0     0.0     10.0      0        edge   \n",
       "4  21538.0    1.0           21.0     0.0     11.0      0      chrome   \n",
       "\n",
       "  inCustType packageType weekDayType  \n",
       "0          Y           A         Sun  \n",
       "1          Y           G         Sun  \n",
       "2          N           D         Sun  \n",
       "3          Y           A         Sun  \n",
       "4          N           J         Thu  "
      ]
     },
     "execution_count": 22,
     "metadata": {},
     "output_type": "execute_result"
    }
   ],
   "source": [
    "dfRawFile = pd.read_csv('./data/telco_appfrauddetect.csv',\n",
    "                        sep=',',\n",
    "                        error_bad_lines=False)\n",
    "# A column will be removed if it contains more than [threshold] (%) records\n",
    "threshold = 0.7\n",
    "\n",
    "# List columns that have more than 80% null values\n",
    "na_values = dfRawFile.isnull().mean()\n",
    "print(na_values[na_values > threshold])\n",
    "\n",
    "# Drop columns with more than 80% null values\n",
    "dfRawFile.dropna(thresh=dfRawFile.shape[0] * (1 - threshold),\n",
    "                 how='all',\n",
    "                 axis=1,\n",
    "                 inplace=True)\n",
    "\n",
    "del threshold, na_values\n",
    "# Wrangle dataset\n",
    "dfRawFile.loc[dfRawFile['timeSubmitSec'] < 0, 'timeSubmitSec'] = 0\n",
    "\n",
    "dfRawFile['label'] = dfRawFile['app_status'].map({'valid': 0, 'invalid': 1})\n",
    "\n",
    "dfRawFile.loc[dfRawFile['browser'] > 5, 'browser'] = 6\n",
    "dfRawFile['browserType'] = dfRawFile['browser'].map({\n",
    "    0: 'edge',\n",
    "    1: 'chrome',\n",
    "    2: 'safari',\n",
    "    3: 'firefox',\n",
    "    4: 'opera',\n",
    "    5: 'vivaldi',\n",
    "    6: 'others'\n",
    "})\n",
    "dfRawFile['inCustType'] = dfRawFile['inCust'].map({0: 'N', 1: 'Y'})\n",
    "dfRawFile['packageType'] = dfRawFile['package'].map({\n",
    "    0: 'A',\n",
    "    1: 'B',\n",
    "    2: 'C',\n",
    "    3: 'D',\n",
    "    4: 'E',\n",
    "    5: 'F',\n",
    "    6: 'G',\n",
    "    7: 'H',\n",
    "    8: 'I',\n",
    "    9: 'J',\n",
    "    10: 'K',\n",
    "    11: 'L',\n",
    "    12: 'M',\n",
    "    13: 'N',\n",
    "    14: 'O',\n",
    "    15: 'P',\n",
    "    18: 'Q',\n",
    "    21: 'R',\n",
    "    24: 'S',\n",
    "    27: 'T',\n",
    "    30: 'U'\n",
    "})\n",
    "dfRawFile['weekDayType'] = dfRawFile['weekDay'].map({\n",
    "    0: 'Mon',\n",
    "    1: 'Tue',\n",
    "    2: 'Wed',\n",
    "    3: 'Thu',\n",
    "    4: 'Fri',\n",
    "    5: 'Sat',\n",
    "    6: 'Sun'\n",
    "})\n",
    "dfRawFile.drop(['app_id', 'app_status', 'score'], axis=1, inplace=True)\n",
    "\n",
    "dfRawFile.drop(columns=['browser', 'package', 'inCust', 'weekDay'],\n",
    "               inplace=True)\n",
    "dfEnriched = dfRawFile.copy()\n",
    "\n",
    "# Drop initial dataset\n",
    "del dfRawFile\n",
    "dfEnriched.head()"
   ]
  },
  {
   "cell_type": "markdown",
   "metadata": {},
   "source": [
    "## Fitting the models <a class=\"anchor\" id=\"fitting\"></a>\n",
    "\n",
    " All features in the data set are object types, field transformers \n",
    "     help the models distinguish between the types during fitting, \n",
    "     returning data to initial type when sampling"
   ]
  },
  {
   "cell_type": "code",
   "execution_count": 23,
   "metadata": {
    "ExecuteTime": {
     "end_time": "2021-07-27T15:43:37.034339Z",
     "start_time": "2021-07-27T15:43:37.020333Z"
    }
   },
   "outputs": [],
   "source": [
    "field_transformer = {\n",
    "    'ipRange': 'integer',\n",
    "    'ipHop': 'integer',\n",
    "    'timeSubmitSec': 'integer',\n",
    "    'inList': 'integer',\n",
    "    'appHour': 'integer',\n",
    "    'label': 'label_encoding',\n",
    "    'browserType': 'categorical',\n",
    "    'inCustType': 'categorical',\n",
    "    'packageType': 'categorical',\n",
    "    'weekDayType': 'categorical'\n",
    "}"
   ]
  },
  {
   "cell_type": "markdown",
   "metadata": {},
   "source": [
    "Fitting all the models follows the same steps. Initialising model with constraints and transformers, fitting the model, then sampling (generating) the amount of data needed."
   ]
  },
  {
   "cell_type": "markdown",
   "metadata": {},
   "source": [
    "### GaussianCopula <a class=\"anchor\" id=\"gaussian_fit\"></a>"
   ]
  },
  {
   "cell_type": "code",
   "execution_count": 24,
   "metadata": {
    "ExecuteTime": {
     "end_time": "2021-07-27T15:43:48.026145Z",
     "start_time": "2021-07-27T15:43:37.037335Z"
    }
   },
   "outputs": [],
   "source": [
    "gaussian = GaussianCopula(field_transformers=field_transformer)\n",
    "gaussian.fit(dfEnriched)"
   ]
  },
  {
   "cell_type": "code",
   "execution_count": 25,
   "metadata": {
    "ExecuteTime": {
     "end_time": "2021-07-27T15:43:48.249194Z",
     "start_time": "2021-07-27T15:43:48.027120Z"
    }
   },
   "outputs": [
    {
     "data": {
      "text/html": [
       "<div>\n",
       "<style scoped>\n",
       "    .dataframe tbody tr th:only-of-type {\n",
       "        vertical-align: middle;\n",
       "    }\n",
       "\n",
       "    .dataframe tbody tr th {\n",
       "        vertical-align: top;\n",
       "    }\n",
       "\n",
       "    .dataframe thead th {\n",
       "        text-align: right;\n",
       "    }\n",
       "</style>\n",
       "<table border=\"1\" class=\"dataframe\">\n",
       "  <thead>\n",
       "    <tr style=\"text-align: right;\">\n",
       "      <th></th>\n",
       "      <th>ipRange</th>\n",
       "      <th>ipHop</th>\n",
       "      <th>timeSubmitSec</th>\n",
       "      <th>inList</th>\n",
       "      <th>appHour</th>\n",
       "      <th>label</th>\n",
       "      <th>browserType</th>\n",
       "      <th>inCustType</th>\n",
       "      <th>packageType</th>\n",
       "      <th>weekDayType</th>\n",
       "    </tr>\n",
       "  </thead>\n",
       "  <tbody>\n",
       "    <tr>\n",
       "      <th>0</th>\n",
       "      <td>21898.0</td>\n",
       "      <td>0.0</td>\n",
       "      <td>18.0</td>\n",
       "      <td>0.0</td>\n",
       "      <td>9.0</td>\n",
       "      <td>0</td>\n",
       "      <td>edge</td>\n",
       "      <td>Y</td>\n",
       "      <td>G</td>\n",
       "      <td>Fri</td>\n",
       "    </tr>\n",
       "    <tr>\n",
       "      <th>1</th>\n",
       "      <td>16742.0</td>\n",
       "      <td>2.0</td>\n",
       "      <td>19.0</td>\n",
       "      <td>0.0</td>\n",
       "      <td>13.0</td>\n",
       "      <td>0</td>\n",
       "      <td>firefox</td>\n",
       "      <td>Y</td>\n",
       "      <td>J</td>\n",
       "      <td>Sun</td>\n",
       "    </tr>\n",
       "    <tr>\n",
       "      <th>2</th>\n",
       "      <td>20400.0</td>\n",
       "      <td>0.0</td>\n",
       "      <td>29.0</td>\n",
       "      <td>0.0</td>\n",
       "      <td>12.0</td>\n",
       "      <td>0</td>\n",
       "      <td>chrome</td>\n",
       "      <td>N</td>\n",
       "      <td>G</td>\n",
       "      <td>Sat</td>\n",
       "    </tr>\n",
       "    <tr>\n",
       "      <th>3</th>\n",
       "      <td>13103.0</td>\n",
       "      <td>0.0</td>\n",
       "      <td>17.0</td>\n",
       "      <td>0.0</td>\n",
       "      <td>4.0</td>\n",
       "      <td>0</td>\n",
       "      <td>edge</td>\n",
       "      <td>Y</td>\n",
       "      <td>D</td>\n",
       "      <td>Fri</td>\n",
       "    </tr>\n",
       "    <tr>\n",
       "      <th>4</th>\n",
       "      <td>12909.0</td>\n",
       "      <td>1.0</td>\n",
       "      <td>20.0</td>\n",
       "      <td>0.0</td>\n",
       "      <td>11.0</td>\n",
       "      <td>0</td>\n",
       "      <td>safari</td>\n",
       "      <td>Y</td>\n",
       "      <td>G</td>\n",
       "      <td>Sat</td>\n",
       "    </tr>\n",
       "  </tbody>\n",
       "</table>\n",
       "</div>"
      ],
      "text/plain": [
       "   ipRange  ipHop  timeSubmitSec  inList  appHour  label browserType  \\\n",
       "0  21898.0    0.0           18.0     0.0      9.0      0        edge   \n",
       "1  16742.0    2.0           19.0     0.0     13.0      0     firefox   \n",
       "2  20400.0    0.0           29.0     0.0     12.0      0      chrome   \n",
       "3  13103.0    0.0           17.0     0.0      4.0      0        edge   \n",
       "4  12909.0    1.0           20.0     0.0     11.0      0      safari   \n",
       "\n",
       "  inCustType packageType weekDayType  \n",
       "0          Y           G         Fri  \n",
       "1          Y           J         Sun  \n",
       "2          N           G         Sat  \n",
       "3          Y           D         Fri  \n",
       "4          Y           G         Sat  "
      ]
     },
     "execution_count": 25,
     "metadata": {},
     "output_type": "execute_result"
    }
   ],
   "source": [
    "gaussianData = gaussian.sample(10000)\n",
    "gaussianData.head()"
   ]
  },
  {
   "cell_type": "markdown",
   "metadata": {},
   "source": [
    "### CTGAN <a class=\"anchor\" id=\"CTGAN_fit\"></a>"
   ]
  },
  {
   "cell_type": "code",
   "execution_count": 26,
   "metadata": {
    "ExecuteTime": {
     "end_time": "2021-07-27T15:55:05.239168Z",
     "start_time": "2021-07-27T15:43:48.255200Z"
    }
   },
   "outputs": [],
   "source": [
    "ctg = CTGAN(field_transformers=field_transformer)\n",
    "ctg.fit(dfEnriched)"
   ]
  },
  {
   "cell_type": "code",
   "execution_count": 27,
   "metadata": {
    "ExecuteTime": {
     "end_time": "2021-07-27T15:55:05.764367Z",
     "start_time": "2021-07-27T15:55:05.242432Z"
    }
   },
   "outputs": [
    {
     "data": {
      "text/html": [
       "<div>\n",
       "<style scoped>\n",
       "    .dataframe tbody tr th:only-of-type {\n",
       "        vertical-align: middle;\n",
       "    }\n",
       "\n",
       "    .dataframe tbody tr th {\n",
       "        vertical-align: top;\n",
       "    }\n",
       "\n",
       "    .dataframe thead th {\n",
       "        text-align: right;\n",
       "    }\n",
       "</style>\n",
       "<table border=\"1\" class=\"dataframe\">\n",
       "  <thead>\n",
       "    <tr style=\"text-align: right;\">\n",
       "      <th></th>\n",
       "      <th>ipRange</th>\n",
       "      <th>ipHop</th>\n",
       "      <th>timeSubmitSec</th>\n",
       "      <th>inList</th>\n",
       "      <th>appHour</th>\n",
       "      <th>label</th>\n",
       "    </tr>\n",
       "  </thead>\n",
       "  <tbody>\n",
       "    <tr>\n",
       "      <th>count</th>\n",
       "      <td>10000.000000</td>\n",
       "      <td>10000.00000</td>\n",
       "      <td>10000.000000</td>\n",
       "      <td>10000.000000</td>\n",
       "      <td>10000.000000</td>\n",
       "      <td>10000.000000</td>\n",
       "    </tr>\n",
       "    <tr>\n",
       "      <th>mean</th>\n",
       "      <td>13494.204200</td>\n",
       "      <td>0.77820</td>\n",
       "      <td>14.803100</td>\n",
       "      <td>0.922900</td>\n",
       "      <td>13.234200</td>\n",
       "      <td>0.100900</td>\n",
       "    </tr>\n",
       "    <tr>\n",
       "      <th>std</th>\n",
       "      <td>5613.478282</td>\n",
       "      <td>0.73093</td>\n",
       "      <td>7.411479</td>\n",
       "      <td>1.290629</td>\n",
       "      <td>5.080151</td>\n",
       "      <td>0.301211</td>\n",
       "    </tr>\n",
       "    <tr>\n",
       "      <th>min</th>\n",
       "      <td>-178.000000</td>\n",
       "      <td>0.00000</td>\n",
       "      <td>-1.000000</td>\n",
       "      <td>0.000000</td>\n",
       "      <td>0.000000</td>\n",
       "      <td>0.000000</td>\n",
       "    </tr>\n",
       "    <tr>\n",
       "      <th>25%</th>\n",
       "      <td>9294.750000</td>\n",
       "      <td>0.00000</td>\n",
       "      <td>5.000000</td>\n",
       "      <td>0.000000</td>\n",
       "      <td>10.000000</td>\n",
       "      <td>0.000000</td>\n",
       "    </tr>\n",
       "    <tr>\n",
       "      <th>50%</th>\n",
       "      <td>12852.500000</td>\n",
       "      <td>1.00000</td>\n",
       "      <td>18.000000</td>\n",
       "      <td>0.000000</td>\n",
       "      <td>11.000000</td>\n",
       "      <td>0.000000</td>\n",
       "    </tr>\n",
       "    <tr>\n",
       "      <th>75%</th>\n",
       "      <td>17802.500000</td>\n",
       "      <td>1.00000</td>\n",
       "      <td>21.000000</td>\n",
       "      <td>2.000000</td>\n",
       "      <td>20.000000</td>\n",
       "      <td>0.000000</td>\n",
       "    </tr>\n",
       "    <tr>\n",
       "      <th>max</th>\n",
       "      <td>35223.000000</td>\n",
       "      <td>3.00000</td>\n",
       "      <td>25.000000</td>\n",
       "      <td>3.000000</td>\n",
       "      <td>24.000000</td>\n",
       "      <td>1.000000</td>\n",
       "    </tr>\n",
       "  </tbody>\n",
       "</table>\n",
       "</div>"
      ],
      "text/plain": [
       "            ipRange        ipHop  timeSubmitSec        inList       appHour  \\\n",
       "count  10000.000000  10000.00000   10000.000000  10000.000000  10000.000000   \n",
       "mean   13494.204200      0.77820      14.803100      0.922900     13.234200   \n",
       "std     5613.478282      0.73093       7.411479      1.290629      5.080151   \n",
       "min     -178.000000      0.00000      -1.000000      0.000000      0.000000   \n",
       "25%     9294.750000      0.00000       5.000000      0.000000     10.000000   \n",
       "50%    12852.500000      1.00000      18.000000      0.000000     11.000000   \n",
       "75%    17802.500000      1.00000      21.000000      2.000000     20.000000   \n",
       "max    35223.000000      3.00000      25.000000      3.000000     24.000000   \n",
       "\n",
       "              label  \n",
       "count  10000.000000  \n",
       "mean       0.100900  \n",
       "std        0.301211  \n",
       "min        0.000000  \n",
       "25%        0.000000  \n",
       "50%        0.000000  \n",
       "75%        0.000000  \n",
       "max        1.000000  "
      ]
     },
     "execution_count": 27,
     "metadata": {},
     "output_type": "execute_result"
    }
   ],
   "source": [
    "ctgData = ctg.sample(10000)\n",
    "ctgData.describe()"
   ]
  },
  {
   "cell_type": "markdown",
   "metadata": {},
   "source": [
    "### CopulaGAN <a class=\"anchor\" id=\"copula_fit\"></a>"
   ]
  },
  {
   "cell_type": "code",
   "execution_count": 28,
   "metadata": {
    "ExecuteTime": {
     "end_time": "2021-07-27T16:06:20.217307Z",
     "start_time": "2021-07-27T15:55:05.766368Z"
    }
   },
   "outputs": [],
   "source": [
    "copula = CopulaGAN(field_transformers=field_transformer)\n",
    "copula.fit(dfEnriched)"
   ]
  },
  {
   "cell_type": "code",
   "execution_count": 29,
   "metadata": {
    "ExecuteTime": {
     "end_time": "2021-07-27T16:06:20.804091Z",
     "start_time": "2021-07-27T16:06:20.219197Z"
    }
   },
   "outputs": [
    {
     "data": {
      "text/html": [
       "<div>\n",
       "<style scoped>\n",
       "    .dataframe tbody tr th:only-of-type {\n",
       "        vertical-align: middle;\n",
       "    }\n",
       "\n",
       "    .dataframe tbody tr th {\n",
       "        vertical-align: top;\n",
       "    }\n",
       "\n",
       "    .dataframe thead th {\n",
       "        text-align: right;\n",
       "    }\n",
       "</style>\n",
       "<table border=\"1\" class=\"dataframe\">\n",
       "  <thead>\n",
       "    <tr style=\"text-align: right;\">\n",
       "      <th></th>\n",
       "      <th>ipRange</th>\n",
       "      <th>ipHop</th>\n",
       "      <th>timeSubmitSec</th>\n",
       "      <th>inList</th>\n",
       "      <th>appHour</th>\n",
       "      <th>label</th>\n",
       "    </tr>\n",
       "  </thead>\n",
       "  <tbody>\n",
       "    <tr>\n",
       "      <th>count</th>\n",
       "      <td>10000.00000</td>\n",
       "      <td>10000.000000</td>\n",
       "      <td>10000.000000</td>\n",
       "      <td>10000.000000</td>\n",
       "      <td>10000.00000</td>\n",
       "      <td>10000.0</td>\n",
       "    </tr>\n",
       "    <tr>\n",
       "      <th>mean</th>\n",
       "      <td>13293.72480</td>\n",
       "      <td>0.823300</td>\n",
       "      <td>15.384800</td>\n",
       "      <td>0.918400</td>\n",
       "      <td>12.55120</td>\n",
       "      <td>0.0</td>\n",
       "    </tr>\n",
       "    <tr>\n",
       "      <th>std</th>\n",
       "      <td>5377.27019</td>\n",
       "      <td>0.810643</td>\n",
       "      <td>6.820336</td>\n",
       "      <td>1.228207</td>\n",
       "      <td>4.97647</td>\n",
       "      <td>0.0</td>\n",
       "    </tr>\n",
       "    <tr>\n",
       "      <th>min</th>\n",
       "      <td>0.00000</td>\n",
       "      <td>0.000000</td>\n",
       "      <td>1.000000</td>\n",
       "      <td>0.000000</td>\n",
       "      <td>0.00000</td>\n",
       "      <td>0.0</td>\n",
       "    </tr>\n",
       "    <tr>\n",
       "      <th>25%</th>\n",
       "      <td>9291.00000</td>\n",
       "      <td>0.000000</td>\n",
       "      <td>6.000000</td>\n",
       "      <td>0.000000</td>\n",
       "      <td>10.00000</td>\n",
       "      <td>0.0</td>\n",
       "    </tr>\n",
       "    <tr>\n",
       "      <th>50%</th>\n",
       "      <td>14585.00000</td>\n",
       "      <td>1.000000</td>\n",
       "      <td>19.000000</td>\n",
       "      <td>0.000000</td>\n",
       "      <td>12.00000</td>\n",
       "      <td>0.0</td>\n",
       "    </tr>\n",
       "    <tr>\n",
       "      <th>75%</th>\n",
       "      <td>15507.00000</td>\n",
       "      <td>1.000000</td>\n",
       "      <td>20.000000</td>\n",
       "      <td>2.000000</td>\n",
       "      <td>14.00000</td>\n",
       "      <td>0.0</td>\n",
       "    </tr>\n",
       "    <tr>\n",
       "      <th>max</th>\n",
       "      <td>34384.00000</td>\n",
       "      <td>3.000000</td>\n",
       "      <td>26.000000</td>\n",
       "      <td>9.000000</td>\n",
       "      <td>23.00000</td>\n",
       "      <td>0.0</td>\n",
       "    </tr>\n",
       "  </tbody>\n",
       "</table>\n",
       "</div>"
      ],
      "text/plain": [
       "           ipRange         ipHop  timeSubmitSec        inList      appHour  \\\n",
       "count  10000.00000  10000.000000   10000.000000  10000.000000  10000.00000   \n",
       "mean   13293.72480      0.823300      15.384800      0.918400     12.55120   \n",
       "std     5377.27019      0.810643       6.820336      1.228207      4.97647   \n",
       "min        0.00000      0.000000       1.000000      0.000000      0.00000   \n",
       "25%     9291.00000      0.000000       6.000000      0.000000     10.00000   \n",
       "50%    14585.00000      1.000000      19.000000      0.000000     12.00000   \n",
       "75%    15507.00000      1.000000      20.000000      2.000000     14.00000   \n",
       "max    34384.00000      3.000000      26.000000      9.000000     23.00000   \n",
       "\n",
       "         label  \n",
       "count  10000.0  \n",
       "mean       0.0  \n",
       "std        0.0  \n",
       "min        0.0  \n",
       "25%        0.0  \n",
       "50%        0.0  \n",
       "75%        0.0  \n",
       "max        0.0  "
      ]
     },
     "execution_count": 29,
     "metadata": {},
     "output_type": "execute_result"
    }
   ],
   "source": [
    "copulaData = copula.sample(10000)\n",
    "copulaData.describe()"
   ]
  },
  {
   "cell_type": "markdown",
   "metadata": {},
   "source": [
    "### TVAE  <a class=\"anchor\" id=\"TVAE_fit\"></a>"
   ]
  },
  {
   "cell_type": "code",
   "execution_count": 30,
   "metadata": {
    "ExecuteTime": {
     "end_time": "2021-07-27T16:08:48.514386Z",
     "start_time": "2021-07-27T16:06:20.808057Z"
    }
   },
   "outputs": [],
   "source": [
    "tvae = TVAE(field_transformers=field_transformer)\n",
    "tvae.fit(dfEnriched)"
   ]
  },
  {
   "cell_type": "code",
   "execution_count": 31,
   "metadata": {
    "ExecuteTime": {
     "end_time": "2021-07-27T16:08:48.769714Z",
     "start_time": "2021-07-27T16:08:48.519385Z"
    }
   },
   "outputs": [
    {
     "data": {
      "text/html": [
       "<div>\n",
       "<style scoped>\n",
       "    .dataframe tbody tr th:only-of-type {\n",
       "        vertical-align: middle;\n",
       "    }\n",
       "\n",
       "    .dataframe tbody tr th {\n",
       "        vertical-align: top;\n",
       "    }\n",
       "\n",
       "    .dataframe thead th {\n",
       "        text-align: right;\n",
       "    }\n",
       "</style>\n",
       "<table border=\"1\" class=\"dataframe\">\n",
       "  <thead>\n",
       "    <tr style=\"text-align: right;\">\n",
       "      <th></th>\n",
       "      <th>ipRange</th>\n",
       "      <th>ipHop</th>\n",
       "      <th>timeSubmitSec</th>\n",
       "      <th>inList</th>\n",
       "      <th>appHour</th>\n",
       "      <th>label</th>\n",
       "      <th>browserType</th>\n",
       "      <th>inCustType</th>\n",
       "      <th>packageType</th>\n",
       "      <th>weekDayType</th>\n",
       "    </tr>\n",
       "  </thead>\n",
       "  <tbody>\n",
       "    <tr>\n",
       "      <th>0</th>\n",
       "      <td>15449.0</td>\n",
       "      <td>1.0</td>\n",
       "      <td>1.0</td>\n",
       "      <td>3.0</td>\n",
       "      <td>22.0</td>\n",
       "      <td>0</td>\n",
       "      <td>vivaldi</td>\n",
       "      <td>N</td>\n",
       "      <td>M</td>\n",
       "      <td>Sun</td>\n",
       "    </tr>\n",
       "    <tr>\n",
       "      <th>1</th>\n",
       "      <td>15376.0</td>\n",
       "      <td>0.0</td>\n",
       "      <td>19.0</td>\n",
       "      <td>0.0</td>\n",
       "      <td>10.0</td>\n",
       "      <td>0</td>\n",
       "      <td>chrome</td>\n",
       "      <td>Y</td>\n",
       "      <td>A</td>\n",
       "      <td>Sun</td>\n",
       "    </tr>\n",
       "    <tr>\n",
       "      <th>2</th>\n",
       "      <td>6171.0</td>\n",
       "      <td>1.0</td>\n",
       "      <td>18.0</td>\n",
       "      <td>0.0</td>\n",
       "      <td>12.0</td>\n",
       "      <td>0</td>\n",
       "      <td>chrome</td>\n",
       "      <td>Y</td>\n",
       "      <td>G</td>\n",
       "      <td>Sun</td>\n",
       "    </tr>\n",
       "    <tr>\n",
       "      <th>3</th>\n",
       "      <td>6139.0</td>\n",
       "      <td>1.0</td>\n",
       "      <td>20.0</td>\n",
       "      <td>0.0</td>\n",
       "      <td>10.0</td>\n",
       "      <td>0</td>\n",
       "      <td>chrome</td>\n",
       "      <td>Y</td>\n",
       "      <td>D</td>\n",
       "      <td>Sun</td>\n",
       "    </tr>\n",
       "    <tr>\n",
       "      <th>4</th>\n",
       "      <td>12302.0</td>\n",
       "      <td>1.0</td>\n",
       "      <td>19.0</td>\n",
       "      <td>0.0</td>\n",
       "      <td>12.0</td>\n",
       "      <td>0</td>\n",
       "      <td>chrome</td>\n",
       "      <td>Y</td>\n",
       "      <td>D</td>\n",
       "      <td>Sun</td>\n",
       "    </tr>\n",
       "  </tbody>\n",
       "</table>\n",
       "</div>"
      ],
      "text/plain": [
       "   ipRange  ipHop  timeSubmitSec  inList  appHour  label browserType  \\\n",
       "0  15449.0    1.0            1.0     3.0     22.0      0     vivaldi   \n",
       "1  15376.0    0.0           19.0     0.0     10.0      0      chrome   \n",
       "2   6171.0    1.0           18.0     0.0     12.0      0      chrome   \n",
       "3   6139.0    1.0           20.0     0.0     10.0      0      chrome   \n",
       "4  12302.0    1.0           19.0     0.0     12.0      0      chrome   \n",
       "\n",
       "  inCustType packageType weekDayType  \n",
       "0          N           M         Sun  \n",
       "1          Y           A         Sun  \n",
       "2          Y           G         Sun  \n",
       "3          Y           D         Sun  \n",
       "4          Y           D         Sun  "
      ]
     },
     "execution_count": 31,
     "metadata": {},
     "output_type": "execute_result"
    }
   ],
   "source": [
    "tvaeData = tvae.sample(10000)\n",
    "tvaeData.head()"
   ]
  },
  {
   "cell_type": "markdown",
   "metadata": {},
   "source": [
    "## Evaluation of synthetic data <a class=\"anchor\" id=\"eval\"></a>"
   ]
  },
  {
   "cell_type": "markdown",
   "metadata": {},
   "source": [
    "### Metric types <a class=\"anchor\" id=\"metrics\"></a>\n",
    "#### Statistical metrics <a class=\"anchor\" id=\"stat\"></a>\n",
    "These metrics compare individual columns from the real table with the corresponding column from the synthetic table, and at the end report the average outcome from the test.\n",
    "\n",
    "_CS test_: This metric uses the Chi-Squared test to compare the distributions of two discrete columns. The output for each column is the CSTest p-value, which indicates the probability of the two columns having been sampled from the same distribution.\n",
    "\n",
    "_KS test_: This metric uses the two-sample Kolmogorov–Smirnov test to compare the distributions of continuous columns using the empirical CDF. The output for each column is 1 minus the KS Test D statistic, which indicates the maximum distance between the expected CDF and the observed CDF values.\n",
    "\n",
    "#### Likelihood Metrics <a class=\"anchor\" id=\"likelihood\"></a>\n",
    "\n",
    "The metrics of this family compare the tables by fitting the real data to a probabilistic model and afterwards compute the likelihood of the synthetic data belonging to the learned distribution.\n",
    "\n",
    "\n",
    "_Bayesian Network likelihood_: This metric fits a BayesianNetwork to the real data and then evaluates the average likelihood of the rows from the synthetic data on it.\n",
    "\n",
    "_Bayesian Network log likelihood_: This metric fits a BayesianNetwork to the real data and then evaluates the average log likelihood of the rows from the synthetic data on it.\n",
    "\n",
    "_Gaussian Mixture log likelihood_: This metric fits multiple GaussianMixture models to the real data and then evaluates the average log likelihood of the synthetic data on them.\n",
    "\n",
    "#### Detection Metrics <a class=\"anchor\" id=\"detection\"></a>\n",
    "The metrics of this family evaluate how hard it is to distinguish the synthetic data from the real data by using a Machine Learning model. To do this, the metrics will shuffle the real data and synthetic data together with flags indicating whether the data is real or synthetic, and then cross validate a Machine Learning model that tries to predict this flag. The output of the metrics will be the 1 minus the average ROC AUC score across all the cross validation splits. Meaning the closer the value gets to 1, the harder it is for the classifier to seperate the real from the generate data.\n",
    "\n",
    "_Logistic Detection_: Detection metric based on a LogisticRegression classifier. \n",
    "\n",
    "_SVC Detection_: Detection metric based on a SVC classifier.\n",
    "\n",
    "1 - ROC AUC score so the closer to 1, the less the regressor can classify between the true and generated data."
   ]
  },
  {
   "cell_type": "markdown",
   "metadata": {},
   "source": [
    "### Gaussian Copula  <a class=\"anchor\" id=\"gaussian_eval\"></a>"
   ]
  },
  {
   "cell_type": "code",
   "execution_count": 32,
   "metadata": {
    "ExecuteTime": {
     "end_time": "2021-07-27T16:13:47.799219Z",
     "start_time": "2021-07-27T16:08:48.773707Z"
    },
    "scrolled": true
   },
   "outputs": [
    {
     "data": {
      "text/plain": [
       "0.6520233466816736"
      ]
     },
     "execution_count": 32,
     "metadata": {},
     "output_type": "execute_result"
    }
   ],
   "source": [
    "evaluate(gaussianData, dfEnriched)"
   ]
  },
  {
   "cell_type": "code",
   "execution_count": 33,
   "metadata": {
    "ExecuteTime": {
     "end_time": "2021-07-28T06:57:40.868253Z",
     "start_time": "2021-07-27T16:13:47.801185Z"
    },
    "scrolled": true
   },
   "outputs": [
    {
     "data": {
      "text/html": [
       "<div>\n",
       "<style scoped>\n",
       "    .dataframe tbody tr th:only-of-type {\n",
       "        vertical-align: middle;\n",
       "    }\n",
       "\n",
       "    .dataframe tbody tr th {\n",
       "        vertical-align: top;\n",
       "    }\n",
       "\n",
       "    .dataframe thead th {\n",
       "        text-align: right;\n",
       "    }\n",
       "</style>\n",
       "<table border=\"1\" class=\"dataframe\">\n",
       "  <thead>\n",
       "    <tr style=\"text-align: right;\">\n",
       "      <th></th>\n",
       "      <th>metric</th>\n",
       "      <th>name</th>\n",
       "      <th>raw_score</th>\n",
       "      <th>normalized_score</th>\n",
       "      <th>min_value</th>\n",
       "      <th>max_value</th>\n",
       "      <th>goal</th>\n",
       "    </tr>\n",
       "  </thead>\n",
       "  <tbody>\n",
       "    <tr>\n",
       "      <th>0</th>\n",
       "      <td>BNLogLikelihood</td>\n",
       "      <td>BayesianNetwork Log Likelihood</td>\n",
       "      <td>-5.775408e+00</td>\n",
       "      <td>0.003103</td>\n",
       "      <td>-inf</td>\n",
       "      <td>0.0</td>\n",
       "      <td>MAXIMIZE</td>\n",
       "    </tr>\n",
       "    <tr>\n",
       "      <th>1</th>\n",
       "      <td>LogisticDetection</td>\n",
       "      <td>LogisticRegression Detection</td>\n",
       "      <td>6.901693e-01</td>\n",
       "      <td>0.690169</td>\n",
       "      <td>0.0</td>\n",
       "      <td>1.0</td>\n",
       "      <td>MAXIMIZE</td>\n",
       "    </tr>\n",
       "    <tr>\n",
       "      <th>2</th>\n",
       "      <td>SVCDetection</td>\n",
       "      <td>SVC Detection</td>\n",
       "      <td>1.000000e+00</td>\n",
       "      <td>1.000000</td>\n",
       "      <td>0.0</td>\n",
       "      <td>1.0</td>\n",
       "      <td>MAXIMIZE</td>\n",
       "    </tr>\n",
       "    <tr>\n",
       "      <th>11</th>\n",
       "      <td>GMLogLikelihood</td>\n",
       "      <td>GaussianMixture Log Likelihood</td>\n",
       "      <td>-6.314494e+14</td>\n",
       "      <td>0.000000</td>\n",
       "      <td>-inf</td>\n",
       "      <td>inf</td>\n",
       "      <td>MAXIMIZE</td>\n",
       "    </tr>\n",
       "    <tr>\n",
       "      <th>12</th>\n",
       "      <td>CSTest</td>\n",
       "      <td>Chi-Squared</td>\n",
       "      <td>9.647584e-01</td>\n",
       "      <td>0.964758</td>\n",
       "      <td>0.0</td>\n",
       "      <td>1.0</td>\n",
       "      <td>MAXIMIZE</td>\n",
       "    </tr>\n",
       "    <tr>\n",
       "      <th>13</th>\n",
       "      <td>KSTest</td>\n",
       "      <td>Inverted Kolmogorov-Smirnov D statistic</td>\n",
       "      <td>8.376167e-01</td>\n",
       "      <td>0.837617</td>\n",
       "      <td>0.0</td>\n",
       "      <td>1.0</td>\n",
       "      <td>MAXIMIZE</td>\n",
       "    </tr>\n",
       "    <tr>\n",
       "      <th>14</th>\n",
       "      <td>KSTestExtended</td>\n",
       "      <td>Inverted Kolmogorov-Smirnov D statistic</td>\n",
       "      <td>8.729400e-01</td>\n",
       "      <td>0.872940</td>\n",
       "      <td>0.0</td>\n",
       "      <td>1.0</td>\n",
       "      <td>MAXIMIZE</td>\n",
       "    </tr>\n",
       "    <tr>\n",
       "      <th>27</th>\n",
       "      <td>ContinuousKLDivergence</td>\n",
       "      <td>Continuous Kullback–Leibler Divergence</td>\n",
       "      <td>6.069475e-01</td>\n",
       "      <td>0.606947</td>\n",
       "      <td>0.0</td>\n",
       "      <td>1.0</td>\n",
       "      <td>MAXIMIZE</td>\n",
       "    </tr>\n",
       "    <tr>\n",
       "      <th>28</th>\n",
       "      <td>DiscreteKLDivergence</td>\n",
       "      <td>Discrete Kullback–Leibler Divergence</td>\n",
       "      <td>8.970135e-01</td>\n",
       "      <td>0.897014</td>\n",
       "      <td>0.0</td>\n",
       "      <td>1.0</td>\n",
       "      <td>MAXIMIZE</td>\n",
       "    </tr>\n",
       "  </tbody>\n",
       "</table>\n",
       "</div>"
      ],
      "text/plain": [
       "                    metric                                     name  \\\n",
       "0          BNLogLikelihood           BayesianNetwork Log Likelihood   \n",
       "1        LogisticDetection             LogisticRegression Detection   \n",
       "2             SVCDetection                            SVC Detection   \n",
       "11         GMLogLikelihood           GaussianMixture Log Likelihood   \n",
       "12                  CSTest                              Chi-Squared   \n",
       "13                  KSTest  Inverted Kolmogorov-Smirnov D statistic   \n",
       "14          KSTestExtended  Inverted Kolmogorov-Smirnov D statistic   \n",
       "27  ContinuousKLDivergence   Continuous Kullback–Leibler Divergence   \n",
       "28    DiscreteKLDivergence     Discrete Kullback–Leibler Divergence   \n",
       "\n",
       "       raw_score  normalized_score  min_value  max_value      goal  \n",
       "0  -5.775408e+00          0.003103       -inf        0.0  MAXIMIZE  \n",
       "1   6.901693e-01          0.690169        0.0        1.0  MAXIMIZE  \n",
       "2   1.000000e+00          1.000000        0.0        1.0  MAXIMIZE  \n",
       "11 -6.314494e+14          0.000000       -inf        inf  MAXIMIZE  \n",
       "12  9.647584e-01          0.964758        0.0        1.0  MAXIMIZE  \n",
       "13  8.376167e-01          0.837617        0.0        1.0  MAXIMIZE  \n",
       "14  8.729400e-01          0.872940        0.0        1.0  MAXIMIZE  \n",
       "27  6.069475e-01          0.606947        0.0        1.0  MAXIMIZE  \n",
       "28  8.970135e-01          0.897014        0.0        1.0  MAXIMIZE  "
      ]
     },
     "execution_count": 33,
     "metadata": {},
     "output_type": "execute_result"
    }
   ],
   "source": [
    "evaluate(gaussianData, dfEnriched, aggregate=False)"
   ]
  },
  {
   "cell_type": "markdown",
   "metadata": {},
   "source": [
    "### CTGAN <a class=\"anchor\" id=\"CTGAN_eval\"></a>"
   ]
  },
  {
   "cell_type": "code",
   "execution_count": 34,
   "metadata": {
    "ExecuteTime": {
     "end_time": "2021-07-28T07:03:02.538943Z",
     "start_time": "2021-07-28T06:57:40.870214Z"
    }
   },
   "outputs": [
    {
     "data": {
      "text/plain": [
       "0.5722109776041407"
      ]
     },
     "execution_count": 34,
     "metadata": {},
     "output_type": "execute_result"
    }
   ],
   "source": [
    "evaluate(ctgData, dfEnriched)"
   ]
  },
  {
   "cell_type": "code",
   "execution_count": 35,
   "metadata": {
    "ExecuteTime": {
     "end_time": "2021-07-28T07:08:48.334940Z",
     "start_time": "2021-07-28T07:03:02.541936Z"
    },
    "scrolled": true
   },
   "outputs": [
    {
     "data": {
      "text/html": [
       "<div>\n",
       "<style scoped>\n",
       "    .dataframe tbody tr th:only-of-type {\n",
       "        vertical-align: middle;\n",
       "    }\n",
       "\n",
       "    .dataframe tbody tr th {\n",
       "        vertical-align: top;\n",
       "    }\n",
       "\n",
       "    .dataframe thead th {\n",
       "        text-align: right;\n",
       "    }\n",
       "</style>\n",
       "<table border=\"1\" class=\"dataframe\">\n",
       "  <thead>\n",
       "    <tr style=\"text-align: right;\">\n",
       "      <th></th>\n",
       "      <th>metric</th>\n",
       "      <th>name</th>\n",
       "      <th>raw_score</th>\n",
       "      <th>normalized_score</th>\n",
       "      <th>min_value</th>\n",
       "      <th>max_value</th>\n",
       "      <th>goal</th>\n",
       "    </tr>\n",
       "  </thead>\n",
       "  <tbody>\n",
       "    <tr>\n",
       "      <th>0</th>\n",
       "      <td>BNLogLikelihood</td>\n",
       "      <td>BayesianNetwork Log Likelihood</td>\n",
       "      <td>-6.184887e+00</td>\n",
       "      <td>0.002060</td>\n",
       "      <td>-inf</td>\n",
       "      <td>0.0</td>\n",
       "      <td>MAXIMIZE</td>\n",
       "    </tr>\n",
       "    <tr>\n",
       "      <th>1</th>\n",
       "      <td>LogisticDetection</td>\n",
       "      <td>LogisticRegression Detection</td>\n",
       "      <td>5.098250e-01</td>\n",
       "      <td>0.509825</td>\n",
       "      <td>0.0</td>\n",
       "      <td>1.0</td>\n",
       "      <td>MAXIMIZE</td>\n",
       "    </tr>\n",
       "    <tr>\n",
       "      <th>2</th>\n",
       "      <td>SVCDetection</td>\n",
       "      <td>SVC Detection</td>\n",
       "      <td>3.736439e-01</td>\n",
       "      <td>0.373644</td>\n",
       "      <td>0.0</td>\n",
       "      <td>1.0</td>\n",
       "      <td>MAXIMIZE</td>\n",
       "    </tr>\n",
       "    <tr>\n",
       "      <th>11</th>\n",
       "      <td>GMLogLikelihood</td>\n",
       "      <td>GaussianMixture Log Likelihood</td>\n",
       "      <td>-5.519953e+10</td>\n",
       "      <td>0.000000</td>\n",
       "      <td>-inf</td>\n",
       "      <td>inf</td>\n",
       "      <td>MAXIMIZE</td>\n",
       "    </tr>\n",
       "    <tr>\n",
       "      <th>12</th>\n",
       "      <td>CSTest</td>\n",
       "      <td>Chi-Squared</td>\n",
       "      <td>9.736329e-01</td>\n",
       "      <td>0.973633</td>\n",
       "      <td>0.0</td>\n",
       "      <td>1.0</td>\n",
       "      <td>MAXIMIZE</td>\n",
       "    </tr>\n",
       "    <tr>\n",
       "      <th>13</th>\n",
       "      <td>KSTest</td>\n",
       "      <td>Inverted Kolmogorov-Smirnov D statistic</td>\n",
       "      <td>8.630167e-01</td>\n",
       "      <td>0.863017</td>\n",
       "      <td>0.0</td>\n",
       "      <td>1.0</td>\n",
       "      <td>MAXIMIZE</td>\n",
       "    </tr>\n",
       "    <tr>\n",
       "      <th>14</th>\n",
       "      <td>KSTestExtended</td>\n",
       "      <td>Inverted Kolmogorov-Smirnov D statistic</td>\n",
       "      <td>8.725600e-01</td>\n",
       "      <td>0.872560</td>\n",
       "      <td>0.0</td>\n",
       "      <td>1.0</td>\n",
       "      <td>MAXIMIZE</td>\n",
       "    </tr>\n",
       "    <tr>\n",
       "      <th>27</th>\n",
       "      <td>ContinuousKLDivergence</td>\n",
       "      <td>Continuous Kullback–Leibler Divergence</td>\n",
       "      <td>7.123380e-01</td>\n",
       "      <td>0.712338</td>\n",
       "      <td>0.0</td>\n",
       "      <td>1.0</td>\n",
       "      <td>MAXIMIZE</td>\n",
       "    </tr>\n",
       "    <tr>\n",
       "      <th>28</th>\n",
       "      <td>DiscreteKLDivergence</td>\n",
       "      <td>Discrete Kullback–Leibler Divergence</td>\n",
       "      <td>8.428682e-01</td>\n",
       "      <td>0.842868</td>\n",
       "      <td>0.0</td>\n",
       "      <td>1.0</td>\n",
       "      <td>MAXIMIZE</td>\n",
       "    </tr>\n",
       "  </tbody>\n",
       "</table>\n",
       "</div>"
      ],
      "text/plain": [
       "                    metric                                     name  \\\n",
       "0          BNLogLikelihood           BayesianNetwork Log Likelihood   \n",
       "1        LogisticDetection             LogisticRegression Detection   \n",
       "2             SVCDetection                            SVC Detection   \n",
       "11         GMLogLikelihood           GaussianMixture Log Likelihood   \n",
       "12                  CSTest                              Chi-Squared   \n",
       "13                  KSTest  Inverted Kolmogorov-Smirnov D statistic   \n",
       "14          KSTestExtended  Inverted Kolmogorov-Smirnov D statistic   \n",
       "27  ContinuousKLDivergence   Continuous Kullback–Leibler Divergence   \n",
       "28    DiscreteKLDivergence     Discrete Kullback–Leibler Divergence   \n",
       "\n",
       "       raw_score  normalized_score  min_value  max_value      goal  \n",
       "0  -6.184887e+00          0.002060       -inf        0.0  MAXIMIZE  \n",
       "1   5.098250e-01          0.509825        0.0        1.0  MAXIMIZE  \n",
       "2   3.736439e-01          0.373644        0.0        1.0  MAXIMIZE  \n",
       "11 -5.519953e+10          0.000000       -inf        inf  MAXIMIZE  \n",
       "12  9.736329e-01          0.973633        0.0        1.0  MAXIMIZE  \n",
       "13  8.630167e-01          0.863017        0.0        1.0  MAXIMIZE  \n",
       "14  8.725600e-01          0.872560        0.0        1.0  MAXIMIZE  \n",
       "27  7.123380e-01          0.712338        0.0        1.0  MAXIMIZE  \n",
       "28  8.428682e-01          0.842868        0.0        1.0  MAXIMIZE  "
      ]
     },
     "execution_count": 35,
     "metadata": {},
     "output_type": "execute_result"
    }
   ],
   "source": [
    "evaluate(ctgData, dfEnriched, aggregate=False)"
   ]
  },
  {
   "cell_type": "markdown",
   "metadata": {},
   "source": [
    "### CopulaGAN<a class=\"anchor\" id=\"copula_eval\"></a>"
   ]
  },
  {
   "cell_type": "code",
   "execution_count": 36,
   "metadata": {
    "ExecuteTime": {
     "end_time": "2021-07-28T07:13:51.429997Z",
     "start_time": "2021-07-28T07:08:48.337943Z"
    }
   },
   "outputs": [
    {
     "data": {
      "text/plain": [
       "0.5242974541878012"
      ]
     },
     "execution_count": 36,
     "metadata": {},
     "output_type": "execute_result"
    }
   ],
   "source": [
    "evaluate(copulaData, dfEnriched)"
   ]
  },
  {
   "cell_type": "code",
   "execution_count": 37,
   "metadata": {
    "ExecuteTime": {
     "end_time": "2021-07-28T07:19:05.453743Z",
     "start_time": "2021-07-28T07:13:51.432897Z"
    },
    "scrolled": true
   },
   "outputs": [
    {
     "data": {
      "text/html": [
       "<div>\n",
       "<style scoped>\n",
       "    .dataframe tbody tr th:only-of-type {\n",
       "        vertical-align: middle;\n",
       "    }\n",
       "\n",
       "    .dataframe tbody tr th {\n",
       "        vertical-align: top;\n",
       "    }\n",
       "\n",
       "    .dataframe thead th {\n",
       "        text-align: right;\n",
       "    }\n",
       "</style>\n",
       "<table border=\"1\" class=\"dataframe\">\n",
       "  <thead>\n",
       "    <tr style=\"text-align: right;\">\n",
       "      <th></th>\n",
       "      <th>metric</th>\n",
       "      <th>name</th>\n",
       "      <th>raw_score</th>\n",
       "      <th>normalized_score</th>\n",
       "      <th>min_value</th>\n",
       "      <th>max_value</th>\n",
       "      <th>goal</th>\n",
       "    </tr>\n",
       "  </thead>\n",
       "  <tbody>\n",
       "    <tr>\n",
       "      <th>0</th>\n",
       "      <td>BNLogLikelihood</td>\n",
       "      <td>BayesianNetwork Log Likelihood</td>\n",
       "      <td>-6.138766e+00</td>\n",
       "      <td>0.002158</td>\n",
       "      <td>-inf</td>\n",
       "      <td>0.0</td>\n",
       "      <td>MAXIMIZE</td>\n",
       "    </tr>\n",
       "    <tr>\n",
       "      <th>1</th>\n",
       "      <td>LogisticDetection</td>\n",
       "      <td>LogisticRegression Detection</td>\n",
       "      <td>3.300543e-01</td>\n",
       "      <td>0.330054</td>\n",
       "      <td>0.0</td>\n",
       "      <td>1.0</td>\n",
       "      <td>MAXIMIZE</td>\n",
       "    </tr>\n",
       "    <tr>\n",
       "      <th>2</th>\n",
       "      <td>SVCDetection</td>\n",
       "      <td>SVC Detection</td>\n",
       "      <td>3.207198e-01</td>\n",
       "      <td>0.320720</td>\n",
       "      <td>0.0</td>\n",
       "      <td>1.0</td>\n",
       "      <td>MAXIMIZE</td>\n",
       "    </tr>\n",
       "    <tr>\n",
       "      <th>11</th>\n",
       "      <td>GMLogLikelihood</td>\n",
       "      <td>GaussianMixture Log Likelihood</td>\n",
       "      <td>-6.244137e+10</td>\n",
       "      <td>0.000000</td>\n",
       "      <td>-inf</td>\n",
       "      <td>inf</td>\n",
       "      <td>MAXIMIZE</td>\n",
       "    </tr>\n",
       "    <tr>\n",
       "      <th>12</th>\n",
       "      <td>CSTest</td>\n",
       "      <td>Chi-Squared</td>\n",
       "      <td>9.011471e-01</td>\n",
       "      <td>0.901147</td>\n",
       "      <td>0.0</td>\n",
       "      <td>1.0</td>\n",
       "      <td>MAXIMIZE</td>\n",
       "    </tr>\n",
       "    <tr>\n",
       "      <th>13</th>\n",
       "      <td>KSTest</td>\n",
       "      <td>Inverted Kolmogorov-Smirnov D statistic</td>\n",
       "      <td>8.545833e-01</td>\n",
       "      <td>0.854583</td>\n",
       "      <td>0.0</td>\n",
       "      <td>1.0</td>\n",
       "      <td>MAXIMIZE</td>\n",
       "    </tr>\n",
       "    <tr>\n",
       "      <th>14</th>\n",
       "      <td>KSTestExtended</td>\n",
       "      <td>Inverted Kolmogorov-Smirnov D statistic</td>\n",
       "      <td>8.809300e-01</td>\n",
       "      <td>0.880930</td>\n",
       "      <td>0.0</td>\n",
       "      <td>1.0</td>\n",
       "      <td>MAXIMIZE</td>\n",
       "    </tr>\n",
       "    <tr>\n",
       "      <th>27</th>\n",
       "      <td>ContinuousKLDivergence</td>\n",
       "      <td>Continuous Kullback–Leibler Divergence</td>\n",
       "      <td>6.400494e-01</td>\n",
       "      <td>0.640049</td>\n",
       "      <td>0.0</td>\n",
       "      <td>1.0</td>\n",
       "      <td>MAXIMIZE</td>\n",
       "    </tr>\n",
       "    <tr>\n",
       "      <th>28</th>\n",
       "      <td>DiscreteKLDivergence</td>\n",
       "      <td>Discrete Kullback–Leibler Divergence</td>\n",
       "      <td>7.914871e-01</td>\n",
       "      <td>0.791487</td>\n",
       "      <td>0.0</td>\n",
       "      <td>1.0</td>\n",
       "      <td>MAXIMIZE</td>\n",
       "    </tr>\n",
       "  </tbody>\n",
       "</table>\n",
       "</div>"
      ],
      "text/plain": [
       "                    metric                                     name  \\\n",
       "0          BNLogLikelihood           BayesianNetwork Log Likelihood   \n",
       "1        LogisticDetection             LogisticRegression Detection   \n",
       "2             SVCDetection                            SVC Detection   \n",
       "11         GMLogLikelihood           GaussianMixture Log Likelihood   \n",
       "12                  CSTest                              Chi-Squared   \n",
       "13                  KSTest  Inverted Kolmogorov-Smirnov D statistic   \n",
       "14          KSTestExtended  Inverted Kolmogorov-Smirnov D statistic   \n",
       "27  ContinuousKLDivergence   Continuous Kullback–Leibler Divergence   \n",
       "28    DiscreteKLDivergence     Discrete Kullback–Leibler Divergence   \n",
       "\n",
       "       raw_score  normalized_score  min_value  max_value      goal  \n",
       "0  -6.138766e+00          0.002158       -inf        0.0  MAXIMIZE  \n",
       "1   3.300543e-01          0.330054        0.0        1.0  MAXIMIZE  \n",
       "2   3.207198e-01          0.320720        0.0        1.0  MAXIMIZE  \n",
       "11 -6.244137e+10          0.000000       -inf        inf  MAXIMIZE  \n",
       "12  9.011471e-01          0.901147        0.0        1.0  MAXIMIZE  \n",
       "13  8.545833e-01          0.854583        0.0        1.0  MAXIMIZE  \n",
       "14  8.809300e-01          0.880930        0.0        1.0  MAXIMIZE  \n",
       "27  6.400494e-01          0.640049        0.0        1.0  MAXIMIZE  \n",
       "28  7.914871e-01          0.791487        0.0        1.0  MAXIMIZE  "
      ]
     },
     "execution_count": 37,
     "metadata": {},
     "output_type": "execute_result"
    }
   ],
   "source": [
    "evaluate(copulaData, dfEnriched, aggregate=False)"
   ]
  },
  {
   "cell_type": "markdown",
   "metadata": {},
   "source": [
    "### TVAE <a class=\"anchor\" id=\"TVAE_eval\"></a>"
   ]
  },
  {
   "cell_type": "code",
   "execution_count": 38,
   "metadata": {
    "ExecuteTime": {
     "end_time": "2021-07-28T07:21:10.753977Z",
     "start_time": "2021-07-28T07:19:05.457747Z"
    },
    "scrolled": true
   },
   "outputs": [
    {
     "data": {
      "text/plain": [
       "0.4323478762511248"
      ]
     },
     "execution_count": 38,
     "metadata": {},
     "output_type": "execute_result"
    }
   ],
   "source": [
    "evaluate(tvaeData, dfEnriched)"
   ]
  },
  {
   "cell_type": "code",
   "execution_count": 39,
   "metadata": {
    "ExecuteTime": {
     "end_time": "2021-07-28T07:22:51.811918Z",
     "start_time": "2021-07-28T07:21:10.755982Z"
    },
    "scrolled": true
   },
   "outputs": [
    {
     "data": {
      "text/html": [
       "<div>\n",
       "<style scoped>\n",
       "    .dataframe tbody tr th:only-of-type {\n",
       "        vertical-align: middle;\n",
       "    }\n",
       "\n",
       "    .dataframe tbody tr th {\n",
       "        vertical-align: top;\n",
       "    }\n",
       "\n",
       "    .dataframe thead th {\n",
       "        text-align: right;\n",
       "    }\n",
       "</style>\n",
       "<table border=\"1\" class=\"dataframe\">\n",
       "  <thead>\n",
       "    <tr style=\"text-align: right;\">\n",
       "      <th></th>\n",
       "      <th>metric</th>\n",
       "      <th>name</th>\n",
       "      <th>raw_score</th>\n",
       "      <th>normalized_score</th>\n",
       "      <th>min_value</th>\n",
       "      <th>max_value</th>\n",
       "      <th>goal</th>\n",
       "    </tr>\n",
       "  </thead>\n",
       "  <tbody>\n",
       "    <tr>\n",
       "      <th>0</th>\n",
       "      <td>BNLogLikelihood</td>\n",
       "      <td>BayesianNetwork Log Likelihood</td>\n",
       "      <td>-4.059201e+00</td>\n",
       "      <td>0.017263</td>\n",
       "      <td>-inf</td>\n",
       "      <td>0.0</td>\n",
       "      <td>MAXIMIZE</td>\n",
       "    </tr>\n",
       "    <tr>\n",
       "      <th>1</th>\n",
       "      <td>LogisticDetection</td>\n",
       "      <td>LogisticRegression Detection</td>\n",
       "      <td>8.772479e-02</td>\n",
       "      <td>0.087725</td>\n",
       "      <td>0.0</td>\n",
       "      <td>1.0</td>\n",
       "      <td>MAXIMIZE</td>\n",
       "    </tr>\n",
       "    <tr>\n",
       "      <th>2</th>\n",
       "      <td>SVCDetection</td>\n",
       "      <td>SVC Detection</td>\n",
       "      <td>2.649471e-02</td>\n",
       "      <td>0.026495</td>\n",
       "      <td>0.0</td>\n",
       "      <td>1.0</td>\n",
       "      <td>MAXIMIZE</td>\n",
       "    </tr>\n",
       "    <tr>\n",
       "      <th>11</th>\n",
       "      <td>GMLogLikelihood</td>\n",
       "      <td>GaussianMixture Log Likelihood</td>\n",
       "      <td>-2.441267e+10</td>\n",
       "      <td>0.000000</td>\n",
       "      <td>-inf</td>\n",
       "      <td>inf</td>\n",
       "      <td>MAXIMIZE</td>\n",
       "    </tr>\n",
       "    <tr>\n",
       "      <th>12</th>\n",
       "      <td>CSTest</td>\n",
       "      <td>Chi-Squared</td>\n",
       "      <td>9.019683e-01</td>\n",
       "      <td>0.901968</td>\n",
       "      <td>0.0</td>\n",
       "      <td>1.0</td>\n",
       "      <td>MAXIMIZE</td>\n",
       "    </tr>\n",
       "    <tr>\n",
       "      <th>13</th>\n",
       "      <td>KSTest</td>\n",
       "      <td>Inverted Kolmogorov-Smirnov D statistic</td>\n",
       "      <td>8.578333e-01</td>\n",
       "      <td>0.857833</td>\n",
       "      <td>0.0</td>\n",
       "      <td>1.0</td>\n",
       "      <td>MAXIMIZE</td>\n",
       "    </tr>\n",
       "    <tr>\n",
       "      <th>14</th>\n",
       "      <td>KSTestExtended</td>\n",
       "      <td>Inverted Kolmogorov-Smirnov D statistic</td>\n",
       "      <td>7.686100e-01</td>\n",
       "      <td>0.768610</td>\n",
       "      <td>0.0</td>\n",
       "      <td>1.0</td>\n",
       "      <td>MAXIMIZE</td>\n",
       "    </tr>\n",
       "    <tr>\n",
       "      <th>27</th>\n",
       "      <td>ContinuousKLDivergence</td>\n",
       "      <td>Continuous Kullback–Leibler Divergence</td>\n",
       "      <td>7.157558e-01</td>\n",
       "      <td>0.715756</td>\n",
       "      <td>0.0</td>\n",
       "      <td>1.0</td>\n",
       "      <td>MAXIMIZE</td>\n",
       "    </tr>\n",
       "    <tr>\n",
       "      <th>28</th>\n",
       "      <td>DiscreteKLDivergence</td>\n",
       "      <td>Discrete Kullback–Leibler Divergence</td>\n",
       "      <td>5.171183e-01</td>\n",
       "      <td>0.517118</td>\n",
       "      <td>0.0</td>\n",
       "      <td>1.0</td>\n",
       "      <td>MAXIMIZE</td>\n",
       "    </tr>\n",
       "  </tbody>\n",
       "</table>\n",
       "</div>"
      ],
      "text/plain": [
       "                    metric                                     name  \\\n",
       "0          BNLogLikelihood           BayesianNetwork Log Likelihood   \n",
       "1        LogisticDetection             LogisticRegression Detection   \n",
       "2             SVCDetection                            SVC Detection   \n",
       "11         GMLogLikelihood           GaussianMixture Log Likelihood   \n",
       "12                  CSTest                              Chi-Squared   \n",
       "13                  KSTest  Inverted Kolmogorov-Smirnov D statistic   \n",
       "14          KSTestExtended  Inverted Kolmogorov-Smirnov D statistic   \n",
       "27  ContinuousKLDivergence   Continuous Kullback–Leibler Divergence   \n",
       "28    DiscreteKLDivergence     Discrete Kullback–Leibler Divergence   \n",
       "\n",
       "       raw_score  normalized_score  min_value  max_value      goal  \n",
       "0  -4.059201e+00          0.017263       -inf        0.0  MAXIMIZE  \n",
       "1   8.772479e-02          0.087725        0.0        1.0  MAXIMIZE  \n",
       "2   2.649471e-02          0.026495        0.0        1.0  MAXIMIZE  \n",
       "11 -2.441267e+10          0.000000       -inf        inf  MAXIMIZE  \n",
       "12  9.019683e-01          0.901968        0.0        1.0  MAXIMIZE  \n",
       "13  8.578333e-01          0.857833        0.0        1.0  MAXIMIZE  \n",
       "14  7.686100e-01          0.768610        0.0        1.0  MAXIMIZE  \n",
       "27  7.157558e-01          0.715756        0.0        1.0  MAXIMIZE  \n",
       "28  5.171183e-01          0.517118        0.0        1.0  MAXIMIZE  "
      ]
     },
     "execution_count": 39,
     "metadata": {},
     "output_type": "execute_result"
    }
   ],
   "source": [
    "evaluate(tvaeData, dfEnriched, aggregate=False)"
   ]
  },
  {
   "cell_type": "markdown",
   "metadata": {},
   "source": [
    "## Saving data"
   ]
  },
  {
   "cell_type": "code",
   "execution_count": 40,
   "metadata": {
    "ExecuteTime": {
     "end_time": "2021-07-28T07:22:51.843994Z",
     "start_time": "2021-07-28T07:22:51.813882Z"
    }
   },
   "outputs": [],
   "source": [
    "Gauss_json = gaussianData.to_json(orient=\"values\")\n",
    "file = open('data/generated/gaussian_telco.json', 'w')\n",
    "file.write(Gauss_json)\n",
    "file.close()"
   ]
  },
  {
   "cell_type": "code",
   "execution_count": 41,
   "metadata": {
    "ExecuteTime": {
     "end_time": "2021-07-28T07:22:51.891998Z",
     "start_time": "2021-07-28T07:22:51.845889Z"
    }
   },
   "outputs": [],
   "source": [
    "ctgan_json = ctgData.to_json(orient=\"values\")\n",
    "file = open('data/generated/ctgan_telco.json', 'w')\n",
    "file.write(ctgan_json)\n",
    "file.close()"
   ]
  },
  {
   "cell_type": "code",
   "execution_count": 42,
   "metadata": {
    "ExecuteTime": {
     "end_time": "2021-07-28T07:22:51.923468Z",
     "start_time": "2021-07-28T07:22:51.893891Z"
    }
   },
   "outputs": [],
   "source": [
    "copula_json = copulaData.to_json(orient=\"values\")\n",
    "file = open('data/generated/copula_telco.json', 'w')\n",
    "file.write(copula_json)\n",
    "file.close()"
   ]
  },
  {
   "cell_type": "code",
   "execution_count": 43,
   "metadata": {
    "ExecuteTime": {
     "end_time": "2021-07-28T07:22:51.955141Z",
     "start_time": "2021-07-28T07:22:51.926471Z"
    }
   },
   "outputs": [],
   "source": [
    "tvae_json = tvaeData.to_json(orient=\"values\")\n",
    "file = open('data/generated/tvae_telco.json', 'w')\n",
    "file.write(tvae_json)\n",
    "file.close()"
   ]
  },
  {
   "cell_type": "markdown",
   "metadata": {},
   "source": [
    "# Experimentation on enriched dataset <a class=\"anchor\" id=\"Experimentation\"></a>\n",
    "\n",
    "This data set involves more categorical data. Some of the numeric data should not be generated as normal numeric data is with distribution, for some primary keys can be assigned, however, for simplicity in this exploration they the customer, account, subscription and phone numbers are generated as if they were just categorical data. There is no transformer to generate acceptable phone numbers this would need to be created (or anonymize the column)."
   ]
  },
  {
   "cell_type": "markdown",
   "metadata": {},
   "source": [
    "## Loading enriched dataset <a class=\"anchor\" id=\"loading2\"></a>"
   ]
  },
  {
   "cell_type": "code",
   "execution_count": 44,
   "metadata": {
    "ExecuteTime": {
     "end_time": "2021-07-28T07:22:52.001944Z",
     "start_time": "2021-07-28T07:22:51.958141Z"
    }
   },
   "outputs": [
    {
     "data": {
      "text/html": [
       "<div>\n",
       "<style scoped>\n",
       "    .dataframe tbody tr th:only-of-type {\n",
       "        vertical-align: middle;\n",
       "    }\n",
       "\n",
       "    .dataframe tbody tr th {\n",
       "        vertical-align: top;\n",
       "    }\n",
       "\n",
       "    .dataframe thead th {\n",
       "        text-align: right;\n",
       "    }\n",
       "</style>\n",
       "<table border=\"1\" class=\"dataframe\">\n",
       "  <thead>\n",
       "    <tr style=\"text-align: right;\">\n",
       "      <th></th>\n",
       "      <th>Unnamed: 0</th>\n",
       "      <th>Company</th>\n",
       "      <th>Customer Number</th>\n",
       "      <th>Account Number</th>\n",
       "      <th>Subscription Number</th>\n",
       "      <th>Phone Number</th>\n",
       "      <th>Product Line</th>\n",
       "      <th>Product Family</th>\n",
       "      <th>Produit</th>\n",
       "      <th>Client</th>\n",
       "      <th>VOICE IN (Min)</th>\n",
       "      <th>VOICE OUT (Min)</th>\n",
       "      <th>Message</th>\n",
       "      <th>Data</th>\n",
       "    </tr>\n",
       "  </thead>\n",
       "  <tbody>\n",
       "    <tr>\n",
       "      <th>0</th>\n",
       "      <td>0</td>\n",
       "      <td>.</td>\n",
       "      <td>21024170</td>\n",
       "      <td>21024170</td>\n",
       "      <td>199761</td>\n",
       "      <td>352691277566</td>\n",
       "      <td>MOBILE</td>\n",
       "      <td>smart</td>\n",
       "      <td>LUX_SMART_V7_S_SIM_ONLY</td>\n",
       "      <td>SL</td>\n",
       "      <td>571.533333</td>\n",
       "      <td>2001.116667</td>\n",
       "      <td>22</td>\n",
       "      <td>221.893080</td>\n",
       "    </tr>\n",
       "    <tr>\n",
       "      <th>1</th>\n",
       "      <td>1</td>\n",
       "      <td>.</td>\n",
       "      <td>22073297</td>\n",
       "      <td>22197893</td>\n",
       "      <td>1083622</td>\n",
       "      <td>352691277009</td>\n",
       "      <td>MOBILE</td>\n",
       "      <td>smart</td>\n",
       "      <td>LUX_SMART_V09_XL_PACKAGE</td>\n",
       "      <td>SL</td>\n",
       "      <td>1193.066667</td>\n",
       "      <td>5318.650000</td>\n",
       "      <td>1429</td>\n",
       "      <td>245019.044338</td>\n",
       "    </tr>\n",
       "    <tr>\n",
       "      <th>2</th>\n",
       "      <td>2</td>\n",
       "      <td>AUTOCARS SALES - LENTZ S.A.</td>\n",
       "      <td>21024519</td>\n",
       "      <td>21024519</td>\n",
       "      <td>192883</td>\n",
       "      <td>352691211012</td>\n",
       "      <td>MOBILE</td>\n",
       "      <td>smart</td>\n",
       "      <td>LUX_SMART_V6_L_PACKAGE</td>\n",
       "      <td>SL</td>\n",
       "      <td>2415.383333</td>\n",
       "      <td>5557.983333</td>\n",
       "      <td>101</td>\n",
       "      <td>19492.130311</td>\n",
       "    </tr>\n",
       "    <tr>\n",
       "      <th>3</th>\n",
       "      <td>3</td>\n",
       "      <td>AUTOCARS SALES - LENTZ S.A.</td>\n",
       "      <td>21024519</td>\n",
       "      <td>21024519</td>\n",
       "      <td>205747</td>\n",
       "      <td>352691323527</td>\n",
       "      <td>MOBILE</td>\n",
       "      <td>Enterprise</td>\n",
       "      <td>LUX_POST_TAN_ENTERPRISE</td>\n",
       "      <td>SL</td>\n",
       "      <td>0.000000</td>\n",
       "      <td>4.233333</td>\n",
       "      <td>0</td>\n",
       "      <td>0.000000</td>\n",
       "    </tr>\n",
       "    <tr>\n",
       "      <th>4</th>\n",
       "      <td>4</td>\n",
       "      <td>AUTOCARS SALES - LENTZ S.A.</td>\n",
       "      <td>21024519</td>\n",
       "      <td>21024519</td>\n",
       "      <td>1134547</td>\n",
       "      <td>352691277032</td>\n",
       "      <td>MOBILE</td>\n",
       "      <td>Enterprise</td>\n",
       "      <td>LUX_POST_TAN_ENTERPRISE</td>\n",
       "      <td>SL</td>\n",
       "      <td>443.883333</td>\n",
       "      <td>1519.433333</td>\n",
       "      <td>3</td>\n",
       "      <td>0.000000</td>\n",
       "    </tr>\n",
       "  </tbody>\n",
       "</table>\n",
       "</div>"
      ],
      "text/plain": [
       "   Unnamed: 0                      Company  Customer Number  Account Number  \\\n",
       "0           0                            .         21024170        21024170   \n",
       "1           1                            .         22073297        22197893   \n",
       "2           2  AUTOCARS SALES - LENTZ S.A.         21024519        21024519   \n",
       "3           3  AUTOCARS SALES - LENTZ S.A.         21024519        21024519   \n",
       "4           4  AUTOCARS SALES - LENTZ S.A.         21024519        21024519   \n",
       "\n",
       "   Subscription Number  Phone Number Product Line Product Family  \\\n",
       "0               199761  352691277566       MOBILE          smart   \n",
       "1              1083622  352691277009       MOBILE          smart   \n",
       "2               192883  352691211012       MOBILE          smart   \n",
       "3               205747  352691323527       MOBILE     Enterprise   \n",
       "4              1134547  352691277032       MOBILE     Enterprise   \n",
       "\n",
       "                    Produit Client  VOICE IN (Min)  VOICE OUT (Min)  Message  \\\n",
       "0   LUX_SMART_V7_S_SIM_ONLY     SL      571.533333      2001.116667       22   \n",
       "1  LUX_SMART_V09_XL_PACKAGE     SL     1193.066667      5318.650000     1429   \n",
       "2    LUX_SMART_V6_L_PACKAGE     SL     2415.383333      5557.983333      101   \n",
       "3   LUX_POST_TAN_ENTERPRISE     SL        0.000000         4.233333        0   \n",
       "4   LUX_POST_TAN_ENTERPRISE     SL      443.883333      1519.433333        3   \n",
       "\n",
       "            Data  \n",
       "0     221.893080  \n",
       "1  245019.044338  \n",
       "2   19492.130311  \n",
       "3       0.000000  \n",
       "4       0.000000  "
      ]
     },
     "execution_count": 44,
     "metadata": {},
     "output_type": "execute_result"
    }
   ],
   "source": [
    "dfen = pd.read_csv('./data/Enriched_dataset.csv',\n",
    "                   sep=',',\n",
    "                   error_bad_lines=False)\n",
    "dfen.drop(columns=['Std_Data', 'Std_Message', 'Std_VoiceIn', 'Std_VoiceOut'],\n",
    "          inplace=True)\n",
    "dfen.head()"
   ]
  },
  {
   "cell_type": "code",
   "execution_count": 45,
   "metadata": {
    "ExecuteTime": {
     "end_time": "2021-07-28T07:22:52.032968Z",
     "start_time": "2021-07-28T07:22:52.003943Z"
    }
   },
   "outputs": [
    {
     "name": "stdout",
     "output_type": "stream",
     "text": [
      "<class 'pandas.core.frame.DataFrame'>\n",
      "RangeIndex: 2041 entries, 0 to 2040\n",
      "Data columns (total 14 columns):\n",
      " #   Column               Non-Null Count  Dtype  \n",
      "---  ------               --------------  -----  \n",
      " 0   Unnamed: 0           2041 non-null   int64  \n",
      " 1   Company              2041 non-null   object \n",
      " 2   Customer Number      2041 non-null   int64  \n",
      " 3   Account Number       2041 non-null   int64  \n",
      " 4   Subscription Number  2041 non-null   int64  \n",
      " 5   Phone Number         2041 non-null   int64  \n",
      " 6   Product Line         2041 non-null   object \n",
      " 7   Product Family       2041 non-null   object \n",
      " 8   Produit              2041 non-null   object \n",
      " 9   Client               2041 non-null   object \n",
      " 10  VOICE IN (Min)       2041 non-null   float64\n",
      " 11  VOICE OUT (Min)      2041 non-null   float64\n",
      " 12  Message              2041 non-null   int64  \n",
      " 13  Data                 2041 non-null   float64\n",
      "dtypes: float64(3), int64(6), object(5)\n",
      "memory usage: 223.4+ KB\n"
     ]
    }
   ],
   "source": [
    "dfen.info()"
   ]
  },
  {
   "cell_type": "markdown",
   "metadata": {},
   "source": [
    "## Fitting the models <a class=\"anchor\" id=\"fitting2\"></a>"
   ]
  },
  {
   "cell_type": "code",
   "execution_count": 46,
   "metadata": {
    "ExecuteTime": {
     "end_time": "2021-07-28T07:22:52.048977Z",
     "start_time": "2021-07-28T07:22:52.035946Z"
    }
   },
   "outputs": [],
   "source": [
    "field_transformer_en = {\n",
    "    'Company': 'categorical',\n",
    "    'Customer Number': 'categorical',\n",
    "    'Account Number': 'categorical',\n",
    "    'Subscription Number': 'categorical',\n",
    "    'Phone Number': 'categorical',\n",
    "    'Product Line': 'categorical',\n",
    "    'Product Family': 'categorical',\n",
    "    'Produit': 'categorical',\n",
    "    'Client': 'categorical',\n",
    "    'VOICE IN (Min)': 'float',\n",
    "    'VOICE OUT (Min)': 'float',\n",
    "    'Message': 'integer',\n",
    "    'Data': 'float'\n",
    "}"
   ]
  },
  {
   "cell_type": "markdown",
   "metadata": {},
   "source": [
    "### GaussianCopula <a class=\"anchor\" id=\"gaussian_fit2\"></a>"
   ]
  },
  {
   "cell_type": "code",
   "execution_count": 47,
   "metadata": {
    "ExecuteTime": {
     "end_time": "2021-07-28T07:23:00.891527Z",
     "start_time": "2021-07-28T07:22:52.051947Z"
    }
   },
   "outputs": [],
   "source": [
    "gaussian2 = GaussianCopula(primary_key='Unnamed: 0',\n",
    "                           field_transformers=field_transformer_en)\n",
    "gaussian2.fit(dfen)"
   ]
  },
  {
   "cell_type": "code",
   "execution_count": 48,
   "metadata": {
    "ExecuteTime": {
     "end_time": "2021-07-28T07:23:10.175494Z",
     "start_time": "2021-07-28T07:23:00.902545Z"
    }
   },
   "outputs": [
    {
     "data": {
      "text/html": [
       "<div>\n",
       "<style scoped>\n",
       "    .dataframe tbody tr th:only-of-type {\n",
       "        vertical-align: middle;\n",
       "    }\n",
       "\n",
       "    .dataframe tbody tr th {\n",
       "        vertical-align: top;\n",
       "    }\n",
       "\n",
       "    .dataframe thead th {\n",
       "        text-align: right;\n",
       "    }\n",
       "</style>\n",
       "<table border=\"1\" class=\"dataframe\">\n",
       "  <thead>\n",
       "    <tr style=\"text-align: right;\">\n",
       "      <th></th>\n",
       "      <th>Unnamed: 0</th>\n",
       "      <th>Company</th>\n",
       "      <th>Customer Number</th>\n",
       "      <th>Account Number</th>\n",
       "      <th>Subscription Number</th>\n",
       "      <th>Phone Number</th>\n",
       "      <th>Product Line</th>\n",
       "      <th>Product Family</th>\n",
       "      <th>Produit</th>\n",
       "      <th>Client</th>\n",
       "      <th>VOICE IN (Min)</th>\n",
       "      <th>VOICE OUT (Min)</th>\n",
       "      <th>Message</th>\n",
       "      <th>Data</th>\n",
       "    </tr>\n",
       "  </thead>\n",
       "  <tbody>\n",
       "    <tr>\n",
       "      <th>0</th>\n",
       "      <td>0</td>\n",
       "      <td>SLA S.A. C/O CAMIONNETTE</td>\n",
       "      <td>27987470</td>\n",
       "      <td>27381866</td>\n",
       "      <td>4278919</td>\n",
       "      <td>352691960885</td>\n",
       "      <td>MOBILE</td>\n",
       "      <td>Enterprise</td>\n",
       "      <td>LUX_POST_TAN_ENTERPRISE</td>\n",
       "      <td>EW</td>\n",
       "      <td>157.361176</td>\n",
       "      <td>1209.688115</td>\n",
       "      <td>0</td>\n",
       "      <td>1.609182e-02</td>\n",
       "    </tr>\n",
       "    <tr>\n",
       "      <th>1</th>\n",
       "      <td>1</td>\n",
       "      <td>VOYAGES EMILE WEBER SÀRL</td>\n",
       "      <td>22443496</td>\n",
       "      <td>27381868</td>\n",
       "      <td>5895841</td>\n",
       "      <td>352691360208</td>\n",
       "      <td>MOBILE</td>\n",
       "      <td>Enterprise</td>\n",
       "      <td>LUX_POST_TAN_ENTERPRISE</td>\n",
       "      <td>SL</td>\n",
       "      <td>693.560887</td>\n",
       "      <td>1726.239898</td>\n",
       "      <td>0</td>\n",
       "      <td>1.452511e+15</td>\n",
       "    </tr>\n",
       "    <tr>\n",
       "      <th>2</th>\n",
       "      <td>2</td>\n",
       "      <td>VOYAGES EMILE WEBER SÀRL</td>\n",
       "      <td>22443496</td>\n",
       "      <td>27381868</td>\n",
       "      <td>6044254</td>\n",
       "      <td>352691992570</td>\n",
       "      <td>MOBILE</td>\n",
       "      <td>Enterprise</td>\n",
       "      <td>LUX_POST_TAN_ENTERPRISE</td>\n",
       "      <td>SL</td>\n",
       "      <td>514.935335</td>\n",
       "      <td>1087.071265</td>\n",
       "      <td>0</td>\n",
       "      <td>2.630200e+04</td>\n",
       "    </tr>\n",
       "    <tr>\n",
       "      <th>3</th>\n",
       "      <td>3</td>\n",
       "      <td>VOYAGES EMILE WEBER SÀRL</td>\n",
       "      <td>22443496</td>\n",
       "      <td>27381866</td>\n",
       "      <td>6121324</td>\n",
       "      <td>352691977593</td>\n",
       "      <td>MOBILE</td>\n",
       "      <td>Enterprise</td>\n",
       "      <td>LUX_POST_TAN_ENTERPRISE</td>\n",
       "      <td>SL</td>\n",
       "      <td>-205.437498</td>\n",
       "      <td>188.078911</td>\n",
       "      <td>0</td>\n",
       "      <td>6.169014e+03</td>\n",
       "    </tr>\n",
       "    <tr>\n",
       "      <th>4</th>\n",
       "      <td>4</td>\n",
       "      <td>SLA S.A. C/O CAMIONNETTE</td>\n",
       "      <td>27987470</td>\n",
       "      <td>27357080</td>\n",
       "      <td>5993832</td>\n",
       "      <td>352691971631</td>\n",
       "      <td>MOBILE</td>\n",
       "      <td>Enterprise</td>\n",
       "      <td>LUX_POST_TAN_ENTERPRISE</td>\n",
       "      <td>SL</td>\n",
       "      <td>690.900150</td>\n",
       "      <td>414.037953</td>\n",
       "      <td>0</td>\n",
       "      <td>1.254180e-01</td>\n",
       "    </tr>\n",
       "  </tbody>\n",
       "</table>\n",
       "</div>"
      ],
      "text/plain": [
       "   Unnamed: 0                   Company  Customer Number  Account Number  \\\n",
       "0           0  SLA S.A. C/O CAMIONNETTE         27987470        27381866   \n",
       "1           1  VOYAGES EMILE WEBER SÀRL         22443496        27381868   \n",
       "2           2  VOYAGES EMILE WEBER SÀRL         22443496        27381868   \n",
       "3           3  VOYAGES EMILE WEBER SÀRL         22443496        27381866   \n",
       "4           4  SLA S.A. C/O CAMIONNETTE         27987470        27357080   \n",
       "\n",
       "   Subscription Number  Phone Number Product Line Product Family  \\\n",
       "0              4278919  352691960885       MOBILE     Enterprise   \n",
       "1              5895841  352691360208       MOBILE     Enterprise   \n",
       "2              6044254  352691992570       MOBILE     Enterprise   \n",
       "3              6121324  352691977593       MOBILE     Enterprise   \n",
       "4              5993832  352691971631       MOBILE     Enterprise   \n",
       "\n",
       "                   Produit Client  VOICE IN (Min)  VOICE OUT (Min)  Message  \\\n",
       "0  LUX_POST_TAN_ENTERPRISE     EW      157.361176      1209.688115        0   \n",
       "1  LUX_POST_TAN_ENTERPRISE     SL      693.560887      1726.239898        0   \n",
       "2  LUX_POST_TAN_ENTERPRISE     SL      514.935335      1087.071265        0   \n",
       "3  LUX_POST_TAN_ENTERPRISE     SL     -205.437498       188.078911        0   \n",
       "4  LUX_POST_TAN_ENTERPRISE     SL      690.900150       414.037953        0   \n",
       "\n",
       "           Data  \n",
       "0  1.609182e-02  \n",
       "1  1.452511e+15  \n",
       "2  2.630200e+04  \n",
       "3  6.169014e+03  \n",
       "4  1.254180e-01  "
      ]
     },
     "execution_count": 48,
     "metadata": {},
     "output_type": "execute_result"
    }
   ],
   "source": [
    "gData2 = gaussian2.sample(10000)\n",
    "gData2.head()"
   ]
  },
  {
   "cell_type": "markdown",
   "metadata": {},
   "source": [
    "### CTGAN <a class=\"anchor\" id=\"CTGAN_fit2\"></a>"
   ]
  },
  {
   "cell_type": "code",
   "execution_count": 49,
   "metadata": {
    "ExecuteTime": {
     "end_time": "2021-07-28T07:26:47.432442Z",
     "start_time": "2021-07-28T07:23:10.177493Z"
    }
   },
   "outputs": [],
   "source": [
    "ctgan2 = CTGAN(primary_key='Unnamed: 0',\n",
    "               field_transformers=field_transformer_en)\n",
    "ctgan2.fit(dfen)"
   ]
  },
  {
   "cell_type": "code",
   "execution_count": 50,
   "metadata": {
    "ExecuteTime": {
     "end_time": "2021-07-28T07:26:55.480098Z",
     "start_time": "2021-07-28T07:26:47.435446Z"
    }
   },
   "outputs": [
    {
     "data": {
      "text/html": [
       "<div>\n",
       "<style scoped>\n",
       "    .dataframe tbody tr th:only-of-type {\n",
       "        vertical-align: middle;\n",
       "    }\n",
       "\n",
       "    .dataframe tbody tr th {\n",
       "        vertical-align: top;\n",
       "    }\n",
       "\n",
       "    .dataframe thead th {\n",
       "        text-align: right;\n",
       "    }\n",
       "</style>\n",
       "<table border=\"1\" class=\"dataframe\">\n",
       "  <thead>\n",
       "    <tr style=\"text-align: right;\">\n",
       "      <th></th>\n",
       "      <th>Unnamed: 0</th>\n",
       "      <th>Company</th>\n",
       "      <th>Customer Number</th>\n",
       "      <th>Account Number</th>\n",
       "      <th>Subscription Number</th>\n",
       "      <th>Phone Number</th>\n",
       "      <th>Product Line</th>\n",
       "      <th>Product Family</th>\n",
       "      <th>Produit</th>\n",
       "      <th>Client</th>\n",
       "      <th>VOICE IN (Min)</th>\n",
       "      <th>VOICE OUT (Min)</th>\n",
       "      <th>Message</th>\n",
       "      <th>Data</th>\n",
       "    </tr>\n",
       "  </thead>\n",
       "  <tbody>\n",
       "    <tr>\n",
       "      <th>0</th>\n",
       "      <td>0</td>\n",
       "      <td>SALES LENTZ</td>\n",
       "      <td>27683372</td>\n",
       "      <td>21023952</td>\n",
       "      <td>1139582</td>\n",
       "      <td>352691277050</td>\n",
       "      <td>MOBILE</td>\n",
       "      <td>Corporate</td>\n",
       "      <td>LUX_SMART_V6_XL_PACKAGE</td>\n",
       "      <td>SL</td>\n",
       "      <td>394.064512</td>\n",
       "      <td>494.778488</td>\n",
       "      <td>100</td>\n",
       "      <td>33404.691349</td>\n",
       "    </tr>\n",
       "    <tr>\n",
       "      <th>1</th>\n",
       "      <td>1</td>\n",
       "      <td>SLA S.A C/O BUS</td>\n",
       "      <td>27683372</td>\n",
       "      <td>21024519</td>\n",
       "      <td>5839261</td>\n",
       "      <td>352691276426</td>\n",
       "      <td>MOBILE</td>\n",
       "      <td>smart</td>\n",
       "      <td>LUX_SMART_V7_S_PACKAGE</td>\n",
       "      <td>SL</td>\n",
       "      <td>26.122108</td>\n",
       "      <td>28.625366</td>\n",
       "      <td>3</td>\n",
       "      <td>-979.281535</td>\n",
       "    </tr>\n",
       "    <tr>\n",
       "      <th>2</th>\n",
       "      <td>2</td>\n",
       "      <td>VOYAGES EMILE WEBER SÀRL</td>\n",
       "      <td>22443496</td>\n",
       "      <td>27381868</td>\n",
       "      <td>6041246</td>\n",
       "      <td>352691111249</td>\n",
       "      <td>MOBILE</td>\n",
       "      <td>Enterprise</td>\n",
       "      <td>LUX_POST_TAN_ENTERPRISE</td>\n",
       "      <td>EW</td>\n",
       "      <td>-14.748141</td>\n",
       "      <td>76.936122</td>\n",
       "      <td>-3</td>\n",
       "      <td>3839.905149</td>\n",
       "    </tr>\n",
       "    <tr>\n",
       "      <th>3</th>\n",
       "      <td>3</td>\n",
       "      <td>NORD-TAXI SARL</td>\n",
       "      <td>27987468</td>\n",
       "      <td>27183988</td>\n",
       "      <td>3645838</td>\n",
       "      <td>352691330050</td>\n",
       "      <td>FIXED</td>\n",
       "      <td>Mobile_Internet</td>\n",
       "      <td>LUX_POST_T2-VOIP</td>\n",
       "      <td>SL</td>\n",
       "      <td>39.174653</td>\n",
       "      <td>3052.395835</td>\n",
       "      <td>11</td>\n",
       "      <td>36079.348931</td>\n",
       "    </tr>\n",
       "    <tr>\n",
       "      <th>4</th>\n",
       "      <td>4</td>\n",
       "      <td>SLA S.A. C/O CAMIONNETTE</td>\n",
       "      <td>22443496</td>\n",
       "      <td>27381868</td>\n",
       "      <td>6016034</td>\n",
       "      <td>352691345914</td>\n",
       "      <td>MOBILE</td>\n",
       "      <td>Enterprise</td>\n",
       "      <td>LUX_POST_TAN_ENTERPRISE</td>\n",
       "      <td>SL</td>\n",
       "      <td>-5.748331</td>\n",
       "      <td>19.124029</td>\n",
       "      <td>-3</td>\n",
       "      <td>1597.471201</td>\n",
       "    </tr>\n",
       "  </tbody>\n",
       "</table>\n",
       "</div>"
      ],
      "text/plain": [
       "   Unnamed: 0                   Company  Customer Number  Account Number  \\\n",
       "0           0               SALES LENTZ         27683372        21023952   \n",
       "1           1           SLA S.A C/O BUS         27683372        21024519   \n",
       "2           2  VOYAGES EMILE WEBER SÀRL         22443496        27381868   \n",
       "3           3            NORD-TAXI SARL         27987468        27183988   \n",
       "4           4  SLA S.A. C/O CAMIONNETTE         22443496        27381868   \n",
       "\n",
       "   Subscription Number  Phone Number Product Line   Product Family  \\\n",
       "0              1139582  352691277050       MOBILE        Corporate   \n",
       "1              5839261  352691276426       MOBILE            smart   \n",
       "2              6041246  352691111249       MOBILE       Enterprise   \n",
       "3              3645838  352691330050        FIXED  Mobile_Internet   \n",
       "4              6016034  352691345914       MOBILE       Enterprise   \n",
       "\n",
       "                   Produit Client  VOICE IN (Min)  VOICE OUT (Min)  Message  \\\n",
       "0  LUX_SMART_V6_XL_PACKAGE     SL      394.064512       494.778488      100   \n",
       "1   LUX_SMART_V7_S_PACKAGE     SL       26.122108        28.625366        3   \n",
       "2  LUX_POST_TAN_ENTERPRISE     EW      -14.748141        76.936122       -3   \n",
       "3         LUX_POST_T2-VOIP     SL       39.174653      3052.395835       11   \n",
       "4  LUX_POST_TAN_ENTERPRISE     SL       -5.748331        19.124029       -3   \n",
       "\n",
       "           Data  \n",
       "0  33404.691349  \n",
       "1   -979.281535  \n",
       "2   3839.905149  \n",
       "3  36079.348931  \n",
       "4   1597.471201  "
      ]
     },
     "execution_count": 50,
     "metadata": {},
     "output_type": "execute_result"
    }
   ],
   "source": [
    "ctData2 = ctgan2.sample(10000)\n",
    "ctData2.head()"
   ]
  },
  {
   "cell_type": "markdown",
   "metadata": {},
   "source": [
    "### CopulaGAN <a class=\"anchor\" id=\"copula_fit2\"></a>"
   ]
  },
  {
   "cell_type": "code",
   "execution_count": 51,
   "metadata": {
    "ExecuteTime": {
     "end_time": "2021-07-28T07:30:08.711472Z",
     "start_time": "2021-07-28T07:26:55.482062Z"
    }
   },
   "outputs": [],
   "source": [
    "copulagan2 = CopulaGAN(primary_key='Unnamed: 0',\n",
    "                       field_transformers=field_transformer_en)\n",
    "copulagan2.fit(dfen)"
   ]
  },
  {
   "cell_type": "code",
   "execution_count": 52,
   "metadata": {
    "ExecuteTime": {
     "end_time": "2021-07-28T07:30:18.027763Z",
     "start_time": "2021-07-28T07:30:08.713622Z"
    }
   },
   "outputs": [
    {
     "data": {
      "text/html": [
       "<div>\n",
       "<style scoped>\n",
       "    .dataframe tbody tr th:only-of-type {\n",
       "        vertical-align: middle;\n",
       "    }\n",
       "\n",
       "    .dataframe tbody tr th {\n",
       "        vertical-align: top;\n",
       "    }\n",
       "\n",
       "    .dataframe thead th {\n",
       "        text-align: right;\n",
       "    }\n",
       "</style>\n",
       "<table border=\"1\" class=\"dataframe\">\n",
       "  <thead>\n",
       "    <tr style=\"text-align: right;\">\n",
       "      <th></th>\n",
       "      <th>Unnamed: 0</th>\n",
       "      <th>Company</th>\n",
       "      <th>Customer Number</th>\n",
       "      <th>Account Number</th>\n",
       "      <th>Subscription Number</th>\n",
       "      <th>Phone Number</th>\n",
       "      <th>Product Line</th>\n",
       "      <th>Product Family</th>\n",
       "      <th>Produit</th>\n",
       "      <th>Client</th>\n",
       "      <th>VOICE IN (Min)</th>\n",
       "      <th>VOICE OUT (Min)</th>\n",
       "      <th>Message</th>\n",
       "      <th>Data</th>\n",
       "    </tr>\n",
       "  </thead>\n",
       "  <tbody>\n",
       "    <tr>\n",
       "      <th>0</th>\n",
       "      <td>0</td>\n",
       "      <td>SLA S.A C/O BUS</td>\n",
       "      <td>25769326</td>\n",
       "      <td>27381866</td>\n",
       "      <td>6030386</td>\n",
       "      <td>352691993532</td>\n",
       "      <td>MOBILE</td>\n",
       "      <td>Enterprise</td>\n",
       "      <td>LUX_POST_TAN_ENTERPRISE</td>\n",
       "      <td>SL</td>\n",
       "      <td>-5.059053</td>\n",
       "      <td>33.630729</td>\n",
       "      <td>0</td>\n",
       "      <td>1605.069713</td>\n",
       "    </tr>\n",
       "    <tr>\n",
       "      <th>1</th>\n",
       "      <td>1</td>\n",
       "      <td>SALES LENTZ AUTOCARS SA</td>\n",
       "      <td>22443496</td>\n",
       "      <td>21024519</td>\n",
       "      <td>5543653</td>\n",
       "      <td>352691967724</td>\n",
       "      <td>MOBILE</td>\n",
       "      <td>smart</td>\n",
       "      <td>LUX_POST_TAN_ENTERPRISE</td>\n",
       "      <td>SL</td>\n",
       "      <td>-24.346474</td>\n",
       "      <td>12.072966</td>\n",
       "      <td>0</td>\n",
       "      <td>12515.412238</td>\n",
       "    </tr>\n",
       "    <tr>\n",
       "      <th>2</th>\n",
       "      <td>2</td>\n",
       "      <td>SLA S.A C/O BUS</td>\n",
       "      <td>27987468</td>\n",
       "      <td>26495802</td>\n",
       "      <td>1713234</td>\n",
       "      <td>352691119892</td>\n",
       "      <td>MOBILE</td>\n",
       "      <td>Mobile_Internet</td>\n",
       "      <td>LUX_MOBILE_ADSL_V6_EU_EXTRA_LARGE</td>\n",
       "      <td>SL</td>\n",
       "      <td>-5.898590</td>\n",
       "      <td>8.847995</td>\n",
       "      <td>0</td>\n",
       "      <td>8378.122048</td>\n",
       "    </tr>\n",
       "    <tr>\n",
       "      <th>3</th>\n",
       "      <td>3</td>\n",
       "      <td>SLA S.A C/O BUS</td>\n",
       "      <td>27987468</td>\n",
       "      <td>27381868</td>\n",
       "      <td>6055119</td>\n",
       "      <td>352691345983</td>\n",
       "      <td>MOBILE</td>\n",
       "      <td>Enterprise</td>\n",
       "      <td>LUX_POST_TAN_ENTERPRISE</td>\n",
       "      <td>SL</td>\n",
       "      <td>-13.342319</td>\n",
       "      <td>-11.739683</td>\n",
       "      <td>0</td>\n",
       "      <td>2657.315147</td>\n",
       "    </tr>\n",
       "    <tr>\n",
       "      <th>4</th>\n",
       "      <td>4</td>\n",
       "      <td>SALES-LENTZ PROBUS</td>\n",
       "      <td>27987468</td>\n",
       "      <td>26495802</td>\n",
       "      <td>6083235</td>\n",
       "      <td>352691975710</td>\n",
       "      <td>MOBILE</td>\n",
       "      <td>Mobile_Internet</td>\n",
       "      <td>LUX_POSTPAID_M2MCARD</td>\n",
       "      <td>SL</td>\n",
       "      <td>200.211187</td>\n",
       "      <td>-7.331850</td>\n",
       "      <td>17</td>\n",
       "      <td>3314.038299</td>\n",
       "    </tr>\n",
       "  </tbody>\n",
       "</table>\n",
       "</div>"
      ],
      "text/plain": [
       "   Unnamed: 0                  Company  Customer Number  Account Number  \\\n",
       "0           0          SLA S.A C/O BUS         25769326        27381866   \n",
       "1           1  SALES LENTZ AUTOCARS SA         22443496        21024519   \n",
       "2           2          SLA S.A C/O BUS         27987468        26495802   \n",
       "3           3          SLA S.A C/O BUS         27987468        27381868   \n",
       "4           4       SALES-LENTZ PROBUS         27987468        26495802   \n",
       "\n",
       "   Subscription Number  Phone Number Product Line   Product Family  \\\n",
       "0              6030386  352691993532       MOBILE       Enterprise   \n",
       "1              5543653  352691967724       MOBILE            smart   \n",
       "2              1713234  352691119892       MOBILE  Mobile_Internet   \n",
       "3              6055119  352691345983       MOBILE       Enterprise   \n",
       "4              6083235  352691975710       MOBILE  Mobile_Internet   \n",
       "\n",
       "                             Produit Client  VOICE IN (Min)  VOICE OUT (Min)  \\\n",
       "0            LUX_POST_TAN_ENTERPRISE     SL       -5.059053        33.630729   \n",
       "1            LUX_POST_TAN_ENTERPRISE     SL      -24.346474        12.072966   \n",
       "2  LUX_MOBILE_ADSL_V6_EU_EXTRA_LARGE     SL       -5.898590         8.847995   \n",
       "3            LUX_POST_TAN_ENTERPRISE     SL      -13.342319       -11.739683   \n",
       "4               LUX_POSTPAID_M2MCARD     SL      200.211187        -7.331850   \n",
       "\n",
       "   Message          Data  \n",
       "0        0   1605.069713  \n",
       "1        0  12515.412238  \n",
       "2        0   8378.122048  \n",
       "3        0   2657.315147  \n",
       "4       17   3314.038299  "
      ]
     },
     "execution_count": 52,
     "metadata": {},
     "output_type": "execute_result"
    }
   ],
   "source": [
    "cData2 = copulagan2.sample(10000)\n",
    "cData2.head()"
   ]
  },
  {
   "cell_type": "markdown",
   "metadata": {},
   "source": [
    "### TVAE  <a class=\"anchor\" id=\"TVAE_fit2\"></a>"
   ]
  },
  {
   "cell_type": "code",
   "execution_count": 53,
   "metadata": {
    "ExecuteTime": {
     "end_time": "2021-07-28T07:30:56.447130Z",
     "start_time": "2021-07-28T07:30:18.030761Z"
    }
   },
   "outputs": [],
   "source": [
    "tvae2 = TVAE(primary_key='Unnamed: 0', field_transformers=field_transformer_en)\n",
    "tvae2.fit(dfen)"
   ]
  },
  {
   "cell_type": "code",
   "execution_count": 54,
   "metadata": {
    "ExecuteTime": {
     "end_time": "2021-07-28T07:31:02.566774Z",
     "start_time": "2021-07-28T07:30:56.449033Z"
    }
   },
   "outputs": [
    {
     "data": {
      "text/html": [
       "<div>\n",
       "<style scoped>\n",
       "    .dataframe tbody tr th:only-of-type {\n",
       "        vertical-align: middle;\n",
       "    }\n",
       "\n",
       "    .dataframe tbody tr th {\n",
       "        vertical-align: top;\n",
       "    }\n",
       "\n",
       "    .dataframe thead th {\n",
       "        text-align: right;\n",
       "    }\n",
       "</style>\n",
       "<table border=\"1\" class=\"dataframe\">\n",
       "  <thead>\n",
       "    <tr style=\"text-align: right;\">\n",
       "      <th></th>\n",
       "      <th>Unnamed: 0</th>\n",
       "      <th>Company</th>\n",
       "      <th>Customer Number</th>\n",
       "      <th>Account Number</th>\n",
       "      <th>Subscription Number</th>\n",
       "      <th>Phone Number</th>\n",
       "      <th>Product Line</th>\n",
       "      <th>Product Family</th>\n",
       "      <th>Produit</th>\n",
       "      <th>Client</th>\n",
       "      <th>VOICE IN (Min)</th>\n",
       "      <th>VOICE OUT (Min)</th>\n",
       "      <th>Message</th>\n",
       "      <th>Data</th>\n",
       "    </tr>\n",
       "  </thead>\n",
       "  <tbody>\n",
       "    <tr>\n",
       "      <th>0</th>\n",
       "      <td>0</td>\n",
       "      <td>VOYAGES EMILE WEBER SÀRL</td>\n",
       "      <td>22443496</td>\n",
       "      <td>21022650</td>\n",
       "      <td>1139954</td>\n",
       "      <td>352691384629</td>\n",
       "      <td>MOBILE</td>\n",
       "      <td>Enterprise</td>\n",
       "      <td>LUX_POST_TAN_ENTERPRISE</td>\n",
       "      <td>EW</td>\n",
       "      <td>1177.308308</td>\n",
       "      <td>771.503224</td>\n",
       "      <td>78</td>\n",
       "      <td>150.242561</td>\n",
       "    </tr>\n",
       "    <tr>\n",
       "      <th>1</th>\n",
       "      <td>1</td>\n",
       "      <td>SLA S.A. C/O CAMIONNETTE</td>\n",
       "      <td>27987470</td>\n",
       "      <td>27381868</td>\n",
       "      <td>6072415</td>\n",
       "      <td>352691994593</td>\n",
       "      <td>MOBILE</td>\n",
       "      <td>Enterprise</td>\n",
       "      <td>LUX_POST_TAN_ENTERPRISE</td>\n",
       "      <td>SL</td>\n",
       "      <td>6.604915</td>\n",
       "      <td>-0.028761</td>\n",
       "      <td>-1</td>\n",
       "      <td>2952.430055</td>\n",
       "    </tr>\n",
       "    <tr>\n",
       "      <th>2</th>\n",
       "      <td>2</td>\n",
       "      <td>SLA S.A C/O BUS</td>\n",
       "      <td>27987468</td>\n",
       "      <td>27381866</td>\n",
       "      <td>5877543</td>\n",
       "      <td>352691969116</td>\n",
       "      <td>MOBILE</td>\n",
       "      <td>Enterprise</td>\n",
       "      <td>LUX_POST_TAN_ENTERPRISE</td>\n",
       "      <td>SL</td>\n",
       "      <td>1.559783</td>\n",
       "      <td>-7.039284</td>\n",
       "      <td>0</td>\n",
       "      <td>7049.991365</td>\n",
       "    </tr>\n",
       "    <tr>\n",
       "      <th>3</th>\n",
       "      <td>3</td>\n",
       "      <td>SALES-LENTZ AUTOCARS S.A – EXECUTIVE LANE</td>\n",
       "      <td>21023952</td>\n",
       "      <td>22911009</td>\n",
       "      <td>6059424</td>\n",
       "      <td>352691330338</td>\n",
       "      <td>MOBILE</td>\n",
       "      <td>smart</td>\n",
       "      <td>LUX_SMART_V6_L_PACKAGE</td>\n",
       "      <td>SL</td>\n",
       "      <td>116.234330</td>\n",
       "      <td>3.340964</td>\n",
       "      <td>0</td>\n",
       "      <td>3947.470980</td>\n",
       "    </tr>\n",
       "    <tr>\n",
       "      <th>4</th>\n",
       "      <td>4</td>\n",
       "      <td>SLA S.A C/O BUS</td>\n",
       "      <td>27987468</td>\n",
       "      <td>27381866</td>\n",
       "      <td>5839024</td>\n",
       "      <td>352691927558</td>\n",
       "      <td>MOBILE</td>\n",
       "      <td>Enterprise</td>\n",
       "      <td>LUX_POST_TAN_ENTERPRISE</td>\n",
       "      <td>SL</td>\n",
       "      <td>-4.599274</td>\n",
       "      <td>-19.864924</td>\n",
       "      <td>0</td>\n",
       "      <td>6492.621145</td>\n",
       "    </tr>\n",
       "  </tbody>\n",
       "</table>\n",
       "</div>"
      ],
      "text/plain": [
       "   Unnamed: 0                                    Company  Customer Number  \\\n",
       "0           0                   VOYAGES EMILE WEBER SÀRL         22443496   \n",
       "1           1                   SLA S.A. C/O CAMIONNETTE         27987470   \n",
       "2           2                            SLA S.A C/O BUS         27987468   \n",
       "3           3  SALES-LENTZ AUTOCARS S.A – EXECUTIVE LANE         21023952   \n",
       "4           4                            SLA S.A C/O BUS         27987468   \n",
       "\n",
       "   Account Number  Subscription Number  Phone Number Product Line  \\\n",
       "0        21022650              1139954  352691384629       MOBILE   \n",
       "1        27381868              6072415  352691994593       MOBILE   \n",
       "2        27381866              5877543  352691969116       MOBILE   \n",
       "3        22911009              6059424  352691330338       MOBILE   \n",
       "4        27381866              5839024  352691927558       MOBILE   \n",
       "\n",
       "  Product Family                  Produit Client  VOICE IN (Min)  \\\n",
       "0     Enterprise  LUX_POST_TAN_ENTERPRISE     EW     1177.308308   \n",
       "1     Enterprise  LUX_POST_TAN_ENTERPRISE     SL        6.604915   \n",
       "2     Enterprise  LUX_POST_TAN_ENTERPRISE     SL        1.559783   \n",
       "3          smart   LUX_SMART_V6_L_PACKAGE     SL      116.234330   \n",
       "4     Enterprise  LUX_POST_TAN_ENTERPRISE     SL       -4.599274   \n",
       "\n",
       "   VOICE OUT (Min)  Message         Data  \n",
       "0       771.503224       78   150.242561  \n",
       "1        -0.028761       -1  2952.430055  \n",
       "2        -7.039284        0  7049.991365  \n",
       "3         3.340964        0  3947.470980  \n",
       "4       -19.864924        0  6492.621145  "
      ]
     },
     "execution_count": 54,
     "metadata": {},
     "output_type": "execute_result"
    }
   ],
   "source": [
    "tData2 = tvae2.sample(10000)\n",
    "tData2.head()"
   ]
  },
  {
   "cell_type": "markdown",
   "metadata": {},
   "source": [
    "## Evaluation of synthetic data <a class=\"anchor\" id=\"eval2\"></a>"
   ]
  },
  {
   "cell_type": "markdown",
   "metadata": {},
   "source": [
    "### Gaussian Copula  <a class=\"anchor\" id=\"gaussian_eval2\"></a>"
   ]
  },
  {
   "cell_type": "code",
   "execution_count": 55,
   "metadata": {
    "ExecuteTime": {
     "end_time": "2021-07-28T07:31:58.582643Z",
     "start_time": "2021-07-28T07:31:02.568755Z"
    }
   },
   "outputs": [
    {
     "data": {
      "text/plain": [
       "0.6688430024609224"
      ]
     },
     "execution_count": 55,
     "metadata": {},
     "output_type": "execute_result"
    }
   ],
   "source": [
    "evaluate(gData2, dfen)"
   ]
  },
  {
   "cell_type": "code",
   "execution_count": 56,
   "metadata": {
    "ExecuteTime": {
     "end_time": "2021-07-28T07:32:52.370838Z",
     "start_time": "2021-07-28T07:31:58.584640Z"
    }
   },
   "outputs": [
    {
     "data": {
      "text/html": [
       "<div>\n",
       "<style scoped>\n",
       "    .dataframe tbody tr th:only-of-type {\n",
       "        vertical-align: middle;\n",
       "    }\n",
       "\n",
       "    .dataframe tbody tr th {\n",
       "        vertical-align: top;\n",
       "    }\n",
       "\n",
       "    .dataframe thead th {\n",
       "        text-align: right;\n",
       "    }\n",
       "</style>\n",
       "<table border=\"1\" class=\"dataframe\">\n",
       "  <thead>\n",
       "    <tr style=\"text-align: right;\">\n",
       "      <th></th>\n",
       "      <th>metric</th>\n",
       "      <th>name</th>\n",
       "      <th>raw_score</th>\n",
       "      <th>normalized_score</th>\n",
       "      <th>min_value</th>\n",
       "      <th>max_value</th>\n",
       "      <th>goal</th>\n",
       "    </tr>\n",
       "  </thead>\n",
       "  <tbody>\n",
       "    <tr>\n",
       "      <th>0</th>\n",
       "      <td>BNLogLikelihood</td>\n",
       "      <td>BayesianNetwork Log Likelihood</td>\n",
       "      <td>-1.021925e+01</td>\n",
       "      <td>0.000036</td>\n",
       "      <td>-inf</td>\n",
       "      <td>0.0</td>\n",
       "      <td>MAXIMIZE</td>\n",
       "    </tr>\n",
       "    <tr>\n",
       "      <th>1</th>\n",
       "      <td>LogisticDetection</td>\n",
       "      <td>LogisticRegression Detection</td>\n",
       "      <td>1.000000e+00</td>\n",
       "      <td>1.000000</td>\n",
       "      <td>0.0</td>\n",
       "      <td>1.0</td>\n",
       "      <td>MAXIMIZE</td>\n",
       "    </tr>\n",
       "    <tr>\n",
       "      <th>2</th>\n",
       "      <td>SVCDetection</td>\n",
       "      <td>SVC Detection</td>\n",
       "      <td>9.989999e-01</td>\n",
       "      <td>0.999000</td>\n",
       "      <td>0.0</td>\n",
       "      <td>1.0</td>\n",
       "      <td>MAXIMIZE</td>\n",
       "    </tr>\n",
       "    <tr>\n",
       "      <th>11</th>\n",
       "      <td>GMLogLikelihood</td>\n",
       "      <td>GaussianMixture Log Likelihood</td>\n",
       "      <td>-1.202465e+64</td>\n",
       "      <td>0.000000</td>\n",
       "      <td>-inf</td>\n",
       "      <td>inf</td>\n",
       "      <td>MAXIMIZE</td>\n",
       "    </tr>\n",
       "    <tr>\n",
       "      <th>12</th>\n",
       "      <td>CSTest</td>\n",
       "      <td>Chi-Squared</td>\n",
       "      <td>9.547906e-01</td>\n",
       "      <td>0.954791</td>\n",
       "      <td>0.0</td>\n",
       "      <td>1.0</td>\n",
       "      <td>MAXIMIZE</td>\n",
       "    </tr>\n",
       "    <tr>\n",
       "      <th>13</th>\n",
       "      <td>KSTest</td>\n",
       "      <td>Inverted Kolmogorov-Smirnov D statistic</td>\n",
       "      <td>7.468943e-01</td>\n",
       "      <td>0.746894</td>\n",
       "      <td>0.0</td>\n",
       "      <td>1.0</td>\n",
       "      <td>MAXIMIZE</td>\n",
       "    </tr>\n",
       "    <tr>\n",
       "      <th>14</th>\n",
       "      <td>KSTestExtended</td>\n",
       "      <td>Inverted Kolmogorov-Smirnov D statistic</td>\n",
       "      <td>8.025602e-01</td>\n",
       "      <td>0.802560</td>\n",
       "      <td>0.0</td>\n",
       "      <td>1.0</td>\n",
       "      <td>MAXIMIZE</td>\n",
       "    </tr>\n",
       "    <tr>\n",
       "      <th>27</th>\n",
       "      <td>ContinuousKLDivergence</td>\n",
       "      <td>Continuous Kullback–Leibler Divergence</td>\n",
       "      <td>8.116512e-01</td>\n",
       "      <td>0.811651</td>\n",
       "      <td>0.0</td>\n",
       "      <td>1.0</td>\n",
       "      <td>MAXIMIZE</td>\n",
       "    </tr>\n",
       "    <tr>\n",
       "      <th>28</th>\n",
       "      <td>DiscreteKLDivergence</td>\n",
       "      <td>Discrete Kullback–Leibler Divergence</td>\n",
       "      <td>7.037542e-01</td>\n",
       "      <td>0.703754</td>\n",
       "      <td>0.0</td>\n",
       "      <td>1.0</td>\n",
       "      <td>MAXIMIZE</td>\n",
       "    </tr>\n",
       "  </tbody>\n",
       "</table>\n",
       "</div>"
      ],
      "text/plain": [
       "                    metric                                     name  \\\n",
       "0          BNLogLikelihood           BayesianNetwork Log Likelihood   \n",
       "1        LogisticDetection             LogisticRegression Detection   \n",
       "2             SVCDetection                            SVC Detection   \n",
       "11         GMLogLikelihood           GaussianMixture Log Likelihood   \n",
       "12                  CSTest                              Chi-Squared   \n",
       "13                  KSTest  Inverted Kolmogorov-Smirnov D statistic   \n",
       "14          KSTestExtended  Inverted Kolmogorov-Smirnov D statistic   \n",
       "27  ContinuousKLDivergence   Continuous Kullback–Leibler Divergence   \n",
       "28    DiscreteKLDivergence     Discrete Kullback–Leibler Divergence   \n",
       "\n",
       "       raw_score  normalized_score  min_value  max_value      goal  \n",
       "0  -1.021925e+01          0.000036       -inf        0.0  MAXIMIZE  \n",
       "1   1.000000e+00          1.000000        0.0        1.0  MAXIMIZE  \n",
       "2   9.989999e-01          0.999000        0.0        1.0  MAXIMIZE  \n",
       "11 -1.202465e+64          0.000000       -inf        inf  MAXIMIZE  \n",
       "12  9.547906e-01          0.954791        0.0        1.0  MAXIMIZE  \n",
       "13  7.468943e-01          0.746894        0.0        1.0  MAXIMIZE  \n",
       "14  8.025602e-01          0.802560        0.0        1.0  MAXIMIZE  \n",
       "27  8.116512e-01          0.811651        0.0        1.0  MAXIMIZE  \n",
       "28  7.037542e-01          0.703754        0.0        1.0  MAXIMIZE  "
      ]
     },
     "execution_count": 56,
     "metadata": {},
     "output_type": "execute_result"
    }
   ],
   "source": [
    "evaluate(gData2, dfen, aggregate=False)"
   ]
  },
  {
   "cell_type": "markdown",
   "metadata": {},
   "source": [
    "### CTGAN <a class=\"anchor\" id=\"CTGAN_eval2\"></a>"
   ]
  },
  {
   "cell_type": "code",
   "execution_count": 57,
   "metadata": {
    "ExecuteTime": {
     "end_time": "2021-07-28T07:33:57.709548Z",
     "start_time": "2021-07-28T07:32:52.372805Z"
    }
   },
   "outputs": [
    {
     "data": {
      "text/plain": [
       "0.5167720651834209"
      ]
     },
     "execution_count": 57,
     "metadata": {},
     "output_type": "execute_result"
    }
   ],
   "source": [
    "evaluate(ctData2, dfen)"
   ]
  },
  {
   "cell_type": "code",
   "execution_count": 58,
   "metadata": {
    "ExecuteTime": {
     "end_time": "2021-07-28T07:35:06.241154Z",
     "start_time": "2021-07-28T07:33:57.712397Z"
    }
   },
   "outputs": [
    {
     "data": {
      "text/html": [
       "<div>\n",
       "<style scoped>\n",
       "    .dataframe tbody tr th:only-of-type {\n",
       "        vertical-align: middle;\n",
       "    }\n",
       "\n",
       "    .dataframe tbody tr th {\n",
       "        vertical-align: top;\n",
       "    }\n",
       "\n",
       "    .dataframe thead th {\n",
       "        text-align: right;\n",
       "    }\n",
       "</style>\n",
       "<table border=\"1\" class=\"dataframe\">\n",
       "  <thead>\n",
       "    <tr style=\"text-align: right;\">\n",
       "      <th></th>\n",
       "      <th>metric</th>\n",
       "      <th>name</th>\n",
       "      <th>raw_score</th>\n",
       "      <th>normalized_score</th>\n",
       "      <th>min_value</th>\n",
       "      <th>max_value</th>\n",
       "      <th>goal</th>\n",
       "    </tr>\n",
       "  </thead>\n",
       "  <tbody>\n",
       "    <tr>\n",
       "      <th>0</th>\n",
       "      <td>BNLogLikelihood</td>\n",
       "      <td>BayesianNetwork Log Likelihood</td>\n",
       "      <td>-1.138601e+01</td>\n",
       "      <td>0.000011</td>\n",
       "      <td>-inf</td>\n",
       "      <td>0.0</td>\n",
       "      <td>MAXIMIZE</td>\n",
       "    </tr>\n",
       "    <tr>\n",
       "      <th>1</th>\n",
       "      <td>LogisticDetection</td>\n",
       "      <td>LogisticRegression Detection</td>\n",
       "      <td>3.082401e-01</td>\n",
       "      <td>0.308240</td>\n",
       "      <td>0.0</td>\n",
       "      <td>1.0</td>\n",
       "      <td>MAXIMIZE</td>\n",
       "    </tr>\n",
       "    <tr>\n",
       "      <th>2</th>\n",
       "      <td>SVCDetection</td>\n",
       "      <td>SVC Detection</td>\n",
       "      <td>7.016049e-01</td>\n",
       "      <td>0.701605</td>\n",
       "      <td>0.0</td>\n",
       "      <td>1.0</td>\n",
       "      <td>MAXIMIZE</td>\n",
       "    </tr>\n",
       "    <tr>\n",
       "      <th>11</th>\n",
       "      <td>GMLogLikelihood</td>\n",
       "      <td>GaussianMixture Log Likelihood</td>\n",
       "      <td>-2.912610e+07</td>\n",
       "      <td>0.000000</td>\n",
       "      <td>-inf</td>\n",
       "      <td>inf</td>\n",
       "      <td>MAXIMIZE</td>\n",
       "    </tr>\n",
       "    <tr>\n",
       "      <th>12</th>\n",
       "      <td>CSTest</td>\n",
       "      <td>Chi-Squared</td>\n",
       "      <td>7.849435e-01</td>\n",
       "      <td>0.784944</td>\n",
       "      <td>0.0</td>\n",
       "      <td>1.0</td>\n",
       "      <td>MAXIMIZE</td>\n",
       "    </tr>\n",
       "    <tr>\n",
       "      <th>13</th>\n",
       "      <td>KSTest</td>\n",
       "      <td>Inverted Kolmogorov-Smirnov D statistic</td>\n",
       "      <td>7.085351e-01</td>\n",
       "      <td>0.708535</td>\n",
       "      <td>0.0</td>\n",
       "      <td>1.0</td>\n",
       "      <td>MAXIMIZE</td>\n",
       "    </tr>\n",
       "    <tr>\n",
       "      <th>14</th>\n",
       "      <td>KSTestExtended</td>\n",
       "      <td>Inverted Kolmogorov-Smirnov D statistic</td>\n",
       "      <td>7.398639e-01</td>\n",
       "      <td>0.739864</td>\n",
       "      <td>0.0</td>\n",
       "      <td>1.0</td>\n",
       "      <td>MAXIMIZE</td>\n",
       "    </tr>\n",
       "    <tr>\n",
       "      <th>27</th>\n",
       "      <td>ContinuousKLDivergence</td>\n",
       "      <td>Continuous Kullback–Leibler Divergence</td>\n",
       "      <td>7.378287e-01</td>\n",
       "      <td>0.737829</td>\n",
       "      <td>0.0</td>\n",
       "      <td>1.0</td>\n",
       "      <td>MAXIMIZE</td>\n",
       "    </tr>\n",
       "    <tr>\n",
       "      <th>28</th>\n",
       "      <td>DiscreteKLDivergence</td>\n",
       "      <td>Discrete Kullback–Leibler Divergence</td>\n",
       "      <td>4.451199e-01</td>\n",
       "      <td>0.445120</td>\n",
       "      <td>0.0</td>\n",
       "      <td>1.0</td>\n",
       "      <td>MAXIMIZE</td>\n",
       "    </tr>\n",
       "  </tbody>\n",
       "</table>\n",
       "</div>"
      ],
      "text/plain": [
       "                    metric                                     name  \\\n",
       "0          BNLogLikelihood           BayesianNetwork Log Likelihood   \n",
       "1        LogisticDetection             LogisticRegression Detection   \n",
       "2             SVCDetection                            SVC Detection   \n",
       "11         GMLogLikelihood           GaussianMixture Log Likelihood   \n",
       "12                  CSTest                              Chi-Squared   \n",
       "13                  KSTest  Inverted Kolmogorov-Smirnov D statistic   \n",
       "14          KSTestExtended  Inverted Kolmogorov-Smirnov D statistic   \n",
       "27  ContinuousKLDivergence   Continuous Kullback–Leibler Divergence   \n",
       "28    DiscreteKLDivergence     Discrete Kullback–Leibler Divergence   \n",
       "\n",
       "       raw_score  normalized_score  min_value  max_value      goal  \n",
       "0  -1.138601e+01          0.000011       -inf        0.0  MAXIMIZE  \n",
       "1   3.082401e-01          0.308240        0.0        1.0  MAXIMIZE  \n",
       "2   7.016049e-01          0.701605        0.0        1.0  MAXIMIZE  \n",
       "11 -2.912610e+07          0.000000       -inf        inf  MAXIMIZE  \n",
       "12  7.849435e-01          0.784944        0.0        1.0  MAXIMIZE  \n",
       "13  7.085351e-01          0.708535        0.0        1.0  MAXIMIZE  \n",
       "14  7.398639e-01          0.739864        0.0        1.0  MAXIMIZE  \n",
       "27  7.378287e-01          0.737829        0.0        1.0  MAXIMIZE  \n",
       "28  4.451199e-01          0.445120        0.0        1.0  MAXIMIZE  "
      ]
     },
     "execution_count": 58,
     "metadata": {},
     "output_type": "execute_result"
    }
   ],
   "source": [
    "evaluate(ctData2, dfen, aggregate=False)"
   ]
  },
  {
   "cell_type": "markdown",
   "metadata": {},
   "source": [
    "### CopulaGAN <a class=\"anchor\" id=\"copula_eval2\"></a>"
   ]
  },
  {
   "cell_type": "code",
   "execution_count": 59,
   "metadata": {
    "ExecuteTime": {
     "end_time": "2021-07-28T07:36:21.715492Z",
     "start_time": "2021-07-28T07:35:06.243118Z"
    }
   },
   "outputs": [
    {
     "data": {
      "text/plain": [
       "0.5110820942595674"
      ]
     },
     "execution_count": 59,
     "metadata": {},
     "output_type": "execute_result"
    }
   ],
   "source": [
    "evaluate(cData2, dfen)"
   ]
  },
  {
   "cell_type": "code",
   "execution_count": 60,
   "metadata": {
    "ExecuteTime": {
     "end_time": "2021-07-28T07:37:52.111064Z",
     "start_time": "2021-07-28T07:36:21.718480Z"
    }
   },
   "outputs": [
    {
     "data": {
      "text/html": [
       "<div>\n",
       "<style scoped>\n",
       "    .dataframe tbody tr th:only-of-type {\n",
       "        vertical-align: middle;\n",
       "    }\n",
       "\n",
       "    .dataframe tbody tr th {\n",
       "        vertical-align: top;\n",
       "    }\n",
       "\n",
       "    .dataframe thead th {\n",
       "        text-align: right;\n",
       "    }\n",
       "</style>\n",
       "<table border=\"1\" class=\"dataframe\">\n",
       "  <thead>\n",
       "    <tr style=\"text-align: right;\">\n",
       "      <th></th>\n",
       "      <th>metric</th>\n",
       "      <th>name</th>\n",
       "      <th>raw_score</th>\n",
       "      <th>normalized_score</th>\n",
       "      <th>min_value</th>\n",
       "      <th>max_value</th>\n",
       "      <th>goal</th>\n",
       "    </tr>\n",
       "  </thead>\n",
       "  <tbody>\n",
       "    <tr>\n",
       "      <th>0</th>\n",
       "      <td>BNLogLikelihood</td>\n",
       "      <td>BayesianNetwork Log Likelihood</td>\n",
       "      <td>-1.008782e+01</td>\n",
       "      <td>0.000042</td>\n",
       "      <td>-inf</td>\n",
       "      <td>0.0</td>\n",
       "      <td>MAXIMIZE</td>\n",
       "    </tr>\n",
       "    <tr>\n",
       "      <th>1</th>\n",
       "      <td>LogisticDetection</td>\n",
       "      <td>LogisticRegression Detection</td>\n",
       "      <td>4.700525e-01</td>\n",
       "      <td>0.470052</td>\n",
       "      <td>0.0</td>\n",
       "      <td>1.0</td>\n",
       "      <td>MAXIMIZE</td>\n",
       "    </tr>\n",
       "    <tr>\n",
       "      <th>2</th>\n",
       "      <td>SVCDetection</td>\n",
       "      <td>SVC Detection</td>\n",
       "      <td>1.000000e+00</td>\n",
       "      <td>1.000000</td>\n",
       "      <td>0.0</td>\n",
       "      <td>1.0</td>\n",
       "      <td>MAXIMIZE</td>\n",
       "    </tr>\n",
       "    <tr>\n",
       "      <th>11</th>\n",
       "      <td>GMLogLikelihood</td>\n",
       "      <td>GaussianMixture Log Likelihood</td>\n",
       "      <td>-3.136880e+08</td>\n",
       "      <td>0.000000</td>\n",
       "      <td>-inf</td>\n",
       "      <td>inf</td>\n",
       "      <td>MAXIMIZE</td>\n",
       "    </tr>\n",
       "    <tr>\n",
       "      <th>12</th>\n",
       "      <td>CSTest</td>\n",
       "      <td>Chi-Squared</td>\n",
       "      <td>8.039081e-01</td>\n",
       "      <td>0.803908</td>\n",
       "      <td>0.0</td>\n",
       "      <td>1.0</td>\n",
       "      <td>MAXIMIZE</td>\n",
       "    </tr>\n",
       "    <tr>\n",
       "      <th>13</th>\n",
       "      <td>KSTest</td>\n",
       "      <td>Inverted Kolmogorov-Smirnov D statistic</td>\n",
       "      <td>6.979150e-01</td>\n",
       "      <td>0.697915</td>\n",
       "      <td>0.0</td>\n",
       "      <td>1.0</td>\n",
       "      <td>MAXIMIZE</td>\n",
       "    </tr>\n",
       "    <tr>\n",
       "      <th>14</th>\n",
       "      <td>KSTestExtended</td>\n",
       "      <td>Inverted Kolmogorov-Smirnov D statistic</td>\n",
       "      <td>7.400294e-01</td>\n",
       "      <td>0.740029</td>\n",
       "      <td>0.0</td>\n",
       "      <td>1.0</td>\n",
       "      <td>MAXIMIZE</td>\n",
       "    </tr>\n",
       "    <tr>\n",
       "      <th>27</th>\n",
       "      <td>ContinuousKLDivergence</td>\n",
       "      <td>Continuous Kullback–Leibler Divergence</td>\n",
       "      <td>7.177073e-01</td>\n",
       "      <td>0.717707</td>\n",
       "      <td>0.0</td>\n",
       "      <td>1.0</td>\n",
       "      <td>MAXIMIZE</td>\n",
       "    </tr>\n",
       "    <tr>\n",
       "      <th>28</th>\n",
       "      <td>DiscreteKLDivergence</td>\n",
       "      <td>Discrete Kullback–Leibler Divergence</td>\n",
       "      <td>4.499719e-01</td>\n",
       "      <td>0.449972</td>\n",
       "      <td>0.0</td>\n",
       "      <td>1.0</td>\n",
       "      <td>MAXIMIZE</td>\n",
       "    </tr>\n",
       "  </tbody>\n",
       "</table>\n",
       "</div>"
      ],
      "text/plain": [
       "                    metric                                     name  \\\n",
       "0          BNLogLikelihood           BayesianNetwork Log Likelihood   \n",
       "1        LogisticDetection             LogisticRegression Detection   \n",
       "2             SVCDetection                            SVC Detection   \n",
       "11         GMLogLikelihood           GaussianMixture Log Likelihood   \n",
       "12                  CSTest                              Chi-Squared   \n",
       "13                  KSTest  Inverted Kolmogorov-Smirnov D statistic   \n",
       "14          KSTestExtended  Inverted Kolmogorov-Smirnov D statistic   \n",
       "27  ContinuousKLDivergence   Continuous Kullback–Leibler Divergence   \n",
       "28    DiscreteKLDivergence     Discrete Kullback–Leibler Divergence   \n",
       "\n",
       "       raw_score  normalized_score  min_value  max_value      goal  \n",
       "0  -1.008782e+01          0.000042       -inf        0.0  MAXIMIZE  \n",
       "1   4.700525e-01          0.470052        0.0        1.0  MAXIMIZE  \n",
       "2   1.000000e+00          1.000000        0.0        1.0  MAXIMIZE  \n",
       "11 -3.136880e+08          0.000000       -inf        inf  MAXIMIZE  \n",
       "12  8.039081e-01          0.803908        0.0        1.0  MAXIMIZE  \n",
       "13  6.979150e-01          0.697915        0.0        1.0  MAXIMIZE  \n",
       "14  7.400294e-01          0.740029        0.0        1.0  MAXIMIZE  \n",
       "27  7.177073e-01          0.717707        0.0        1.0  MAXIMIZE  \n",
       "28  4.499719e-01          0.449972        0.0        1.0  MAXIMIZE  "
      ]
     },
     "execution_count": 60,
     "metadata": {},
     "output_type": "execute_result"
    }
   ],
   "source": [
    "evaluate(cData2, dfen, aggregate=False)"
   ]
  },
  {
   "cell_type": "markdown",
   "metadata": {},
   "source": [
    "### TVAE <a class=\"anchor\" id=\"TVAE_eval2\"></a>"
   ]
  },
  {
   "cell_type": "code",
   "execution_count": 61,
   "metadata": {
    "ExecuteTime": {
     "end_time": "2021-07-28T07:39:25.754151Z",
     "start_time": "2021-07-28T07:37:52.114067Z"
    }
   },
   "outputs": [
    {
     "data": {
      "text/plain": [
       "0.6191024064542601"
      ]
     },
     "execution_count": 61,
     "metadata": {},
     "output_type": "execute_result"
    }
   ],
   "source": [
    "evaluate(tData2, dfen)"
   ]
  },
  {
   "cell_type": "code",
   "execution_count": 62,
   "metadata": {
    "ExecuteTime": {
     "end_time": "2021-07-28T07:40:58.216826Z",
     "start_time": "2021-07-28T07:39:25.757153Z"
    }
   },
   "outputs": [
    {
     "data": {
      "text/html": [
       "<div>\n",
       "<style scoped>\n",
       "    .dataframe tbody tr th:only-of-type {\n",
       "        vertical-align: middle;\n",
       "    }\n",
       "\n",
       "    .dataframe tbody tr th {\n",
       "        vertical-align: top;\n",
       "    }\n",
       "\n",
       "    .dataframe thead th {\n",
       "        text-align: right;\n",
       "    }\n",
       "</style>\n",
       "<table border=\"1\" class=\"dataframe\">\n",
       "  <thead>\n",
       "    <tr style=\"text-align: right;\">\n",
       "      <th></th>\n",
       "      <th>metric</th>\n",
       "      <th>name</th>\n",
       "      <th>raw_score</th>\n",
       "      <th>normalized_score</th>\n",
       "      <th>min_value</th>\n",
       "      <th>max_value</th>\n",
       "      <th>goal</th>\n",
       "    </tr>\n",
       "  </thead>\n",
       "  <tbody>\n",
       "    <tr>\n",
       "      <th>0</th>\n",
       "      <td>BNLogLikelihood</td>\n",
       "      <td>BayesianNetwork Log Likelihood</td>\n",
       "      <td>-3.566080e+00</td>\n",
       "      <td>0.028266</td>\n",
       "      <td>-inf</td>\n",
       "      <td>0.0</td>\n",
       "      <td>MAXIMIZE</td>\n",
       "    </tr>\n",
       "    <tr>\n",
       "      <th>1</th>\n",
       "      <td>LogisticDetection</td>\n",
       "      <td>LogisticRegression Detection</td>\n",
       "      <td>3.581210e-01</td>\n",
       "      <td>0.358121</td>\n",
       "      <td>0.0</td>\n",
       "      <td>1.0</td>\n",
       "      <td>MAXIMIZE</td>\n",
       "    </tr>\n",
       "    <tr>\n",
       "      <th>2</th>\n",
       "      <td>SVCDetection</td>\n",
       "      <td>SVC Detection</td>\n",
       "      <td>8.895365e-01</td>\n",
       "      <td>0.889537</td>\n",
       "      <td>0.0</td>\n",
       "      <td>1.0</td>\n",
       "      <td>MAXIMIZE</td>\n",
       "    </tr>\n",
       "    <tr>\n",
       "      <th>11</th>\n",
       "      <td>GMLogLikelihood</td>\n",
       "      <td>GaussianMixture Log Likelihood</td>\n",
       "      <td>-1.876391e+07</td>\n",
       "      <td>0.000000</td>\n",
       "      <td>-inf</td>\n",
       "      <td>inf</td>\n",
       "      <td>MAXIMIZE</td>\n",
       "    </tr>\n",
       "    <tr>\n",
       "      <th>12</th>\n",
       "      <td>CSTest</td>\n",
       "      <td>Chi-Squared</td>\n",
       "      <td>9.824874e-01</td>\n",
       "      <td>0.982487</td>\n",
       "      <td>0.0</td>\n",
       "      <td>1.0</td>\n",
       "      <td>MAXIMIZE</td>\n",
       "    </tr>\n",
       "    <tr>\n",
       "      <th>13</th>\n",
       "      <td>KSTest</td>\n",
       "      <td>Inverted Kolmogorov-Smirnov D statistic</td>\n",
       "      <td>7.366710e-01</td>\n",
       "      <td>0.736671</td>\n",
       "      <td>0.0</td>\n",
       "      <td>1.0</td>\n",
       "      <td>MAXIMIZE</td>\n",
       "    </tr>\n",
       "    <tr>\n",
       "      <th>14</th>\n",
       "      <td>KSTestExtended</td>\n",
       "      <td>Inverted Kolmogorov-Smirnov D statistic</td>\n",
       "      <td>8.171030e-01</td>\n",
       "      <td>0.817103</td>\n",
       "      <td>0.0</td>\n",
       "      <td>1.0</td>\n",
       "      <td>MAXIMIZE</td>\n",
       "    </tr>\n",
       "    <tr>\n",
       "      <th>27</th>\n",
       "      <td>ContinuousKLDivergence</td>\n",
       "      <td>Continuous Kullback–Leibler Divergence</td>\n",
       "      <td>8.429204e-01</td>\n",
       "      <td>0.842920</td>\n",
       "      <td>0.0</td>\n",
       "      <td>1.0</td>\n",
       "      <td>MAXIMIZE</td>\n",
       "    </tr>\n",
       "    <tr>\n",
       "      <th>28</th>\n",
       "      <td>DiscreteKLDivergence</td>\n",
       "      <td>Discrete Kullback–Leibler Divergence</td>\n",
       "      <td>8.532216e-01</td>\n",
       "      <td>0.853222</td>\n",
       "      <td>0.0</td>\n",
       "      <td>1.0</td>\n",
       "      <td>MAXIMIZE</td>\n",
       "    </tr>\n",
       "  </tbody>\n",
       "</table>\n",
       "</div>"
      ],
      "text/plain": [
       "                    metric                                     name  \\\n",
       "0          BNLogLikelihood           BayesianNetwork Log Likelihood   \n",
       "1        LogisticDetection             LogisticRegression Detection   \n",
       "2             SVCDetection                            SVC Detection   \n",
       "11         GMLogLikelihood           GaussianMixture Log Likelihood   \n",
       "12                  CSTest                              Chi-Squared   \n",
       "13                  KSTest  Inverted Kolmogorov-Smirnov D statistic   \n",
       "14          KSTestExtended  Inverted Kolmogorov-Smirnov D statistic   \n",
       "27  ContinuousKLDivergence   Continuous Kullback–Leibler Divergence   \n",
       "28    DiscreteKLDivergence     Discrete Kullback–Leibler Divergence   \n",
       "\n",
       "       raw_score  normalized_score  min_value  max_value      goal  \n",
       "0  -3.566080e+00          0.028266       -inf        0.0  MAXIMIZE  \n",
       "1   3.581210e-01          0.358121        0.0        1.0  MAXIMIZE  \n",
       "2   8.895365e-01          0.889537        0.0        1.0  MAXIMIZE  \n",
       "11 -1.876391e+07          0.000000       -inf        inf  MAXIMIZE  \n",
       "12  9.824874e-01          0.982487        0.0        1.0  MAXIMIZE  \n",
       "13  7.366710e-01          0.736671        0.0        1.0  MAXIMIZE  \n",
       "14  8.171030e-01          0.817103        0.0        1.0  MAXIMIZE  \n",
       "27  8.429204e-01          0.842920        0.0        1.0  MAXIMIZE  \n",
       "28  8.532216e-01          0.853222        0.0        1.0  MAXIMIZE  "
      ]
     },
     "execution_count": 62,
     "metadata": {},
     "output_type": "execute_result"
    }
   ],
   "source": [
    "evaluate(tData2, dfen, aggregate=False)"
   ]
  },
  {
   "cell_type": "markdown",
   "metadata": {},
   "source": [
    "## Saving data"
   ]
  },
  {
   "cell_type": "code",
   "execution_count": 63,
   "metadata": {
    "ExecuteTime": {
     "end_time": "2021-07-28T07:40:58.264821Z",
     "start_time": "2021-07-28T07:40:58.219805Z"
    }
   },
   "outputs": [],
   "source": [
    "G_json = gData2.to_json(orient=\"values\")\n",
    "file = open('data/generated/gaussian_enriched.json', 'w')\n",
    "file.write(G_json)\n",
    "file.close()"
   ]
  },
  {
   "cell_type": "code",
   "execution_count": 64,
   "metadata": {
    "ExecuteTime": {
     "end_time": "2021-07-28T07:40:58.327246Z",
     "start_time": "2021-07-28T07:40:58.266803Z"
    }
   },
   "outputs": [],
   "source": [
    "ct_json = ctData2.to_json(orient=\"values\")\n",
    "file = open('data/generated/ctgan_enriched.json', 'w')\n",
    "file.write(ct_json)\n",
    "file.close()"
   ]
  },
  {
   "cell_type": "code",
   "execution_count": 65,
   "metadata": {
    "ExecuteTime": {
     "end_time": "2021-07-28T07:40:58.390583Z",
     "start_time": "2021-07-28T07:40:58.328820Z"
    }
   },
   "outputs": [],
   "source": [
    "c_json = cData2.to_json(orient=\"values\")\n",
    "file = open('data/generated/copula_enriched.json', 'w')\n",
    "file.write(c_json)\n",
    "file.close()"
   ]
  },
  {
   "cell_type": "code",
   "execution_count": 66,
   "metadata": {
    "ExecuteTime": {
     "end_time": "2021-07-28T07:40:58.438710Z",
     "start_time": "2021-07-28T07:40:58.392703Z"
    }
   },
   "outputs": [],
   "source": [
    "t_json = tData2.to_json(orient=\"values\")\n",
    "file = open('data/generated/tvae_enriched.json', 'w')\n",
    "file.write(t_json)\n",
    "file.close()"
   ]
  },
  {
   "cell_type": "code",
   "execution_count": null,
   "metadata": {},
   "outputs": [],
   "source": []
  }
 ],
 "metadata": {
  "hide_input": false,
  "kernelspec": {
   "display_name": "Python 3 (ipykernel)",
   "language": "python",
   "name": "python3"
  },
  "language_info": {
   "codemirror_mode": {
    "name": "ipython",
    "version": 3
   },
   "file_extension": ".py",
   "mimetype": "text/x-python",
   "name": "python",
   "nbconvert_exporter": "python",
   "pygments_lexer": "ipython3",
   "version": "3.8.3"
  },
  "nbTranslate": {
   "displayLangs": [
    "*"
   ],
   "hotkey": "alt-t",
   "langInMainMenu": true,
   "sourceLang": "en",
   "targetLang": "fr",
   "useGoogleTranslate": true
  },
  "toc": {
   "base_numbering": 1,
   "nav_menu": {},
   "number_sections": true,
   "sideBar": true,
   "skip_h1_title": false,
   "title_cell": "Table of Contents",
   "title_sidebar": "Contents",
   "toc_cell": true,
   "toc_position": {
    "height": "759px",
    "left": "22px",
    "top": "66px",
    "width": "291.281px"
   },
   "toc_section_display": true,
   "toc_window_display": true
  }
 },
 "nbformat": 4,
 "nbformat_minor": 4
}
