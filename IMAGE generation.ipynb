{
 "cells": [
  {
   "cell_type": "markdown",
   "id": "b7e3a931",
   "metadata": {},
   "source": [
    "# Description\n",
    "\n",
    "This notebook will look at a rudimentary way of generating images using stock images of classes observed by the Raspberry Pi and an associated json annotation for the object perceived and it's location. The PIL library has a lot of useful functions which can refine this notebook but this is just a quick look."
   ]
  },
  {
   "cell_type": "markdown",
   "id": "4cded41e",
   "metadata": {},
   "source": [
    "**Imports**"
   ]
  },
  {
   "cell_type": "code",
   "execution_count": 2,
   "id": "7934a379",
   "metadata": {
    "ExecuteTime": {
     "end_time": "2021-07-23T08:05:07.761204Z",
     "start_time": "2021-07-23T08:05:02.143043Z"
    }
   },
   "outputs": [],
   "source": [
    "from PIL import Image\n",
    "from random import randint\n",
    "import pandas as pd\n",
    "import requests\n",
    "from io import BytesIO\n",
    "import zipfile\n",
    "import numpy as np\n",
    "import yapf\n",
    "from io import BytesIO"
   ]
  },
  {
   "cell_type": "markdown",
   "id": "1b29dd84",
   "metadata": {},
   "source": [
    "# Loading dataset"
   ]
  },
  {
   "cell_type": "code",
   "execution_count": 3,
   "id": "8ec207b6",
   "metadata": {
    "ExecuteTime": {
     "end_time": "2021-07-23T08:05:07.825205Z",
     "start_time": "2021-07-23T08:05:07.764207Z"
    }
   },
   "outputs": [
    {
     "data": {
      "text/html": [
       "<div>\n",
       "<style scoped>\n",
       "    .dataframe tbody tr th:only-of-type {\n",
       "        vertical-align: middle;\n",
       "    }\n",
       "\n",
       "    .dataframe tbody tr th {\n",
       "        vertical-align: top;\n",
       "    }\n",
       "\n",
       "    .dataframe thead th {\n",
       "        text-align: right;\n",
       "    }\n",
       "</style>\n",
       "<table border=\"1\" class=\"dataframe\">\n",
       "  <thead>\n",
       "    <tr style=\"text-align: right;\">\n",
       "      <th></th>\n",
       "      <th>types</th>\n",
       "      <th>classes</th>\n",
       "      <th>scores</th>\n",
       "      <th>x1</th>\n",
       "      <th>y1</th>\n",
       "      <th>x2</th>\n",
       "      <th>y2</th>\n",
       "    </tr>\n",
       "  </thead>\n",
       "  <tbody>\n",
       "    <tr>\n",
       "      <th>0</th>\n",
       "      <td>c</td>\n",
       "      <td>person</td>\n",
       "      <td>0.522133</td>\n",
       "      <td>0.575799</td>\n",
       "      <td>0.700929</td>\n",
       "      <td>0.622501</td>\n",
       "      <td>0.908469</td>\n",
       "    </tr>\n",
       "    <tr>\n",
       "      <th>1</th>\n",
       "      <td>c</td>\n",
       "      <td>couch</td>\n",
       "      <td>0.571273</td>\n",
       "      <td>0.455880</td>\n",
       "      <td>0.404786</td>\n",
       "      <td>0.877082</td>\n",
       "      <td>0.783824</td>\n",
       "    </tr>\n",
       "    <tr>\n",
       "      <th>2</th>\n",
       "      <td>c</td>\n",
       "      <td>couch</td>\n",
       "      <td>0.537385</td>\n",
       "      <td>0.503401</td>\n",
       "      <td>0.041081</td>\n",
       "      <td>0.712458</td>\n",
       "      <td>0.370436</td>\n",
       "    </tr>\n",
       "    <tr>\n",
       "      <th>3</th>\n",
       "      <td>c</td>\n",
       "      <td>chair</td>\n",
       "      <td>0.611639</td>\n",
       "      <td>0.478243</td>\n",
       "      <td>0.563103</td>\n",
       "      <td>0.640052</td>\n",
       "      <td>0.664028</td>\n",
       "    </tr>\n",
       "    <tr>\n",
       "      <th>4</th>\n",
       "      <td>c</td>\n",
       "      <td>person</td>\n",
       "      <td>0.521420</td>\n",
       "      <td>0.327983</td>\n",
       "      <td>0.241282</td>\n",
       "      <td>0.633186</td>\n",
       "      <td>0.244069</td>\n",
       "    </tr>\n",
       "  </tbody>\n",
       "</table>\n",
       "</div>"
      ],
      "text/plain": [
       "  types classes    scores        x1        y1        x2        y2\n",
       "0     c  person  0.522133  0.575799  0.700929  0.622501  0.908469\n",
       "1     c   couch  0.571273  0.455880  0.404786  0.877082  0.783824\n",
       "2     c   couch  0.537385  0.503401  0.041081  0.712458  0.370436\n",
       "3     c   chair  0.611639  0.478243  0.563103  0.640052  0.664028\n",
       "4     c  person  0.521420  0.327983  0.241282  0.633186  0.244069"
      ]
     },
     "execution_count": 3,
     "metadata": {},
     "output_type": "execute_result"
    }
   ],
   "source": [
    "# Generated using gaussian copula trained on original telemetric dataset\n",
    "dftele = pd.read_json('./data/generated/telemetric_for_image.json')\n",
    "dftele.columns = ['types', 'classes', 'scores', 'x1', 'y1', 'x2', 'y2']\n",
    "dftele.head()"
   ]
  },
  {
   "cell_type": "code",
   "execution_count": 4,
   "id": "1ceb0266",
   "metadata": {
    "ExecuteTime": {
     "end_time": "2021-07-23T08:05:10.461014Z",
     "start_time": "2021-07-23T08:05:10.445336Z"
    }
   },
   "outputs": [
    {
     "data": {
      "text/html": [
       "<div>\n",
       "<style scoped>\n",
       "    .dataframe tbody tr th:only-of-type {\n",
       "        vertical-align: middle;\n",
       "    }\n",
       "\n",
       "    .dataframe tbody tr th {\n",
       "        vertical-align: top;\n",
       "    }\n",
       "\n",
       "    .dataframe thead th {\n",
       "        text-align: right;\n",
       "    }\n",
       "</style>\n",
       "<table border=\"1\" class=\"dataframe\">\n",
       "  <thead>\n",
       "    <tr style=\"text-align: right;\">\n",
       "      <th></th>\n",
       "      <th>classes</th>\n",
       "      <th>x1</th>\n",
       "      <th>y1</th>\n",
       "      <th>x2</th>\n",
       "      <th>y2</th>\n",
       "    </tr>\n",
       "  </thead>\n",
       "  <tbody>\n",
       "    <tr>\n",
       "      <th>0</th>\n",
       "      <td>person</td>\n",
       "      <td>0.575799</td>\n",
       "      <td>0.700929</td>\n",
       "      <td>0.622501</td>\n",
       "      <td>0.908469</td>\n",
       "    </tr>\n",
       "    <tr>\n",
       "      <th>1</th>\n",
       "      <td>couch</td>\n",
       "      <td>0.455880</td>\n",
       "      <td>0.404786</td>\n",
       "      <td>0.877082</td>\n",
       "      <td>0.783824</td>\n",
       "    </tr>\n",
       "    <tr>\n",
       "      <th>2</th>\n",
       "      <td>couch</td>\n",
       "      <td>0.503401</td>\n",
       "      <td>0.041081</td>\n",
       "      <td>0.712458</td>\n",
       "      <td>0.370436</td>\n",
       "    </tr>\n",
       "    <tr>\n",
       "      <th>3</th>\n",
       "      <td>chair</td>\n",
       "      <td>0.478243</td>\n",
       "      <td>0.563103</td>\n",
       "      <td>0.640052</td>\n",
       "      <td>0.664028</td>\n",
       "    </tr>\n",
       "    <tr>\n",
       "      <th>4</th>\n",
       "      <td>person</td>\n",
       "      <td>0.327983</td>\n",
       "      <td>0.241282</td>\n",
       "      <td>0.633186</td>\n",
       "      <td>0.244069</td>\n",
       "    </tr>\n",
       "  </tbody>\n",
       "</table>\n",
       "</div>"
      ],
      "text/plain": [
       "  classes        x1        y1        x2        y2\n",
       "0  person  0.575799  0.700929  0.622501  0.908469\n",
       "1   couch  0.455880  0.404786  0.877082  0.783824\n",
       "2   couch  0.503401  0.041081  0.712458  0.370436\n",
       "3   chair  0.478243  0.563103  0.640052  0.664028\n",
       "4  person  0.327983  0.241282  0.633186  0.244069"
      ]
     },
     "execution_count": 4,
     "metadata": {},
     "output_type": "execute_result"
    }
   ],
   "source": [
    "dftele = dftele[['classes', 'x1', 'y1', 'x2', 'y2']] # Selecting important features\n",
    "dftele.head()"
   ]
  },
  {
   "cell_type": "code",
   "execution_count": 5,
   "id": "f8ef8fac",
   "metadata": {
    "ExecuteTime": {
     "end_time": "2021-07-23T08:05:11.072138Z",
     "start_time": "2021-07-23T08:05:11.055128Z"
    }
   },
   "outputs": [
    {
     "data": {
      "text/plain": [
       "chair     321\n",
       "couch     291\n",
       "person    195\n",
       "tv        155\n",
       "laptop     29\n",
       "tie         9\n",
       "Name: classes, dtype: int64"
      ]
     },
     "execution_count": 5,
     "metadata": {},
     "output_type": "execute_result"
    }
   ],
   "source": [
    "dftele.classes.value_counts()"
   ]
  },
  {
   "cell_type": "markdown",
   "id": "934768f0",
   "metadata": {},
   "source": [
    "# Loading images\n",
    "These are stock images with one image for each class but if required each class could have a list of images all which could describe the colour and shape of the object too to generate randomly assorted images"
   ]
  },
  {
   "cell_type": "code",
   "execution_count": 82,
   "id": "f4832b29",
   "metadata": {
    "ExecuteTime": {
     "end_time": "2021-07-22T11:08:10.792948Z",
     "start_time": "2021-07-22T11:08:10.731154Z"
    }
   },
   "outputs": [],
   "source": [
    "couch = Image.open('./data/objects/couch.png').convert('RGBA')\n",
    "tv = Image.open('./data/objects/tv.png').convert('RGBA')\n",
    "person = Image.open('./data/objects/person.jfif').convert('RGBA')\n",
    "chair = Image.open('./data/objects/chair.png').convert('RGBA')\n",
    "car = Image.open('./data/objects/car.png').convert('RGBA')\n",
    "laptop = Image.open('./data/objects/laptop.png').convert('RGBA')\n",
    "tie = Image.open('./data/objects/tie.png').convert('RGBA')\n",
    "\n",
    "images = [couch, tv, person, chair, car, laptop, tie]"
   ]
  },
  {
   "cell_type": "code",
   "execution_count": 83,
   "id": "8539d411",
   "metadata": {
    "ExecuteTime": {
     "end_time": "2021-07-22T11:08:18.612869Z",
     "start_time": "2021-07-22T11:08:18.602870Z"
    }
   },
   "outputs": [],
   "source": [
    "background = Image.open('./data/objects/white_background.jfif').convert('RGBA')\n",
    "background = background.resize((256, 256), resample=PIL.Image.LANCZOS)"
   ]
  },
  {
   "cell_type": "markdown",
   "id": "8dfda3d5",
   "metadata": {},
   "source": [
    "# Generating images "
   ]
  },
  {
   "cell_type": "code",
   "execution_count": 50,
   "id": "d1eb947a",
   "metadata": {
    "ExecuteTime": {
     "end_time": "2021-07-22T10:32:47.948968Z",
     "start_time": "2021-07-22T10:32:47.934970Z"
    }
   },
   "outputs": [],
   "source": [
    "# This can be used to keep images in their original aspect. However, given we have boxes indicating where the object should \n",
    "# be I decided to fill the entire box with each object\n",
    "aspects = [image.width / image.height for image in images]"
   ]
  },
  {
   "cell_type": "code",
   "execution_count": 51,
   "id": "ffe944c8",
   "metadata": {
    "ExecuteTime": {
     "end_time": "2021-07-22T10:32:47.964970Z",
     "start_time": "2021-07-22T10:32:47.951968Z"
    }
   },
   "outputs": [],
   "source": [
    "dispatcher = {\n",
    "    'couch': couch,\n",
    "    'tv': tv,\n",
    "    'person': person,\n",
    "    'car': car,\n",
    "    'laptop': laptop,\n",
    "    'tv': tv,\n",
    "    'chair': chair,\n",
    "    'tie' : tie\n",
    "} # Allows objects to be used from strings"
   ]
  },
  {
   "cell_type": "code",
   "execution_count": 78,
   "id": "1b923541",
   "metadata": {
    "ExecuteTime": {
     "end_time": "2021-07-22T11:05:24.521850Z",
     "start_time": "2021-07-22T11:05:24.507848Z"
    }
   },
   "outputs": [],
   "source": [
    "def renderer(dataframe, back, zip_name):\n",
    "    # Initializing the file\n",
    "    OFFSET = 1\n",
    "    z = zipfile.ZipFile(f'./data/generated/{zip_name}.zip', 'w',\n",
    "                        zipfile.ZIP_DEFLATED)\n",
    "    \n",
    "    for i in range(dataframe.classes.size):\n",
    "        render_img = back.copy() # Ensuring background does not get clutured\n",
    "        \n",
    "        # to keep aspect the same for the pictures changes these lines\n",
    "        w = int(abs(dataframe.loc[i].x2 - abs(dataframe.loc[i].x1)) * 256)\n",
    "        if w == 0: w += 1 # to ensure non 0 values\n",
    "        h = int(abs(dataframe.loc[i].y2 - abs(dataframe.loc[i].y1)) * 256)\n",
    "        if h == 0: h += 1\n",
    "\n",
    "        item = dispatcher[dataframe.loc[i].classes].resize(\n",
    "            (w, h), resample=PIL.Image.LANCZOS) # Rezises images\n",
    "\n",
    "        # Finds x and y coordinate of boxes\n",
    "        x = int(((dataframe.loc[i].x1 + dataframe.loc[i].x2) / 2) * 256) \n",
    "        y = int(((dataframe.loc[i].y1 + dataframe.loc[i].y2) / 2) * 256)\n",
    "\n",
    "        render_img.paste(item, (x, y), item) # pastes image onto background\n",
    "\n",
    "        # Saves new image\n",
    "        image_file = BytesIO()\n",
    "        render_img.save(image_file, 'PNG')\n",
    "        z.writestr(f'objects-{i+OFFSET}.png', image_file.getvalue())\n",
    "    z.writestr('master.json', dataframe.to_json())\n",
    "    z.close()\n",
    "    print(\"done\")\n",
    "    return None"
   ]
  },
  {
   "cell_type": "code",
   "execution_count": 80,
   "id": "09293ec1",
   "metadata": {
    "ExecuteTime": {
     "end_time": "2021-07-22T11:07:01.568566Z",
     "start_time": "2021-07-22T11:06:29.962760Z"
    }
   },
   "outputs": [
    {
     "name": "stdout",
     "output_type": "stream",
     "text": [
      "done\n"
     ]
    }
   ],
   "source": [
    "a = renderer(dftele, background, 'Complete')"
   ]
  },
  {
   "cell_type": "code",
   "execution_count": null,
   "id": "d915dd92",
   "metadata": {},
   "outputs": [],
   "source": []
  }
 ],
 "metadata": {
  "kernelspec": {
   "display_name": "Python 3 (ipykernel)",
   "language": "python",
   "name": "python3"
  },
  "language_info": {
   "codemirror_mode": {
    "name": "ipython",
    "version": 3
   },
   "file_extension": ".py",
   "mimetype": "text/x-python",
   "name": "python",
   "nbconvert_exporter": "python",
   "pygments_lexer": "ipython3",
   "version": "3.8.3"
  },
  "nbTranslate": {
   "displayLangs": [
    "*"
   ],
   "hotkey": "alt-t",
   "langInMainMenu": true,
   "sourceLang": "en",
   "targetLang": "fr",
   "useGoogleTranslate": true
  },
  "toc": {
   "base_numbering": 1,
   "nav_menu": {},
   "number_sections": true,
   "sideBar": true,
   "skip_h1_title": false,
   "title_cell": "Table of Contents",
   "title_sidebar": "Contents",
   "toc_cell": false,
   "toc_position": {},
   "toc_section_display": true,
   "toc_window_display": false
  }
 },
 "nbformat": 4,
 "nbformat_minor": 5
}
