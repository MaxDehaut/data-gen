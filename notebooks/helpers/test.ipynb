{
 "cells": [
  {
   "cell_type": "markdown",
   "id": "a5a9c2e0",
   "metadata": {},
   "source": [
    "# TEST - DATA Generator\n",
    "This notebook initialises functions which can be used for generation of independent data. The other powerful methods in this repo generate synthetic data based on an already existing dataset. This notebook includes functions which take in user inputs which could easily be ported into an app and by simply using different prompts, a lot of features could be added.\n",
    "\n",
    "Types of data, features and how to randomize choosing them:\n",
    "\n",
    "* Integer: min/max, distribution, specific probabilities (weighted random)\n",
    "* Float: min/max, distribution, specific probabilities (weighted random)\n",
    "* categorical (types) : specific probabilities (weighted random), pseudo random (coin toss)\n",
    "* dates/timestamps: start date/end date, amount per day, amount at specific times\n",
    "* Boolean : specific probabilities (weighted random), pseudo random (coin toss)\n",
    "\n",
    "## Imports & Configuration"
   ]
  },
  {
   "cell_type": "code",
   "execution_count": 1,
   "id": "92b8047b",
   "metadata": {
    "ExecuteTime": {
     "end_time": "2021-07-23T08:16:10.641418Z",
     "start_time": "2021-07-23T08:16:10.016395Z"
    }
   },
   "outputs": [],
   "source": [
    "# Imports\n",
    "import warnings # Must be first\n",
    "\n",
    "import pandas as pd\n",
    "import numpy as np\n",
    "\n",
    "from datetime import datetime\n",
    "from CastConverter import *\n",
    "from DataGenerator import DatasetGenerator, DatetimeGenerator, GanGenerator, NumberGenerator\n",
    "\n",
    "# Configuration\n",
    "field_name = 'numbers'\n",
    "size = 3\n",
    "dg = DatasetGenerator()\n",
    "nr = NumberGenerator()\n",
    "dtr = DatetimeGenerator()\n",
    "gg = GanGenerator()"
   ]
  },
  {
   "cell_type": "markdown",
   "id": "b81ec4c4",
   "metadata": {},
   "source": [
    "## Numbers creation\n",
    "\n",
    "### 1. Number"
   ]
  },
  {
   "cell_type": "code",
   "execution_count": null,
   "id": "1bbae60a",
   "metadata": {},
   "outputs": [],
   "source": [
    "#params = { 'df': 1 }\n",
    "#numbers = nr.get_numbers(distribution=NumberGenerator.Distribution.CHISQUARE,\n",
    "#                            size=3,\n",
    "#                            params=params)\n",
    "\n",
    "#params = { 'scale': 1 }\n",
    "#numbers = nr.get_numbers(distribution=NumberGenerator.Distribution.EXPONENTIAL,\n",
    "#                            size=3,\n",
    "#                            params=params)\n",
    "\n",
    "#params = { 'shape': 1.99 }\n",
    "#numbers = nr.get_numbers(distribution=NumberGenerator.Distribution.GAMMA,\n",
    "#                            size=3,\n",
    "#                            params=params)\n",
    "\n",
    "#params = { 'mu': 0, 'beta': 0.1 }\n",
    "#numbers = nr.get_numbers(distribution=NumberGenerator.Distribution.GUMBEL,\n",
    "#                            size=size,\n",
    "#                            params=params)\n",
    "\n",
    "#params = { 'loc': 0, 'scale': 1 }\n",
    "#numbers = nr.get_numbers(distribution=NumberGenerator.Distribution.LAPLACE,\n",
    "#                            size=size,\n",
    "#                            params=params)\n",
    "\n",
    "#params = { 'loc': 0, 'scale': 0.1 }\n",
    "#numbers = nr.get_numbers(distribution=NumberGenerator.Distribution.LOGISTIC,\n",
    "#                            size=size,\n",
    "#                            params=params)\n",
    "\n",
    "#params = { 'df': 3, 'nonc': 20 }\n",
    "#numbers = nr.get_numbers(distribution=NumberGenerator.Distribution.NONCENTRALCHISQUARE,\n",
    "#                            size=size,\n",
    "#                            params=params)\n",
    "\n",
    "#params = { 'dfnum': 3, 'dfden': 20, 'nonc': 3 }\n",
    "#numbers = nr.get_numbers(distribution=NumberGenerator.Distribution.NONCENTRALF,\n",
    "#                            size=size,\n",
    "#                            params=params)\n",
    "\n",
    "#params = { 'mean': 10, 'std': 5 }\n",
    "#numbers = nr.get_numbers(distribution=NumberGenerator.Distribution.NORMAL,\n",
    "#                            size=size,\n",
    "#                            params=params)\n",
    "\n",
    "#params = { 'shape': 3 }\n",
    "#numbers = nr.get_numbers(distribution=NumberGenerator.Distribution.PARETO,\n",
    "#                            size=size,\n",
    "#                            params=params)\n",
    "\n",
    "#params = { 'lam': 5 }\n",
    "#numbers = nr.get_numbers(distribution=NumberGenerator.Distribution.POISSON,\n",
    "#                            size=size,\n",
    "#                            params=params)\n",
    "\n",
    "#params = { 'a': 5 }\n",
    "#numbers = nr.get_numbers(distribution=NumberGenerator.Distribution.POWER,\n",
    "#                            size=size,\n",
    "#                            params=params)\n",
    "\n",
    "#params = { 'scale': 1.1 }\n",
    "#numbers = nr.get_numbers(distribution=NumberGenerator.Distribution.RAYLEIGH,\n",
    "#                            size=size,\n",
    "#                            params=params)\n",
    "\n",
    "#params = { 'df': 5 }\n",
    "#numbers = nr.get_numbers(distribution=NumberGenerator.Distribution.STDT,\n",
    "#                            size=size,\n",
    "#                            params=params)\n",
    "\n",
    "#params = { 'left': -5, 'mode': 0, 'right': 5 }\n",
    "#numbers = nr.get_numbers(distribution=NumberGenerator.Distribution.TRIANGULAR,\n",
    "#                            size=size,\n",
    "#                            params=params)\n",
    "\n",
    "#params = { 'min': 0, 'max': 1 }\n",
    "#numbers = nr.get_numbers(distribution=NumberGenerator.Distribution.UNIFORM,\n",
    "#                            size=size,\n",
    "#                            params=params)\n",
    "\n",
    "#params = { 'mu': 0, 'kappa': 4 }\n",
    "#numbers = nr.get_numbers(distribution=NumberGenerator.Distribution.VONMISES,\n",
    "#                            size=size,\n",
    "#                            params=params)\n",
    "\n",
    "#params = { 'mean': 3, 'scale': 2 }\n",
    "#numbers = nr.get_numbers(distribution=NumberGenerator.Distribution.WALD,\n",
    "#                            size=size,\n",
    "#                            params=params)\n",
    "\n",
    "#params = { 'shape': 5 }\n",
    "#numbers = nr.get_numbers(distribution=NumberGenerator.Distribution.WEIBULL,\n",
    "#                            size=size,\n",
    "#                            params=params)\n",
    "\n",
    "#params = { 'a': 5, 'weights': [0.1, 0, 0.3, 0.6, 0] }\n",
    "#numbers = nr.get_numbers(distribution=NumberGenerator.Distribution.WEIGHTED,\n",
    "#                            size=size,\n",
    "#                            params=params)\n",
    "\n",
    "#params = { 'a': 4 }\n",
    "#numbers = nr.get_numbers(distribution=NumberGenerator.Distribution.ZIPF,\n",
    "#                            size=size,\n",
    "#                            params=params)\n",
    "\n",
    "#numbers"
   ]
  },
  {
   "cell_type": "markdown",
   "id": "8e266e2f",
   "metadata": {},
   "source": [
    "### 2. Number - Complete example"
   ]
  },
  {
   "cell_type": "code",
   "execution_count": 3,
   "id": "d0fb303e",
   "metadata": {},
   "outputs": [],
   "source": [
    "# Calls the Generator outputting a pandas df of type int\n",
    "params = { 'mean':10, 'std':5, 'min':0, 'max':20 }\n",
    "\n",
    "numbers = nr.get_numbers(distribution=NumberGenerator.Distribution.NORMAL,\n",
    "                            size=size,\n",
    "                            params=params)\n",
    "# Convert floats to integers if required\n",
    "int_array = convert_floats_to_ints(numbers)\n",
    "# Insert a new column into a dataframe\n",
    "dfNumbers = pd.DataFrame(data=int_array, columns=[field_name])\n",
    "\n",
    "# Cleaning\n",
    "del dfNumbers, int_array, numbers"
   ]
  },
  {
   "cell_type": "markdown",
   "id": "31ed05de",
   "metadata": {},
   "source": [
    "### 3. Categorical"
   ]
  },
  {
   "cell_type": "code",
   "execution_count": null,
   "id": "d54e0dff",
   "metadata": {
    "ExecuteTime": {
     "end_time": "2021-07-23T09:21:57.897375Z",
     "start_time": "2021-07-23T09:21:57.888376Z"
    },
    "code_folding": []
   },
   "outputs": [],
   "source": [
    "# Calls the Generator or randomizes without distribution outputting a pandas df for categorical data\n",
    "params = { 'a': 5, 'weights': [0.1, 0.1, 0.3, 0.4, 0.1] }\n",
    "categories = nr.get_numbers(distribution=NumberGenerator.Distribution.WEIGHTED,\n",
    "                            size=10,\n",
    "                            params=params)\n",
    "\n",
    "# Convert floats to integers if required\n",
    "int_categories = convert_floats_to_ints(categories)\n",
    "int_categories"
   ]
  },
  {
   "cell_type": "markdown",
   "id": "775c04c7",
   "metadata": {},
   "source": [
    "### 4. Boolean"
   ]
  },
  {
   "cell_type": "code",
   "execution_count": null,
   "id": "4caece16",
   "metadata": {},
   "outputs": [],
   "source": [
    "# \n",
    "params = { 'a': [True, False], 'weights': [0.5, 0.5] }\n",
    "categories = nr.get_numbers(distribution=NumberGenerator.Distribution.WEIGHTED,\n",
    "                            size=10,\n",
    "                            params=params)\n",
    "\n",
    "# Convert floats to integers if required\n",
    "int_categories = convert_floats_to_ints(categories)\n",
    "int_categories"
   ]
  },
  {
   "cell_type": "markdown",
   "id": "45fe31d4",
   "metadata": {},
   "source": [
    "### 5. Timestamp"
   ]
  },
  {
   "cell_type": "code",
   "execution_count": null,
   "id": "aa27983f",
   "metadata": {},
   "outputs": [],
   "source": [
    "params = { 'start': '1/1/2024', 'end': '1/11/2024', 'periods': 4, 'freq': None }\n",
    "#params = { 'start': '1/1/2024', 'end': None, 'periods': 4, 'freq': \"D\" }\n",
    "\n",
    "values = dtr.get_timestamps(\"tstamp\", params)\n",
    "values = dtr.get_timestamps_pd(\"tstamp\", params)\n",
    "values"
   ]
  },
  {
   "cell_type": "markdown",
   "id": "278c7e4f",
   "metadata": {},
   "source": [
    "## Dataframe Creation\n",
    "\n",
    "### 1. \"Manual\" example"
   ]
  },
  {
   "cell_type": "code",
   "execution_count": null,
   "id": "f00a8d6d",
   "metadata": {
    "ExecuteTime": {
     "end_time": "2021-07-26T11:07:45.281813Z",
     "start_time": "2021-07-26T11:07:45.052773Z"
    },
    "code_folding": [],
    "deletable": false,
    "editable": false,
    "run_control": {
     "frozen": true
    }
   },
   "outputs": [],
   "source": [
    "size = 100\n",
    "params = { 'a': 5,\n",
    "          'end': '1/11/2024',\n",
    "          'freq': None,\n",
    "          'mean': 10,\n",
    "          'periods': size,\n",
    "          'start': '1/1/2024',\n",
    "          'std': 5,\n",
    "          'weights': [0.1, 0.1, 0.3, 0.4, 0.1]\n",
    "          }\n",
    "\n",
    "# Timestamp\n",
    "timestamps = dtr.get_timestamps_pd(\"when\", params)\n",
    "\n",
    "# Category\n",
    "tmp_categories = nr.get_numbers(distribution=NumberGenerator.Distribution.WEIGHTED,\n",
    "                                size=size,\n",
    "                                params=params)\n",
    "\n",
    "int_categories = convert_floats_to_ints(tmp_categories)\n",
    "categories = pd.DataFrame({'category':int_categories})\n",
    "\n",
    "# Pricing\n",
    "prices = nr.get_numbers(distribution=NumberGenerator.Distribution.NORMAL,\n",
    "                        size=size,\n",
    "                        params=params)\n",
    "\n",
    "# Concatenate all\n",
    "data = pd.concat([timestamps], ignore_index=False, axis=1)\n",
    "#data = pd.concat([timestamps, categories], ignore_index=True, axis=1)\n",
    "#data = pd.concat([timestamps, int_categories, prices], ignore_index=True, axis=1)\n",
    "data.head()\n"
   ]
  },
  {
   "cell_type": "markdown",
   "id": "6f15bb11",
   "metadata": {},
   "source": [
    "### 2. \"Automated\" example"
   ]
  },
  {
   "cell_type": "code",
   "execution_count": null,
   "id": "a1bcfa57",
   "metadata": {},
   "outputs": [],
   "source": [
    "\n",
    "# Timestamp - When\n",
    "params_a = { 'field': 'when',\n",
    "          'fieldtype': DatasetGenerator.FieldType.DATETIME,\n",
    "          'end': '1/11/2024',\n",
    "          'freq': None,\n",
    "          'periods': size,\n",
    "          'start': '1/1/2024',\n",
    "          }\n",
    "\n",
    "# Category - Risk\n",
    "params_b = { 'field': 'risk',\n",
    "          'fieldtype': DatasetGenerator.FieldType.NUMBER,\n",
    "          'distribution': NumberGenerator.Distribution.WEIGHTED,\n",
    "          'a': 3,\n",
    "          'weights': [0.1, 0.3, 0.6]\n",
    "          }\n",
    "\n",
    "# Number - Score\n",
    "params_c = { 'field': 'score',\n",
    "          'fieldtype': DatasetGenerator.FieldType.NUMBER,\n",
    "          'distribution': NumberGenerator.Distribution.NORMAL,\n",
    "          'max': 20,\n",
    "          'mean': 10,\n",
    "          'min': 0,\n",
    "          'std': 5\n",
    "          }\n",
    "\n",
    "arr_params = [params_a, params_b, params_c]\n",
    "\n",
    "df = dg.get_dataframe(arr_params=arr_params, size=10)\n",
    "df.head()\n"
   ]
  },
  {
   "cell_type": "markdown",
   "id": "806f1280",
   "metadata": {},
   "source": [
    "## Dataframe - Synthetic"
   ]
  },
  {
   "cell_type": "code",
   "execution_count": null,
   "id": "f1e46804",
   "metadata": {},
   "outputs": [],
   "source": [
    "GanGenerator.get_metadata"
   ]
  }
 ],
 "metadata": {
  "kernelspec": {
   "display_name": "Python 3 (ipykernel)",
   "language": "python",
   "name": "python3"
  },
  "language_info": {
   "codemirror_mode": {
    "name": "ipython",
    "version": 3
   },
   "file_extension": ".py",
   "mimetype": "text/x-python",
   "name": "python",
   "nbconvert_exporter": "python",
   "pygments_lexer": "ipython3",
   "version": "3.10.10"
  },
  "nbTranslate": {
   "displayLangs": [
    "*"
   ],
   "hotkey": "alt-t",
   "langInMainMenu": true,
   "sourceLang": "en",
   "targetLang": "fr",
   "useGoogleTranslate": true
  },
  "toc": {
   "base_numbering": 1,
   "nav_menu": {
    "height": "190px",
    "width": "224px"
   },
   "number_sections": true,
   "sideBar": true,
   "skip_h1_title": false,
   "title_cell": "Table of Contents",
   "title_sidebar": "Contents",
   "toc_cell": false,
   "toc_position": {
    "height": "calc(100% - 180px)",
    "left": "10px",
    "top": "150px",
    "width": "242px"
   },
   "toc_section_display": true,
   "toc_window_display": true
  }
 },
 "nbformat": 4,
 "nbformat_minor": 5
}
