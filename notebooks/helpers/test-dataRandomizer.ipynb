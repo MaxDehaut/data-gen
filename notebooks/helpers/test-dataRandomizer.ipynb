{
 "cells": [
  {
   "cell_type": "markdown",
   "id": "a5a9c2e0",
   "metadata": {},
   "source": [
    "# TEST - DATA RANDOMIZER\n",
    "This notebook initialises functions which can be used for generation of independent data. The other powerful methods in this repo generate synthetic data based on an already existing dataset. This notebook includes functions which take in user inputs which could easily be ported into an app and by simply using different prompts, a lot of features could be added.\n",
    "\n",
    "Types of data, features and how to randomize choosing them:\n",
    "\n",
    "* Integer: min/max, distribution, specific probabilities (weighted random)\n",
    "* Float: min/max, distribution, specific probabilities (weighted random)\n",
    "* categorical (types) : specific probabilities (weighted random), pseudo random (coin toss)\n",
    "* dates/timestamps: start date/end date, amount per day, amount at specific times\n",
    "* Boolean : specific probabilities (weighted random), pseudo random (coin toss)\n",
    "\n",
    "## Imports & Configuration"
   ]
  },
  {
   "cell_type": "code",
   "execution_count": 1,
   "id": "92b8047b",
   "metadata": {
    "ExecuteTime": {
     "end_time": "2021-07-23T08:16:10.641418Z",
     "start_time": "2021-07-23T08:16:10.016395Z"
    }
   },
   "outputs": [],
   "source": [
    "# Imports\n",
    "import warnings # Must be first\n",
    "\n",
    "import pandas as pd\n",
    "import numpy as np\n",
    "\n",
    "from datetime import datetime\n",
    "from CastConverter import *\n",
    "from DataRandomizer import DatasetGenerator, DatetimeRandomizer, NumberRandomizer\n",
    "\n",
    "# Configuration\n",
    "field_name = 'numbers'\n",
    "size = 3\n",
    "dg = DatasetGenerator()\n",
    "nr = NumberRandomizer()\n",
    "dtr = DatetimeRandomizer()"
   ]
  },
  {
   "cell_type": "markdown",
   "id": "b81ec4c4",
   "metadata": {},
   "source": [
    "## Array creation\n",
    "\n",
    "### 1. Number"
   ]
  },
  {
   "cell_type": "code",
   "execution_count": null,
   "id": "1bbae60a",
   "metadata": {},
   "outputs": [],
   "source": [
    "#params = { 'df': 1 }\n",
    "#numbers = nr.get_numbers(distribution=NumberRandomizer.Distribution.CHISQUARE,\n",
    "#                            size=3,\n",
    "#                            params=params)\n",
    "\n",
    "#params = { 'scale': 1 }\n",
    "#numbers = nr.get_numbers(distribution=NumberRandomizer.Distribution.EXPONENTIAL,\n",
    "#                            size=3,\n",
    "#                            params=params)\n",
    "\n",
    "#params = { 'shape': 1.99 }\n",
    "#numbers = nr.get_numbers(distribution=NumberRandomizer.Distribution.GAMMA,\n",
    "#                            size=3,\n",
    "#                            params=params)\n",
    "\n",
    "#params = { 'mu': 0, 'beta': 0.1 }\n",
    "#numbers = nr.get_numbers(distribution=NumberRandomizer.Distribution.GUMBEL,\n",
    "#                            size=size,\n",
    "#                            params=params)\n",
    "\n",
    "#params = { 'loc': 0, 'scale': 1 }\n",
    "#numbers = nr.get_numbers(distribution=NumberRandomizer.Distribution.LAPLACE,\n",
    "#                            size=size,\n",
    "#                            params=params)\n",
    "\n",
    "#params = { 'loc': 0, 'scale': 0.1 }\n",
    "#numbers = nr.get_numbers(distribution=NumberRandomizer.Distribution.LOGISTIC,\n",
    "#                            size=size,\n",
    "#                            params=params)\n",
    "\n",
    "#params = { 'df': 3, 'nonc': 20 }\n",
    "#numbers = nr.get_numbers(distribution=NumberRandomizer.Distribution.NONCENTRALCHISQUARE,\n",
    "#                            size=size,\n",
    "#                            params=params)\n",
    "\n",
    "#params = { 'dfnum': 3, 'dfden': 20, 'nonc': 3 }\n",
    "#numbers = nr.get_numbers(distribution=NumberRandomizer.Distribution.NONCENTRALF,\n",
    "#                            size=size,\n",
    "#                            params=params)\n",
    "\n",
    "#params = { 'mean': 10, 'std': 5 }\n",
    "#numbers = nr.get_numbers(distribution=NumberRandomizer.Distribution.NORMAL,\n",
    "#                            size=size,\n",
    "#                            params=params)\n",
    "\n",
    "#params = { 'shape': 3 }\n",
    "#numbers = nr.get_numbers(distribution=NumberRandomizer.Distribution.PARETO,\n",
    "#                            size=size,\n",
    "#                            params=params)\n",
    "\n",
    "#params = { 'lam': 5 }\n",
    "#numbers = nr.get_numbers(distribution=NumberRandomizer.Distribution.POISSON,\n",
    "#                            size=size,\n",
    "#                            params=params)\n",
    "\n",
    "#params = { 'a': 5 }\n",
    "#numbers = nr.get_numbers(distribution=NumberRandomizer.Distribution.POWER,\n",
    "#                            size=size,\n",
    "#                            params=params)\n",
    "\n",
    "#params = { 'scale': 1.1 }\n",
    "#numbers = nr.get_numbers(distribution=NumberRandomizer.Distribution.RAYLEIGH,\n",
    "#                            size=size,\n",
    "#                            params=params)\n",
    "\n",
    "#params = { 'df': 5 }\n",
    "#numbers = nr.get_numbers(distribution=NumberRandomizer.Distribution.STDT,\n",
    "#                            size=size,\n",
    "#                            params=params)\n",
    "\n",
    "#params = { 'left': -5, 'mode': 0, 'right': 5 }\n",
    "#numbers = nr.get_numbers(distribution=NumberRandomizer.Distribution.TRIANGULAR,\n",
    "#                            size=size,\n",
    "#                            params=params)\n",
    "\n",
    "#params = { 'min': 0, 'max': 1 }\n",
    "#numbers = nr.get_numbers(distribution=NumberRandomizer.Distribution.UNIFORM,\n",
    "#                            size=size,\n",
    "#                            params=params)\n",
    "\n",
    "#params = { 'mu': 0, 'kappa': 4 }\n",
    "#numbers = nr.get_numbers(distribution=NumberRandomizer.Distribution.VONMISES,\n",
    "#                            size=size,\n",
    "#                            params=params)\n",
    "\n",
    "#params = { 'mean': 3, 'scale': 2 }\n",
    "#numbers = nr.get_numbers(distribution=NumberRandomizer.Distribution.WALD,\n",
    "#                            size=size,\n",
    "#                            params=params)\n",
    "\n",
    "#params = { 'shape': 5 }\n",
    "#numbers = nr.get_numbers(distribution=NumberRandomizer.Distribution.WEIBULL,\n",
    "#                            size=size,\n",
    "#                            params=params)\n",
    "\n",
    "#params = { 'a': 5, 'weights': [0.1, 0, 0.3, 0.6, 0] }\n",
    "#numbers = nr.get_numbers(distribution=NumberRandomizer.Distribution.WEIGHTED,\n",
    "#                            size=size,\n",
    "#                            params=params)\n",
    "\n",
    "#params = { 'a': 4 }\n",
    "#numbers = nr.get_numbers(distribution=NumberRandomizer.Distribution.ZIPF,\n",
    "#                            size=size,\n",
    "#                            params=params)\n",
    "\n",
    "#numbers"
   ]
  },
  {
   "cell_type": "markdown",
   "id": "8e266e2f",
   "metadata": {},
   "source": [
    "### 2. Number - Complete example"
   ]
  },
  {
   "cell_type": "code",
   "execution_count": 3,
   "id": "d0fb303e",
   "metadata": {},
   "outputs": [],
   "source": [
    "# Calls the randomizer outputting a pandas df of type int\n",
    "params = { 'mean':10, 'std':5, 'min':0, 'max':20 }\n",
    "\n",
    "numbers = nr.get_numbers(distribution=NumberRandomizer.Distribution.NORMAL,\n",
    "                            size=size,\n",
    "                            params=params)\n",
    "# Convert floats to integers if required\n",
    "int_array = convert_floats_to_ints(numbers)\n",
    "# Insert a new column into a dataframe\n",
    "dfNumbers = pd.DataFrame(data=int_array, columns=[field_name])\n",
    "\n",
    "# Cleaning\n",
    "del dfNumbers, int_array, numbers"
   ]
  },
  {
   "cell_type": "markdown",
   "id": "31ed05de",
   "metadata": {},
   "source": [
    "### 3. Categorical"
   ]
  },
  {
   "cell_type": "code",
   "execution_count": null,
   "id": "d54e0dff",
   "metadata": {
    "ExecuteTime": {
     "end_time": "2021-07-23T09:21:57.897375Z",
     "start_time": "2021-07-23T09:21:57.888376Z"
    },
    "code_folding": []
   },
   "outputs": [],
   "source": [
    "# Calls the randomizer or randomizes without distribution outputting a pandas df for categorical data\n",
    "params = { 'a': 5, 'weights': [0.1, 0.1, 0.3, 0.4, 0.1] }\n",
    "categories = nr.get_numbers(distribution=NumberRandomizer.Distribution.WEIGHTED,\n",
    "                            size=10,\n",
    "                            params=params)\n",
    "\n",
    "# Convert floats to integers if required\n",
    "int_categories = convert_floats_to_ints(categories)\n",
    "int_categories"
   ]
  },
  {
   "cell_type": "markdown",
   "id": "775c04c7",
   "metadata": {},
   "source": [
    "### 4. Boolean"
   ]
  },
  {
   "cell_type": "code",
   "execution_count": null,
   "id": "4caece16",
   "metadata": {},
   "outputs": [],
   "source": [
    "# \n",
    "params = { 'a': [True, False], 'weights': [0.5, 0.5] }\n",
    "categories = nr.get_numbers(distribution=NumberRandomizer.Distribution.WEIGHTED,\n",
    "                            size=10,\n",
    "                            params=params)\n",
    "\n",
    "# Convert floats to integers if required\n",
    "int_categories = convert_floats_to_ints(categories)\n",
    "int_categories"
   ]
  },
  {
   "cell_type": "markdown",
   "id": "45fe31d4",
   "metadata": {},
   "source": [
    "### 5. Timestamp"
   ]
  },
  {
   "cell_type": "code",
   "execution_count": null,
   "id": "aa27983f",
   "metadata": {},
   "outputs": [],
   "source": [
    "params = { 'start': '1/1/2024', 'end': '1/11/2024', 'periods': 4, 'freq': None }\n",
    "#params = { 'start': '1/1/2024', 'end': None, 'periods': 4, 'freq': \"D\" }\n",
    "\n",
    "values = dtr.get_timestamps(\"tstamp\", params)\n",
    "values = dtr.get_timestamps_pd(\"tstamp\", params)\n",
    "values"
   ]
  },
  {
   "cell_type": "markdown",
   "id": "278c7e4f",
   "metadata": {},
   "source": [
    "## Dataframe Creation\n",
    "\n",
    "### 1. \"Manual\" example"
   ]
  },
  {
   "cell_type": "code",
   "execution_count": null,
   "id": "f00a8d6d",
   "metadata": {
    "ExecuteTime": {
     "end_time": "2021-07-26T11:07:45.281813Z",
     "start_time": "2021-07-26T11:07:45.052773Z"
    },
    "code_folding": [],
    "deletable": false,
    "editable": false,
    "run_control": {
     "frozen": true
    }
   },
   "outputs": [],
   "source": [
    "size = 100\n",
    "params = { 'a': 5,\n",
    "          'end': '1/11/2024',\n",
    "          'freq': None,\n",
    "          'mean': 10,\n",
    "          'periods': size,\n",
    "          'start': '1/1/2024',\n",
    "          'std': 5,\n",
    "          'weights': [0.1, 0.1, 0.3, 0.4, 0.1]\n",
    "          }\n",
    "\n",
    "# Timestamp\n",
    "timestamps = dtr.get_timestamps_pd(\"when\", params)\n",
    "\n",
    "# Category\n",
    "tmp_categories = nr.get_numbers(distribution=NumberRandomizer.Distribution.WEIGHTED,\n",
    "                                size=size,\n",
    "                                params=params)\n",
    "\n",
    "int_categories = convert_floats_to_ints(tmp_categories)\n",
    "categories = pd.DataFrame({'category':int_categories})\n",
    "\n",
    "# Pricing\n",
    "prices = nr.get_numbers(distribution=NumberRandomizer.Distribution.NORMAL,\n",
    "                        size=size,\n",
    "                        params=params)\n",
    "\n",
    "# Concatenate all\n",
    "data = pd.concat([timestamps], ignore_index=False, axis=1)\n",
    "#data = pd.concat([timestamps, categories], ignore_index=True, axis=1)\n",
    "#data = pd.concat([timestamps, int_categories, prices], ignore_index=True, axis=1)\n",
    "data.head()\n"
   ]
  },
  {
   "cell_type": "markdown",
   "id": "6f15bb11",
   "metadata": {},
   "source": [
    "### 2. \"Automated\" example"
   ]
  },
  {
   "cell_type": "code",
   "execution_count": 3,
   "id": "a1bcfa57",
   "metadata": {},
   "outputs": [
    {
     "name": "stdout",
     "output_type": "stream",
     "text": [
      "DatasetGenerator.FieldType.DATETIME\n",
      "DatasetGenerator.FieldType.NUMBER\n",
      "DatasetGenerator.FieldType.NUMBER\n"
     ]
    },
    {
     "data": {
      "text/html": [
       "<div>\n",
       "<style scoped>\n",
       "    .dataframe tbody tr th:only-of-type {\n",
       "        vertical-align: middle;\n",
       "    }\n",
       "\n",
       "    .dataframe tbody tr th {\n",
       "        vertical-align: top;\n",
       "    }\n",
       "\n",
       "    .dataframe thead th {\n",
       "        text-align: right;\n",
       "    }\n",
       "</style>\n",
       "<table border=\"1\" class=\"dataframe\">\n",
       "  <thead>\n",
       "    <tr style=\"text-align: right;\">\n",
       "      <th></th>\n",
       "      <th>when</th>\n",
       "      <th>risk</th>\n",
       "      <th>score</th>\n",
       "    </tr>\n",
       "  </thead>\n",
       "  <tbody>\n",
       "    <tr>\n",
       "      <th>0</th>\n",
       "      <td>2024-01-01</td>\n",
       "      <td>2.0</td>\n",
       "      <td>16.137763</td>\n",
       "    </tr>\n",
       "    <tr>\n",
       "      <th>1</th>\n",
       "      <td>2024-01-06</td>\n",
       "      <td>2.0</td>\n",
       "      <td>11.117200</td>\n",
       "    </tr>\n",
       "    <tr>\n",
       "      <th>2</th>\n",
       "      <td>2024-01-11</td>\n",
       "      <td>2.0</td>\n",
       "      <td>7.715829</td>\n",
       "    </tr>\n",
       "    <tr>\n",
       "      <th>3</th>\n",
       "      <td>NaT</td>\n",
       "      <td>1.0</td>\n",
       "      <td>14.764872</td>\n",
       "    </tr>\n",
       "    <tr>\n",
       "      <th>4</th>\n",
       "      <td>NaT</td>\n",
       "      <td>1.0</td>\n",
       "      <td>10.264536</td>\n",
       "    </tr>\n",
       "  </tbody>\n",
       "</table>\n",
       "</div>"
      ],
      "text/plain": [
       "        when  risk      score\n",
       "0 2024-01-01   2.0  16.137763\n",
       "1 2024-01-06   2.0  11.117200\n",
       "2 2024-01-11   2.0   7.715829\n",
       "3        NaT   1.0  14.764872\n",
       "4        NaT   1.0  10.264536"
      ]
     },
     "execution_count": 3,
     "metadata": {},
     "output_type": "execute_result"
    }
   ],
   "source": [
    "\n",
    "# Timestamp - When\n",
    "params_a = { 'field': 'when',\n",
    "          'fieldtype': DatasetGenerator.FieldType.DATETIME,\n",
    "          'end': '1/11/2024',\n",
    "          'freq': None,\n",
    "          'periods': size,\n",
    "          'start': '1/1/2024',\n",
    "          }\n",
    "\n",
    "# Category - Risk\n",
    "params_b = { 'field': 'risk',\n",
    "          'fieldtype': DatasetGenerator.FieldType.NUMBER,\n",
    "          'distribution': NumberRandomizer.Distribution.WEIGHTED,\n",
    "          'a': 3,\n",
    "          'weights': [0.1, 0.3, 0.6]\n",
    "          }\n",
    "\n",
    "# Number - Score\n",
    "params_c = { 'field': 'score',\n",
    "          'fieldtype': DatasetGenerator.FieldType.NUMBER,\n",
    "          'distribution': NumberRandomizer.Distribution.NORMAL,\n",
    "          'max': 20,\n",
    "          'mean': 10,\n",
    "          'min': 0,\n",
    "          'std': 5\n",
    "          }\n",
    "\n",
    "arr_params = [params_a, params_b, params_c]\n",
    "\n",
    "df = dg.get_dataframe(arr_params=arr_params, size=10)\n",
    "df.head()\n"
   ]
  },
  {
   "cell_type": "markdown",
   "id": "053b3226",
   "metadata": {},
   "source": [
    "# Generating telemetric data"
   ]
  },
  {
   "cell_type": "code",
   "execution_count": null,
   "id": "89f139ea",
   "metadata": {
    "ExecuteTime": {
     "start_time": "2021-07-23T09:23:42.190Z"
    },
    "scrolled": false
   },
   "outputs": [],
   "source": [
    "features = ['Timestamp','x1', 'y1', 'x2', 'y2', 'classes', 'scores']\n",
    "ftype = ['Timestamp', 'Float', 'Float', 'Float', 'Float', 'Categorical', 'Float']\n",
    "distribution = ['N/A', 'Normal', 'Normal', 'Normal', 'Normal', 'Random', 'Normal']\n",
    "\n",
    "telemetric = DataGenerator(features, ftype, distribution)\n",
    "telemetric.head()"
   ]
  },
  {
   "cell_type": "code",
   "execution_count": null,
   "id": "a0af3fef",
   "metadata": {
    "ExecuteTime": {
     "start_time": "2021-07-23T08:05:35.121Z"
    }
   },
   "outputs": [],
   "source": [
    "def box_format(df): # completely dependent on data, this just joins 4 columns to one with the string [a,b,c,d] \n",
    "    temp = []\n",
    "    new = pd.DataFrame()\n",
    "    new = df.copy()\n",
    "    for i in range(len(df.x1.tolist())):\n",
    "        temp.append('[' + str(df.x1.tolist()[i]) + ', ' +\n",
    "                    str(df.y1.tolist()[i]) + ', ' + str(df.x2.tolist()[i]) +\n",
    "                    ', ' + str(df.y2.tolist()[i]) + ']')\n",
    "    new.insert(1, 'sensors.video.boxes', temp)\n",
    "    new.drop(columns=['x1', 'y1', 'x2', 'y2'], inplace=True)\n",
    "    return new"
   ]
  },
  {
   "cell_type": "code",
   "execution_count": null,
   "id": "4b5a1b79",
   "metadata": {
    "ExecuteTime": {
     "start_time": "2021-07-23T08:05:35.159Z"
    }
   },
   "outputs": [],
   "source": [
    "telemetric_boxed = box_format(telemetric)"
   ]
  },
  {
   "cell_type": "code",
   "execution_count": null,
   "id": "85089342",
   "metadata": {
    "ExecuteTime": {
     "start_time": "2021-07-23T08:05:35.185Z"
    }
   },
   "outputs": [],
   "source": [
    "telemetric_boxed"
   ]
  },
  {
   "cell_type": "code",
   "execution_count": null,
   "id": "7d0f897e",
   "metadata": {
    "ExecuteTime": {
     "start_time": "2021-07-23T08:05:35.221Z"
    }
   },
   "outputs": [],
   "source": [
    "telemetric_json = telemetric_boxed.to_json(orient='values', date_format='iso')"
   ]
  },
  {
   "cell_type": "code",
   "execution_count": null,
   "id": "38296e23",
   "metadata": {
    "ExecuteTime": {
     "start_time": "2021-07-23T08:05:35.254Z"
    }
   },
   "outputs": [],
   "source": [
    "file = open('data/generated_telemetricdata.json', 'w')\n",
    "file.write(telemetric_json)\n",
    "file.close()"
   ]
  },
  {
   "cell_type": "markdown",
   "id": "cf28a530",
   "metadata": {},
   "source": [
    "# Additional comments"
   ]
  },
  {
   "cell_type": "markdown",
   "id": "f9fc96fb",
   "metadata": {},
   "source": [
    "As mentioned in the description, these functions could serve as the backend of a lot of feature functionality within an app. Maxime's main desrire for the customization aspect of data generation has been an example where a user could ask there to be fewer items at certain points in the day compared to others. \n",
    "\n",
    "An ineficient, but functional, way of accomplishing this would be to have the user input (the same way they did for the rest of the data) their desired timeframes and amounts of messages, and then call the _dataGenerator_ function seperately for the different timeframes ie. they ask for 1000 messages an hour between 9am and 6pm but 100 between 6pm and 9am, we can use the data generator for 9am to 6pm with the requested distribution etc and then use it again between 6pm and 9am but with a lower frequency and merge the datasets together. Moreover, if this was on a longer time frame such as 1 week where they also requested the 9am to 6pm requirement; we could simply make two datasets on that week with different amounts of messages per hour, then select the 9am to 6pm and 6pm to 9am slices and merge them. These brute force approaches would require the exact same inputs from the user as more sophisticated algorithms but would likely take longer.\n",
    "\n",
    "**Note** frequency specification business hours can be inluded which helps exclude weekends\n",
    "\n",
    "Another potential use case would be a never ending message generator which adds a message every determined amount of time. This could also be added as a functionality with simple use of python's integrated time function but needs to be investigated further. "
   ]
  },
  {
   "cell_type": "code",
   "execution_count": null,
   "id": "53246ad9",
   "metadata": {},
   "outputs": [],
   "source": []
  }
 ],
 "metadata": {
  "kernelspec": {
   "display_name": "Python 3 (ipykernel)",
   "language": "python",
   "name": "python3"
  },
  "language_info": {
   "codemirror_mode": {
    "name": "ipython",
    "version": 3
   },
   "file_extension": ".py",
   "mimetype": "text/x-python",
   "name": "python",
   "nbconvert_exporter": "python",
   "pygments_lexer": "ipython3",
   "version": "3.10.10"
  },
  "nbTranslate": {
   "displayLangs": [
    "*"
   ],
   "hotkey": "alt-t",
   "langInMainMenu": true,
   "sourceLang": "en",
   "targetLang": "fr",
   "useGoogleTranslate": true
  },
  "toc": {
   "base_numbering": 1,
   "nav_menu": {
    "height": "190px",
    "width": "224px"
   },
   "number_sections": true,
   "sideBar": true,
   "skip_h1_title": false,
   "title_cell": "Table of Contents",
   "title_sidebar": "Contents",
   "toc_cell": false,
   "toc_position": {
    "height": "calc(100% - 180px)",
    "left": "10px",
    "top": "150px",
    "width": "242px"
   },
   "toc_section_display": true,
   "toc_window_display": true
  }
 },
 "nbformat": 4,
 "nbformat_minor": 5
}
