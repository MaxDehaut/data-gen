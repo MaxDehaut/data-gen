{
 "cells": [
  {
   "cell_type": "markdown",
   "metadata": {},
   "source": [
    "# GAN Generator\n",
    "\n",
    "This notebook briefly describes Generative Additive Network and explores the use of the SDV library to generate synthetic data for an enriched telco dataset and the Enriched data set. It evaluates the models used using SDV model metrics which evaluate how similar the evaluated data is. \n",
    "\n",
    "These model take quite long to fit, specifically, the CTGAN model took 10-15 min to fit the 10000 entries of the telco dataset. All the models originally took longer, however, tuning hyper parameters has increased speed and accuracy with the Gaussian Copula model having the best results throughout experimentation after field transformers were applied."
   ]
  },
  {
   "cell_type": "markdown",
   "metadata": {},
   "source": [
    "# Takeaways Summary\n",
    "These models work very well when it comes to data generation. Though some can be slow, using field transformers can speed them up and once the model is trained, generation is almost instant. \n",
    "\n",
    "Field transformers seem to be the most important feature of these models, however, as will be observed in the synthetic generation notebook, other constraints also exist which make customisation for specific datasets simple and easy to use. \n",
    "\n",
    "**_Steps to implement on any data set:_** \n",
    "* **Import** the models and **load** the dataset\n",
    "* Understand and establish the fields of the dataset and **set field transformer and constraints** if neccessary\n",
    "* **Initialize** model with constraints\n",
    "* **Train/fit** model on real data\n",
    "* **Sample/Generate** new data"
   ]
  },
  {
   "cell_type": "markdown",
   "metadata": {
    "toc": true
   },
   "source": [
    "<h1>Table of Contents<span class=\"tocSkip\"></span></h1>\n",
    "<div class=\"toc\"><ul class=\"toc-item\"><li><span><a href=\"#Description\" data-toc-modified-id=\"Description-1\"><span class=\"toc-item-num\">1&nbsp;&nbsp;</span>Description</a></span></li><li><span><a href=\"#Takeaways-Summary\" data-toc-modified-id=\"Takeaways-Summary-2\"><span class=\"toc-item-num\">2&nbsp;&nbsp;</span>Takeaways Summary</a></span></li><li><span><a href=\"#GAN-Defenitions--\" data-toc-modified-id=\"GAN-Defenitions---3\"><span class=\"toc-item-num\">3&nbsp;&nbsp;</span>GAN Defenitions  <a class=\"anchor\" id=\"GANexp\"></a></a></span><ul class=\"toc-item\"><li><span><a href=\"#Generative-Adversarial-Networks-\" data-toc-modified-id=\"Generative-Adversarial-Networks--3.1\"><span class=\"toc-item-num\">3.1&nbsp;&nbsp;</span>Generative Adversarial Networks <a class=\"anchor\" id=\"GANdef\"></a></a></span></li><li><span><a href=\"#Models-in-Synthetic-Data-Vault-(SDV)-library-\" data-toc-modified-id=\"Models-in-Synthetic-Data-Vault-(SDV)-library--3.2\"><span class=\"toc-item-num\">3.2&nbsp;&nbsp;</span>Models in Synthetic Data Vault (SDV) library <a class=\"anchor\" id=\"sdv\"></a></a></span><ul class=\"toc-item\"><li><span><a href=\"#Gaussian-Copula-Model:-\" data-toc-modified-id=\"Gaussian-Copula-Model:--3.2.1\"><span class=\"toc-item-num\">3.2.1&nbsp;&nbsp;</span>Gaussian Copula Model: <a class=\"anchor\" id=\"Gaussian_def\"></a></a></span></li><li><span><a href=\"#Condition-Tabular-GAN-(CTGAN)-Model:-\" data-toc-modified-id=\"Condition-Tabular-GAN-(CTGAN)-Model:--3.2.2\"><span class=\"toc-item-num\">3.2.2&nbsp;&nbsp;</span>Condition Tabular GAN (CTGAN) Model: <a class=\"anchor\" id=\"CTGAN_def\"></a></a></span></li><li><span><a href=\"#CopulaGAN-Model:-\" data-toc-modified-id=\"CopulaGAN-Model:--3.2.3\"><span class=\"toc-item-num\">3.2.3&nbsp;&nbsp;</span>CopulaGAN Model: <a class=\"anchor\" id=\"Copula_Def\"></a></a></span></li><li><span><a href=\"#Tabular-Variational-AutoEncoder-(TVAE)-Model-:\" data-toc-modified-id=\"Tabular-Variational-AutoEncoder-(TVAE)-Model-:-3.2.4\"><span class=\"toc-item-num\">3.2.4&nbsp;&nbsp;</span>Tabular Variational AutoEncoder (TVAE) Model <a class=\"anchor\" id=\"TVAE_def\"></a>:</a></span></li></ul></li><li><span><a href=\"#Prerequisites-\" data-toc-modified-id=\"Prerequisites--3.3\"><span class=\"toc-item-num\">3.3&nbsp;&nbsp;</span>Prerequisites <a class=\"anchor\" id=\"Prerequisites\"></a></a></span></li></ul></li><li><span><a href=\"#Experimentation-on-enriched-Telco-\" data-toc-modified-id=\"Experimentation-on-enriched-Telco--4\"><span class=\"toc-item-num\">4&nbsp;&nbsp;</span>Experimentation on enriched Telco <a class=\"anchor\" id=\"Experimentation_telco\"></a></a></span><ul class=\"toc-item\"><li><span><a href=\"#Loading-and-enriching-data-set-\" data-toc-modified-id=\"Loading-and-enriching-data-set--4.1\"><span class=\"toc-item-num\">4.1&nbsp;&nbsp;</span>Loading and enriching data set <a class=\"anchor\" id=\"loading\"></a></a></span></li><li><span><a href=\"#Fitting-the-models-\" data-toc-modified-id=\"Fitting-the-models--4.2\"><span class=\"toc-item-num\">4.2&nbsp;&nbsp;</span>Fitting the models <a class=\"anchor\" id=\"fitting\"></a></a></span><ul class=\"toc-item\"><li><span><a href=\"#GaussianCopula-\" data-toc-modified-id=\"GaussianCopula--4.2.1\"><span class=\"toc-item-num\">4.2.1&nbsp;&nbsp;</span>GaussianCopula <a class=\"anchor\" id=\"gaussian_fit\"></a></a></span></li><li><span><a href=\"#CTGAN-\" data-toc-modified-id=\"CTGAN--4.2.2\"><span class=\"toc-item-num\">4.2.2&nbsp;&nbsp;</span>CTGAN <a class=\"anchor\" id=\"CTGAN_fit\"></a></a></span></li><li><span><a href=\"#CopulaGAN-\" data-toc-modified-id=\"CopulaGAN--4.2.3\"><span class=\"toc-item-num\">4.2.3&nbsp;&nbsp;</span>CopulaGAN <a class=\"anchor\" id=\"copula_fit\"></a></a></span></li><li><span><a href=\"#TVAE--\" data-toc-modified-id=\"TVAE---4.2.4\"><span class=\"toc-item-num\">4.2.4&nbsp;&nbsp;</span>TVAE  <a class=\"anchor\" id=\"TVAE_fit\"></a></a></span></li></ul></li><li><span><a href=\"#Evaluation-of-synthetic-data-\" data-toc-modified-id=\"Evaluation-of-synthetic-data--4.3\"><span class=\"toc-item-num\">4.3&nbsp;&nbsp;</span>Evaluation of synthetic data <a class=\"anchor\" id=\"eval\"></a></a></span><ul class=\"toc-item\"><li><span><a href=\"#Metric-types-\" data-toc-modified-id=\"Metric-types--4.3.1\"><span class=\"toc-item-num\">4.3.1&nbsp;&nbsp;</span>Metric types <a class=\"anchor\" id=\"metrics\"></a></a></span><ul class=\"toc-item\"><li><span><a href=\"#Statistical-metrics-\" data-toc-modified-id=\"Statistical-metrics--4.3.1.1\"><span class=\"toc-item-num\">4.3.1.1&nbsp;&nbsp;</span>Statistical metrics <a class=\"anchor\" id=\"stat\"></a></a></span></li><li><span><a href=\"#Likelihood-Metrics-\" data-toc-modified-id=\"Likelihood-Metrics--4.3.1.2\"><span class=\"toc-item-num\">4.3.1.2&nbsp;&nbsp;</span>Likelihood Metrics <a class=\"anchor\" id=\"likelihood\"></a></a></span></li><li><span><a href=\"#Detection-Metrics-\" data-toc-modified-id=\"Detection-Metrics--4.3.1.3\"><span class=\"toc-item-num\">4.3.1.3&nbsp;&nbsp;</span>Detection Metrics <a class=\"anchor\" id=\"detection\"></a></a></span></li></ul></li><li><span><a href=\"#Gaussian-Copula--\" data-toc-modified-id=\"Gaussian-Copula---4.3.2\"><span class=\"toc-item-num\">4.3.2&nbsp;&nbsp;</span>Gaussian Copula  <a class=\"anchor\" id=\"gaussian_eval\"></a></a></span></li><li><span><a href=\"#CTGAN-\" data-toc-modified-id=\"CTGAN--4.3.3\"><span class=\"toc-item-num\">4.3.3&nbsp;&nbsp;</span>CTGAN <a class=\"anchor\" id=\"CTGAN_eval\"></a></a></span></li><li><span><a href=\"#CopulaGAN\" data-toc-modified-id=\"CopulaGAN-4.3.4\"><span class=\"toc-item-num\">4.3.4&nbsp;&nbsp;</span>CopulaGAN<a class=\"anchor\" id=\"copula_eval\"></a></a></span></li><li><span><a href=\"#TVAE-\" data-toc-modified-id=\"TVAE--4.3.5\"><span class=\"toc-item-num\">4.3.5&nbsp;&nbsp;</span>TVAE <a class=\"anchor\" id=\"TVAE_eval\"></a></a></span></li></ul></li><li><span><a href=\"#Saving-data\" data-toc-modified-id=\"Saving-data-4.4\"><span class=\"toc-item-num\">4.4&nbsp;&nbsp;</span>Saving data</a></span></li></ul></li><li><span><a href=\"#Experimentation-on-enriched-dataset-\" data-toc-modified-id=\"Experimentation-on-enriched-dataset--5\"><span class=\"toc-item-num\">5&nbsp;&nbsp;</span>Experimentation on enriched dataset <a class=\"anchor\" id=\"Experimentation\"></a></a></span><ul class=\"toc-item\"><li><span><a href=\"#Loading-enriched-dataset-\" data-toc-modified-id=\"Loading-enriched-dataset--5.1\"><span class=\"toc-item-num\">5.1&nbsp;&nbsp;</span>Loading enriched dataset <a class=\"anchor\" id=\"loading2\"></a></a></span></li><li><span><a href=\"#Fitting-the-models-\" data-toc-modified-id=\"Fitting-the-models--5.2\"><span class=\"toc-item-num\">5.2&nbsp;&nbsp;</span>Fitting the models <a class=\"anchor\" id=\"fitting2\"></a></a></span><ul class=\"toc-item\"><li><span><a href=\"#GaussianCopula-\" data-toc-modified-id=\"GaussianCopula--5.2.1\"><span class=\"toc-item-num\">5.2.1&nbsp;&nbsp;</span>GaussianCopula <a class=\"anchor\" id=\"gaussian_fit2\"></a></a></span></li><li><span><a href=\"#CTGAN-\" data-toc-modified-id=\"CTGAN--5.2.2\"><span class=\"toc-item-num\">5.2.2&nbsp;&nbsp;</span>CTGAN <a class=\"anchor\" id=\"CTGAN_fit2\"></a></a></span></li><li><span><a href=\"#CopulaGAN-\" data-toc-modified-id=\"CopulaGAN--5.2.3\"><span class=\"toc-item-num\">5.2.3&nbsp;&nbsp;</span>CopulaGAN <a class=\"anchor\" id=\"copula_fit2\"></a></a></span></li><li><span><a href=\"#TVAE--\" data-toc-modified-id=\"TVAE---5.2.4\"><span class=\"toc-item-num\">5.2.4&nbsp;&nbsp;</span>TVAE  <a class=\"anchor\" id=\"TVAE_fit2\"></a></a></span></li></ul></li><li><span><a href=\"#Evaluation-of-synthetic-data-\" data-toc-modified-id=\"Evaluation-of-synthetic-data--5.3\"><span class=\"toc-item-num\">5.3&nbsp;&nbsp;</span>Evaluation of synthetic data <a class=\"anchor\" id=\"eval2\"></a></a></span><ul class=\"toc-item\"><li><span><a href=\"#Gaussian-Copula--\" data-toc-modified-id=\"Gaussian-Copula---5.3.1\"><span class=\"toc-item-num\">5.3.1&nbsp;&nbsp;</span>Gaussian Copula  <a class=\"anchor\" id=\"gaussian_eval2\"></a></a></span></li><li><span><a href=\"#CTGAN-\" data-toc-modified-id=\"CTGAN--5.3.2\"><span class=\"toc-item-num\">5.3.2&nbsp;&nbsp;</span>CTGAN <a class=\"anchor\" id=\"CTGAN_eval2\"></a></a></span></li><li><span><a href=\"#CopulaGAN-\" data-toc-modified-id=\"CopulaGAN--5.3.3\"><span class=\"toc-item-num\">5.3.3&nbsp;&nbsp;</span>CopulaGAN <a class=\"anchor\" id=\"copula_eval2\"></a></a></span></li><li><span><a href=\"#TVAE-\" data-toc-modified-id=\"TVAE--5.3.4\"><span class=\"toc-item-num\">5.3.4&nbsp;&nbsp;</span>TVAE <a class=\"anchor\" id=\"TVAE_eval2\"></a></a></span></li></ul></li><li><span><a href=\"#Saving-data\" data-toc-modified-id=\"Saving-data-5.4\"><span class=\"toc-item-num\">5.4&nbsp;&nbsp;</span>Saving data</a></span></li></ul></li></ul></div>"
   ]
  },
  {
   "cell_type": "markdown",
   "metadata": {},
   "source": [
    "# GAN Definitions  <a class=\"anchor\" id=\"GANexp\"></a>\n",
    "\n",
    "## Generative Adversarial Networks <a class=\"anchor\" id=\"GANdef\"></a>\n",
    "\n",
    "A generative adversarial network (GAN) is a class of machine learning frameworks where two neural networks contest with each other in a game (in the form of a zero-sum game, where one agent's gain is another agent's loss). This can be applied and extended to generate data in many different fields from fashion to video games. The two neural networks, the generator and discriminator, both get better with each epoch. \n",
    "\n",
    "The way it works is the Generator learns to map latent space to a distribution, ie. the real data. Then the Discriminator takes this new mapped data and real data and attemps to distinguish between the two. Both models' goals are increasing the other model's error rate while decreasing their own creating a synergetic development of both networks until the Generator's synthetic data is relatively indistinguishable from the real data."
   ]
  },
  {
   "cell_type": "markdown",
   "metadata": {},
   "source": [
    "## Models in Synthetic Data Vault (SDV) library <a class=\"anchor\" id=\"sdv\"></a>\n",
    "\n",
    "\n",
    "\n"
   ]
  },
  {
   "cell_type": "markdown",
   "metadata": {},
   "source": [
    "### Gaussian Copula Model: <a class=\"anchor\" id=\"Gaussian_def\"></a>\n",
    "\n"
   ]
  },
  {
   "cell_type": "markdown",
   "metadata": {},
   "source": [
    "Intuitively, the Gaussian copula takes d marginal distributions and turns them into a single multivariate distribution $[0,1]^{d}$ using correlation coefficients. It uses this multivariate distribution to generate all values at once.\n",
    "\n",
    "Mathematically, It is constructed from a multivariate normal distribution over $\\mathbb {R} ^{d}$ by using the probability integral transform. For a given correlation matrix ${\\displaystyle R\\in [-1,1]^{d\\times d}}$, the Gaussian copula with parameter matrix ${\\displaystyle R}$ can be written as\n",
    "> $C_{R}^{\\text{Gauss}}(u)=\\Phi _{R}\\left(\\Phi ^{-1}(u_{1}),\\dots ,\\Phi ^{-1}(u_{d})\\right)$ \n",
    "\n",
    "where $ \\Phi ^{-1}$ is the inverse cumulative distribution function of a standard normal and $\\Phi _{R}$ is the joint cumulative distribution function of a multivariate normal distribution with mean vector zero and covariance matrix equal to the correlation matrix $R$. \n",
    "\n",
    "${\\displaystyle C_{R}^{\\text{Gauss}}(u)}$ is approximated using numerical integration and the density can be written as:\n",
    "\n",
    ">${\\displaystyle C_{R}^{\\text{Gauss}}(u)={\\frac {1}{\\sqrt {\\det {R}}}}\\exp \\left(-{\\frac {1}{2}}{\\begin{pmatrix}\\Phi ^{-1}(u_{1})\\\\\\vdots \\\\\\Phi ^{-1}(u_{d})\\end{pmatrix}}^{T}\\cdot \\left(R^{-1}-I\\right)\\cdot {\\begin{pmatrix}\\Phi ^{-1}(u_{1})\\\\\\vdots \\\\\\Phi ^{-1}(u_{d})\\end{pmatrix}}\\right),}$\n",
    "where $\\mathbf {I}$  is the identity matrix."
   ]
  },
  {
   "cell_type": "markdown",
   "metadata": {},
   "source": [
    "\n",
    "### Condition Tabular GAN (CTGAN) Model: <a class=\"anchor\" id=\"CTGAN_def\"></a>\n"
   ]
  },
  {
   "cell_type": "markdown",
   "metadata": {},
   "source": [
    "{Lei Xu et.al,2019}{http://arxiv.org/abs/1907.00503}\n",
    "\n",
    "CTGAN is a GAN-based method to model tabular data distribution and sample rows from the distribution. It addresses data imbalance in other GAN models caused by the need to simultaneously model discrete and continuous columns, the multi-modal non-Gaussian values within each continuous column, and the severe imbalance of categorical columns by employing a conditional generator and training-by-sampling.\n",
    "\n",
    "Let $k$  be the value from the $i^{th}$ discrete column $D_{i}$ that has to be matched by the generated samples $r$, then the generator can be interpreted as the conditional distribution of rows given that particular value at that particular column, i.e. $r ∼ PG(row|D_i = k)$.\n",
    "\n",
    "> $P(row) = \\sum_{k \\in D_{i}}PG(row|D_{i} = k)P(D_{i} = k)$\n",
    "\n",
    "The output produced by the conditional generator must be assessed by the\n",
    "critic, which estimates the distance between the learned conditional distribution $PG(row|cond)$ and\n",
    "the conditional distribution on real data $P(row|cond)$. The sampling of real training data and the\n",
    "construction of cond vector comply to help critic estimate the distance. Properly sampled\n",
    "the cond vector and training data helps the model evenly explore all possible values in discrete\n",
    "columns. \n",
    " "
   ]
  },
  {
   "cell_type": "markdown",
   "metadata": {},
   "source": [
    "\n",
    "### CopulaGAN Model: <a class=\"anchor\" id=\"Copula_Def\"></a>\n"
   ]
  },
  {
   "cell_type": "markdown",
   "metadata": {},
   "source": [
    "\n",
    "Uses the cummulative distribution function based approach of the Gaussian Capula model with the conditional GAN model to make the underlying CTGAN model task of learning the data easier."
   ]
  },
  {
   "cell_type": "markdown",
   "metadata": {},
   "source": [
    "\n",
    "\n",
    "### Tabular Variational AutoEncoder (TVAE) Model <a class=\"anchor\" id=\"TVAE_def\"></a>:\n"
   ]
  },
  {
   "cell_type": "markdown",
   "metadata": {},
   "source": [
    "{Lei Xu et.al,2019} {http://arxiv.org/abs/1907.00503 }\n",
    "\n",
    "It is another neural network generative model and uses two neural networks to model $p_θ(r_j |z_j )$ and $q_φ(z_j |r_j )$, and train them using evidence lower-bound (ELBO) loss. Sdv uses the design present in the paper above."
   ]
  },
  {
   "cell_type": "markdown",
   "metadata": {},
   "source": [
    "## Prerequisites <a class=\"anchor\" id=\"Prerequisites\"></a>"
   ]
  },
  {
   "cell_type": "code",
   "execution_count": 1,
   "metadata": {
    "ExecuteTime": {
     "end_time": "2021-07-27T15:43:36.876329Z",
     "start_time": "2021-07-27T15:43:33.211596Z"
    }
   },
   "outputs": [],
   "source": [
    "# General imports\n",
    "# Make sure to be in version 3.6-3.8 of python to import sdv, does not work on python 3.9.\n",
    "import numpy as np\n",
    "import pandas as pd\n",
    "import warnings\n",
    "import yapf\n",
    "\n",
    "#from utils.Binning import *\n",
    "from sklearn.pipeline import Pipeline\n",
    "from sklearn.svm import LinearSVC\n",
    "from sklearn.linear_model import LogisticRegression\n",
    "from sklearn.exceptions import ConvergenceWarning\n",
    "\n",
    "#Included to increase evaluation accuracy\n",
    "logistic = LogisticRegression(max_iter=1000)\n",
    "pipe = Pipeline([('reduce_dim', 'passthrough'),\n",
    "                 ('classify', LinearSVC(dual=False, max_iter=1000), logistic)])\n",
    "\n",
    "warnings.filterwarnings('ignore')"
   ]
  },
  {
   "cell_type": "markdown",
   "metadata": {},
   "source": [
    "# Experimentation on enriched Telco <a class=\"anchor\" id=\"Experimentation_telco\"></a>"
   ]
  },
  {
   "cell_type": "markdown",
   "metadata": {},
   "source": [
    "## Loading and enriching data set <a class=\"anchor\" id=\"loading\"></a>\n",
    "\n",
    "Use of raw code from _Scoring - 1 - LogReg and GAM experimenting_ file to ensure understanding of data being generated."
   ]
  },
  {
   "cell_type": "code",
   "execution_count": 2,
   "metadata": {
    "ExecuteTime": {
     "end_time": "2021-07-27T15:43:37.018330Z",
     "start_time": "2021-07-27T15:43:36.879330Z"
    },
    "code_folding": [
     0,
     11,
     23,
     33,
     56,
     67
    ]
   },
   "outputs": [
    {
     "name": "stdout",
     "output_type": "stream",
     "text": [
      "Series([], dtype: float64)\n"
     ]
    },
    {
     "data": {
      "text/html": [
       "<div>\n",
       "<style scoped>\n",
       "    .dataframe tbody tr th:only-of-type {\n",
       "        vertical-align: middle;\n",
       "    }\n",
       "\n",
       "    .dataframe tbody tr th {\n",
       "        vertical-align: top;\n",
       "    }\n",
       "\n",
       "    .dataframe thead th {\n",
       "        text-align: right;\n",
       "    }\n",
       "</style>\n",
       "<table border=\"1\" class=\"dataframe\">\n",
       "  <thead>\n",
       "    <tr style=\"text-align: right;\">\n",
       "      <th></th>\n",
       "      <th>ipRange</th>\n",
       "      <th>ipHop</th>\n",
       "      <th>timeSubmitSec</th>\n",
       "      <th>inList</th>\n",
       "      <th>appHour</th>\n",
       "      <th>label</th>\n",
       "      <th>browserType</th>\n",
       "      <th>inCustType</th>\n",
       "      <th>packageType</th>\n",
       "      <th>weekDayType</th>\n",
       "    </tr>\n",
       "  </thead>\n",
       "  <tbody>\n",
       "    <tr>\n",
       "      <th>0</th>\n",
       "      <td>12307.0</td>\n",
       "      <td>0.0</td>\n",
       "      <td>20.0</td>\n",
       "      <td>0.0</td>\n",
       "      <td>11.0</td>\n",
       "      <td>0</td>\n",
       "      <td>firefox</td>\n",
       "      <td>Y</td>\n",
       "      <td>A</td>\n",
       "      <td>Sun</td>\n",
       "    </tr>\n",
       "    <tr>\n",
       "      <th>1</th>\n",
       "      <td>15384.0</td>\n",
       "      <td>0.0</td>\n",
       "      <td>18.0</td>\n",
       "      <td>0.0</td>\n",
       "      <td>11.0</td>\n",
       "      <td>0</td>\n",
       "      <td>safari</td>\n",
       "      <td>Y</td>\n",
       "      <td>G</td>\n",
       "      <td>Sun</td>\n",
       "    </tr>\n",
       "    <tr>\n",
       "      <th>2</th>\n",
       "      <td>9230.0</td>\n",
       "      <td>0.0</td>\n",
       "      <td>18.0</td>\n",
       "      <td>0.0</td>\n",
       "      <td>10.0</td>\n",
       "      <td>0</td>\n",
       "      <td>edge</td>\n",
       "      <td>N</td>\n",
       "      <td>D</td>\n",
       "      <td>Sun</td>\n",
       "    </tr>\n",
       "    <tr>\n",
       "      <th>3</th>\n",
       "      <td>6153.0</td>\n",
       "      <td>1.0</td>\n",
       "      <td>20.0</td>\n",
       "      <td>0.0</td>\n",
       "      <td>10.0</td>\n",
       "      <td>0</td>\n",
       "      <td>edge</td>\n",
       "      <td>Y</td>\n",
       "      <td>A</td>\n",
       "      <td>Sun</td>\n",
       "    </tr>\n",
       "    <tr>\n",
       "      <th>4</th>\n",
       "      <td>21538.0</td>\n",
       "      <td>1.0</td>\n",
       "      <td>21.0</td>\n",
       "      <td>0.0</td>\n",
       "      <td>11.0</td>\n",
       "      <td>0</td>\n",
       "      <td>chrome</td>\n",
       "      <td>N</td>\n",
       "      <td>J</td>\n",
       "      <td>Thu</td>\n",
       "    </tr>\n",
       "  </tbody>\n",
       "</table>\n",
       "</div>"
      ],
      "text/plain": [
       "   ipRange  ipHop  timeSubmitSec  inList  appHour  label browserType  \\\n",
       "0  12307.0    0.0           20.0     0.0     11.0      0     firefox   \n",
       "1  15384.0    0.0           18.0     0.0     11.0      0      safari   \n",
       "2   9230.0    0.0           18.0     0.0     10.0      0        edge   \n",
       "3   6153.0    1.0           20.0     0.0     10.0      0        edge   \n",
       "4  21538.0    1.0           21.0     0.0     11.0      0      chrome   \n",
       "\n",
       "  inCustType packageType weekDayType  \n",
       "0          Y           A         Sun  \n",
       "1          Y           G         Sun  \n",
       "2          N           D         Sun  \n",
       "3          Y           A         Sun  \n",
       "4          N           J         Thu  "
      ]
     },
     "execution_count": 2,
     "metadata": {},
     "output_type": "execute_result"
    }
   ],
   "source": [
    "dfRawFile = pd.read_csv('./../data/common/telco_appfrauddetect.csv',\n",
    "                        sep=',',\n",
    "                        on_bad_lines='error')\n",
    "# A column will be removed if it contains more than [threshold] (%) records\n",
    "threshold = 0.7\n",
    "\n",
    "# List columns that have more than 80% null values\n",
    "na_values = dfRawFile.isnull().mean()\n",
    "print(na_values[na_values > threshold])\n",
    "\n",
    "# Drop columns with more than 80% null values\n",
    "dfRawFile.dropna(thresh=dfRawFile.shape[0] * (1 - threshold),\n",
    "#                 how='all',\n",
    "                 axis=1,\n",
    "                 inplace=True)\n",
    "\n",
    "del threshold, na_values\n",
    "# Wrangle dataset\n",
    "dfRawFile.loc[dfRawFile['timeSubmitSec'] < 0, 'timeSubmitSec'] = 0\n",
    "\n",
    "dfRawFile['label'] = dfRawFile['app_status'].map({'valid': 0, 'invalid': 1})\n",
    "\n",
    "dfRawFile.loc[dfRawFile['browser'] > 5, 'browser'] = 6\n",
    "dfRawFile['browserType'] = dfRawFile['browser'].map({\n",
    "    0: 'edge',\n",
    "    1: 'chrome',\n",
    "    2: 'safari',\n",
    "    3: 'firefox',\n",
    "    4: 'opera',\n",
    "    5: 'vivaldi',\n",
    "    6: 'others'\n",
    "})\n",
    "dfRawFile['inCustType'] = dfRawFile['inCust'].map({0: 'N', 1: 'Y'})\n",
    "dfRawFile['packageType'] = dfRawFile['package'].map({\n",
    "    0: 'A',\n",
    "    1: 'B',\n",
    "    2: 'C',\n",
    "    3: 'D',\n",
    "    4: 'E',\n",
    "    5: 'F',\n",
    "    6: 'G',\n",
    "    7: 'H',\n",
    "    8: 'I',\n",
    "    9: 'J',\n",
    "    10: 'K',\n",
    "    11: 'L',\n",
    "    12: 'M',\n",
    "    13: 'N',\n",
    "    14: 'O',\n",
    "    15: 'P',\n",
    "    18: 'Q',\n",
    "    21: 'R',\n",
    "    24: 'S',\n",
    "    27: 'T',\n",
    "    30: 'U'\n",
    "})\n",
    "dfRawFile['weekDayType'] = dfRawFile['weekDay'].map({\n",
    "    0: 'Mon',\n",
    "    1: 'Tue',\n",
    "    2: 'Wed',\n",
    "    3: 'Thu',\n",
    "    4: 'Fri',\n",
    "    5: 'Sat',\n",
    "    6: 'Sun'\n",
    "})\n",
    "dfRawFile.drop(['app_id', 'app_status', 'score'], axis=1, inplace=True)\n",
    "\n",
    "dfRawFile.drop(columns=['browser', 'package', 'inCust', 'weekDay'],\n",
    "               inplace=True)\n",
    "dfEnriched = dfRawFile.copy()\n",
    "dfEnriched.to_csv('./../data/common/telco_enricheddata.csv')\n",
    "\n",
    "# Drop initial dataset\n",
    "del dfRawFile\n",
    "dfEnriched.head()"
   ]
  },
  {
   "cell_type": "markdown",
   "metadata": {},
   "source": [
    "## Fitting the models <a class=\"anchor\" id=\"fitting\"></a>\n",
    "\n",
    " All features in the data set are object types, field transformers \n",
    "     help the models distinguish between the types during fitting, \n",
    "     returning data to initial type when sampling"
   ]
  },
  {
   "cell_type": "code",
   "execution_count": 3,
   "metadata": {},
   "outputs": [
    {
     "data": {
      "image/svg+xml": [
       "<?xml version=\"1.0\" encoding=\"UTF-8\" standalone=\"no\"?>\n",
       "<!DOCTYPE svg PUBLIC \"-//W3C//DTD SVG 1.1//EN\"\n",
       " \"http://www.w3.org/Graphics/SVG/1.1/DTD/svg11.dtd\">\n",
       "<!-- Generated by graphviz version 9.0.0 (20230911.1827)\n",
       " -->\n",
       "<!-- Title: Metadata Pages: 1 -->\n",
       "<svg width=\"125pt\" height=\"67pt\"\n",
       " viewBox=\"0.00 0.00 125.25 66.50\" xmlns=\"http://www.w3.org/2000/svg\" xmlns:xlink=\"http://www.w3.org/1999/xlink\">\n",
       "<g id=\"graph0\" class=\"graph\" transform=\"scale(1 1) rotate(0) translate(4 62.5)\">\n",
       "<title>Metadata</title>\n",
       "<polygon fill=\"white\" stroke=\"none\" points=\"-4,4 -4,-62.5 121.25,-62.5 121.25,4 -4,4\"/>\n",
       "<g id=\"node1\" class=\"node\">\n",
       "<title></title>\n",
       "<path fill=\"#ffec8b\" stroke=\"black\" d=\"M12,-0.5C12,-0.5 105.25,-0.5 105.25,-0.5 111.25,-0.5 117.25,-6.5 117.25,-12.5 117.25,-12.5 117.25,-46 117.25,-46 117.25,-52 111.25,-58 105.25,-58 105.25,-58 12,-58 12,-58 6,-58 0,-52 0,-46 0,-46 0,-12.5 0,-12.5 0,-6.5 6,-0.5 12,-0.5\"/>\n",
       "<text text-anchor=\"start\" x=\"8\" y=\"-40.7\" font-family=\"Times,serif\" font-size=\"14.00\">Columns</text>\n",
       "<text text-anchor=\"start\" x=\"8\" y=\"-24.2\" font-family=\"Times,serif\" font-size=\"14.00\">    • categorical : 7</text>\n",
       "<text text-anchor=\"start\" x=\"8\" y=\"-7.7\" font-family=\"Times,serif\" font-size=\"14.00\">    • numerical : 3</text>\n",
       "</g>\n",
       "</g>\n",
       "</svg>\n"
      ],
      "text/plain": [
       "<graphviz.graphs.Digraph at 0x12a59baf0>"
      ]
     },
     "execution_count": 3,
     "metadata": {},
     "output_type": "execute_result"
    }
   ],
   "source": [
    "from sdv.metadata import SingleTableMetadata\n",
    "\n",
    "metadata = SingleTableMetadata()\n",
    "metadata.detect_from_dataframe(dfEnriched)\n",
    "metadata.visualize(\n",
    "    show_table_details='summarized',\n",
    "    output_filepath='./../data/metadata/telco_appfrauddetect.png'\n",
    ")"
   ]
  },
  {
   "cell_type": "markdown",
   "metadata": {},
   "source": [
    "Fitting all the models follows the same steps. Initialising model with constraints and transformers, fitting the model, then sampling (generating) the amount of data needed."
   ]
  },
  {
   "cell_type": "markdown",
   "metadata": {},
   "source": [
    "### GaussianCopula <a class=\"anchor\" id=\"gaussian_fit\"></a>"
   ]
  },
  {
   "cell_type": "code",
   "execution_count": 4,
   "metadata": {
    "ExecuteTime": {
     "end_time": "2021-07-27T15:43:48.026145Z",
     "start_time": "2021-07-27T15:43:37.037335Z"
    }
   },
   "outputs": [],
   "source": [
    "from sdv.single_table import GaussianCopulaSynthesizer\n",
    "\n",
    "gcop_synthesizer = GaussianCopulaSynthesizer(metadata)\n",
    "gcop_synthesizer.fit(dfEnriched)\n",
    "gcop_synthesizer.save(\n",
    "    filepath='./../models/gcop_telco_appfrauddetect.pkl'\n",
    ")"
   ]
  },
  {
   "cell_type": "code",
   "execution_count": 5,
   "metadata": {
    "ExecuteTime": {
     "end_time": "2021-07-27T15:43:48.249194Z",
     "start_time": "2021-07-27T15:43:48.027120Z"
    }
   },
   "outputs": [
    {
     "data": {
      "text/html": [
       "<div>\n",
       "<style scoped>\n",
       "    .dataframe tbody tr th:only-of-type {\n",
       "        vertical-align: middle;\n",
       "    }\n",
       "\n",
       "    .dataframe tbody tr th {\n",
       "        vertical-align: top;\n",
       "    }\n",
       "\n",
       "    .dataframe thead th {\n",
       "        text-align: right;\n",
       "    }\n",
       "</style>\n",
       "<table border=\"1\" class=\"dataframe\">\n",
       "  <thead>\n",
       "    <tr style=\"text-align: right;\">\n",
       "      <th></th>\n",
       "      <th>ipRange</th>\n",
       "      <th>ipHop</th>\n",
       "      <th>timeSubmitSec</th>\n",
       "      <th>inList</th>\n",
       "      <th>appHour</th>\n",
       "      <th>label</th>\n",
       "      <th>browserType</th>\n",
       "      <th>inCustType</th>\n",
       "      <th>packageType</th>\n",
       "      <th>weekDayType</th>\n",
       "    </tr>\n",
       "  </thead>\n",
       "  <tbody>\n",
       "    <tr>\n",
       "      <th>0</th>\n",
       "      <td>18231.0</td>\n",
       "      <td>1.0</td>\n",
       "      <td>11.0</td>\n",
       "      <td>1.0</td>\n",
       "      <td>13.0</td>\n",
       "      <td>1</td>\n",
       "      <td>edge</td>\n",
       "      <td>Y</td>\n",
       "      <td>J</td>\n",
       "      <td>Sun</td>\n",
       "    </tr>\n",
       "    <tr>\n",
       "      <th>1</th>\n",
       "      <td>19179.0</td>\n",
       "      <td>0.0</td>\n",
       "      <td>14.0</td>\n",
       "      <td>0.0</td>\n",
       "      <td>10.0</td>\n",
       "      <td>0</td>\n",
       "      <td>edge</td>\n",
       "      <td>N</td>\n",
       "      <td>D</td>\n",
       "      <td>Sun</td>\n",
       "    </tr>\n",
       "    <tr>\n",
       "      <th>2</th>\n",
       "      <td>4106.0</td>\n",
       "      <td>1.0</td>\n",
       "      <td>15.0</td>\n",
       "      <td>0.0</td>\n",
       "      <td>13.0</td>\n",
       "      <td>0</td>\n",
       "      <td>safari</td>\n",
       "      <td>Y</td>\n",
       "      <td>G</td>\n",
       "      <td>Sat</td>\n",
       "    </tr>\n",
       "    <tr>\n",
       "      <th>3</th>\n",
       "      <td>18010.0</td>\n",
       "      <td>0.0</td>\n",
       "      <td>21.0</td>\n",
       "      <td>0.0</td>\n",
       "      <td>7.0</td>\n",
       "      <td>0</td>\n",
       "      <td>safari</td>\n",
       "      <td>Y</td>\n",
       "      <td>D</td>\n",
       "      <td>Thu</td>\n",
       "    </tr>\n",
       "    <tr>\n",
       "      <th>4</th>\n",
       "      <td>7349.0</td>\n",
       "      <td>0.0</td>\n",
       "      <td>15.0</td>\n",
       "      <td>0.0</td>\n",
       "      <td>13.0</td>\n",
       "      <td>0</td>\n",
       "      <td>safari</td>\n",
       "      <td>N</td>\n",
       "      <td>D</td>\n",
       "      <td>Fri</td>\n",
       "    </tr>\n",
       "  </tbody>\n",
       "</table>\n",
       "</div>"
      ],
      "text/plain": [
       "   ipRange  ipHop  timeSubmitSec  inList  appHour  label browserType  \\\n",
       "0  18231.0    1.0           11.0     1.0     13.0      1        edge   \n",
       "1  19179.0    0.0           14.0     0.0     10.0      0        edge   \n",
       "2   4106.0    1.0           15.0     0.0     13.0      0      safari   \n",
       "3  18010.0    0.0           21.0     0.0      7.0      0      safari   \n",
       "4   7349.0    0.0           15.0     0.0     13.0      0      safari   \n",
       "\n",
       "  inCustType packageType weekDayType  \n",
       "0          Y           J         Sun  \n",
       "1          N           D         Sun  \n",
       "2          Y           G         Sat  \n",
       "3          Y           D         Thu  \n",
       "4          N           D         Fri  "
      ]
     },
     "execution_count": 5,
     "metadata": {},
     "output_type": "execute_result"
    }
   ],
   "source": [
    "gaussianData = gcop_synthesizer.sample(10000)\n",
    "gaussianData.to_csv('./../data/synthesized/telco_gaussiandata.csv')\n",
    "gaussianData.head()"
   ]
  },
  {
   "cell_type": "markdown",
   "metadata": {},
   "source": [
    "### CTGAN <a class=\"anchor\" id=\"CTGAN_fit\"></a>"
   ]
  },
  {
   "cell_type": "code",
   "execution_count": 6,
   "metadata": {
    "ExecuteTime": {
     "end_time": "2021-07-27T15:55:05.239168Z",
     "start_time": "2021-07-27T15:43:48.255200Z"
    }
   },
   "outputs": [
    {
     "name": "stderr",
     "output_type": "stream",
     "text": [
      "Gen. (-0.87) | Discrim. (-0.02): 100%|██████████| 500/500 [07:23<00:00,  1.13it/s]\n"
     ]
    }
   ],
   "source": [
    "# doc: https://docs.sdv.dev/sdv/single-table-data/modeling/synthesizers/ctgansynthesizer\n",
    "from sdv.single_table import CTGANSynthesizer\n",
    "\n",
    "ctg_synthesizer = CTGANSynthesizer(\n",
    "    metadata,\n",
    "    enforce_rounding=False,\n",
    "    epochs=500,\n",
    "    verbose=True)\n",
    "ctg_synthesizer.fit(dfEnriched)\n",
    "ctg_synthesizer.save(\n",
    "    filepath='./../models/ctg_telco_appfrauddetect.pkl'\n",
    ")"
   ]
  },
  {
   "cell_type": "code",
   "execution_count": 7,
   "metadata": {
    "ExecuteTime": {
     "end_time": "2021-07-27T15:55:05.764367Z",
     "start_time": "2021-07-27T15:55:05.242432Z"
    }
   },
   "outputs": [
    {
     "data": {
      "text/html": [
       "<div>\n",
       "<style scoped>\n",
       "    .dataframe tbody tr th:only-of-type {\n",
       "        vertical-align: middle;\n",
       "    }\n",
       "\n",
       "    .dataframe tbody tr th {\n",
       "        vertical-align: top;\n",
       "    }\n",
       "\n",
       "    .dataframe thead th {\n",
       "        text-align: right;\n",
       "    }\n",
       "</style>\n",
       "<table border=\"1\" class=\"dataframe\">\n",
       "  <thead>\n",
       "    <tr style=\"text-align: right;\">\n",
       "      <th></th>\n",
       "      <th>ipRange</th>\n",
       "      <th>ipHop</th>\n",
       "      <th>timeSubmitSec</th>\n",
       "      <th>inList</th>\n",
       "      <th>appHour</th>\n",
       "      <th>label</th>\n",
       "    </tr>\n",
       "  </thead>\n",
       "  <tbody>\n",
       "    <tr>\n",
       "      <th>count</th>\n",
       "      <td>10000.000000</td>\n",
       "      <td>10000.000000</td>\n",
       "      <td>10000.000000</td>\n",
       "      <td>10000.000000</td>\n",
       "      <td>10000.000000</td>\n",
       "      <td>10000.000000</td>\n",
       "    </tr>\n",
       "    <tr>\n",
       "      <th>mean</th>\n",
       "      <td>13073.310634</td>\n",
       "      <td>0.871400</td>\n",
       "      <td>14.627075</td>\n",
       "      <td>1.221600</td>\n",
       "      <td>12.128832</td>\n",
       "      <td>0.288600</td>\n",
       "    </tr>\n",
       "    <tr>\n",
       "      <th>std</th>\n",
       "      <td>5575.047437</td>\n",
       "      <td>1.168332</td>\n",
       "      <td>7.570229</td>\n",
       "      <td>1.496368</td>\n",
       "      <td>5.475191</td>\n",
       "      <td>0.453134</td>\n",
       "    </tr>\n",
       "    <tr>\n",
       "      <th>min</th>\n",
       "      <td>0.000000</td>\n",
       "      <td>0.000000</td>\n",
       "      <td>0.000000</td>\n",
       "      <td>0.000000</td>\n",
       "      <td>1.000000</td>\n",
       "      <td>0.000000</td>\n",
       "    </tr>\n",
       "    <tr>\n",
       "      <th>25%</th>\n",
       "      <td>9315.891624</td>\n",
       "      <td>0.000000</td>\n",
       "      <td>4.709578</td>\n",
       "      <td>0.000000</td>\n",
       "      <td>9.873289</td>\n",
       "      <td>0.000000</td>\n",
       "    </tr>\n",
       "    <tr>\n",
       "      <th>50%</th>\n",
       "      <td>14344.982077</td>\n",
       "      <td>0.000000</td>\n",
       "      <td>18.015495</td>\n",
       "      <td>0.000000</td>\n",
       "      <td>10.960503</td>\n",
       "      <td>0.000000</td>\n",
       "    </tr>\n",
       "    <tr>\n",
       "      <th>75%</th>\n",
       "      <td>16105.334510</td>\n",
       "      <td>1.000000</td>\n",
       "      <td>20.047814</td>\n",
       "      <td>3.000000</td>\n",
       "      <td>13.548991</td>\n",
       "      <td>1.000000</td>\n",
       "    </tr>\n",
       "    <tr>\n",
       "      <th>max</th>\n",
       "      <td>37160.113222</td>\n",
       "      <td>5.000000</td>\n",
       "      <td>25.763472</td>\n",
       "      <td>6.000000</td>\n",
       "      <td>23.000000</td>\n",
       "      <td>1.000000</td>\n",
       "    </tr>\n",
       "  </tbody>\n",
       "</table>\n",
       "</div>"
      ],
      "text/plain": [
       "            ipRange         ipHop  timeSubmitSec        inList       appHour  \\\n",
       "count  10000.000000  10000.000000   10000.000000  10000.000000  10000.000000   \n",
       "mean   13073.310634      0.871400      14.627075      1.221600     12.128832   \n",
       "std     5575.047437      1.168332       7.570229      1.496368      5.475191   \n",
       "min        0.000000      0.000000       0.000000      0.000000      1.000000   \n",
       "25%     9315.891624      0.000000       4.709578      0.000000      9.873289   \n",
       "50%    14344.982077      0.000000      18.015495      0.000000     10.960503   \n",
       "75%    16105.334510      1.000000      20.047814      3.000000     13.548991   \n",
       "max    37160.113222      5.000000      25.763472      6.000000     23.000000   \n",
       "\n",
       "              label  \n",
       "count  10000.000000  \n",
       "mean       0.288600  \n",
       "std        0.453134  \n",
       "min        0.000000  \n",
       "25%        0.000000  \n",
       "50%        0.000000  \n",
       "75%        1.000000  \n",
       "max        1.000000  "
      ]
     },
     "execution_count": 7,
     "metadata": {},
     "output_type": "execute_result"
    }
   ],
   "source": [
    "ctgData = ctg_synthesizer.sample(num_rows=10000)\n",
    "ctgData.to_csv('./../data/synthesized/telco_ctgdata.csv')\n",
    "ctgData.describe()"
   ]
  },
  {
   "cell_type": "markdown",
   "metadata": {},
   "source": [
    "### CopulaGAN <a class=\"anchor\" id=\"copula_fit\"></a>"
   ]
  },
  {
   "cell_type": "code",
   "execution_count": 8,
   "metadata": {
    "ExecuteTime": {
     "end_time": "2021-07-27T16:06:20.217307Z",
     "start_time": "2021-07-27T15:55:05.766368Z"
    }
   },
   "outputs": [
    {
     "name": "stderr",
     "output_type": "stream",
     "text": [
      "Gen. (-1.03) | Discrim. (-0.15): 100%|██████████| 500/500 [08:05<00:00,  1.03it/s]\n"
     ]
    }
   ],
   "source": [
    "#doc: https://docs.sdv.dev/sdv/single-table-data/modeling/synthesizers/copulagansynthesizer\n",
    "from sdv.single_table import CopulaGANSynthesizer\n",
    "\n",
    "cop_synthesizer = CopulaGANSynthesizer(\n",
    "    metadata,\n",
    "    enforce_min_max_values=True,\n",
    "    enforce_rounding=False,\n",
    "    epochs=500,\n",
    "    verbose=True)\n",
    "cop_synthesizer.fit(dfEnriched)\n",
    "cop_synthesizer.save(\n",
    "    filepath='./../models/cop_telco_appfrauddetect.pkl'\n",
    ")"
   ]
  },
  {
   "cell_type": "code",
   "execution_count": 9,
   "metadata": {
    "ExecuteTime": {
     "end_time": "2021-07-27T16:06:20.804091Z",
     "start_time": "2021-07-27T16:06:20.219197Z"
    }
   },
   "outputs": [
    {
     "data": {
      "text/html": [
       "<div>\n",
       "<style scoped>\n",
       "    .dataframe tbody tr th:only-of-type {\n",
       "        vertical-align: middle;\n",
       "    }\n",
       "\n",
       "    .dataframe tbody tr th {\n",
       "        vertical-align: top;\n",
       "    }\n",
       "\n",
       "    .dataframe thead th {\n",
       "        text-align: right;\n",
       "    }\n",
       "</style>\n",
       "<table border=\"1\" class=\"dataframe\">\n",
       "  <thead>\n",
       "    <tr style=\"text-align: right;\">\n",
       "      <th></th>\n",
       "      <th>ipRange</th>\n",
       "      <th>ipHop</th>\n",
       "      <th>timeSubmitSec</th>\n",
       "      <th>inList</th>\n",
       "      <th>appHour</th>\n",
       "      <th>label</th>\n",
       "    </tr>\n",
       "  </thead>\n",
       "  <tbody>\n",
       "    <tr>\n",
       "      <th>count</th>\n",
       "      <td>10000.000000</td>\n",
       "      <td>10000.000000</td>\n",
       "      <td>10000.000000</td>\n",
       "      <td>10000.000000</td>\n",
       "      <td>10000.000000</td>\n",
       "      <td>10000.000000</td>\n",
       "    </tr>\n",
       "    <tr>\n",
       "      <th>mean</th>\n",
       "      <td>12519.011916</td>\n",
       "      <td>0.935000</td>\n",
       "      <td>14.588610</td>\n",
       "      <td>1.225300</td>\n",
       "      <td>14.230829</td>\n",
       "      <td>0.352800</td>\n",
       "    </tr>\n",
       "    <tr>\n",
       "      <th>std</th>\n",
       "      <td>4236.437605</td>\n",
       "      <td>1.213723</td>\n",
       "      <td>7.284561</td>\n",
       "      <td>1.414263</td>\n",
       "      <td>5.237470</td>\n",
       "      <td>0.477865</td>\n",
       "    </tr>\n",
       "    <tr>\n",
       "      <th>min</th>\n",
       "      <td>23.875029</td>\n",
       "      <td>0.000000</td>\n",
       "      <td>0.380304</td>\n",
       "      <td>0.000000</td>\n",
       "      <td>1.000000</td>\n",
       "      <td>0.000000</td>\n",
       "    </tr>\n",
       "    <tr>\n",
       "      <th>25%</th>\n",
       "      <td>9345.141107</td>\n",
       "      <td>0.000000</td>\n",
       "      <td>5.686502</td>\n",
       "      <td>0.000000</td>\n",
       "      <td>10.947251</td>\n",
       "      <td>0.000000</td>\n",
       "    </tr>\n",
       "    <tr>\n",
       "      <th>50%</th>\n",
       "      <td>12196.609450</td>\n",
       "      <td>0.000000</td>\n",
       "      <td>18.875631</td>\n",
       "      <td>1.000000</td>\n",
       "      <td>12.008672</td>\n",
       "      <td>0.000000</td>\n",
       "    </tr>\n",
       "    <tr>\n",
       "      <th>75%</th>\n",
       "      <td>13710.805341</td>\n",
       "      <td>2.000000</td>\n",
       "      <td>20.069704</td>\n",
       "      <td>3.000000</td>\n",
       "      <td>20.414132</td>\n",
       "      <td>1.000000</td>\n",
       "    </tr>\n",
       "    <tr>\n",
       "      <th>max</th>\n",
       "      <td>34338.759752</td>\n",
       "      <td>5.000000</td>\n",
       "      <td>26.419690</td>\n",
       "      <td>6.000000</td>\n",
       "      <td>23.000000</td>\n",
       "      <td>1.000000</td>\n",
       "    </tr>\n",
       "  </tbody>\n",
       "</table>\n",
       "</div>"
      ],
      "text/plain": [
       "            ipRange         ipHop  timeSubmitSec        inList       appHour  \\\n",
       "count  10000.000000  10000.000000   10000.000000  10000.000000  10000.000000   \n",
       "mean   12519.011916      0.935000      14.588610      1.225300     14.230829   \n",
       "std     4236.437605      1.213723       7.284561      1.414263      5.237470   \n",
       "min       23.875029      0.000000       0.380304      0.000000      1.000000   \n",
       "25%     9345.141107      0.000000       5.686502      0.000000     10.947251   \n",
       "50%    12196.609450      0.000000      18.875631      1.000000     12.008672   \n",
       "75%    13710.805341      2.000000      20.069704      3.000000     20.414132   \n",
       "max    34338.759752      5.000000      26.419690      6.000000     23.000000   \n",
       "\n",
       "              label  \n",
       "count  10000.000000  \n",
       "mean       0.352800  \n",
       "std        0.477865  \n",
       "min        0.000000  \n",
       "25%        0.000000  \n",
       "50%        0.000000  \n",
       "75%        1.000000  \n",
       "max        1.000000  "
      ]
     },
     "execution_count": 9,
     "metadata": {},
     "output_type": "execute_result"
    }
   ],
   "source": [
    "copulaData = cop_synthesizer.sample(10000)\n",
    "copulaData.to_csv('./../data/synthesized/telco_copuladata.csv')\n",
    "copulaData.describe()"
   ]
  },
  {
   "cell_type": "markdown",
   "metadata": {},
   "source": [
    "### TVAE  <a class=\"anchor\" id=\"TVAE_fit\"></a>"
   ]
  },
  {
   "cell_type": "code",
   "execution_count": 10,
   "metadata": {
    "ExecuteTime": {
     "end_time": "2021-07-27T16:08:48.514386Z",
     "start_time": "2021-07-27T16:06:20.808057Z"
    }
   },
   "outputs": [],
   "source": [
    "from sdv.single_table import TVAESynthesizer\n",
    "\n",
    "tvae_synthesizer = TVAESynthesizer(\n",
    "    metadata, # required\n",
    "    enforce_min_max_values=True,\n",
    "    enforce_rounding=False,\n",
    "    epochs=500\n",
    ")\n",
    "tvae_synthesizer.fit(dfEnriched)\n",
    "tvae_synthesizer.save(\n",
    "    filepath='./../models/tvae_telco_appfrauddetect.pkl'\n",
    ")"
   ]
  },
  {
   "cell_type": "code",
   "execution_count": 11,
   "metadata": {
    "ExecuteTime": {
     "end_time": "2021-07-27T16:08:48.769714Z",
     "start_time": "2021-07-27T16:08:48.519385Z"
    }
   },
   "outputs": [
    {
     "data": {
      "text/html": [
       "<div>\n",
       "<style scoped>\n",
       "    .dataframe tbody tr th:only-of-type {\n",
       "        vertical-align: middle;\n",
       "    }\n",
       "\n",
       "    .dataframe tbody tr th {\n",
       "        vertical-align: top;\n",
       "    }\n",
       "\n",
       "    .dataframe thead th {\n",
       "        text-align: right;\n",
       "    }\n",
       "</style>\n",
       "<table border=\"1\" class=\"dataframe\">\n",
       "  <thead>\n",
       "    <tr style=\"text-align: right;\">\n",
       "      <th></th>\n",
       "      <th>ipRange</th>\n",
       "      <th>ipHop</th>\n",
       "      <th>timeSubmitSec</th>\n",
       "      <th>inList</th>\n",
       "      <th>appHour</th>\n",
       "      <th>label</th>\n",
       "      <th>browserType</th>\n",
       "      <th>inCustType</th>\n",
       "      <th>packageType</th>\n",
       "      <th>weekDayType</th>\n",
       "    </tr>\n",
       "  </thead>\n",
       "  <tbody>\n",
       "    <tr>\n",
       "      <th>0</th>\n",
       "      <td>24517.434149</td>\n",
       "      <td>0.0</td>\n",
       "      <td>17.956233</td>\n",
       "      <td>0.0</td>\n",
       "      <td>10.995444</td>\n",
       "      <td>0</td>\n",
       "      <td>edge</td>\n",
       "      <td>Y</td>\n",
       "      <td>G</td>\n",
       "      <td>Fri</td>\n",
       "    </tr>\n",
       "    <tr>\n",
       "      <th>1</th>\n",
       "      <td>87.268961</td>\n",
       "      <td>0.0</td>\n",
       "      <td>18.074800</td>\n",
       "      <td>0.0</td>\n",
       "      <td>11.003572</td>\n",
       "      <td>0</td>\n",
       "      <td>chrome</td>\n",
       "      <td>Y</td>\n",
       "      <td>A</td>\n",
       "      <td>Sun</td>\n",
       "    </tr>\n",
       "    <tr>\n",
       "      <th>2</th>\n",
       "      <td>21545.637319</td>\n",
       "      <td>0.0</td>\n",
       "      <td>20.032476</td>\n",
       "      <td>1.0</td>\n",
       "      <td>11.996336</td>\n",
       "      <td>0</td>\n",
       "      <td>edge</td>\n",
       "      <td>N</td>\n",
       "      <td>D</td>\n",
       "      <td>Sun</td>\n",
       "    </tr>\n",
       "    <tr>\n",
       "      <th>3</th>\n",
       "      <td>20999.785616</td>\n",
       "      <td>1.0</td>\n",
       "      <td>2.901782</td>\n",
       "      <td>3.0</td>\n",
       "      <td>21.740258</td>\n",
       "      <td>1</td>\n",
       "      <td>vivaldi</td>\n",
       "      <td>Y</td>\n",
       "      <td>N</td>\n",
       "      <td>Sun</td>\n",
       "    </tr>\n",
       "    <tr>\n",
       "      <th>4</th>\n",
       "      <td>6142.802620</td>\n",
       "      <td>1.0</td>\n",
       "      <td>18.118603</td>\n",
       "      <td>1.0</td>\n",
       "      <td>7.013067</td>\n",
       "      <td>0</td>\n",
       "      <td>edge</td>\n",
       "      <td>Y</td>\n",
       "      <td>A</td>\n",
       "      <td>Sat</td>\n",
       "    </tr>\n",
       "  </tbody>\n",
       "</table>\n",
       "</div>"
      ],
      "text/plain": [
       "        ipRange  ipHop  timeSubmitSec  inList    appHour  label browserType  \\\n",
       "0  24517.434149    0.0      17.956233     0.0  10.995444      0        edge   \n",
       "1     87.268961    0.0      18.074800     0.0  11.003572      0      chrome   \n",
       "2  21545.637319    0.0      20.032476     1.0  11.996336      0        edge   \n",
       "3  20999.785616    1.0       2.901782     3.0  21.740258      1     vivaldi   \n",
       "4   6142.802620    1.0      18.118603     1.0   7.013067      0        edge   \n",
       "\n",
       "  inCustType packageType weekDayType  \n",
       "0          Y           G         Fri  \n",
       "1          Y           A         Sun  \n",
       "2          N           D         Sun  \n",
       "3          Y           N         Sun  \n",
       "4          Y           A         Sat  "
      ]
     },
     "execution_count": 11,
     "metadata": {},
     "output_type": "execute_result"
    }
   ],
   "source": [
    "tvaeData = tvae_synthesizer.sample(10000)\n",
    "tvaeData.to_csv('./../data/synthesized/telco_tvaedata.csv')\n",
    "tvaeData.head()"
   ]
  },
  {
   "cell_type": "markdown",
   "metadata": {},
   "source": [
    "## Evaluation of synthetic data <a class=\"anchor\" id=\"eval\"></a>"
   ]
  },
  {
   "cell_type": "markdown",
   "metadata": {},
   "source": [
    "### Metric types <a class=\"anchor\" id=\"metrics\"></a>\n",
    "#### Statistical metrics <a class=\"anchor\" id=\"stat\"></a>\n",
    "These metrics compare individual columns from the real table with the corresponding column from the synthetic table, and at the end report the average outcome from the test.\n",
    "\n",
    "_CS test_: This metric uses the Chi-Squared test to compare the distributions of two discrete columns. The output for each column is the CSTest p-value, which indicates the probability of the two columns having been sampled from the same distribution.\n",
    "\n",
    "_KS test_: This metric uses the two-sample Kolmogorov–Smirnov test to compare the distributions of continuous columns using the empirical CDF. The output for each column is 1 minus the KS Test D statistic, which indicates the maximum distance between the expected CDF and the observed CDF values.\n",
    "\n",
    "#### Likelihood Metrics <a class=\"anchor\" id=\"likelihood\"></a>\n",
    "\n",
    "The metrics of this family compare the tables by fitting the real data to a probabilistic model and afterwards compute the likelihood of the synthetic data belonging to the learned distribution.\n",
    "\n",
    "\n",
    "_Bayesian Network likelihood_: This metric fits a BayesianNetwork to the real data and then evaluates the average likelihood of the rows from the synthetic data on it.\n",
    "\n",
    "_Bayesian Network log likelihood_: This metric fits a BayesianNetwork to the real data and then evaluates the average log likelihood of the rows from the synthetic data on it.\n",
    "\n",
    "_Gaussian Mixture log likelihood_: This metric fits multiple GaussianMixture models to the real data and then evaluates the average log likelihood of the synthetic data on them.\n",
    "\n",
    "#### Detection Metrics <a class=\"anchor\" id=\"detection\"></a>\n",
    "The metrics of this family evaluate how hard it is to distinguish the synthetic data from the real data by using a Machine Learning model. To do this, the metrics will shuffle the real data and synthetic data together with flags indicating whether the data is real or synthetic, and then cross validate a Machine Learning model that tries to predict this flag. The output of the metrics will be the 1 minus the average ROC AUC score across all the cross validation splits. Meaning the closer the value gets to 1, the harder it is for the classifier to seperate the real from the generate data.\n",
    "\n",
    "_Logistic Detection_: Detection metric based on a LogisticRegression classifier. \n",
    "\n",
    "_SVC Detection_: Detection metric based on a SVC classifier.\n",
    "\n",
    "1 - ROC AUC score so the closer to 1, the less the regressor can classify between the true and generated data."
   ]
  },
  {
   "cell_type": "code",
   "execution_count": 12,
   "metadata": {},
   "outputs": [],
   "source": [
    "#doc: https://docs.sdv.dev/sdv/single-table-data/evaluation\n",
    "from sdv.evaluation.single_table import run_diagnostic, evaluate_quality\n",
    "from sdv.evaluation.single_table import get_column_plot"
   ]
  },
  {
   "cell_type": "markdown",
   "metadata": {},
   "source": [
    "### Gaussian Copula  <a class=\"anchor\" id=\"gaussian_eval\"></a>"
   ]
  },
  {
   "cell_type": "code",
   "execution_count": 15,
   "metadata": {
    "ExecuteTime": {
     "end_time": "2021-07-27T16:13:47.799219Z",
     "start_time": "2021-07-27T16:08:48.773707Z"
    },
    "scrolled": true
   },
   "outputs": [
    {
     "name": "stdout",
     "output_type": "stream",
     "text": [
      "Generating report ...\n",
      "(1/2) Evaluating Data Validity: : 100%|██████████| 10/10 [00:00<00:00, 446.54it/s]\n",
      "(2/2) Evaluating Data Structure: : 100%|██████████| 1/1 [00:00<00:00, 415.61it/s]\n",
      "\n",
      "Overall Score: 100.0%\n",
      "\n",
      "Properties:\n",
      "- Data Validity: 100.0%\n",
      "- Data Structure: 100.0%\n",
      "Generating report ...\n",
      "(1/2) Evaluating Column Shapes: : 100%|██████████| 10/10 [00:00<00:00, 161.12it/s]\n",
      "(2/2) Evaluating Column Pair Trends: : 100%|██████████| 45/45 [00:01<00:00, 31.23it/s]\n",
      "\n",
      "Overall Score: 87.32%\n",
      "\n",
      "Properties:\n",
      "- Column Shapes: 95.03%\n",
      "- Column Pair Trends: 79.62%\n"
     ]
    }
   ],
   "source": [
    "diagnostic_report = run_diagnostic(\n",
    "    real_data=dfEnriched,\n",
    "    synthetic_data=gaussianData,\n",
    "    metadata=metadata)\n",
    "\n",
    "quality_report = evaluate_quality(\n",
    "    real_data=dfEnriched,\n",
    "    synthetic_data=gaussianData,\n",
    "    metadata=metadata\n",
    ")\n"
   ]
  },
  {
   "cell_type": "markdown",
   "metadata": {},
   "source": [
    "### CTGAN <a class=\"anchor\" id=\"CTGAN_eval\"></a>"
   ]
  },
  {
   "cell_type": "code",
   "execution_count": 16,
   "metadata": {
    "ExecuteTime": {
     "end_time": "2021-07-28T07:03:02.538943Z",
     "start_time": "2021-07-28T06:57:40.870214Z"
    }
   },
   "outputs": [
    {
     "name": "stdout",
     "output_type": "stream",
     "text": [
      "Generating report ...\n",
      "(1/2) Evaluating Data Validity: : 100%|██████████| 10/10 [00:00<00:00, 585.09it/s]\n",
      "(2/2) Evaluating Data Structure: : 100%|██████████| 1/1 [00:00<00:00, 424.44it/s]\n",
      "\n",
      "Overall Score: 100.0%\n",
      "\n",
      "Properties:\n",
      "- Data Validity: 100.0%\n",
      "- Data Structure: 100.0%\n",
      "Generating report ...\n",
      "(1/2) Evaluating Column Shapes: : 100%|██████████| 10/10 [00:00<00:00, 243.78it/s]\n",
      "(2/2) Evaluating Column Pair Trends: : 100%|██████████| 45/45 [00:01<00:00, 32.45it/s]\n",
      "\n",
      "Overall Score: 80.99%\n",
      "\n",
      "Properties:\n",
      "- Column Shapes: 85.36%\n",
      "- Column Pair Trends: 76.62%\n"
     ]
    }
   ],
   "source": [
    "diagnostic_report = run_diagnostic(\n",
    "    real_data=dfEnriched,\n",
    "    synthetic_data=ctgData,\n",
    "    metadata=metadata)\n",
    "\n",
    "quality_report = evaluate_quality(\n",
    "    real_data=dfEnriched,\n",
    "    synthetic_data=ctgData,\n",
    "    metadata=metadata\n",
    ")\n"
   ]
  },
  {
   "cell_type": "markdown",
   "metadata": {},
   "source": [
    "### CopulaGAN<a class=\"anchor\" id=\"copula_eval\"></a>"
   ]
  },
  {
   "cell_type": "code",
   "execution_count": 18,
   "metadata": {
    "ExecuteTime": {
     "end_time": "2021-07-28T07:13:51.429997Z",
     "start_time": "2021-07-28T07:08:48.337943Z"
    }
   },
   "outputs": [
    {
     "name": "stdout",
     "output_type": "stream",
     "text": [
      "Generating report ...\n",
      "(1/2) Evaluating Data Validity: : 100%|██████████| 10/10 [00:00<00:00, 457.47it/s]\n",
      "(2/2) Evaluating Data Structure: : 100%|██████████| 1/1 [00:00<00:00, 321.03it/s]\n",
      "\n",
      "Overall Score: 100.0%\n",
      "\n",
      "Properties:\n",
      "- Data Validity: 100.0%\n",
      "- Data Structure: 100.0%\n",
      "Generating report ...\n",
      "(1/2) Evaluating Column Shapes: : 100%|██████████| 10/10 [00:00<00:00, 218.91it/s]\n",
      "(2/2) Evaluating Column Pair Trends: : 100%|██████████| 45/45 [00:01<00:00, 35.59it/s]\n",
      "\n",
      "Overall Score: 79.66%\n",
      "\n",
      "Properties:\n",
      "- Column Shapes: 83.46%\n",
      "- Column Pair Trends: 75.87%\n"
     ]
    }
   ],
   "source": [
    "diagnostic_report = run_diagnostic(\n",
    "    real_data=dfEnriched,\n",
    "    synthetic_data=copulaData,\n",
    "    metadata=metadata)\n",
    "\n",
    "quality_report = evaluate_quality(\n",
    "    real_data=dfEnriched,\n",
    "    synthetic_data=copulaData,\n",
    "    metadata=metadata\n",
    ")\n"
   ]
  },
  {
   "cell_type": "markdown",
   "metadata": {},
   "source": [
    "### TVAE <a class=\"anchor\" id=\"TVAE_eval\"></a>"
   ]
  },
  {
   "cell_type": "code",
   "execution_count": 19,
   "metadata": {
    "ExecuteTime": {
     "end_time": "2021-07-28T07:21:10.753977Z",
     "start_time": "2021-07-28T07:19:05.457747Z"
    },
    "scrolled": true
   },
   "outputs": [
    {
     "name": "stdout",
     "output_type": "stream",
     "text": [
      "Generating report ...\n",
      "(1/2) Evaluating Data Validity: : 100%|██████████| 10/10 [00:00<00:00, 589.28it/s]\n",
      "(2/2) Evaluating Data Structure: : 100%|██████████| 1/1 [00:00<00:00, 424.10it/s]\n",
      "\n",
      "Overall Score: 100.0%\n",
      "\n",
      "Properties:\n",
      "- Data Validity: 100.0%\n",
      "- Data Structure: 100.0%\n",
      "Generating report ...\n",
      "(1/2) Evaluating Column Shapes: : 100%|██████████| 10/10 [00:00<00:00, 238.06it/s]\n",
      "(2/2) Evaluating Column Pair Trends: : 100%|██████████| 45/45 [00:01<00:00, 28.57it/s]\n",
      "\n",
      "Overall Score: 80.81%\n",
      "\n",
      "Properties:\n",
      "- Column Shapes: 87.57%\n",
      "- Column Pair Trends: 74.04%\n"
     ]
    }
   ],
   "source": [
    "diagnostic_report = run_diagnostic(\n",
    "    real_data=dfEnriched,\n",
    "    synthetic_data=tvaeData,\n",
    "    metadata=metadata)\n",
    "\n",
    "quality_report = evaluate_quality(\n",
    "    real_data=dfEnriched,\n",
    "    synthetic_data=tvaeData,\n",
    "    metadata=metadata\n",
    ")\n"
   ]
  },
  {
   "cell_type": "markdown",
   "metadata": {},
   "source": [
    "## Saving data"
   ]
  },
  {
   "cell_type": "code",
   "execution_count": 21,
   "metadata": {
    "ExecuteTime": {
     "end_time": "2021-07-28T07:22:51.843994Z",
     "start_time": "2021-07-28T07:22:51.813882Z"
    }
   },
   "outputs": [],
   "source": [
    "gauss_json = gaussianData.to_json(orient=\"values\")\n",
    "file = open('./../data/generated/telco_gaussian.json', 'w')\n",
    "file.write(gauss_json)\n",
    "file.close()"
   ]
  },
  {
   "cell_type": "code",
   "execution_count": 22,
   "metadata": {
    "ExecuteTime": {
     "end_time": "2021-07-28T07:22:51.891998Z",
     "start_time": "2021-07-28T07:22:51.845889Z"
    }
   },
   "outputs": [],
   "source": [
    "ctgan_json = ctgData.to_json(orient=\"values\")\n",
    "file = open('./../data/generated/telco_ctgan.json', 'w')\n",
    "file.write(ctgan_json)\n",
    "file.close()"
   ]
  },
  {
   "cell_type": "code",
   "execution_count": 23,
   "metadata": {
    "ExecuteTime": {
     "end_time": "2021-07-28T07:22:51.923468Z",
     "start_time": "2021-07-28T07:22:51.893891Z"
    }
   },
   "outputs": [],
   "source": [
    "copula_json = copulaData.to_json(orient=\"values\")\n",
    "file = open('./../data/generated/telco_copula.json', 'w')\n",
    "file.write(copula_json)\n",
    "file.close()"
   ]
  },
  {
   "cell_type": "code",
   "execution_count": 25,
   "metadata": {
    "ExecuteTime": {
     "end_time": "2021-07-28T07:22:51.955141Z",
     "start_time": "2021-07-28T07:22:51.926471Z"
    }
   },
   "outputs": [],
   "source": [
    "tvae_json = tvaeData.to_json(orient=\"values\")\n",
    "file = open('./../data/generated/telco_tvae.json', 'w')\n",
    "file.write(tvae_json)\n",
    "file.close()"
   ]
  },
  {
   "cell_type": "markdown",
   "metadata": {},
   "source": [
    "# Experimentation on enriched dataset <a class=\"anchor\" id=\"Experimentation\"></a>\n",
    "\n",
    "This data set involves more categorical data. Some of the numeric data should not be generated as normal numeric data is with distribution, for some primary keys can be assigned, however, for simplicity in this exploration they the customer, account, subscription and phone numbers are generated as if they were just categorical data. There is no transformer to generate acceptable phone numbers this would need to be created (or anonymize the column)."
   ]
  },
  {
   "cell_type": "markdown",
   "metadata": {},
   "source": [
    "## Loading enriched dataset <a class=\"anchor\" id=\"loading2\"></a>"
   ]
  },
  {
   "cell_type": "code",
   "execution_count": 29,
   "metadata": {
    "ExecuteTime": {
     "end_time": "2021-07-28T07:22:52.001944Z",
     "start_time": "2021-07-28T07:22:51.958141Z"
    }
   },
   "outputs": [
    {
     "data": {
      "text/html": [
       "<div>\n",
       "<style scoped>\n",
       "    .dataframe tbody tr th:only-of-type {\n",
       "        vertical-align: middle;\n",
       "    }\n",
       "\n",
       "    .dataframe tbody tr th {\n",
       "        vertical-align: top;\n",
       "    }\n",
       "\n",
       "    .dataframe thead th {\n",
       "        text-align: right;\n",
       "    }\n",
       "</style>\n",
       "<table border=\"1\" class=\"dataframe\">\n",
       "  <thead>\n",
       "    <tr style=\"text-align: right;\">\n",
       "      <th></th>\n",
       "      <th>Unnamed: 0</th>\n",
       "      <th>Company</th>\n",
       "      <th>Customer Number</th>\n",
       "      <th>Account Number</th>\n",
       "      <th>Subscription Number</th>\n",
       "      <th>Phone Number</th>\n",
       "      <th>Product Line</th>\n",
       "      <th>Product Family</th>\n",
       "      <th>Produit</th>\n",
       "      <th>Client</th>\n",
       "      <th>VOICE IN (Min)</th>\n",
       "      <th>VOICE OUT (Min)</th>\n",
       "      <th>Message</th>\n",
       "      <th>Data</th>\n",
       "    </tr>\n",
       "  </thead>\n",
       "  <tbody>\n",
       "    <tr>\n",
       "      <th>0</th>\n",
       "      <td>0</td>\n",
       "      <td>.</td>\n",
       "      <td>21024170</td>\n",
       "      <td>21024170</td>\n",
       "      <td>199761</td>\n",
       "      <td>352691277566</td>\n",
       "      <td>MOBILE</td>\n",
       "      <td>smart</td>\n",
       "      <td>LUX_SMART_V7_S_SIM_ONLY</td>\n",
       "      <td>SL</td>\n",
       "      <td>571.533333</td>\n",
       "      <td>2001.116667</td>\n",
       "      <td>22</td>\n",
       "      <td>221.893080</td>\n",
       "    </tr>\n",
       "    <tr>\n",
       "      <th>1</th>\n",
       "      <td>1</td>\n",
       "      <td>.</td>\n",
       "      <td>22073297</td>\n",
       "      <td>22197893</td>\n",
       "      <td>1083622</td>\n",
       "      <td>352691277009</td>\n",
       "      <td>MOBILE</td>\n",
       "      <td>smart</td>\n",
       "      <td>LUX_SMART_V09_XL_PACKAGE</td>\n",
       "      <td>SL</td>\n",
       "      <td>1193.066667</td>\n",
       "      <td>5318.650000</td>\n",
       "      <td>1429</td>\n",
       "      <td>245019.044338</td>\n",
       "    </tr>\n",
       "    <tr>\n",
       "      <th>2</th>\n",
       "      <td>2</td>\n",
       "      <td>AUTOCARS SALES - LENTZ S.A.</td>\n",
       "      <td>21024519</td>\n",
       "      <td>21024519</td>\n",
       "      <td>192883</td>\n",
       "      <td>352691211012</td>\n",
       "      <td>MOBILE</td>\n",
       "      <td>smart</td>\n",
       "      <td>LUX_SMART_V6_L_PACKAGE</td>\n",
       "      <td>SL</td>\n",
       "      <td>2415.383333</td>\n",
       "      <td>5557.983333</td>\n",
       "      <td>101</td>\n",
       "      <td>19492.130311</td>\n",
       "    </tr>\n",
       "    <tr>\n",
       "      <th>3</th>\n",
       "      <td>3</td>\n",
       "      <td>AUTOCARS SALES - LENTZ S.A.</td>\n",
       "      <td>21024519</td>\n",
       "      <td>21024519</td>\n",
       "      <td>205747</td>\n",
       "      <td>352691323527</td>\n",
       "      <td>MOBILE</td>\n",
       "      <td>Enterprise</td>\n",
       "      <td>LUX_POST_TAN_ENTERPRISE</td>\n",
       "      <td>SL</td>\n",
       "      <td>0.000000</td>\n",
       "      <td>4.233333</td>\n",
       "      <td>0</td>\n",
       "      <td>0.000000</td>\n",
       "    </tr>\n",
       "    <tr>\n",
       "      <th>4</th>\n",
       "      <td>4</td>\n",
       "      <td>AUTOCARS SALES - LENTZ S.A.</td>\n",
       "      <td>21024519</td>\n",
       "      <td>21024519</td>\n",
       "      <td>1134547</td>\n",
       "      <td>352691277032</td>\n",
       "      <td>MOBILE</td>\n",
       "      <td>Enterprise</td>\n",
       "      <td>LUX_POST_TAN_ENTERPRISE</td>\n",
       "      <td>SL</td>\n",
       "      <td>443.883333</td>\n",
       "      <td>1519.433333</td>\n",
       "      <td>3</td>\n",
       "      <td>0.000000</td>\n",
       "    </tr>\n",
       "  </tbody>\n",
       "</table>\n",
       "</div>"
      ],
      "text/plain": [
       "   Unnamed: 0                      Company  Customer Number  Account Number  \\\n",
       "0           0                            .         21024170        21024170   \n",
       "1           1                            .         22073297        22197893   \n",
       "2           2  AUTOCARS SALES - LENTZ S.A.         21024519        21024519   \n",
       "3           3  AUTOCARS SALES - LENTZ S.A.         21024519        21024519   \n",
       "4           4  AUTOCARS SALES - LENTZ S.A.         21024519        21024519   \n",
       "\n",
       "   Subscription Number  Phone Number Product Line Product Family  \\\n",
       "0               199761  352691277566       MOBILE          smart   \n",
       "1              1083622  352691277009       MOBILE          smart   \n",
       "2               192883  352691211012       MOBILE          smart   \n",
       "3               205747  352691323527       MOBILE     Enterprise   \n",
       "4              1134547  352691277032       MOBILE     Enterprise   \n",
       "\n",
       "                    Produit Client  VOICE IN (Min)  VOICE OUT (Min)  Message  \\\n",
       "0   LUX_SMART_V7_S_SIM_ONLY     SL      571.533333      2001.116667       22   \n",
       "1  LUX_SMART_V09_XL_PACKAGE     SL     1193.066667      5318.650000     1429   \n",
       "2    LUX_SMART_V6_L_PACKAGE     SL     2415.383333      5557.983333      101   \n",
       "3   LUX_POST_TAN_ENTERPRISE     SL        0.000000         4.233333        0   \n",
       "4   LUX_POST_TAN_ENTERPRISE     SL      443.883333      1519.433333        3   \n",
       "\n",
       "            Data  \n",
       "0     221.893080  \n",
       "1  245019.044338  \n",
       "2   19492.130311  \n",
       "3       0.000000  \n",
       "4       0.000000  "
      ]
     },
     "execution_count": 29,
     "metadata": {},
     "output_type": "execute_result"
    }
   ],
   "source": [
    "dfPackage = pd.read_csv('./../data/common/telco_package.csv',\n",
    "                    sep=',',\n",
    "                    on_bad_lines='error')\n",
    "dfPackage.drop(columns=['Std_Data', 'Std_Message', 'Std_VoiceIn', 'Std_VoiceOut'],\n",
    "          inplace=True)\n",
    "dfPackage.head()"
   ]
  },
  {
   "cell_type": "code",
   "execution_count": 30,
   "metadata": {
    "ExecuteTime": {
     "end_time": "2021-07-28T07:22:52.032968Z",
     "start_time": "2021-07-28T07:22:52.003943Z"
    }
   },
   "outputs": [
    {
     "name": "stdout",
     "output_type": "stream",
     "text": [
      "<class 'pandas.core.frame.DataFrame'>\n",
      "RangeIndex: 2041 entries, 0 to 2040\n",
      "Data columns (total 14 columns):\n",
      " #   Column               Non-Null Count  Dtype  \n",
      "---  ------               --------------  -----  \n",
      " 0   Unnamed: 0           2041 non-null   int64  \n",
      " 1   Company              2041 non-null   object \n",
      " 2   Customer Number      2041 non-null   int64  \n",
      " 3   Account Number       2041 non-null   int64  \n",
      " 4   Subscription Number  2041 non-null   int64  \n",
      " 5   Phone Number         2041 non-null   int64  \n",
      " 6   Product Line         2041 non-null   object \n",
      " 7   Product Family       2041 non-null   object \n",
      " 8   Produit              2041 non-null   object \n",
      " 9   Client               2041 non-null   object \n",
      " 10  VOICE IN (Min)       2041 non-null   float64\n",
      " 11  VOICE OUT (Min)      2041 non-null   float64\n",
      " 12  Message              2041 non-null   int64  \n",
      " 13  Data                 2041 non-null   float64\n",
      "dtypes: float64(3), int64(6), object(5)\n",
      "memory usage: 223.4+ KB\n"
     ]
    }
   ],
   "source": [
    "dfPackage.info()"
   ]
  },
  {
   "cell_type": "markdown",
   "metadata": {},
   "source": [
    "## Fitting the models <a class=\"anchor\" id=\"fitting2\"></a>"
   ]
  },
  {
   "cell_type": "code",
   "execution_count": 31,
   "metadata": {
    "ExecuteTime": {
     "end_time": "2021-07-28T07:22:52.048977Z",
     "start_time": "2021-07-28T07:22:52.035946Z"
    }
   },
   "outputs": [
    {
     "data": {
      "image/svg+xml": [
       "<?xml version=\"1.0\" encoding=\"UTF-8\" standalone=\"no\"?>\n",
       "<!DOCTYPE svg PUBLIC \"-//W3C//DTD SVG 1.1//EN\"\n",
       " \"http://www.w3.org/Graphics/SVG/1.1/DTD/svg11.dtd\">\n",
       "<!-- Generated by graphviz version 9.0.0 (20230911.1827)\n",
       " -->\n",
       "<!-- Title: Metadata Pages: 1 -->\n",
       "<svg width=\"167pt\" height=\"124pt\"\n",
       " viewBox=\"0.00 0.00 166.50 124.00\" xmlns=\"http://www.w3.org/2000/svg\" xmlns:xlink=\"http://www.w3.org/1999/xlink\">\n",
       "<g id=\"graph0\" class=\"graph\" transform=\"scale(1 1) rotate(0) translate(4 120)\">\n",
       "<title>Metadata</title>\n",
       "<polygon fill=\"white\" stroke=\"none\" points=\"-4,4 -4,-120 162.5,-120 162.5,4 -4,4\"/>\n",
       "<g id=\"node1\" class=\"node\">\n",
       "<title></title>\n",
       "<path fill=\"#ffec8b\" stroke=\"black\" d=\"M12,-0.5C12,-0.5 146.5,-0.5 146.5,-0.5 152.5,-0.5 158.5,-6.5 158.5,-12.5 158.5,-12.5 158.5,-103.5 158.5,-103.5 158.5,-109.5 152.5,-115.5 146.5,-115.5 146.5,-115.5 12,-115.5 12,-115.5 6,-115.5 0,-109.5 0,-103.5 0,-103.5 0,-12.5 0,-12.5 0,-6.5 6,-0.5 12,-0.5\"/>\n",
       "<text text-anchor=\"start\" x=\"8\" y=\"-98.2\" font-family=\"Times,serif\" font-size=\"14.00\">Columns</text>\n",
       "<text text-anchor=\"start\" x=\"8\" y=\"-81.7\" font-family=\"Times,serif\" font-size=\"14.00\">    • categorical : 5</text>\n",
       "<text text-anchor=\"start\" x=\"8\" y=\"-65.2\" font-family=\"Times,serif\" font-size=\"14.00\">    • id : 1</text>\n",
       "<text text-anchor=\"start\" x=\"8\" y=\"-48.7\" font-family=\"Times,serif\" font-size=\"14.00\">    • numerical : 7</text>\n",
       "<text text-anchor=\"start\" x=\"8\" y=\"-32.2\" font-family=\"Times,serif\" font-size=\"14.00\">    • other : 1</text>\n",
       "<polyline fill=\"none\" stroke=\"black\" points=\"0,-25 158.5,-25\"/>\n",
       "<text text-anchor=\"start\" x=\"8\" y=\"-7.7\" font-family=\"Times,serif\" font-size=\"14.00\">Primary key: Unnamed: 0</text>\n",
       "</g>\n",
       "</g>\n",
       "</svg>\n"
      ],
      "text/plain": [
       "<graphviz.graphs.Digraph at 0x13b1cacb0>"
      ]
     },
     "execution_count": 31,
     "metadata": {},
     "output_type": "execute_result"
    }
   ],
   "source": [
    "from sdv.metadata import SingleTableMetadata\n",
    "\n",
    "metadata = SingleTableMetadata()\n",
    "metadata.detect_from_dataframe(dfPackage)\n",
    "metadata.visualize(\n",
    "    show_table_details='summarized',\n",
    "    output_filepath='./../data/metadata/telco_package.png'\n",
    ")"
   ]
  },
  {
   "cell_type": "markdown",
   "metadata": {},
   "source": [
    "### GaussianCopula <a class=\"anchor\" id=\"gaussian_fit2\"></a>"
   ]
  },
  {
   "cell_type": "code",
   "execution_count": 34,
   "metadata": {
    "ExecuteTime": {
     "end_time": "2021-07-28T07:23:00.891527Z",
     "start_time": "2021-07-28T07:22:52.051947Z"
    }
   },
   "outputs": [],
   "source": [
    "from sdv.single_table import GaussianCopulaSynthesizer\n",
    "\n",
    "gcop2_synthesizer = GaussianCopulaSynthesizer(metadata)\n",
    "gcop2_synthesizer.fit(dfPackage)\n",
    "gcop2_synthesizer.save(\n",
    "    filepath='./../models/gcop2_telco_package.pkl'\n",
    ")"
   ]
  },
  {
   "cell_type": "code",
   "execution_count": 35,
   "metadata": {
    "ExecuteTime": {
     "end_time": "2021-07-28T07:23:10.175494Z",
     "start_time": "2021-07-28T07:23:00.902545Z"
    }
   },
   "outputs": [
    {
     "data": {
      "text/html": [
       "<div>\n",
       "<style scoped>\n",
       "    .dataframe tbody tr th:only-of-type {\n",
       "        vertical-align: middle;\n",
       "    }\n",
       "\n",
       "    .dataframe tbody tr th {\n",
       "        vertical-align: top;\n",
       "    }\n",
       "\n",
       "    .dataframe thead th {\n",
       "        text-align: right;\n",
       "    }\n",
       "</style>\n",
       "<table border=\"1\" class=\"dataframe\">\n",
       "  <thead>\n",
       "    <tr style=\"text-align: right;\">\n",
       "      <th></th>\n",
       "      <th>Unnamed: 0</th>\n",
       "      <th>Company</th>\n",
       "      <th>Customer Number</th>\n",
       "      <th>Account Number</th>\n",
       "      <th>Subscription Number</th>\n",
       "      <th>Phone Number</th>\n",
       "      <th>Product Line</th>\n",
       "      <th>Product Family</th>\n",
       "      <th>Produit</th>\n",
       "      <th>Client</th>\n",
       "      <th>VOICE IN (Min)</th>\n",
       "      <th>VOICE OUT (Min)</th>\n",
       "      <th>Message</th>\n",
       "      <th>Data</th>\n",
       "    </tr>\n",
       "  </thead>\n",
       "  <tbody>\n",
       "    <tr>\n",
       "      <th>0</th>\n",
       "      <td>0</td>\n",
       "      <td>VOYAGES EMILE WEBER SÀRL</td>\n",
       "      <td>28066634</td>\n",
       "      <td>27441597</td>\n",
       "      <td>6124322</td>\n",
       "      <td>+1-814-725-7916x142</td>\n",
       "      <td>MOBILE</td>\n",
       "      <td>Enterprise</td>\n",
       "      <td>LUX_POST_TAN_ENTERPRISE</td>\n",
       "      <td>SL</td>\n",
       "      <td>77.776367</td>\n",
       "      <td>0.287479</td>\n",
       "      <td>2</td>\n",
       "      <td>16.987396</td>\n",
       "    </tr>\n",
       "    <tr>\n",
       "      <th>1</th>\n",
       "      <td>1</td>\n",
       "      <td>SLA S.A. C/O CAMIONNETTE</td>\n",
       "      <td>28065099</td>\n",
       "      <td>27441597</td>\n",
       "      <td>5697106</td>\n",
       "      <td>+1-995-619-4831x313</td>\n",
       "      <td>MOBILE</td>\n",
       "      <td>Enterprise</td>\n",
       "      <td>LUX_POST_TAN_ENTERPRISE</td>\n",
       "      <td>SL</td>\n",
       "      <td>0.806744</td>\n",
       "      <td>0.889051</td>\n",
       "      <td>101</td>\n",
       "      <td>34.131344</td>\n",
       "    </tr>\n",
       "    <tr>\n",
       "      <th>2</th>\n",
       "      <td>2</td>\n",
       "      <td>SLA S.A C/O BUS</td>\n",
       "      <td>28066634</td>\n",
       "      <td>27441597</td>\n",
       "      <td>5673260</td>\n",
       "      <td>4023526871</td>\n",
       "      <td>MOBILE</td>\n",
       "      <td>Enterprise</td>\n",
       "      <td>LUX_POST_TAN_ENTERPRISE</td>\n",
       "      <td>SL</td>\n",
       "      <td>0.016962</td>\n",
       "      <td>0.005051</td>\n",
       "      <td>0</td>\n",
       "      <td>928.034877</td>\n",
       "    </tr>\n",
       "    <tr>\n",
       "      <th>3</th>\n",
       "      <td>3</td>\n",
       "      <td>SALES-LENTZ AUTOCARS S.A – EXECUTIVE LANE</td>\n",
       "      <td>21476788</td>\n",
       "      <td>27441597</td>\n",
       "      <td>4760559</td>\n",
       "      <td>352-274-5905x29231</td>\n",
       "      <td>MOBILE</td>\n",
       "      <td>Enterprise</td>\n",
       "      <td>LUX_POST_TAN_ENTERPRISE</td>\n",
       "      <td>SL</td>\n",
       "      <td>1129.284691</td>\n",
       "      <td>2823.096150</td>\n",
       "      <td>444</td>\n",
       "      <td>148.062532</td>\n",
       "    </tr>\n",
       "    <tr>\n",
       "      <th>4</th>\n",
       "      <td>4</td>\n",
       "      <td>SLA S.A. C/O CAMIONNETTE</td>\n",
       "      <td>21026219</td>\n",
       "      <td>27441597</td>\n",
       "      <td>4815810</td>\n",
       "      <td>888-871-5261x231</td>\n",
       "      <td>MOBILE</td>\n",
       "      <td>Enterprise</td>\n",
       "      <td>LUX_POST_TAN_ENTERPRISE</td>\n",
       "      <td>SL</td>\n",
       "      <td>461.709718</td>\n",
       "      <td>214.919515</td>\n",
       "      <td>129</td>\n",
       "      <td>0.227119</td>\n",
       "    </tr>\n",
       "  </tbody>\n",
       "</table>\n",
       "</div>"
      ],
      "text/plain": [
       "   Unnamed: 0                                    Company  Customer Number  \\\n",
       "0           0                   VOYAGES EMILE WEBER SÀRL         28066634   \n",
       "1           1                   SLA S.A. C/O CAMIONNETTE         28065099   \n",
       "2           2                            SLA S.A C/O BUS         28066634   \n",
       "3           3  SALES-LENTZ AUTOCARS S.A – EXECUTIVE LANE         21476788   \n",
       "4           4                   SLA S.A. C/O CAMIONNETTE         21026219   \n",
       "\n",
       "   Account Number  Subscription Number         Phone Number Product Line  \\\n",
       "0        27441597              6124322  +1-814-725-7916x142       MOBILE   \n",
       "1        27441597              5697106  +1-995-619-4831x313       MOBILE   \n",
       "2        27441597              5673260           4023526871       MOBILE   \n",
       "3        27441597              4760559   352-274-5905x29231       MOBILE   \n",
       "4        27441597              4815810     888-871-5261x231       MOBILE   \n",
       "\n",
       "  Product Family                  Produit Client  VOICE IN (Min)  \\\n",
       "0     Enterprise  LUX_POST_TAN_ENTERPRISE     SL       77.776367   \n",
       "1     Enterprise  LUX_POST_TAN_ENTERPRISE     SL        0.806744   \n",
       "2     Enterprise  LUX_POST_TAN_ENTERPRISE     SL        0.016962   \n",
       "3     Enterprise  LUX_POST_TAN_ENTERPRISE     SL     1129.284691   \n",
       "4     Enterprise  LUX_POST_TAN_ENTERPRISE     SL      461.709718   \n",
       "\n",
       "   VOICE OUT (Min)  Message        Data  \n",
       "0         0.287479        2   16.987396  \n",
       "1         0.889051      101   34.131344  \n",
       "2         0.005051        0  928.034877  \n",
       "3      2823.096150      444  148.062532  \n",
       "4       214.919515      129    0.227119  "
      ]
     },
     "execution_count": 35,
     "metadata": {},
     "output_type": "execute_result"
    }
   ],
   "source": [
    "gaussianData2 = gcop2_synthesizer.sample(10000)\n",
    "gaussianData2.to_csv('./../data/synthesized/telcopkg_gaussiandata.csv')\n",
    "gaussianData2.head()"
   ]
  },
  {
   "cell_type": "markdown",
   "metadata": {},
   "source": [
    "### CTGAN <a class=\"anchor\" id=\"CTGAN_fit2\"></a>"
   ]
  },
  {
   "cell_type": "code",
   "execution_count": 37,
   "metadata": {
    "ExecuteTime": {
     "end_time": "2021-07-28T07:26:47.432442Z",
     "start_time": "2021-07-28T07:23:10.177493Z"
    }
   },
   "outputs": [
    {
     "name": "stderr",
     "output_type": "stream",
     "text": [
      "Gen. (-0.11) | Discrim. (-0.42): 100%|██████████| 500/500 [01:48<00:00,  4.61it/s]\n"
     ]
    }
   ],
   "source": [
    "from sdv.single_table import CTGANSynthesizer\n",
    "\n",
    "ctg2_synthesizer = CTGANSynthesizer(\n",
    "    metadata,\n",
    "    enforce_rounding=False,\n",
    "    epochs=500,\n",
    "    verbose=True)\n",
    "ctg2_synthesizer.fit(dfPackage)\n",
    "ctg2_synthesizer.save(\n",
    "    filepath='./../models/ctg_telco_package.pkl'\n",
    ")"
   ]
  },
  {
   "cell_type": "code",
   "execution_count": 38,
   "metadata": {
    "ExecuteTime": {
     "end_time": "2021-07-28T07:26:55.480098Z",
     "start_time": "2021-07-28T07:26:47.435446Z"
    }
   },
   "outputs": [
    {
     "data": {
      "text/html": [
       "<div>\n",
       "<style scoped>\n",
       "    .dataframe tbody tr th:only-of-type {\n",
       "        vertical-align: middle;\n",
       "    }\n",
       "\n",
       "    .dataframe tbody tr th {\n",
       "        vertical-align: top;\n",
       "    }\n",
       "\n",
       "    .dataframe thead th {\n",
       "        text-align: right;\n",
       "    }\n",
       "</style>\n",
       "<table border=\"1\" class=\"dataframe\">\n",
       "  <thead>\n",
       "    <tr style=\"text-align: right;\">\n",
       "      <th></th>\n",
       "      <th>ipRange</th>\n",
       "      <th>ipHop</th>\n",
       "      <th>timeSubmitSec</th>\n",
       "      <th>inList</th>\n",
       "      <th>appHour</th>\n",
       "      <th>label</th>\n",
       "    </tr>\n",
       "  </thead>\n",
       "  <tbody>\n",
       "    <tr>\n",
       "      <th>count</th>\n",
       "      <td>10000.000000</td>\n",
       "      <td>10000.000000</td>\n",
       "      <td>10000.000000</td>\n",
       "      <td>10000.000000</td>\n",
       "      <td>10000.000000</td>\n",
       "      <td>10000.000000</td>\n",
       "    </tr>\n",
       "    <tr>\n",
       "      <th>mean</th>\n",
       "      <td>13092.746095</td>\n",
       "      <td>0.888700</td>\n",
       "      <td>14.583634</td>\n",
       "      <td>1.230600</td>\n",
       "      <td>12.131656</td>\n",
       "      <td>0.292000</td>\n",
       "    </tr>\n",
       "    <tr>\n",
       "      <th>std</th>\n",
       "      <td>5614.025290</td>\n",
       "      <td>1.189813</td>\n",
       "      <td>7.597667</td>\n",
       "      <td>1.501149</td>\n",
       "      <td>5.519578</td>\n",
       "      <td>0.454705</td>\n",
       "    </tr>\n",
       "    <tr>\n",
       "      <th>min</th>\n",
       "      <td>0.000000</td>\n",
       "      <td>0.000000</td>\n",
       "      <td>0.000000</td>\n",
       "      <td>0.000000</td>\n",
       "      <td>1.000000</td>\n",
       "      <td>0.000000</td>\n",
       "    </tr>\n",
       "    <tr>\n",
       "      <th>25%</th>\n",
       "      <td>9306.724097</td>\n",
       "      <td>0.000000</td>\n",
       "      <td>4.683124</td>\n",
       "      <td>0.000000</td>\n",
       "      <td>9.881713</td>\n",
       "      <td>0.000000</td>\n",
       "    </tr>\n",
       "    <tr>\n",
       "      <th>50%</th>\n",
       "      <td>14350.146582</td>\n",
       "      <td>0.000000</td>\n",
       "      <td>17.978901</td>\n",
       "      <td>0.000000</td>\n",
       "      <td>10.950753</td>\n",
       "      <td>0.000000</td>\n",
       "    </tr>\n",
       "    <tr>\n",
       "      <th>75%</th>\n",
       "      <td>16133.525261</td>\n",
       "      <td>1.000000</td>\n",
       "      <td>20.048002</td>\n",
       "      <td>3.000000</td>\n",
       "      <td>13.540233</td>\n",
       "      <td>1.000000</td>\n",
       "    </tr>\n",
       "    <tr>\n",
       "      <th>max</th>\n",
       "      <td>39302.019227</td>\n",
       "      <td>5.000000</td>\n",
       "      <td>25.903553</td>\n",
       "      <td>6.000000</td>\n",
       "      <td>23.000000</td>\n",
       "      <td>1.000000</td>\n",
       "    </tr>\n",
       "  </tbody>\n",
       "</table>\n",
       "</div>"
      ],
      "text/plain": [
       "            ipRange         ipHop  timeSubmitSec        inList       appHour  \\\n",
       "count  10000.000000  10000.000000   10000.000000  10000.000000  10000.000000   \n",
       "mean   13092.746095      0.888700      14.583634      1.230600     12.131656   \n",
       "std     5614.025290      1.189813       7.597667      1.501149      5.519578   \n",
       "min        0.000000      0.000000       0.000000      0.000000      1.000000   \n",
       "25%     9306.724097      0.000000       4.683124      0.000000      9.881713   \n",
       "50%    14350.146582      0.000000      17.978901      0.000000     10.950753   \n",
       "75%    16133.525261      1.000000      20.048002      3.000000     13.540233   \n",
       "max    39302.019227      5.000000      25.903553      6.000000     23.000000   \n",
       "\n",
       "              label  \n",
       "count  10000.000000  \n",
       "mean       0.292000  \n",
       "std        0.454705  \n",
       "min        0.000000  \n",
       "25%        0.000000  \n",
       "50%        0.000000  \n",
       "75%        1.000000  \n",
       "max        1.000000  "
      ]
     },
     "execution_count": 38,
     "metadata": {},
     "output_type": "execute_result"
    }
   ],
   "source": [
    "ctgData2 = ctg_synthesizer.sample(num_rows=10000)\n",
    "ctgData2.to_csv('./../data/synthesized/telcopkg_ctgdata.csv')\n",
    "ctgData2.describe()"
   ]
  },
  {
   "cell_type": "markdown",
   "metadata": {},
   "source": [
    "### CopulaGAN <a class=\"anchor\" id=\"copula_fit2\"></a>"
   ]
  },
  {
   "cell_type": "code",
   "execution_count": 39,
   "metadata": {
    "ExecuteTime": {
     "end_time": "2021-07-28T07:30:08.711472Z",
     "start_time": "2021-07-28T07:26:55.482062Z"
    }
   },
   "outputs": [
    {
     "name": "stderr",
     "output_type": "stream",
     "text": [
      "Gen. (0.26) | Discrim. (0.01):  10%|█         | 50/500 [00:12<01:56,  3.87it/s] \n"
     ]
    },
    {
     "ename": "KeyboardInterrupt",
     "evalue": "",
     "output_type": "error",
     "traceback": [
      "\u001b[0;31m---------------------------------------------------------------------------\u001b[0m",
      "\u001b[0;31mKeyboardInterrupt\u001b[0m                         Traceback (most recent call last)",
      "Cell \u001b[0;32mIn[39], line 9\u001b[0m\n\u001b[1;32m      1\u001b[0m \u001b[38;5;28;01mfrom\u001b[39;00m \u001b[38;5;21;01msdv\u001b[39;00m\u001b[38;5;21;01m.\u001b[39;00m\u001b[38;5;21;01msingle_table\u001b[39;00m \u001b[38;5;28;01mimport\u001b[39;00m CopulaGANSynthesizer\n\u001b[1;32m      3\u001b[0m cop_synthesizer \u001b[38;5;241m=\u001b[39m CopulaGANSynthesizer(\n\u001b[1;32m      4\u001b[0m     metadata,\n\u001b[1;32m      5\u001b[0m     enforce_min_max_values\u001b[38;5;241m=\u001b[39m\u001b[38;5;28;01mTrue\u001b[39;00m,\n\u001b[1;32m      6\u001b[0m     enforce_rounding\u001b[38;5;241m=\u001b[39m\u001b[38;5;28;01mFalse\u001b[39;00m,\n\u001b[1;32m      7\u001b[0m     epochs\u001b[38;5;241m=\u001b[39m\u001b[38;5;241m500\u001b[39m,\n\u001b[1;32m      8\u001b[0m     verbose\u001b[38;5;241m=\u001b[39m\u001b[38;5;28;01mTrue\u001b[39;00m)\n\u001b[0;32m----> 9\u001b[0m \u001b[43mcop_synthesizer\u001b[49m\u001b[38;5;241;43m.\u001b[39;49m\u001b[43mfit\u001b[49m\u001b[43m(\u001b[49m\u001b[43mdfPackage\u001b[49m\u001b[43m)\u001b[49m\n\u001b[1;32m     10\u001b[0m cop_synthesizer\u001b[38;5;241m.\u001b[39msave(\n\u001b[1;32m     11\u001b[0m     filepath\u001b[38;5;241m=\u001b[39m\u001b[38;5;124m'\u001b[39m\u001b[38;5;124m./../models/cop_telco_package.pkl\u001b[39m\u001b[38;5;124m'\u001b[39m\n\u001b[1;32m     12\u001b[0m )\n",
      "File \u001b[0;32m/Library/Frameworks/Python.framework/Versions/3.10/lib/python3.10/site-packages/sdv/single_table/base.py:385\u001b[0m, in \u001b[0;36mBaseSynthesizer.fit\u001b[0;34m(self, data)\u001b[0m\n\u001b[1;32m    383\u001b[0m \u001b[38;5;28mself\u001b[39m\u001b[38;5;241m.\u001b[39m_random_state_set \u001b[38;5;241m=\u001b[39m \u001b[38;5;28;01mFalse\u001b[39;00m\n\u001b[1;32m    384\u001b[0m processed_data \u001b[38;5;241m=\u001b[39m \u001b[38;5;28mself\u001b[39m\u001b[38;5;241m.\u001b[39m_preprocess(data)\n\u001b[0;32m--> 385\u001b[0m \u001b[38;5;28;43mself\u001b[39;49m\u001b[38;5;241;43m.\u001b[39;49m\u001b[43mfit_processed_data\u001b[49m\u001b[43m(\u001b[49m\u001b[43mprocessed_data\u001b[49m\u001b[43m)\u001b[49m\n",
      "File \u001b[0;32m/Library/Frameworks/Python.framework/Versions/3.10/lib/python3.10/site-packages/sdv/single_table/base.py:368\u001b[0m, in \u001b[0;36mBaseSynthesizer.fit_processed_data\u001b[0;34m(self, processed_data)\u001b[0m\n\u001b[1;32m    361\u001b[0m \u001b[38;5;250m\u001b[39m\u001b[38;5;124;03m\"\"\"Fit this model to the transformed data.\u001b[39;00m\n\u001b[1;32m    362\u001b[0m \n\u001b[1;32m    363\u001b[0m \u001b[38;5;124;03mArgs:\u001b[39;00m\n\u001b[1;32m    364\u001b[0m \u001b[38;5;124;03m    processed_data (pandas.DataFrame):\u001b[39;00m\n\u001b[1;32m    365\u001b[0m \u001b[38;5;124;03m        The transformed data used to fit the model to.\u001b[39;00m\n\u001b[1;32m    366\u001b[0m \u001b[38;5;124;03m\"\"\"\u001b[39;00m\n\u001b[1;32m    367\u001b[0m \u001b[38;5;28;01mif\u001b[39;00m \u001b[38;5;129;01mnot\u001b[39;00m processed_data\u001b[38;5;241m.\u001b[39mempty:\n\u001b[0;32m--> 368\u001b[0m     \u001b[38;5;28;43mself\u001b[39;49m\u001b[38;5;241;43m.\u001b[39;49m\u001b[43m_fit\u001b[49m\u001b[43m(\u001b[49m\u001b[43mprocessed_data\u001b[49m\u001b[43m)\u001b[49m\n\u001b[1;32m    370\u001b[0m \u001b[38;5;28mself\u001b[39m\u001b[38;5;241m.\u001b[39m_fitted \u001b[38;5;241m=\u001b[39m \u001b[38;5;28;01mTrue\u001b[39;00m\n\u001b[1;32m    371\u001b[0m \u001b[38;5;28mself\u001b[39m\u001b[38;5;241m.\u001b[39m_fitted_date \u001b[38;5;241m=\u001b[39m datetime\u001b[38;5;241m.\u001b[39mdatetime\u001b[38;5;241m.\u001b[39mtoday()\u001b[38;5;241m.\u001b[39mstrftime(\u001b[38;5;124m'\u001b[39m\u001b[38;5;124m%\u001b[39m\u001b[38;5;124mY-\u001b[39m\u001b[38;5;124m%\u001b[39m\u001b[38;5;124mm-\u001b[39m\u001b[38;5;132;01m%d\u001b[39;00m\u001b[38;5;124m'\u001b[39m)\n",
      "File \u001b[0;32m/Library/Frameworks/Python.framework/Versions/3.10/lib/python3.10/site-packages/sdv/single_table/copulagan.py:197\u001b[0m, in \u001b[0;36mCopulaGANSynthesizer._fit\u001b[0;34m(self, processed_data)\u001b[0m\n\u001b[1;32m    194\u001b[0m \u001b[38;5;28mself\u001b[39m\u001b[38;5;241m.\u001b[39m_gaussian_normalizer_hyper_transformer\u001b[38;5;241m.\u001b[39mset_config(gaussian_normalizer_config)\n\u001b[1;32m    195\u001b[0m processed_data \u001b[38;5;241m=\u001b[39m \u001b[38;5;28mself\u001b[39m\u001b[38;5;241m.\u001b[39m_gaussian_normalizer_hyper_transformer\u001b[38;5;241m.\u001b[39mfit_transform(processed_data)\n\u001b[0;32m--> 197\u001b[0m \u001b[38;5;28;43msuper\u001b[39;49m\u001b[43m(\u001b[49m\u001b[43m)\u001b[49m\u001b[38;5;241;43m.\u001b[39;49m\u001b[43m_fit\u001b[49m\u001b[43m(\u001b[49m\u001b[43mprocessed_data\u001b[49m\u001b[43m)\u001b[49m\n",
      "File \u001b[0;32m/Library/Frameworks/Python.framework/Versions/3.10/lib/python3.10/site-packages/sdv/single_table/ctgan.py:210\u001b[0m, in \u001b[0;36mCTGANSynthesizer._fit\u001b[0;34m(self, processed_data)\u001b[0m\n\u001b[1;32m    204\u001b[0m discrete_columns \u001b[38;5;241m=\u001b[39m detect_discrete_columns(\n\u001b[1;32m    205\u001b[0m     \u001b[38;5;28mself\u001b[39m\u001b[38;5;241m.\u001b[39mget_metadata(),\n\u001b[1;32m    206\u001b[0m     processed_data,\n\u001b[1;32m    207\u001b[0m     transformers\n\u001b[1;32m    208\u001b[0m )\n\u001b[1;32m    209\u001b[0m \u001b[38;5;28mself\u001b[39m\u001b[38;5;241m.\u001b[39m_model \u001b[38;5;241m=\u001b[39m CTGAN(\u001b[38;5;241m*\u001b[39m\u001b[38;5;241m*\u001b[39m\u001b[38;5;28mself\u001b[39m\u001b[38;5;241m.\u001b[39m_model_kwargs)\n\u001b[0;32m--> 210\u001b[0m \u001b[38;5;28;43mself\u001b[39;49m\u001b[38;5;241;43m.\u001b[39;49m\u001b[43m_model\u001b[49m\u001b[38;5;241;43m.\u001b[39;49m\u001b[43mfit\u001b[49m\u001b[43m(\u001b[49m\u001b[43mprocessed_data\u001b[49m\u001b[43m,\u001b[49m\u001b[43m \u001b[49m\u001b[43mdiscrete_columns\u001b[49m\u001b[38;5;241;43m=\u001b[39;49m\u001b[43mdiscrete_columns\u001b[49m\u001b[43m)\u001b[49m\n",
      "File \u001b[0;32m/Library/Frameworks/Python.framework/Versions/3.10/lib/python3.10/site-packages/ctgan/synthesizers/base.py:50\u001b[0m, in \u001b[0;36mrandom_state.<locals>.wrapper\u001b[0;34m(self, *args, **kwargs)\u001b[0m\n\u001b[1;32m     48\u001b[0m \u001b[38;5;28;01mdef\u001b[39;00m \u001b[38;5;21mwrapper\u001b[39m(\u001b[38;5;28mself\u001b[39m, \u001b[38;5;241m*\u001b[39margs, \u001b[38;5;241m*\u001b[39m\u001b[38;5;241m*\u001b[39mkwargs):\n\u001b[1;32m     49\u001b[0m     \u001b[38;5;28;01mif\u001b[39;00m \u001b[38;5;28mself\u001b[39m\u001b[38;5;241m.\u001b[39mrandom_states \u001b[38;5;129;01mis\u001b[39;00m \u001b[38;5;28;01mNone\u001b[39;00m:\n\u001b[0;32m---> 50\u001b[0m         \u001b[38;5;28;01mreturn\u001b[39;00m \u001b[43mfunction\u001b[49m\u001b[43m(\u001b[49m\u001b[38;5;28;43mself\u001b[39;49m\u001b[43m,\u001b[49m\u001b[43m \u001b[49m\u001b[38;5;241;43m*\u001b[39;49m\u001b[43margs\u001b[49m\u001b[43m,\u001b[49m\u001b[43m \u001b[49m\u001b[38;5;241;43m*\u001b[39;49m\u001b[38;5;241;43m*\u001b[39;49m\u001b[43mkwargs\u001b[49m\u001b[43m)\u001b[49m\n\u001b[1;32m     52\u001b[0m     \u001b[38;5;28;01melse\u001b[39;00m:\n\u001b[1;32m     53\u001b[0m         \u001b[38;5;28;01mwith\u001b[39;00m set_random_states(\u001b[38;5;28mself\u001b[39m\u001b[38;5;241m.\u001b[39mrandom_states, \u001b[38;5;28mself\u001b[39m\u001b[38;5;241m.\u001b[39mset_random_state):\n",
      "File \u001b[0;32m/Library/Frameworks/Python.framework/Versions/3.10/lib/python3.10/site-packages/ctgan/synthesizers/ctgan.py:391\u001b[0m, in \u001b[0;36mCTGAN.fit\u001b[0;34m(self, train_data, discrete_columns, epochs)\u001b[0m\n\u001b[1;32m    388\u001b[0m loss_d \u001b[38;5;241m=\u001b[39m \u001b[38;5;241m-\u001b[39m(torch\u001b[38;5;241m.\u001b[39mmean(y_real) \u001b[38;5;241m-\u001b[39m torch\u001b[38;5;241m.\u001b[39mmean(y_fake))\n\u001b[1;32m    390\u001b[0m optimizerD\u001b[38;5;241m.\u001b[39mzero_grad(set_to_none\u001b[38;5;241m=\u001b[39m\u001b[38;5;28;01mFalse\u001b[39;00m)\n\u001b[0;32m--> 391\u001b[0m \u001b[43mpen\u001b[49m\u001b[38;5;241;43m.\u001b[39;49m\u001b[43mbackward\u001b[49m\u001b[43m(\u001b[49m\u001b[43mretain_graph\u001b[49m\u001b[38;5;241;43m=\u001b[39;49m\u001b[38;5;28;43;01mTrue\u001b[39;49;00m\u001b[43m)\u001b[49m\n\u001b[1;32m    392\u001b[0m loss_d\u001b[38;5;241m.\u001b[39mbackward()\n\u001b[1;32m    393\u001b[0m optimizerD\u001b[38;5;241m.\u001b[39mstep()\n",
      "File \u001b[0;32m/Library/Frameworks/Python.framework/Versions/3.10/lib/python3.10/site-packages/torch/_tensor.py:487\u001b[0m, in \u001b[0;36mTensor.backward\u001b[0;34m(self, gradient, retain_graph, create_graph, inputs)\u001b[0m\n\u001b[1;32m    477\u001b[0m \u001b[38;5;28;01mif\u001b[39;00m has_torch_function_unary(\u001b[38;5;28mself\u001b[39m):\n\u001b[1;32m    478\u001b[0m     \u001b[38;5;28;01mreturn\u001b[39;00m handle_torch_function(\n\u001b[1;32m    479\u001b[0m         Tensor\u001b[38;5;241m.\u001b[39mbackward,\n\u001b[1;32m    480\u001b[0m         (\u001b[38;5;28mself\u001b[39m,),\n\u001b[0;32m   (...)\u001b[0m\n\u001b[1;32m    485\u001b[0m         inputs\u001b[38;5;241m=\u001b[39minputs,\n\u001b[1;32m    486\u001b[0m     )\n\u001b[0;32m--> 487\u001b[0m \u001b[43mtorch\u001b[49m\u001b[38;5;241;43m.\u001b[39;49m\u001b[43mautograd\u001b[49m\u001b[38;5;241;43m.\u001b[39;49m\u001b[43mbackward\u001b[49m\u001b[43m(\u001b[49m\n\u001b[1;32m    488\u001b[0m \u001b[43m    \u001b[49m\u001b[38;5;28;43mself\u001b[39;49m\u001b[43m,\u001b[49m\u001b[43m \u001b[49m\u001b[43mgradient\u001b[49m\u001b[43m,\u001b[49m\u001b[43m \u001b[49m\u001b[43mretain_graph\u001b[49m\u001b[43m,\u001b[49m\u001b[43m \u001b[49m\u001b[43mcreate_graph\u001b[49m\u001b[43m,\u001b[49m\u001b[43m \u001b[49m\u001b[43minputs\u001b[49m\u001b[38;5;241;43m=\u001b[39;49m\u001b[43minputs\u001b[49m\n\u001b[1;32m    489\u001b[0m \u001b[43m\u001b[49m\u001b[43m)\u001b[49m\n",
      "File \u001b[0;32m/Library/Frameworks/Python.framework/Versions/3.10/lib/python3.10/site-packages/torch/autograd/__init__.py:200\u001b[0m, in \u001b[0;36mbackward\u001b[0;34m(tensors, grad_tensors, retain_graph, create_graph, grad_variables, inputs)\u001b[0m\n\u001b[1;32m    195\u001b[0m     retain_graph \u001b[38;5;241m=\u001b[39m create_graph\n\u001b[1;32m    197\u001b[0m \u001b[38;5;66;03m# The reason we repeat same the comment below is that\u001b[39;00m\n\u001b[1;32m    198\u001b[0m \u001b[38;5;66;03m# some Python versions print out the first line of a multi-line function\u001b[39;00m\n\u001b[1;32m    199\u001b[0m \u001b[38;5;66;03m# calls in the traceback and some print out the last line\u001b[39;00m\n\u001b[0;32m--> 200\u001b[0m \u001b[43mVariable\u001b[49m\u001b[38;5;241;43m.\u001b[39;49m\u001b[43m_execution_engine\u001b[49m\u001b[38;5;241;43m.\u001b[39;49m\u001b[43mrun_backward\u001b[49m\u001b[43m(\u001b[49m\u001b[43m  \u001b[49m\u001b[38;5;66;43;03m# Calls into the C++ engine to run the backward pass\u001b[39;49;00m\n\u001b[1;32m    201\u001b[0m \u001b[43m    \u001b[49m\u001b[43mtensors\u001b[49m\u001b[43m,\u001b[49m\u001b[43m \u001b[49m\u001b[43mgrad_tensors_\u001b[49m\u001b[43m,\u001b[49m\u001b[43m \u001b[49m\u001b[43mretain_graph\u001b[49m\u001b[43m,\u001b[49m\u001b[43m \u001b[49m\u001b[43mcreate_graph\u001b[49m\u001b[43m,\u001b[49m\u001b[43m \u001b[49m\u001b[43minputs\u001b[49m\u001b[43m,\u001b[49m\n\u001b[1;32m    202\u001b[0m \u001b[43m    \u001b[49m\u001b[43mallow_unreachable\u001b[49m\u001b[38;5;241;43m=\u001b[39;49m\u001b[38;5;28;43;01mTrue\u001b[39;49;00m\u001b[43m,\u001b[49m\u001b[43m \u001b[49m\u001b[43maccumulate_grad\u001b[49m\u001b[38;5;241;43m=\u001b[39;49m\u001b[38;5;28;43;01mTrue\u001b[39;49;00m\u001b[43m)\u001b[49m\n",
      "\u001b[0;31mKeyboardInterrupt\u001b[0m: "
     ]
    }
   ],
   "source": [
    "from sdv.single_table import CopulaGANSynthesizer\n",
    "\n",
    "cop2_synthesizer = CopulaGANSynthesizer(\n",
    "    metadata,\n",
    "    enforce_min_max_values=True,\n",
    "    enforce_rounding=False,\n",
    "    epochs=500,\n",
    "    verbose=True)\n",
    "cop2_synthesizer.fit(dfPackage)\n",
    "cop2_synthesizer.save(\n",
    "    filepath='./../models/cop_telco_package.pkl'\n",
    ")"
   ]
  },
  {
   "cell_type": "code",
   "execution_count": null,
   "metadata": {
    "ExecuteTime": {
     "end_time": "2021-07-28T07:30:18.027763Z",
     "start_time": "2021-07-28T07:30:08.713622Z"
    }
   },
   "outputs": [],
   "source": [
    "ctgData2 = ctg_synthesizer.sample(num_rows=10000)\n",
    "ctgData2.to_csv('./../data/synthesized/telcopkg_ctgdata.csv')\n",
    "ctgData2.describe()"
   ]
  },
  {
   "cell_type": "markdown",
   "metadata": {},
   "source": [
    "### TVAE  <a class=\"anchor\" id=\"TVAE_fit2\"></a>"
   ]
  },
  {
   "cell_type": "code",
   "execution_count": null,
   "metadata": {
    "ExecuteTime": {
     "end_time": "2021-07-28T07:30:56.447130Z",
     "start_time": "2021-07-28T07:30:18.030761Z"
    }
   },
   "outputs": [],
   "source": [
    "tvae2 = TVAE(primary_key='Unnamed: 0', field_transformers=field_transformer_en)\n",
    "tvae2.fit(dfen)"
   ]
  },
  {
   "cell_type": "code",
   "execution_count": null,
   "metadata": {
    "ExecuteTime": {
     "end_time": "2021-07-28T07:31:02.566774Z",
     "start_time": "2021-07-28T07:30:56.449033Z"
    }
   },
   "outputs": [],
   "source": [
    "tData2 = tvae2.sample(10000)\n",
    "tData2.head()"
   ]
  },
  {
   "cell_type": "markdown",
   "metadata": {},
   "source": [
    "## Evaluation of synthetic data <a class=\"anchor\" id=\"eval2\"></a>"
   ]
  },
  {
   "cell_type": "markdown",
   "metadata": {},
   "source": [
    "### Gaussian Copula  <a class=\"anchor\" id=\"gaussian_eval2\"></a>"
   ]
  },
  {
   "cell_type": "code",
   "execution_count": null,
   "metadata": {
    "ExecuteTime": {
     "end_time": "2021-07-28T07:31:58.582643Z",
     "start_time": "2021-07-28T07:31:02.568755Z"
    }
   },
   "outputs": [],
   "source": [
    "evaluate(gData2, dfen)"
   ]
  },
  {
   "cell_type": "code",
   "execution_count": null,
   "metadata": {
    "ExecuteTime": {
     "end_time": "2021-07-28T07:32:52.370838Z",
     "start_time": "2021-07-28T07:31:58.584640Z"
    }
   },
   "outputs": [],
   "source": [
    "evaluate(gData2, dfen, aggregate=False)"
   ]
  },
  {
   "cell_type": "markdown",
   "metadata": {},
   "source": [
    "### CTGAN <a class=\"anchor\" id=\"CTGAN_eval2\"></a>"
   ]
  },
  {
   "cell_type": "code",
   "execution_count": null,
   "metadata": {
    "ExecuteTime": {
     "end_time": "2021-07-28T07:33:57.709548Z",
     "start_time": "2021-07-28T07:32:52.372805Z"
    }
   },
   "outputs": [],
   "source": [
    "evaluate(ctData2, dfen)"
   ]
  },
  {
   "cell_type": "code",
   "execution_count": null,
   "metadata": {
    "ExecuteTime": {
     "end_time": "2021-07-28T07:35:06.241154Z",
     "start_time": "2021-07-28T07:33:57.712397Z"
    }
   },
   "outputs": [],
   "source": [
    "evaluate(ctData2, dfen, aggregate=False)"
   ]
  },
  {
   "cell_type": "markdown",
   "metadata": {},
   "source": [
    "### CopulaGAN <a class=\"anchor\" id=\"copula_eval2\"></a>"
   ]
  },
  {
   "cell_type": "code",
   "execution_count": null,
   "metadata": {
    "ExecuteTime": {
     "end_time": "2021-07-28T07:36:21.715492Z",
     "start_time": "2021-07-28T07:35:06.243118Z"
    }
   },
   "outputs": [],
   "source": [
    "evaluate(cData2, dfen)"
   ]
  },
  {
   "cell_type": "code",
   "execution_count": null,
   "metadata": {
    "ExecuteTime": {
     "end_time": "2021-07-28T07:37:52.111064Z",
     "start_time": "2021-07-28T07:36:21.718480Z"
    }
   },
   "outputs": [],
   "source": [
    "evaluate(cData2, dfen, aggregate=False)"
   ]
  },
  {
   "cell_type": "markdown",
   "metadata": {},
   "source": [
    "### TVAE <a class=\"anchor\" id=\"TVAE_eval2\"></a>"
   ]
  },
  {
   "cell_type": "code",
   "execution_count": null,
   "metadata": {
    "ExecuteTime": {
     "end_time": "2021-07-28T07:39:25.754151Z",
     "start_time": "2021-07-28T07:37:52.114067Z"
    }
   },
   "outputs": [],
   "source": [
    "evaluate(tData2, dfen)"
   ]
  },
  {
   "cell_type": "code",
   "execution_count": null,
   "metadata": {
    "ExecuteTime": {
     "end_time": "2021-07-28T07:40:58.216826Z",
     "start_time": "2021-07-28T07:39:25.757153Z"
    }
   },
   "outputs": [],
   "source": [
    "evaluate(tData2, dfen, aggregate=False)"
   ]
  },
  {
   "cell_type": "markdown",
   "metadata": {},
   "source": [
    "## Saving data"
   ]
  },
  {
   "cell_type": "code",
   "execution_count": null,
   "metadata": {
    "ExecuteTime": {
     "end_time": "2021-07-28T07:40:58.264821Z",
     "start_time": "2021-07-28T07:40:58.219805Z"
    }
   },
   "outputs": [],
   "source": [
    "G_json = gData2.to_json(orient=\"values\")\n",
    "file = open('data/generated/gaussian_enriched.json', 'w')\n",
    "file.write(G_json)\n",
    "file.close()"
   ]
  },
  {
   "cell_type": "code",
   "execution_count": null,
   "metadata": {
    "ExecuteTime": {
     "end_time": "2021-07-28T07:40:58.327246Z",
     "start_time": "2021-07-28T07:40:58.266803Z"
    }
   },
   "outputs": [],
   "source": [
    "ct_json = ctData2.to_json(orient=\"values\")\n",
    "file = open('data/generated/ctgan_enriched.json', 'w')\n",
    "file.write(ct_json)\n",
    "file.close()"
   ]
  },
  {
   "cell_type": "code",
   "execution_count": null,
   "metadata": {
    "ExecuteTime": {
     "end_time": "2021-07-28T07:40:58.390583Z",
     "start_time": "2021-07-28T07:40:58.328820Z"
    }
   },
   "outputs": [],
   "source": [
    "c_json = cData2.to_json(orient=\"values\")\n",
    "file = open('data/generated/copula_enriched.json', 'w')\n",
    "file.write(c_json)\n",
    "file.close()"
   ]
  },
  {
   "cell_type": "code",
   "execution_count": null,
   "metadata": {
    "ExecuteTime": {
     "end_time": "2021-07-28T07:40:58.438710Z",
     "start_time": "2021-07-28T07:40:58.392703Z"
    }
   },
   "outputs": [],
   "source": [
    "t_json = tData2.to_json(orient=\"values\")\n",
    "file = open('data/generated/tvae_enriched.json', 'w')\n",
    "file.write(t_json)\n",
    "file.close()"
   ]
  },
  {
   "cell_type": "code",
   "execution_count": null,
   "metadata": {},
   "outputs": [],
   "source": []
  }
 ],
 "metadata": {
  "hide_input": false,
  "kernelspec": {
   "display_name": "Python 3 (ipykernel)",
   "language": "python",
   "name": "python3"
  },
  "language_info": {
   "codemirror_mode": {
    "name": "ipython",
    "version": 3
   },
   "file_extension": ".py",
   "mimetype": "text/x-python",
   "name": "python",
   "nbconvert_exporter": "python",
   "pygments_lexer": "ipython3",
   "version": "3.10.10"
  },
  "nbTranslate": {
   "displayLangs": [
    "*"
   ],
   "hotkey": "alt-t",
   "langInMainMenu": true,
   "sourceLang": "en",
   "targetLang": "fr",
   "useGoogleTranslate": true
  },
  "toc": {
   "base_numbering": 1,
   "nav_menu": {},
   "number_sections": true,
   "sideBar": true,
   "skip_h1_title": false,
   "title_cell": "Table of Contents",
   "title_sidebar": "Contents",
   "toc_cell": true,
   "toc_position": {
    "height": "759px",
    "left": "22px",
    "top": "66px",
    "width": "291.281px"
   },
   "toc_section_display": true,
   "toc_window_display": true
  }
 },
 "nbformat": 4,
 "nbformat_minor": 4
}
