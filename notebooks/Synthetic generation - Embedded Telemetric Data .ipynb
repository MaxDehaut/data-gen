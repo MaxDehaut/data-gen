{
 "cells": [
  {
   "cell_type": "markdown",
   "id": "79bc8332",
   "metadata": {},
   "source": [
    "# Relational data SDV Generation\n",
    "This notebook exists to explore telemetric data generation using the SDV HMA1 model and assuming each level of the json object nesting is its own table in order to handle box positioning."
   ]
  },
  {
   "cell_type": "markdown",
   "id": "6272f11a",
   "metadata": {},
   "source": [
    "## HMA1 model"
   ]
  },
  {
   "cell_type": "markdown",
   "id": "25c1f2ca",
   "metadata": {},
   "source": [
    "## Loading Data given"
   ]
  },
  {
   "cell_type": "code",
   "execution_count": 1,
   "id": "c6fd52e1",
   "metadata": {
    "ExecuteTime": {
     "end_time": "2021-07-28T11:58:50.978800Z",
     "start_time": "2021-07-28T11:58:35.159495Z"
    }
   },
   "outputs": [],
   "source": [
    "# Imports\n",
    "import json\n",
    "import yapf\n",
    "import pandas as pd\n",
    "import numpy as np\n",
    "import random\n",
    "import seaborn as sns\n",
    "import matplotlib.pyplot as plt\n",
    "from sdv.evaluation import evaluate\n",
    "import warnings\n",
    "\n",
    "warnings.filterwarnings('ignore')"
   ]
  },
  {
   "cell_type": "markdown",
   "id": "958873a6",
   "metadata": {},
   "source": [
    "## Telemetric Dataset"
   ]
  },
  {
   "cell_type": "code",
   "execution_count": 39,
   "id": "a07a4c0e",
   "metadata": {
    "ExecuteTime": {
     "end_time": "2021-07-28T14:58:40.186555Z",
     "start_time": "2021-07-28T14:58:40.172555Z"
    },
    "deletable": false,
    "editable": false,
    "lang": "en",
    "run_control": {
     "frozen": true
    }
   },
   "outputs": [
    {
     "ename": "SyntaxError",
     "evalue": "invalid syntax (Temp/ipykernel_12404/899618887.py, line 2)",
     "output_type": "error",
     "traceback": [
      "\u001b[1;36m  File \u001b[1;32m\"C:\\Users\\ybonnair\\AppData\\Local\\Temp/ipykernel_12404/899618887.py\"\u001b[1;36m, line \u001b[1;32m2\u001b[0m\n\u001b[1;33m    Metadata = \"Tables\":{\u001b[0m\n\u001b[1;37m                       ^\u001b[0m\n\u001b[1;31mSyntaxError\u001b[0m\u001b[1;31m:\u001b[0m invalid syntax\n"
     ]
    }
   ],
   "source": [
    "# Display of one message to write up the metadata of the dict for all tables;\n",
    "Metadata = \"Tables\":{\n",
    "    \"_unmodeleddata\": {\n",
    "      \"sensors\": {\n",
    "        \"__t\": \"c\",\n",
    "        \"video\": {\n",
    "          \"boxes\": \"[0.4961545169353485, 0.7034689784049988, 0.985248327255249, 0.9264991879463196]\",\n",
    "          \"classes\": \"tv\",\n",
    "          \"scores\": \"0.5625\"\n",
    "        }\n",
    "      }\n",
    "    },\n",
    "    \"_eventtype\": \"Telemetry\",\n",
    "    \"_timestamp\": \"07/13/2021, 12:11:38.276897\",\n",
    "    \"EventProcessedUtcTime\": \"2021-07-13T10:29:45.6624141Z\",\n",
    "    \"PartitionId\": 0,\n",
    "    \"EventEnqueuedUtcTime\": \"2021-07-13T10:07:08.1210000Z\",\n",
    "    \"IoTHub\": {\n",
    "      \"MessageId\": null,\n",
    "      \"CorrelationId\": null,\n",
    "      \"ConnectionDeviceId\": \"iotedge-aidemo-dev-westeu-001\",\n",
    "      \"ConnectionDeviceGenerationId\": \"637607268247344024\",\n",
    "      \"EnqueuedTime\": \"2021-07-13T10:07:08.0430000Z\",\n",
    "      \"StreamId\": null\n",
    "    }\n",
    "  }"
   ]
  },
  {
   "cell_type": "code",
   "execution_count": 36,
   "id": "e07ef547",
   "metadata": {
    "ExecuteTime": {
     "end_time": "2021-07-28T14:57:50.548889Z",
     "start_time": "2021-07-28T14:57:50.525088Z"
    }
   },
   "outputs": [],
   "source": [
    "dftele = pd.read_json('./data/iotHubInput.json')"
   ]
  },
  {
   "cell_type": "code",
   "execution_count": 3,
   "id": "f37765c0",
   "metadata": {
    "ExecuteTime": {
     "end_time": "2021-07-28T11:58:51.059715Z",
     "start_time": "2021-07-28T11:58:51.032711Z"
    }
   },
   "outputs": [],
   "source": [
    "dftele['EventProcessedUtcTime'] = pd.to_datetime(\n",
    "    dftele['EventProcessedUtcTime'])\n",
    "dftele['EventEnqueuedUtcTime'] = pd.to_datetime(dftele['EventEnqueuedUtcTime'])\n",
    "dftele['_timestamp'] = pd.to_datetime(dftele['_timestamp'])"
   ]
  },
  {
   "cell_type": "code",
   "execution_count": 4,
   "id": "c3277d3a",
   "metadata": {
    "ExecuteTime": {
     "end_time": "2021-07-28T11:58:51.090711Z",
     "start_time": "2021-07-28T11:58:51.065711Z"
    }
   },
   "outputs": [
    {
     "data": {
      "text/html": [
       "<div>\n",
       "<style scoped>\n",
       "    .dataframe tbody tr th:only-of-type {\n",
       "        vertical-align: middle;\n",
       "    }\n",
       "\n",
       "    .dataframe tbody tr th {\n",
       "        vertical-align: top;\n",
       "    }\n",
       "\n",
       "    .dataframe thead th {\n",
       "        text-align: right;\n",
       "    }\n",
       "</style>\n",
       "<table border=\"1\" class=\"dataframe\">\n",
       "  <thead>\n",
       "    <tr style=\"text-align: right;\">\n",
       "      <th></th>\n",
       "      <th>_unmodeleddata</th>\n",
       "      <th>_eventtype</th>\n",
       "      <th>_timestamp</th>\n",
       "      <th>EventProcessedUtcTime</th>\n",
       "      <th>PartitionId</th>\n",
       "      <th>EventEnqueuedUtcTime</th>\n",
       "      <th>IoTHub</th>\n",
       "    </tr>\n",
       "  </thead>\n",
       "  <tbody>\n",
       "    <tr>\n",
       "      <th>0</th>\n",
       "      <td>{'sensors': {'__t': 'c', 'video': [{'boxes': '...</td>\n",
       "      <td>Telemetry</td>\n",
       "      <td>2021-07-26 16:00:47.627042</td>\n",
       "      <td>2021-07-26 14:25:45.604258200+00:00</td>\n",
       "      <td>0</td>\n",
       "      <td>2021-07-26 14:00:47.718000+00:00</td>\n",
       "      <td>{'MessageId': None, 'CorrelationId': None, 'Co...</td>\n",
       "    </tr>\n",
       "    <tr>\n",
       "      <th>1</th>\n",
       "      <td>{'sensors': {'__t': 'c', 'video': [{'boxes': '...</td>\n",
       "      <td>Telemetry</td>\n",
       "      <td>2021-07-26 16:00:37.352411</td>\n",
       "      <td>2021-07-26 14:25:45.604258200+00:00</td>\n",
       "      <td>0</td>\n",
       "      <td>2021-07-26 14:00:37.473000+00:00</td>\n",
       "      <td>{'MessageId': None, 'CorrelationId': None, 'Co...</td>\n",
       "    </tr>\n",
       "    <tr>\n",
       "      <th>2</th>\n",
       "      <td>{'sensors': {'__t': 'c', 'video': [{'boxes': '...</td>\n",
       "      <td>Telemetry</td>\n",
       "      <td>2021-07-26 16:00:27.090376</td>\n",
       "      <td>2021-07-26 14:25:45.604258200+00:00</td>\n",
       "      <td>0</td>\n",
       "      <td>2021-07-26 14:00:27.234000+00:00</td>\n",
       "      <td>{'MessageId': None, 'CorrelationId': None, 'Co...</td>\n",
       "    </tr>\n",
       "    <tr>\n",
       "      <th>3</th>\n",
       "      <td>{'sensors': {'__t': 'c', 'video': [{'boxes': '...</td>\n",
       "      <td>Telemetry</td>\n",
       "      <td>2021-07-26 16:00:16.811670</td>\n",
       "      <td>2021-07-26 14:25:45.604258200+00:00</td>\n",
       "      <td>0</td>\n",
       "      <td>2021-07-26 14:00:16.963000+00:00</td>\n",
       "      <td>{'MessageId': None, 'CorrelationId': None, 'Co...</td>\n",
       "    </tr>\n",
       "    <tr>\n",
       "      <th>4</th>\n",
       "      <td>{'sensors': {'__t': 'c', 'video': [{'boxes': '...</td>\n",
       "      <td>Telemetry</td>\n",
       "      <td>2021-07-26 16:00:06.516337</td>\n",
       "      <td>2021-07-26 14:25:45.604258200+00:00</td>\n",
       "      <td>0</td>\n",
       "      <td>2021-07-26 14:00:06.654000+00:00</td>\n",
       "      <td>{'MessageId': None, 'CorrelationId': None, 'Co...</td>\n",
       "    </tr>\n",
       "  </tbody>\n",
       "</table>\n",
       "</div>"
      ],
      "text/plain": [
       "                                      _unmodeleddata _eventtype  \\\n",
       "0  {'sensors': {'__t': 'c', 'video': [{'boxes': '...  Telemetry   \n",
       "1  {'sensors': {'__t': 'c', 'video': [{'boxes': '...  Telemetry   \n",
       "2  {'sensors': {'__t': 'c', 'video': [{'boxes': '...  Telemetry   \n",
       "3  {'sensors': {'__t': 'c', 'video': [{'boxes': '...  Telemetry   \n",
       "4  {'sensors': {'__t': 'c', 'video': [{'boxes': '...  Telemetry   \n",
       "\n",
       "                  _timestamp               EventProcessedUtcTime  PartitionId  \\\n",
       "0 2021-07-26 16:00:47.627042 2021-07-26 14:25:45.604258200+00:00            0   \n",
       "1 2021-07-26 16:00:37.352411 2021-07-26 14:25:45.604258200+00:00            0   \n",
       "2 2021-07-26 16:00:27.090376 2021-07-26 14:25:45.604258200+00:00            0   \n",
       "3 2021-07-26 16:00:16.811670 2021-07-26 14:25:45.604258200+00:00            0   \n",
       "4 2021-07-26 16:00:06.516337 2021-07-26 14:25:45.604258200+00:00            0   \n",
       "\n",
       "              EventEnqueuedUtcTime  \\\n",
       "0 2021-07-26 14:00:47.718000+00:00   \n",
       "1 2021-07-26 14:00:37.473000+00:00   \n",
       "2 2021-07-26 14:00:27.234000+00:00   \n",
       "3 2021-07-26 14:00:16.963000+00:00   \n",
       "4 2021-07-26 14:00:06.654000+00:00   \n",
       "\n",
       "                                              IoTHub  \n",
       "0  {'MessageId': None, 'CorrelationId': None, 'Co...  \n",
       "1  {'MessageId': None, 'CorrelationId': None, 'Co...  \n",
       "2  {'MessageId': None, 'CorrelationId': None, 'Co...  \n",
       "3  {'MessageId': None, 'CorrelationId': None, 'Co...  \n",
       "4  {'MessageId': None, 'CorrelationId': None, 'Co...  "
      ]
     },
     "execution_count": 4,
     "metadata": {},
     "output_type": "execute_result"
    }
   ],
   "source": [
    "dftele.head()"
   ]
  },
  {
   "cell_type": "code",
   "execution_count": null,
   "id": "31491f98",
   "metadata": {},
   "outputs": [],
   "source": []
  }
 ],
 "metadata": {
  "kernelspec": {
   "display_name": "Python 3 (ipykernel)",
   "language": "python",
   "name": "python3"
  },
  "language_info": {
   "codemirror_mode": {
    "name": "ipython",
    "version": 3
   },
   "file_extension": ".py",
   "mimetype": "text/x-python",
   "name": "python",
   "nbconvert_exporter": "python",
   "pygments_lexer": "ipython3",
   "version": "3.8.3"
  },
  "nbTranslate": {
   "displayLangs": [
    "*"
   ],
   "hotkey": "alt-t",
   "langInMainMenu": true,
   "sourceLang": "en",
   "targetLang": "fr",
   "useGoogleTranslate": true
  },
  "toc": {
   "base_numbering": 1,
   "nav_menu": {},
   "number_sections": true,
   "sideBar": true,
   "skip_h1_title": false,
   "title_cell": "Table of Contents",
   "title_sidebar": "Contents",
   "toc_cell": false,
   "toc_position": {},
   "toc_section_display": true,
   "toc_window_display": false
  }
 },
 "nbformat": 4,
 "nbformat_minor": 5
}
